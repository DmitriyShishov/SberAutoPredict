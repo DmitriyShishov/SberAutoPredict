{
 "cells": [
  {
   "cell_type": "markdown",
   "id": "c705395c-d34a-4c56-8319-5b7e03b4e211",
   "metadata": {},
   "source": [
    "# Часть 1"
   ]
  },
  {
   "cell_type": "markdown",
   "id": "49b559ed-9d3f-4e87-9c4e-e4eb14f11125",
   "metadata": {},
   "source": [
    "## Импорт библиотек"
   ]
  },
  {
   "cell_type": "code",
   "execution_count": 1,
   "id": "f52c59da-81e5-4035-9bf8-fbc286b3f2a9",
   "metadata": {},
   "outputs": [],
   "source": [
    "import pandas as pd\n",
    "import missingno as msno\n",
    "import matplotlib.pyplot as plt\n",
    "\n",
    "import pickle\n",
    "import math\n",
    "\n",
    "from sklearn.preprocessing import MinMaxScaler\n",
    "from sklearn.preprocessing import StandardScaler\n",
    "from sklearn.preprocessing import OneHotEncoder\n",
    "from sklearn.ensemble import RandomForestClassifier\n",
    "from sklearn.linear_model import LogisticRegression, LinearRegression\n",
    "from sklearn.metrics import accuracy_score, confusion_matrix, mean_absolute_error\n",
    "from sklearn.model_selection import train_test_split, cross_val_score, cross_validate\n",
    "from sklearn.neural_network import MLPClassifier"
   ]
  },
  {
   "cell_type": "markdown",
   "id": "e99a6c18-66b9-45da-869c-0e3283bb10e8",
   "metadata": {},
   "source": [
    "## Загрузка датасетов"
   ]
  },
  {
   "cell_type": "code",
   "execution_count": 5,
   "id": "63be02d7-9bd1-4daa-8f9b-20e162719f0a",
   "metadata": {},
   "outputs": [],
   "source": [
    "ga_sessions = pd.read_csv('data/ga_sessions.csv', low_memory=False)\n",
    "ga_hits = pd.read_csv('data/ga_hits.csv', low_memory=False)"
   ]
  },
  {
   "cell_type": "code",
   "execution_count": 6,
   "id": "482029c2-083b-422a-b5ba-6d0260374152",
   "metadata": {},
   "outputs": [
    {
     "data": {
      "text/plain": [
       "(1860042, 18)"
      ]
     },
     "execution_count": 6,
     "metadata": {},
     "output_type": "execute_result"
    }
   ],
   "source": [
    "ga_sessions.shape"
   ]
  },
  {
   "cell_type": "code",
   "execution_count": 7,
   "id": "837bd93a-64e8-450d-8933-7cb3dff4807e",
   "metadata": {},
   "outputs": [
    {
     "data": {
      "text/plain": [
       "(15726470, 11)"
      ]
     },
     "execution_count": 7,
     "metadata": {},
     "output_type": "execute_result"
    }
   ],
   "source": [
    "ga_hits.shape"
   ]
  },
  {
   "cell_type": "code",
   "execution_count": 8,
   "id": "4b16532c-a07f-4499-95f0-19441e3e1420",
   "metadata": {},
   "outputs": [
    {
     "data": {
      "text/html": [
       "<div>\n",
       "<style scoped>\n",
       "    .dataframe tbody tr th:only-of-type {\n",
       "        vertical-align: middle;\n",
       "    }\n",
       "\n",
       "    .dataframe tbody tr th {\n",
       "        vertical-align: top;\n",
       "    }\n",
       "\n",
       "    .dataframe thead th {\n",
       "        text-align: right;\n",
       "    }\n",
       "</style>\n",
       "<table border=\"1\" class=\"dataframe\">\n",
       "  <thead>\n",
       "    <tr style=\"text-align: right;\">\n",
       "      <th></th>\n",
       "      <th>session_id</th>\n",
       "      <th>client_id</th>\n",
       "      <th>visit_date</th>\n",
       "      <th>visit_time</th>\n",
       "      <th>visit_number</th>\n",
       "      <th>utm_source</th>\n",
       "      <th>utm_medium</th>\n",
       "      <th>utm_campaign</th>\n",
       "      <th>utm_adcontent</th>\n",
       "      <th>utm_keyword</th>\n",
       "      <th>device_category</th>\n",
       "      <th>device_os</th>\n",
       "      <th>device_brand</th>\n",
       "      <th>device_model</th>\n",
       "      <th>device_screen_resolution</th>\n",
       "      <th>device_browser</th>\n",
       "      <th>geo_country</th>\n",
       "      <th>geo_city</th>\n",
       "    </tr>\n",
       "  </thead>\n",
       "  <tbody>\n",
       "    <tr>\n",
       "      <th>0</th>\n",
       "      <td>9055434745589932991.1637753792.1637753792</td>\n",
       "      <td>2108382700.1637753791</td>\n",
       "      <td>2021-11-24</td>\n",
       "      <td>14:36:32</td>\n",
       "      <td>1</td>\n",
       "      <td>ZpYIoDJMcFzVoPFsHGJL</td>\n",
       "      <td>banner</td>\n",
       "      <td>LEoPHuyFvzoNfnzGgfcd</td>\n",
       "      <td>vCIpmpaGBnIQhyYNkXqp</td>\n",
       "      <td>puhZPIYqKXeFPaUviSjo</td>\n",
       "      <td>mobile</td>\n",
       "      <td>Android</td>\n",
       "      <td>Huawei</td>\n",
       "      <td>NaN</td>\n",
       "      <td>360x720</td>\n",
       "      <td>Chrome</td>\n",
       "      <td>Russia</td>\n",
       "      <td>Zlatoust</td>\n",
       "    </tr>\n",
       "    <tr>\n",
       "      <th>1</th>\n",
       "      <td>905544597018549464.1636867290.1636867290</td>\n",
       "      <td>210838531.1636867288</td>\n",
       "      <td>2021-11-14</td>\n",
       "      <td>08:21:30</td>\n",
       "      <td>1</td>\n",
       "      <td>MvfHsxITijuriZxsqZqt</td>\n",
       "      <td>cpm</td>\n",
       "      <td>FTjNLDyTrXaWYgZymFkV</td>\n",
       "      <td>xhoenQgDQsgfEPYNPwKO</td>\n",
       "      <td>IGUCNvHlhfHpROGclCit</td>\n",
       "      <td>mobile</td>\n",
       "      <td>Android</td>\n",
       "      <td>Samsung</td>\n",
       "      <td>NaN</td>\n",
       "      <td>385x854</td>\n",
       "      <td>Samsung Internet</td>\n",
       "      <td>Russia</td>\n",
       "      <td>Moscow</td>\n",
       "    </tr>\n",
       "    <tr>\n",
       "      <th>2</th>\n",
       "      <td>9055446045651783499.1640648526.1640648526</td>\n",
       "      <td>2108385331.1640648523</td>\n",
       "      <td>2021-12-28</td>\n",
       "      <td>02:42:06</td>\n",
       "      <td>1</td>\n",
       "      <td>ZpYIoDJMcFzVoPFsHGJL</td>\n",
       "      <td>banner</td>\n",
       "      <td>LEoPHuyFvzoNfnzGgfcd</td>\n",
       "      <td>vCIpmpaGBnIQhyYNkXqp</td>\n",
       "      <td>puhZPIYqKXeFPaUviSjo</td>\n",
       "      <td>mobile</td>\n",
       "      <td>Android</td>\n",
       "      <td>Huawei</td>\n",
       "      <td>NaN</td>\n",
       "      <td>360x720</td>\n",
       "      <td>Chrome</td>\n",
       "      <td>Russia</td>\n",
       "      <td>Krasnoyarsk</td>\n",
       "    </tr>\n",
       "    <tr>\n",
       "      <th>3</th>\n",
       "      <td>9055447046360770272.1622255328.1622255328</td>\n",
       "      <td>2108385564.1622255328</td>\n",
       "      <td>2021-05-29</td>\n",
       "      <td>05:00:00</td>\n",
       "      <td>1</td>\n",
       "      <td>kjsLglQLzykiRbcDiGcD</td>\n",
       "      <td>cpc</td>\n",
       "      <td>NaN</td>\n",
       "      <td>NOBKLgtuvqYWkXQHeYWM</td>\n",
       "      <td>NaN</td>\n",
       "      <td>mobile</td>\n",
       "      <td>NaN</td>\n",
       "      <td>Xiaomi</td>\n",
       "      <td>NaN</td>\n",
       "      <td>393x786</td>\n",
       "      <td>Chrome</td>\n",
       "      <td>Russia</td>\n",
       "      <td>Moscow</td>\n",
       "    </tr>\n",
       "    <tr>\n",
       "      <th>4</th>\n",
       "      <td>9055447046360770272.1622255345.1622255345</td>\n",
       "      <td>2108385564.1622255328</td>\n",
       "      <td>2021-05-29</td>\n",
       "      <td>05:00:00</td>\n",
       "      <td>2</td>\n",
       "      <td>kjsLglQLzykiRbcDiGcD</td>\n",
       "      <td>cpc</td>\n",
       "      <td>NaN</td>\n",
       "      <td>NaN</td>\n",
       "      <td>NaN</td>\n",
       "      <td>mobile</td>\n",
       "      <td>NaN</td>\n",
       "      <td>Xiaomi</td>\n",
       "      <td>NaN</td>\n",
       "      <td>393x786</td>\n",
       "      <td>Chrome</td>\n",
       "      <td>Russia</td>\n",
       "      <td>Moscow</td>\n",
       "    </tr>\n",
       "  </tbody>\n",
       "</table>\n",
       "</div>"
      ],
      "text/plain": [
       "                                  session_id              client_id  \\\n",
       "0  9055434745589932991.1637753792.1637753792  2108382700.1637753791   \n",
       "1   905544597018549464.1636867290.1636867290   210838531.1636867288   \n",
       "2  9055446045651783499.1640648526.1640648526  2108385331.1640648523   \n",
       "3  9055447046360770272.1622255328.1622255328  2108385564.1622255328   \n",
       "4  9055447046360770272.1622255345.1622255345  2108385564.1622255328   \n",
       "\n",
       "   visit_date visit_time  visit_number            utm_source utm_medium  \\\n",
       "0  2021-11-24   14:36:32             1  ZpYIoDJMcFzVoPFsHGJL     banner   \n",
       "1  2021-11-14   08:21:30             1  MvfHsxITijuriZxsqZqt        cpm   \n",
       "2  2021-12-28   02:42:06             1  ZpYIoDJMcFzVoPFsHGJL     banner   \n",
       "3  2021-05-29   05:00:00             1  kjsLglQLzykiRbcDiGcD        cpc   \n",
       "4  2021-05-29   05:00:00             2  kjsLglQLzykiRbcDiGcD        cpc   \n",
       "\n",
       "           utm_campaign         utm_adcontent           utm_keyword  \\\n",
       "0  LEoPHuyFvzoNfnzGgfcd  vCIpmpaGBnIQhyYNkXqp  puhZPIYqKXeFPaUviSjo   \n",
       "1  FTjNLDyTrXaWYgZymFkV  xhoenQgDQsgfEPYNPwKO  IGUCNvHlhfHpROGclCit   \n",
       "2  LEoPHuyFvzoNfnzGgfcd  vCIpmpaGBnIQhyYNkXqp  puhZPIYqKXeFPaUviSjo   \n",
       "3                   NaN  NOBKLgtuvqYWkXQHeYWM                   NaN   \n",
       "4                   NaN                   NaN                   NaN   \n",
       "\n",
       "  device_category device_os device_brand device_model  \\\n",
       "0          mobile   Android       Huawei          NaN   \n",
       "1          mobile   Android      Samsung          NaN   \n",
       "2          mobile   Android       Huawei          NaN   \n",
       "3          mobile       NaN       Xiaomi          NaN   \n",
       "4          mobile       NaN       Xiaomi          NaN   \n",
       "\n",
       "  device_screen_resolution    device_browser geo_country     geo_city  \n",
       "0                  360x720            Chrome      Russia     Zlatoust  \n",
       "1                  385x854  Samsung Internet      Russia       Moscow  \n",
       "2                  360x720            Chrome      Russia  Krasnoyarsk  \n",
       "3                  393x786            Chrome      Russia       Moscow  \n",
       "4                  393x786            Chrome      Russia       Moscow  "
      ]
     },
     "execution_count": 8,
     "metadata": {},
     "output_type": "execute_result"
    }
   ],
   "source": [
    "ga_sessions.head()"
   ]
  },
  {
   "cell_type": "code",
   "execution_count": 9,
   "id": "499e555f-939e-4cba-8081-1bd49f210f09",
   "metadata": {},
   "outputs": [
    {
     "data": {
      "text/html": [
       "<div>\n",
       "<style scoped>\n",
       "    .dataframe tbody tr th:only-of-type {\n",
       "        vertical-align: middle;\n",
       "    }\n",
       "\n",
       "    .dataframe tbody tr th {\n",
       "        vertical-align: top;\n",
       "    }\n",
       "\n",
       "    .dataframe thead th {\n",
       "        text-align: right;\n",
       "    }\n",
       "</style>\n",
       "<table border=\"1\" class=\"dataframe\">\n",
       "  <thead>\n",
       "    <tr style=\"text-align: right;\">\n",
       "      <th></th>\n",
       "      <th>session_id</th>\n",
       "      <th>hit_date</th>\n",
       "      <th>hit_time</th>\n",
       "      <th>hit_number</th>\n",
       "      <th>hit_type</th>\n",
       "      <th>hit_referer</th>\n",
       "      <th>hit_page_path</th>\n",
       "      <th>event_category</th>\n",
       "      <th>event_action</th>\n",
       "      <th>event_label</th>\n",
       "      <th>event_value</th>\n",
       "    </tr>\n",
       "  </thead>\n",
       "  <tbody>\n",
       "    <tr>\n",
       "      <th>0</th>\n",
       "      <td>5639623078712724064.1640254056.1640254056</td>\n",
       "      <td>2021-12-23</td>\n",
       "      <td>597864.0</td>\n",
       "      <td>30</td>\n",
       "      <td>event</td>\n",
       "      <td>NaN</td>\n",
       "      <td>sberauto.com/cars?utm_source_initial=google&amp;ut...</td>\n",
       "      <td>quiz</td>\n",
       "      <td>quiz_show</td>\n",
       "      <td>NaN</td>\n",
       "      <td>NaN</td>\n",
       "    </tr>\n",
       "    <tr>\n",
       "      <th>1</th>\n",
       "      <td>7750352294969115059.1640271109.1640271109</td>\n",
       "      <td>2021-12-23</td>\n",
       "      <td>597331.0</td>\n",
       "      <td>41</td>\n",
       "      <td>event</td>\n",
       "      <td>NaN</td>\n",
       "      <td>sberauto.com/cars/fiat?city=1&amp;city=18&amp;rental_c...</td>\n",
       "      <td>quiz</td>\n",
       "      <td>quiz_show</td>\n",
       "      <td>NaN</td>\n",
       "      <td>NaN</td>\n",
       "    </tr>\n",
       "    <tr>\n",
       "      <th>2</th>\n",
       "      <td>885342191847998240.1640235807.1640235807</td>\n",
       "      <td>2021-12-23</td>\n",
       "      <td>796252.0</td>\n",
       "      <td>49</td>\n",
       "      <td>event</td>\n",
       "      <td>NaN</td>\n",
       "      <td>sberauto.com/cars/all/volkswagen/polo/e994838f...</td>\n",
       "      <td>quiz</td>\n",
       "      <td>quiz_show</td>\n",
       "      <td>NaN</td>\n",
       "      <td>NaN</td>\n",
       "    </tr>\n",
       "    <tr>\n",
       "      <th>3</th>\n",
       "      <td>142526202120934167.1640211014.1640211014</td>\n",
       "      <td>2021-12-23</td>\n",
       "      <td>934292.0</td>\n",
       "      <td>46</td>\n",
       "      <td>event</td>\n",
       "      <td>NaN</td>\n",
       "      <td>sberauto.com/cars?utm_source_initial=yandex&amp;ut...</td>\n",
       "      <td>quiz</td>\n",
       "      <td>quiz_show</td>\n",
       "      <td>NaN</td>\n",
       "      <td>NaN</td>\n",
       "    </tr>\n",
       "    <tr>\n",
       "      <th>4</th>\n",
       "      <td>3450086108837475701.1640265078.1640265078</td>\n",
       "      <td>2021-12-23</td>\n",
       "      <td>768741.0</td>\n",
       "      <td>79</td>\n",
       "      <td>event</td>\n",
       "      <td>NaN</td>\n",
       "      <td>sberauto.com/cars/all/mercedes-benz/cla-klasse...</td>\n",
       "      <td>quiz</td>\n",
       "      <td>quiz_show</td>\n",
       "      <td>NaN</td>\n",
       "      <td>NaN</td>\n",
       "    </tr>\n",
       "  </tbody>\n",
       "</table>\n",
       "</div>"
      ],
      "text/plain": [
       "                                  session_id    hit_date  hit_time  \\\n",
       "0  5639623078712724064.1640254056.1640254056  2021-12-23  597864.0   \n",
       "1  7750352294969115059.1640271109.1640271109  2021-12-23  597331.0   \n",
       "2   885342191847998240.1640235807.1640235807  2021-12-23  796252.0   \n",
       "3   142526202120934167.1640211014.1640211014  2021-12-23  934292.0   \n",
       "4  3450086108837475701.1640265078.1640265078  2021-12-23  768741.0   \n",
       "\n",
       "   hit_number hit_type hit_referer  \\\n",
       "0          30    event         NaN   \n",
       "1          41    event         NaN   \n",
       "2          49    event         NaN   \n",
       "3          46    event         NaN   \n",
       "4          79    event         NaN   \n",
       "\n",
       "                                       hit_page_path event_category  \\\n",
       "0  sberauto.com/cars?utm_source_initial=google&ut...           quiz   \n",
       "1  sberauto.com/cars/fiat?city=1&city=18&rental_c...           quiz   \n",
       "2  sberauto.com/cars/all/volkswagen/polo/e994838f...           quiz   \n",
       "3  sberauto.com/cars?utm_source_initial=yandex&ut...           quiz   \n",
       "4  sberauto.com/cars/all/mercedes-benz/cla-klasse...           quiz   \n",
       "\n",
       "  event_action event_label  event_value  \n",
       "0    quiz_show         NaN          NaN  \n",
       "1    quiz_show         NaN          NaN  \n",
       "2    quiz_show         NaN          NaN  \n",
       "3    quiz_show         NaN          NaN  \n",
       "4    quiz_show         NaN          NaN  "
      ]
     },
     "execution_count": 9,
     "metadata": {},
     "output_type": "execute_result"
    }
   ],
   "source": [
    "ga_hits.head()"
   ]
  },
  {
   "cell_type": "markdown",
   "id": "2b334b6f-a591-486c-8f16-1acac0002cfe",
   "metadata": {},
   "source": [
    "## Выделение столбца с ЦД из таблицы ga_hits"
   ]
  },
  {
   "cell_type": "code",
   "execution_count": 10,
   "id": "6df90acd-3e17-49c3-b09d-39ee5934b74f",
   "metadata": {},
   "outputs": [],
   "source": [
    "#выделяем в отдельную таблицу строки с целевыми действями\n",
    "ga_hits_target = ga_hits[ga_hits.event_action.isin(['sub_car_claim_click', 'sub_car_claim_submit_click',\n",
    "'sub_open_dialog_click', 'sub_custom_question_submit_click',\n",
    "'sub_call_number_click', 'sub_callback_submit_click', 'sub_submit_success',\n",
    "'sub_car_request_submit_click'])]"
   ]
  },
  {
   "cell_type": "code",
   "execution_count": 11,
   "id": "21b33614-83e8-4813-b44c-b5092396ce43",
   "metadata": {},
   "outputs": [
    {
     "data": {
      "text/plain": [
       "array(['sub_submit_success', 'sub_car_claim_click',\n",
       "       'sub_open_dialog_click', 'sub_car_claim_submit_click',\n",
       "       'sub_car_request_submit_click', 'sub_call_number_click',\n",
       "       'sub_callback_submit_click', 'sub_custom_question_submit_click'],\n",
       "      dtype=object)"
      ]
     },
     "execution_count": 11,
     "metadata": {},
     "output_type": "execute_result"
    }
   ],
   "source": [
    "# проверям значения столбца event_action\n",
    "ga_hits_target.event_action.unique()"
   ]
  },
  {
   "cell_type": "code",
   "execution_count": 12,
   "id": "b704f19f-2c28-48b0-8854-646640e6059a",
   "metadata": {},
   "outputs": [
    {
     "data": {
      "text/html": [
       "<div>\n",
       "<style scoped>\n",
       "    .dataframe tbody tr th:only-of-type {\n",
       "        vertical-align: middle;\n",
       "    }\n",
       "\n",
       "    .dataframe tbody tr th {\n",
       "        vertical-align: top;\n",
       "    }\n",
       "\n",
       "    .dataframe thead th {\n",
       "        text-align: right;\n",
       "    }\n",
       "</style>\n",
       "<table border=\"1\" class=\"dataframe\">\n",
       "  <thead>\n",
       "    <tr style=\"text-align: right;\">\n",
       "      <th></th>\n",
       "      <th>session_id</th>\n",
       "      <th>event_action</th>\n",
       "    </tr>\n",
       "  </thead>\n",
       "  <tbody>\n",
       "    <tr>\n",
       "      <th>4016</th>\n",
       "      <td>2744563715298057088.1640258436.1640258436</td>\n",
       "      <td>sub_submit_success</td>\n",
       "    </tr>\n",
       "    <tr>\n",
       "      <th>4045</th>\n",
       "      <td>3087297479839089634.1640268774.1640268774</td>\n",
       "      <td>sub_submit_success</td>\n",
       "    </tr>\n",
       "    <tr>\n",
       "      <th>4046</th>\n",
       "      <td>3156966333326004302.1640206419.1640206800</td>\n",
       "      <td>sub_submit_success</td>\n",
       "    </tr>\n",
       "    <tr>\n",
       "      <th>4047</th>\n",
       "      <td>3750243879753098158.1640272208.1640272208</td>\n",
       "      <td>sub_submit_success</td>\n",
       "    </tr>\n",
       "    <tr>\n",
       "      <th>4048</th>\n",
       "      <td>7518333712042258254.1640258901.1640258901</td>\n",
       "      <td>sub_submit_success</td>\n",
       "    </tr>\n",
       "    <tr>\n",
       "      <th>...</th>\n",
       "      <td>...</td>\n",
       "      <td>...</td>\n",
       "    </tr>\n",
       "    <tr>\n",
       "      <th>15725025</th>\n",
       "      <td>1277864870843199549.1636773954.1636773954</td>\n",
       "      <td>sub_car_claim_submit_click</td>\n",
       "    </tr>\n",
       "    <tr>\n",
       "      <th>15725133</th>\n",
       "      <td>965861352491898977.1636751459.1636751459</td>\n",
       "      <td>sub_submit_success</td>\n",
       "    </tr>\n",
       "    <tr>\n",
       "      <th>15725134</th>\n",
       "      <td>4727705172767122620.1636818847.1636818847</td>\n",
       "      <td>sub_submit_success</td>\n",
       "    </tr>\n",
       "    <tr>\n",
       "      <th>15725135</th>\n",
       "      <td>4727705172767122620.1636818847.1636818847</td>\n",
       "      <td>sub_open_dialog_click</td>\n",
       "    </tr>\n",
       "    <tr>\n",
       "      <th>15725136</th>\n",
       "      <td>116562085450617659.1636832061.1636832061</td>\n",
       "      <td>sub_car_claim_submit_click</td>\n",
       "    </tr>\n",
       "  </tbody>\n",
       "</table>\n",
       "<p>104908 rows × 2 columns</p>\n",
       "</div>"
      ],
      "text/plain": [
       "                                         session_id  \\\n",
       "4016      2744563715298057088.1640258436.1640258436   \n",
       "4045      3087297479839089634.1640268774.1640268774   \n",
       "4046      3156966333326004302.1640206419.1640206800   \n",
       "4047      3750243879753098158.1640272208.1640272208   \n",
       "4048      7518333712042258254.1640258901.1640258901   \n",
       "...                                             ...   \n",
       "15725025  1277864870843199549.1636773954.1636773954   \n",
       "15725133   965861352491898977.1636751459.1636751459   \n",
       "15725134  4727705172767122620.1636818847.1636818847   \n",
       "15725135  4727705172767122620.1636818847.1636818847   \n",
       "15725136   116562085450617659.1636832061.1636832061   \n",
       "\n",
       "                        event_action  \n",
       "4016              sub_submit_success  \n",
       "4045              sub_submit_success  \n",
       "4046              sub_submit_success  \n",
       "4047              sub_submit_success  \n",
       "4048              sub_submit_success  \n",
       "...                              ...  \n",
       "15725025  sub_car_claim_submit_click  \n",
       "15725133          sub_submit_success  \n",
       "15725134          sub_submit_success  \n",
       "15725135       sub_open_dialog_click  \n",
       "15725136  sub_car_claim_submit_click  \n",
       "\n",
       "[104908 rows x 2 columns]"
      ]
     },
     "execution_count": 12,
     "metadata": {},
     "output_type": "execute_result"
    }
   ],
   "source": [
    "# отбрасываем все столбцы, кроме session_id и event_action\n",
    "ga_hits_target = ga_hits_target[['session_id', 'event_action']]\n",
    "ga_hits_target"
   ]
  },
  {
   "cell_type": "code",
   "execution_count": 13,
   "id": "64885667-7b7c-4733-973d-6c0a3742f3f0",
   "metadata": {},
   "outputs": [
    {
     "data": {
      "text/html": [
       "<div>\n",
       "<style scoped>\n",
       "    .dataframe tbody tr th:only-of-type {\n",
       "        vertical-align: middle;\n",
       "    }\n",
       "\n",
       "    .dataframe tbody tr th {\n",
       "        vertical-align: top;\n",
       "    }\n",
       "\n",
       "    .dataframe thead th {\n",
       "        text-align: right;\n",
       "    }\n",
       "</style>\n",
       "<table border=\"1\" class=\"dataframe\">\n",
       "  <thead>\n",
       "    <tr style=\"text-align: right;\">\n",
       "      <th></th>\n",
       "      <th>session_id</th>\n",
       "      <th>event_action</th>\n",
       "      <th>target</th>\n",
       "    </tr>\n",
       "  </thead>\n",
       "  <tbody>\n",
       "    <tr>\n",
       "      <th>4016</th>\n",
       "      <td>2744563715298057088.1640258436.1640258436</td>\n",
       "      <td>sub_submit_success</td>\n",
       "      <td>1</td>\n",
       "    </tr>\n",
       "    <tr>\n",
       "      <th>4045</th>\n",
       "      <td>3087297479839089634.1640268774.1640268774</td>\n",
       "      <td>sub_submit_success</td>\n",
       "      <td>1</td>\n",
       "    </tr>\n",
       "    <tr>\n",
       "      <th>4046</th>\n",
       "      <td>3156966333326004302.1640206419.1640206800</td>\n",
       "      <td>sub_submit_success</td>\n",
       "      <td>1</td>\n",
       "    </tr>\n",
       "    <tr>\n",
       "      <th>4047</th>\n",
       "      <td>3750243879753098158.1640272208.1640272208</td>\n",
       "      <td>sub_submit_success</td>\n",
       "      <td>1</td>\n",
       "    </tr>\n",
       "    <tr>\n",
       "      <th>4048</th>\n",
       "      <td>7518333712042258254.1640258901.1640258901</td>\n",
       "      <td>sub_submit_success</td>\n",
       "      <td>1</td>\n",
       "    </tr>\n",
       "    <tr>\n",
       "      <th>...</th>\n",
       "      <td>...</td>\n",
       "      <td>...</td>\n",
       "      <td>...</td>\n",
       "    </tr>\n",
       "    <tr>\n",
       "      <th>15725025</th>\n",
       "      <td>1277864870843199549.1636773954.1636773954</td>\n",
       "      <td>sub_car_claim_submit_click</td>\n",
       "      <td>1</td>\n",
       "    </tr>\n",
       "    <tr>\n",
       "      <th>15725133</th>\n",
       "      <td>965861352491898977.1636751459.1636751459</td>\n",
       "      <td>sub_submit_success</td>\n",
       "      <td>1</td>\n",
       "    </tr>\n",
       "    <tr>\n",
       "      <th>15725134</th>\n",
       "      <td>4727705172767122620.1636818847.1636818847</td>\n",
       "      <td>sub_submit_success</td>\n",
       "      <td>1</td>\n",
       "    </tr>\n",
       "    <tr>\n",
       "      <th>15725135</th>\n",
       "      <td>4727705172767122620.1636818847.1636818847</td>\n",
       "      <td>sub_open_dialog_click</td>\n",
       "      <td>1</td>\n",
       "    </tr>\n",
       "    <tr>\n",
       "      <th>15725136</th>\n",
       "      <td>116562085450617659.1636832061.1636832061</td>\n",
       "      <td>sub_car_claim_submit_click</td>\n",
       "      <td>1</td>\n",
       "    </tr>\n",
       "  </tbody>\n",
       "</table>\n",
       "<p>104908 rows × 3 columns</p>\n",
       "</div>"
      ],
      "text/plain": [
       "                                         session_id  \\\n",
       "4016      2744563715298057088.1640258436.1640258436   \n",
       "4045      3087297479839089634.1640268774.1640268774   \n",
       "4046      3156966333326004302.1640206419.1640206800   \n",
       "4047      3750243879753098158.1640272208.1640272208   \n",
       "4048      7518333712042258254.1640258901.1640258901   \n",
       "...                                             ...   \n",
       "15725025  1277864870843199549.1636773954.1636773954   \n",
       "15725133   965861352491898977.1636751459.1636751459   \n",
       "15725134  4727705172767122620.1636818847.1636818847   \n",
       "15725135  4727705172767122620.1636818847.1636818847   \n",
       "15725136   116562085450617659.1636832061.1636832061   \n",
       "\n",
       "                        event_action  target  \n",
       "4016              sub_submit_success       1  \n",
       "4045              sub_submit_success       1  \n",
       "4046              sub_submit_success       1  \n",
       "4047              sub_submit_success       1  \n",
       "4048              sub_submit_success       1  \n",
       "...                              ...     ...  \n",
       "15725025  sub_car_claim_submit_click       1  \n",
       "15725133          sub_submit_success       1  \n",
       "15725134          sub_submit_success       1  \n",
       "15725135       sub_open_dialog_click       1  \n",
       "15725136  sub_car_claim_submit_click       1  \n",
       "\n",
       "[104908 rows x 3 columns]"
      ]
     },
     "execution_count": 13,
     "metadata": {},
     "output_type": "execute_result"
    }
   ],
   "source": [
    "# Добавялем столбец target, заполненный 1, так как сейчас мы имеем дело со всеми сессиями, где целевое действие было совершено\n",
    "ga_hits_target['target'] = 1\n",
    "ga_hits_target"
   ]
  },
  {
   "cell_type": "code",
   "execution_count": 14,
   "id": "99b3d018-1081-422a-8e44-9651b94e61c5",
   "metadata": {},
   "outputs": [
    {
     "data": {
      "text/html": [
       "<div>\n",
       "<style scoped>\n",
       "    .dataframe tbody tr th:only-of-type {\n",
       "        vertical-align: middle;\n",
       "    }\n",
       "\n",
       "    .dataframe tbody tr th {\n",
       "        vertical-align: top;\n",
       "    }\n",
       "\n",
       "    .dataframe thead th {\n",
       "        text-align: right;\n",
       "    }\n",
       "</style>\n",
       "<table border=\"1\" class=\"dataframe\">\n",
       "  <thead>\n",
       "    <tr style=\"text-align: right;\">\n",
       "      <th></th>\n",
       "      <th>session_id</th>\n",
       "      <th>target</th>\n",
       "    </tr>\n",
       "  </thead>\n",
       "  <tbody>\n",
       "    <tr>\n",
       "      <th>4016</th>\n",
       "      <td>2744563715298057088.1640258436.1640258436</td>\n",
       "      <td>1</td>\n",
       "    </tr>\n",
       "    <tr>\n",
       "      <th>4045</th>\n",
       "      <td>3087297479839089634.1640268774.1640268774</td>\n",
       "      <td>1</td>\n",
       "    </tr>\n",
       "    <tr>\n",
       "      <th>4046</th>\n",
       "      <td>3156966333326004302.1640206419.1640206800</td>\n",
       "      <td>1</td>\n",
       "    </tr>\n",
       "    <tr>\n",
       "      <th>4047</th>\n",
       "      <td>3750243879753098158.1640272208.1640272208</td>\n",
       "      <td>1</td>\n",
       "    </tr>\n",
       "    <tr>\n",
       "      <th>4048</th>\n",
       "      <td>7518333712042258254.1640258901.1640258901</td>\n",
       "      <td>1</td>\n",
       "    </tr>\n",
       "    <tr>\n",
       "      <th>...</th>\n",
       "      <td>...</td>\n",
       "      <td>...</td>\n",
       "    </tr>\n",
       "    <tr>\n",
       "      <th>15725025</th>\n",
       "      <td>1277864870843199549.1636773954.1636773954</td>\n",
       "      <td>1</td>\n",
       "    </tr>\n",
       "    <tr>\n",
       "      <th>15725133</th>\n",
       "      <td>965861352491898977.1636751459.1636751459</td>\n",
       "      <td>1</td>\n",
       "    </tr>\n",
       "    <tr>\n",
       "      <th>15725134</th>\n",
       "      <td>4727705172767122620.1636818847.1636818847</td>\n",
       "      <td>1</td>\n",
       "    </tr>\n",
       "    <tr>\n",
       "      <th>15725135</th>\n",
       "      <td>4727705172767122620.1636818847.1636818847</td>\n",
       "      <td>1</td>\n",
       "    </tr>\n",
       "    <tr>\n",
       "      <th>15725136</th>\n",
       "      <td>116562085450617659.1636832061.1636832061</td>\n",
       "      <td>1</td>\n",
       "    </tr>\n",
       "  </tbody>\n",
       "</table>\n",
       "<p>104908 rows × 2 columns</p>\n",
       "</div>"
      ],
      "text/plain": [
       "                                         session_id  target\n",
       "4016      2744563715298057088.1640258436.1640258436       1\n",
       "4045      3087297479839089634.1640268774.1640268774       1\n",
       "4046      3156966333326004302.1640206419.1640206800       1\n",
       "4047      3750243879753098158.1640272208.1640272208       1\n",
       "4048      7518333712042258254.1640258901.1640258901       1\n",
       "...                                             ...     ...\n",
       "15725025  1277864870843199549.1636773954.1636773954       1\n",
       "15725133   965861352491898977.1636751459.1636751459       1\n",
       "15725134  4727705172767122620.1636818847.1636818847       1\n",
       "15725135  4727705172767122620.1636818847.1636818847       1\n",
       "15725136   116562085450617659.1636832061.1636832061       1\n",
       "\n",
       "[104908 rows x 2 columns]"
      ]
     },
     "execution_count": 14,
     "metadata": {},
     "output_type": "execute_result"
    }
   ],
   "source": [
    "#Удаляем столбец event_action. Он больше не нужен\n",
    "ga_hits_target = ga_hits_target.drop(['event_action'], axis = 1)\n",
    "ga_hits_target"
   ]
  },
  {
   "cell_type": "code",
   "execution_count": 15,
   "id": "7c1d5ecd-693b-443e-90e4-2427e6c4959a",
   "metadata": {},
   "outputs": [
    {
     "data": {
      "text/plain": [
       "(104908, 2)"
      ]
     },
     "execution_count": 15,
     "metadata": {},
     "output_type": "execute_result"
    }
   ],
   "source": [
    "#Проверим размерность датасета\n",
    "ga_hits_target.shape"
   ]
  },
  {
   "cell_type": "code",
   "execution_count": 16,
   "id": "bd4ebf9c-f0ee-48cb-b649-13dd3ef50812",
   "metadata": {},
   "outputs": [
    {
     "data": {
      "text/plain": [
       "session_id    1929569077899335811.1640273714.164027371431569...\n",
       "target                                                    54148\n",
       "dtype: object"
      ]
     },
     "execution_count": 16,
     "metadata": {},
     "output_type": "execute_result"
    }
   ],
   "source": [
    "# В соответствии с условием задачи, если целевых действий больше одного, считаем как одно, поэтому проверяем таблицу на дубли\n",
    "ga_hits_target[ga_hits_target.duplicated()].sum()"
   ]
  },
  {
   "cell_type": "code",
   "execution_count": 17,
   "id": "822b99ba-8140-4f2b-bcbf-7eab60537957",
   "metadata": {},
   "outputs": [
    {
     "data": {
      "text/plain": [
       "session_id    0\n",
       "target        0\n",
       "dtype: object"
      ]
     },
     "execution_count": 17,
     "metadata": {},
     "output_type": "execute_result"
    }
   ],
   "source": [
    "# Удаляем продублированные строки\n",
    "ga_hits_target = ga_hits_target.drop_duplicates()\n",
    "ga_hits_target[ga_hits_target.duplicated()].sum()"
   ]
  },
  {
   "cell_type": "code",
   "execution_count": 18,
   "id": "ea7f20cd-d9f4-4ce1-8e84-8add48ea9d2c",
   "metadata": {},
   "outputs": [
    {
     "data": {
      "text/plain": [
       "(50760, 2)"
      ]
     },
     "execution_count": 18,
     "metadata": {},
     "output_type": "execute_result"
    }
   ],
   "source": [
    "ga_hits_target.shape"
   ]
  },
  {
   "cell_type": "markdown",
   "id": "add160c1-010d-41ff-8a86-7b69b125eb99",
   "metadata": {},
   "source": [
    "## Объединение двух таблиц"
   ]
  },
  {
   "cell_type": "code",
   "execution_count": 19,
   "id": "416029fa-3fae-4ac1-837f-73f4a47f9bdc",
   "metadata": {},
   "outputs": [
    {
     "name": "stdout",
     "output_type": "stream",
     "text": [
      "(50760, 2)\n",
      "(1860042, 18)\n"
     ]
    }
   ],
   "source": [
    "print(ga_hits_target.shape)\n",
    "print(ga_sessions.shape)"
   ]
  },
  {
   "cell_type": "code",
   "execution_count": 20,
   "id": "3831080b-f6b8-477f-bda4-ad902f663fa6",
   "metadata": {},
   "outputs": [
    {
     "data": {
      "text/plain": [
       "(1860042, 19)"
      ]
     },
     "execution_count": 20,
     "metadata": {},
     "output_type": "execute_result"
    }
   ],
   "source": [
    "df_full = ga_sessions.merge(ga_hits_target, on='session_id', how='left')\n",
    "df_full.shape"
   ]
  },
  {
   "cell_type": "code",
   "execution_count": 21,
   "id": "a8a0c6d3-f6da-481f-a3c2-257b11c43bfb",
   "metadata": {},
   "outputs": [],
   "source": [
    "df_full.target = df_full.target.fillna(0)"
   ]
  },
  {
   "cell_type": "code",
   "execution_count": 22,
   "id": "7ebccf2d-cb2b-482d-a750-8cf385a5b74d",
   "metadata": {},
   "outputs": [
    {
     "data": {
      "text/plain": [
       "target\n",
       "0.0    1809728\n",
       "1.0      50314\n",
       "Name: count, dtype: int64"
      ]
     },
     "execution_count": 22,
     "metadata": {},
     "output_type": "execute_result"
    }
   ],
   "source": [
    "df_full.target.value_counts()"
   ]
  },
  {
   "cell_type": "code",
   "execution_count": 23,
   "id": "c8559dc6-8102-47b4-ba6e-701843d3399c",
   "metadata": {},
   "outputs": [],
   "source": [
    "#df_full.to_csv('data/df_session_with_target.csv', index = False)"
   ]
  },
  {
   "cell_type": "code",
   "execution_count": 24,
   "id": "9fdeac5d-ad58-403e-a32b-514ba1f1ab00",
   "metadata": {},
   "outputs": [
    {
     "data": {
      "text/plain": [
       "['session_id',\n",
       " 'client_id',\n",
       " 'visit_date',\n",
       " 'visit_time',\n",
       " 'visit_number',\n",
       " 'utm_source',\n",
       " 'utm_medium',\n",
       " 'utm_campaign',\n",
       " 'utm_adcontent',\n",
       " 'utm_keyword',\n",
       " 'device_category',\n",
       " 'device_os',\n",
       " 'device_brand',\n",
       " 'device_model',\n",
       " 'device_screen_resolution',\n",
       " 'device_browser',\n",
       " 'geo_country',\n",
       " 'geo_city',\n",
       " 'target']"
      ]
     },
     "execution_count": 24,
     "metadata": {},
     "output_type": "execute_result"
    }
   ],
   "source": [
    "df_full.columns.tolist()"
   ]
  },
  {
   "cell_type": "code",
   "execution_count": 25,
   "id": "b2d11616-0a9a-4073-979b-8b5700d5f561",
   "metadata": {},
   "outputs": [
    {
     "name": "stdout",
     "output_type": "stream",
     "text": [
      "<class 'pandas.core.frame.DataFrame'>\n",
      "RangeIndex: 1860042 entries, 0 to 1860041\n",
      "Data columns (total 19 columns):\n",
      " #   Column                    Dtype  \n",
      "---  ------                    -----  \n",
      " 0   session_id                object \n",
      " 1   client_id                 object \n",
      " 2   visit_date                object \n",
      " 3   visit_time                object \n",
      " 4   visit_number              int64  \n",
      " 5   utm_source                object \n",
      " 6   utm_medium                object \n",
      " 7   utm_campaign              object \n",
      " 8   utm_adcontent             object \n",
      " 9   utm_keyword               object \n",
      " 10  device_category           object \n",
      " 11  device_os                 object \n",
      " 12  device_brand              object \n",
      " 13  device_model              object \n",
      " 14  device_screen_resolution  object \n",
      " 15  device_browser            object \n",
      " 16  geo_country               object \n",
      " 17  geo_city                  object \n",
      " 18  target                    float64\n",
      "dtypes: float64(1), int64(1), object(17)\n",
      "memory usage: 269.6+ MB\n"
     ]
    }
   ],
   "source": [
    "df_full.info()"
   ]
  },
  {
   "cell_type": "markdown",
   "id": "39b219b0-14f1-4ffe-bb06-d6bad18d60a3",
   "metadata": {},
   "source": [
    "## Data Preparation"
   ]
  },
  {
   "cell_type": "markdown",
   "id": "e0708298-2d5e-4c25-85d1-0016dab536fd",
   "metadata": {},
   "source": [
    "### Проверка на дубликаты"
   ]
  },
  {
   "cell_type": "code",
   "execution_count": 26,
   "id": "763abed3-96c7-4a67-b57c-58651e410a93",
   "metadata": {},
   "outputs": [
    {
     "data": {
      "text/plain": [
       "session_id                    0\n",
       "client_id                     0\n",
       "visit_date                    0\n",
       "visit_time                    0\n",
       "visit_number                  0\n",
       "utm_source                    0\n",
       "utm_medium                    0\n",
       "utm_campaign                  0\n",
       "utm_adcontent                 0\n",
       "utm_keyword                   0\n",
       "device_category               0\n",
       "device_os                     0\n",
       "device_brand                  0\n",
       "device_model                  0\n",
       "device_screen_resolution      0\n",
       "device_browser                0\n",
       "geo_country                   0\n",
       "geo_city                      0\n",
       "target                      0.0\n",
       "dtype: object"
      ]
     },
     "execution_count": 26,
     "metadata": {},
     "output_type": "execute_result"
    }
   ],
   "source": [
    "df_full[df_full.duplicated()].sum()"
   ]
  },
  {
   "cell_type": "markdown",
   "id": "11f00312-5500-4a48-b1c1-b9037e2abdb5",
   "metadata": {},
   "source": [
    "### Анализ пропусков"
   ]
  },
  {
   "cell_type": "markdown",
   "id": "fbaefd18-1437-4750-b49a-705a4bf03ab1",
   "metadata": {},
   "source": [
    "#### Общий анализ"
   ]
  },
  {
   "cell_type": "code",
   "execution_count": 27,
   "id": "1973ce77-9b04-4ed9-9abd-25e7dbfff908",
   "metadata": {},
   "outputs": [
    {
     "data": {
      "image/png": "[encoded data removed]",
      "text/plain": [
       "<Figure size 2500x1000 with 2 Axes>"
      ]
     },
     "metadata": {},
     "output_type": "display_data"
    }
   ],
   "source": [
    "msno.matrix(df_full);"
   ]
  },
  {
   "cell_type": "code",
   "execution_count": 28,
   "id": "c5d94a59-09a9-4d0e-a98e-b37915677259",
   "metadata": {},
   "outputs": [],
   "source": [
    "def print_usefull_rows_info_full(df):\n",
    "    print('Количество полностью заполненных объектов в выборке: ', len(df.dropna()))\n",
    "    print('Процент полностью заполненных объектов в выборке: ', round(len(df.dropna()) / len(df) * 100, 2))\n",
    "    missing_values = ((df.isna().sum() / len(df)) * 100).sort_values(ascending = False)\n",
    "    print(f'Процент пропусков по столбцам: \\n{missing_values}')"
   ]
  },
  {
   "cell_type": "code",
   "execution_count": 29,
   "id": "be564da6-ca2b-4c5f-b5c8-f21a5b49e6a6",
   "metadata": {},
   "outputs": [
    {
     "name": "stdout",
     "output_type": "stream",
     "text": [
      "Количество полностью заполненных объектов в выборке:  14940\n",
      "Процент полностью заполненных объектов в выборке:  0.8\n",
      "Процент пропусков по столбцам: \n",
      "device_model                99.121633\n",
      "utm_keyword                 58.174009\n",
      "device_os                   57.533002\n",
      "device_brand                19.740307\n",
      "utm_adcontent               18.043410\n",
      "utm_campaign                11.806346\n",
      "utm_source                   0.005215\n",
      "geo_city                     0.000000\n",
      "geo_country                  0.000000\n",
      "device_browser               0.000000\n",
      "device_screen_resolution     0.000000\n",
      "session_id                   0.000000\n",
      "device_category              0.000000\n",
      "client_id                    0.000000\n",
      "utm_medium                   0.000000\n",
      "visit_number                 0.000000\n",
      "visit_time                   0.000000\n",
      "visit_date                   0.000000\n",
      "target                       0.000000\n",
      "dtype: float64\n"
     ]
    }
   ],
   "source": [
    "print_usefull_rows_info_full(df_full)"
   ]
  },
  {
   "cell_type": "markdown",
   "id": "2a21edb5-f052-48d7-8780-cfcaa7166e23",
   "metadata": {},
   "source": [
    "#### Обработка пропусков в столбце device_model"
   ]
  },
  {
   "cell_type": "code",
   "execution_count": 30,
   "id": "2977b057-90b0-48df-943b-36dead54cee2",
   "metadata": {},
   "outputs": [],
   "source": [
    "def print_useful_rows_info_column(df, column):\n",
    "    print(f'Процент пропущенных значений в {column}: {round(df[column].isna().sum() / len(df) * 100, 2)}')\n",
    "    print(f'Количество пропущенных значений в {column}: {df[column].isna().sum()}')"
   ]
  },
  {
   "cell_type": "code",
   "execution_count": 31,
   "id": "30990502-2f73-489c-9a09-5db9f325406c",
   "metadata": {},
   "outputs": [
    {
     "name": "stdout",
     "output_type": "stream",
     "text": [
      "Процент пропущенных значений в device_model: 99.12\n",
      "Количество пропущенных значений в device_model: 1843704\n"
     ]
    }
   ],
   "source": [
    "print_useful_rows_info_column(df_full, 'device_model')"
   ]
  },
  {
   "cell_type": "code",
   "execution_count": 32,
   "id": "1c4c3675-6abc-45cf-8a74-7ca46b25ef49",
   "metadata": {},
   "outputs": [],
   "source": [
    "# Решаю удалить данный столбец\n",
    "df_clean = df_full.copy()\n",
    "df_clean = df_clean.drop(['device_model'], axis = 1)"
   ]
  },
  {
   "cell_type": "code",
   "execution_count": 33,
   "id": "9a14a02f-4ecb-4a22-a504-33d6ab8dd5d3",
   "metadata": {},
   "outputs": [
    {
     "name": "stdout",
     "output_type": "stream",
     "text": [
      "Количество полностью заполненных объектов в выборке:  578427\n",
      "Процент полностью заполненных объектов в выборке:  31.1\n",
      "Процент пропусков по столбцам: \n",
      "utm_keyword                 58.174009\n",
      "device_os                   57.533002\n",
      "device_brand                19.740307\n",
      "utm_adcontent               18.043410\n",
      "utm_campaign                11.806346\n",
      "utm_source                   0.005215\n",
      "geo_city                     0.000000\n",
      "geo_country                  0.000000\n",
      "device_browser               0.000000\n",
      "device_screen_resolution     0.000000\n",
      "session_id                   0.000000\n",
      "device_category              0.000000\n",
      "client_id                    0.000000\n",
      "utm_medium                   0.000000\n",
      "visit_number                 0.000000\n",
      "visit_time                   0.000000\n",
      "visit_date                   0.000000\n",
      "target                       0.000000\n",
      "dtype: float64\n"
     ]
    }
   ],
   "source": [
    "print_usefull_rows_info_full(df_clean)"
   ]
  },
  {
   "cell_type": "markdown",
   "id": "bcac3b79-701c-4b0b-8d80-0ac5ea5fa5f7",
   "metadata": {},
   "source": [
    "#### Обработка пропусков в столбце utm_keyword"
   ]
  },
  {
   "cell_type": "code",
   "execution_count": 34,
   "id": "c8016782-a63a-4cba-80c9-a06958973426",
   "metadata": {},
   "outputs": [
    {
     "name": "stdout",
     "output_type": "stream",
     "text": [
      "Процент пропущенных значений в utm_keyword: 58.17\n",
      "Количество пропущенных значений в utm_keyword: 1082061\n"
     ]
    }
   ],
   "source": [
    "print_useful_rows_info_column(df_clean, 'utm_keyword')"
   ]
  },
  {
   "cell_type": "code",
   "execution_count": 35,
   "id": "d85018bf-1ee9-44ff-8835-8fce4adc6371",
   "metadata": {},
   "outputs": [],
   "source": [
    "# В столбце utm_keyword пропущено почти 60 процентов всех данных. Считаю, что как-либо искусственно его заполнять не стоит. Поэтому этот столбец удаляю.\n",
    "df_clean = df_clean.drop(['utm_keyword'], axis = 1)"
   ]
  },
  {
   "cell_type": "code",
   "execution_count": 36,
   "id": "4679cd33-4426-4fb4-9741-729c7e3b2a1e",
   "metadata": {},
   "outputs": [
    {
     "name": "stdout",
     "output_type": "stream",
     "text": [
      "Количество полностью заполненных объектов в выборке:  578853\n",
      "Процент полностью заполненных объектов в выборке:  31.12\n",
      "Процент пропусков по столбцам: \n",
      "device_os                   57.533002\n",
      "device_brand                19.740307\n",
      "utm_adcontent               18.043410\n",
      "utm_campaign                11.806346\n",
      "utm_source                   0.005215\n",
      "geo_city                     0.000000\n",
      "geo_country                  0.000000\n",
      "device_browser               0.000000\n",
      "device_screen_resolution     0.000000\n",
      "session_id                   0.000000\n",
      "device_category              0.000000\n",
      "client_id                    0.000000\n",
      "utm_medium                   0.000000\n",
      "visit_number                 0.000000\n",
      "visit_time                   0.000000\n",
      "visit_date                   0.000000\n",
      "target                       0.000000\n",
      "dtype: float64\n"
     ]
    }
   ],
   "source": [
    "print_usefull_rows_info_full(df_clean)"
   ]
  },
  {
   "cell_type": "markdown",
   "id": "adb75de7-d119-4390-a97f-d876d52badb9",
   "metadata": {},
   "source": [
    "#### Обработка пропусков в столбцax device_brand и device_os"
   ]
  },
  {
   "cell_type": "code",
   "execution_count": 37,
   "id": "89842561-6ac4-4d84-a687-a3ff41952864",
   "metadata": {},
   "outputs": [
    {
     "name": "stdout",
     "output_type": "stream",
     "text": [
      "Процент пропущенных значений в device_brand: 19.74\n",
      "Количество пропущенных значений в device_brand: 367178\n"
     ]
    }
   ],
   "source": [
    "print_useful_rows_info_column(df_clean, 'device_brand')"
   ]
  },
  {
   "cell_type": "code",
   "execution_count": 38,
   "id": "e8f86b1b-5743-4dd5-be3c-cc5757195b55",
   "metadata": {},
   "outputs": [
    {
     "name": "stdout",
     "output_type": "stream",
     "text": [
      "Процент пропущенных значений в device_os: 57.53\n",
      "Количество пропущенных значений в device_os: 1070138\n"
     ]
    }
   ],
   "source": [
    "print_useful_rows_info_column(df_clean, 'device_os')"
   ]
  },
  {
   "cell_type": "code",
   "execution_count": 39,
   "id": "aa1d57db-598b-4f2a-bbba-a5367435a654",
   "metadata": {},
   "outputs": [
    {
     "data": {
      "text/plain": [
       "device_os\n",
       "NaN              1070138\n",
       "Android           464054\n",
       "iOS               207104\n",
       "Windows            88307\n",
       "Macintosh          24824\n",
       "Linux               5120\n",
       "(not set)            364\n",
       "Chrome OS             83\n",
       "BlackBerry            27\n",
       "Tizen                  7\n",
       "Samsung                4\n",
       "Windows Phone          4\n",
       "Firefox OS             3\n",
       "Nokia                  3\n",
       "Name: count, dtype: int64"
      ]
     },
     "execution_count": 39,
     "metadata": {},
     "output_type": "execute_result"
    }
   ],
   "source": [
    "df_clean['device_os'].value_counts(dropna=False)"
   ]
  },
  {
   "cell_type": "code",
   "execution_count": 40,
   "id": "1772fd03-faac-4a84-ad1e-3c81d36a9fd4",
   "metadata": {},
   "outputs": [
    {
     "data": {
      "text/plain": [
       "device_brand\n",
       "Apple       551088\n",
       "NaN         367178\n",
       "Samsung     332194\n",
       "Xiaomi      288367\n",
       "Huawei      185853\n",
       "             ...  \n",
       "Vodafone         1\n",
       "Wexler           1\n",
       "KingSing         1\n",
       "Star             1\n",
       "Opera            1\n",
       "Name: count, Length: 206, dtype: int64"
      ]
     },
     "execution_count": 40,
     "metadata": {},
     "output_type": "execute_result"
    }
   ],
   "source": [
    "df_clean['device_brand'].value_counts(dropna=False)"
   ]
  },
  {
   "cell_type": "code",
   "execution_count": 41,
   "id": "8a97ac85-a715-4088-807a-e6bdcb7ad88c",
   "metadata": {},
   "outputs": [
    {
     "data": {
      "text/html": [
       "<div>\n",
       "<style scoped>\n",
       "    .dataframe tbody tr th:only-of-type {\n",
       "        vertical-align: middle;\n",
       "    }\n",
       "\n",
       "    .dataframe tbody tr th {\n",
       "        vertical-align: top;\n",
       "    }\n",
       "\n",
       "    .dataframe thead th {\n",
       "        text-align: right;\n",
       "    }\n",
       "</style>\n",
       "<table border=\"1\" class=\"dataframe\">\n",
       "  <thead>\n",
       "    <tr style=\"text-align: right;\">\n",
       "      <th></th>\n",
       "      <th>session_id</th>\n",
       "      <th>client_id</th>\n",
       "      <th>visit_date</th>\n",
       "      <th>visit_time</th>\n",
       "      <th>visit_number</th>\n",
       "      <th>utm_source</th>\n",
       "      <th>utm_medium</th>\n",
       "      <th>utm_campaign</th>\n",
       "      <th>utm_adcontent</th>\n",
       "      <th>device_category</th>\n",
       "      <th>device_os</th>\n",
       "      <th>device_brand</th>\n",
       "      <th>device_screen_resolution</th>\n",
       "      <th>device_browser</th>\n",
       "      <th>geo_country</th>\n",
       "      <th>geo_city</th>\n",
       "      <th>target</th>\n",
       "    </tr>\n",
       "  </thead>\n",
       "  <tbody>\n",
       "    <tr>\n",
       "      <th>63</th>\n",
       "      <td>9055657327967035032.1629707931.1629707931</td>\n",
       "      <td>2108434524.1629707928</td>\n",
       "      <td>2021-08-23</td>\n",
       "      <td>11:00:00</td>\n",
       "      <td>1</td>\n",
       "      <td>nSReTmyFtbSjlPrTKoaX</td>\n",
       "      <td>banner</td>\n",
       "      <td>BVKxkCOHKUOvkpbrLMgZ</td>\n",
       "      <td>JNHcPlZPxEMWDnRiyoBf</td>\n",
       "      <td>desktop</td>\n",
       "      <td>NaN</td>\n",
       "      <td>NaN</td>\n",
       "      <td>1920x1080</td>\n",
       "      <td>YaBrowser</td>\n",
       "      <td>Russia</td>\n",
       "      <td>Moscow</td>\n",
       "      <td>0.0</td>\n",
       "    </tr>\n",
       "    <tr>\n",
       "      <th>64</th>\n",
       "      <td>905565977351442956.1622561294.1622561294</td>\n",
       "      <td>210843509.1622561292</td>\n",
       "      <td>2021-06-01</td>\n",
       "      <td>18:00:00</td>\n",
       "      <td>1</td>\n",
       "      <td>fDLlAcSmythWSCVMvqvL</td>\n",
       "      <td>(none)</td>\n",
       "      <td>LTuZkdKfxRGVceoWkVyg</td>\n",
       "      <td>JNHcPlZPxEMWDnRiyoBf</td>\n",
       "      <td>desktop</td>\n",
       "      <td>NaN</td>\n",
       "      <td>NaN</td>\n",
       "      <td>1920x1080</td>\n",
       "      <td>Chrome</td>\n",
       "      <td>Russia</td>\n",
       "      <td>Moscow</td>\n",
       "      <td>0.0</td>\n",
       "    </tr>\n",
       "    <tr>\n",
       "      <th>73</th>\n",
       "      <td>9055788191321875859.1626006934.1626006934</td>\n",
       "      <td>2108464993.1626006931</td>\n",
       "      <td>2021-07-11</td>\n",
       "      <td>15:00:00</td>\n",
       "      <td>1</td>\n",
       "      <td>fDLlAcSmythWSCVMvqvL</td>\n",
       "      <td>(none)</td>\n",
       "      <td>LTuZkdKfxRGVceoWkVyg</td>\n",
       "      <td>JNHcPlZPxEMWDnRiyoBf</td>\n",
       "      <td>desktop</td>\n",
       "      <td>NaN</td>\n",
       "      <td>NaN</td>\n",
       "      <td>1280x720</td>\n",
       "      <td>Chrome</td>\n",
       "      <td>Russia</td>\n",
       "      <td>Moscow</td>\n",
       "      <td>0.0</td>\n",
       "    </tr>\n",
       "    <tr>\n",
       "      <th>74</th>\n",
       "      <td>9055788191321875859.1627377569.1627377569</td>\n",
       "      <td>2108464993.1626006931</td>\n",
       "      <td>2021-07-27</td>\n",
       "      <td>12:00:00</td>\n",
       "      <td>2</td>\n",
       "      <td>kjsLglQLzykiRbcDiGcD</td>\n",
       "      <td>cpc</td>\n",
       "      <td>nSReTmyFtbSjlPrTKoaX</td>\n",
       "      <td>JNHcPlZPxEMWDnRiyoBf</td>\n",
       "      <td>desktop</td>\n",
       "      <td>NaN</td>\n",
       "      <td>NaN</td>\n",
       "      <td>1920x1080</td>\n",
       "      <td>Chrome</td>\n",
       "      <td>Russia</td>\n",
       "      <td>Moscow</td>\n",
       "      <td>0.0</td>\n",
       "    </tr>\n",
       "    <tr>\n",
       "      <th>78</th>\n",
       "      <td>9055794766915104430.1624305327.1624305327</td>\n",
       "      <td>2108466524.1624305326</td>\n",
       "      <td>2021-06-21</td>\n",
       "      <td>22:00:00</td>\n",
       "      <td>1</td>\n",
       "      <td>BHcvLfOaCWvWTykYqHVe</td>\n",
       "      <td>cpc</td>\n",
       "      <td>NaN</td>\n",
       "      <td>NaN</td>\n",
       "      <td>desktop</td>\n",
       "      <td>NaN</td>\n",
       "      <td>NaN</td>\n",
       "      <td>834x1112</td>\n",
       "      <td>Safari</td>\n",
       "      <td>Russia</td>\n",
       "      <td>Domodedovo</td>\n",
       "      <td>1.0</td>\n",
       "    </tr>\n",
       "    <tr>\n",
       "      <th>...</th>\n",
       "      <td>...</td>\n",
       "      <td>...</td>\n",
       "      <td>...</td>\n",
       "      <td>...</td>\n",
       "      <td>...</td>\n",
       "      <td>...</td>\n",
       "      <td>...</td>\n",
       "      <td>...</td>\n",
       "      <td>...</td>\n",
       "      <td>...</td>\n",
       "      <td>...</td>\n",
       "      <td>...</td>\n",
       "      <td>...</td>\n",
       "      <td>...</td>\n",
       "      <td>...</td>\n",
       "      <td>...</td>\n",
       "      <td>...</td>\n",
       "    </tr>\n",
       "    <tr>\n",
       "      <th>1860020</th>\n",
       "      <td>9055329372850890545.1629287172.1629287172</td>\n",
       "      <td>2108358166.1626351409</td>\n",
       "      <td>2021-08-18</td>\n",
       "      <td>14:00:00</td>\n",
       "      <td>3</td>\n",
       "      <td>BHcvLfOaCWvWTykYqHVe</td>\n",
       "      <td>cpc</td>\n",
       "      <td>NaN</td>\n",
       "      <td>NaN</td>\n",
       "      <td>desktop</td>\n",
       "      <td>NaN</td>\n",
       "      <td>NaN</td>\n",
       "      <td>1920x1080</td>\n",
       "      <td>YaBrowser</td>\n",
       "      <td>Russia</td>\n",
       "      <td>Moscow</td>\n",
       "      <td>0.0</td>\n",
       "    </tr>\n",
       "    <tr>\n",
       "      <th>1860021</th>\n",
       "      <td>9055343778173115129.1628265209.1628265209</td>\n",
       "      <td>2108361520.1628265209</td>\n",
       "      <td>2021-08-06</td>\n",
       "      <td>18:00:00</td>\n",
       "      <td>1</td>\n",
       "      <td>kjsLglQLzykiRbcDiGcD</td>\n",
       "      <td>organic</td>\n",
       "      <td>LTuZkdKfxRGVceoWkVyg</td>\n",
       "      <td>JNHcPlZPxEMWDnRiyoBf</td>\n",
       "      <td>desktop</td>\n",
       "      <td>NaN</td>\n",
       "      <td>NaN</td>\n",
       "      <td>1920x1080</td>\n",
       "      <td>Firefox</td>\n",
       "      <td>Russia</td>\n",
       "      <td>Moscow</td>\n",
       "      <td>0.0</td>\n",
       "    </tr>\n",
       "    <tr>\n",
       "      <th>1860022</th>\n",
       "      <td>9055345397369530035.1622009529.1622009529</td>\n",
       "      <td>2108361897.1622009523</td>\n",
       "      <td>2021-05-26</td>\n",
       "      <td>09:00:00</td>\n",
       "      <td>1</td>\n",
       "      <td>fDLlAcSmythWSCVMvqvL</td>\n",
       "      <td>(none)</td>\n",
       "      <td>LTuZkdKfxRGVceoWkVyg</td>\n",
       "      <td>JNHcPlZPxEMWDnRiyoBf</td>\n",
       "      <td>desktop</td>\n",
       "      <td>NaN</td>\n",
       "      <td>NaN</td>\n",
       "      <td>1536x864</td>\n",
       "      <td>Firefox</td>\n",
       "      <td>Russia</td>\n",
       "      <td>(not set)</td>\n",
       "      <td>0.0</td>\n",
       "    </tr>\n",
       "    <tr>\n",
       "      <th>1860027</th>\n",
       "      <td>9055363711117247375.1629176721.1629176721</td>\n",
       "      <td>2108366161.1629176719</td>\n",
       "      <td>2021-08-17</td>\n",
       "      <td>08:00:00</td>\n",
       "      <td>1</td>\n",
       "      <td>PlbkrSYoHuZBWfYjYnfw</td>\n",
       "      <td>cpm</td>\n",
       "      <td>FTjNLDyTrXaWYgZymFkV</td>\n",
       "      <td>TuyPWsGQruPMpKvRxeBF</td>\n",
       "      <td>desktop</td>\n",
       "      <td>NaN</td>\n",
       "      <td>NaN</td>\n",
       "      <td>1920x1080</td>\n",
       "      <td>Chrome</td>\n",
       "      <td>Russia</td>\n",
       "      <td>(not set)</td>\n",
       "      <td>0.0</td>\n",
       "    </tr>\n",
       "    <tr>\n",
       "      <th>1860029</th>\n",
       "      <td>9055376699099939975.1630766214.1630766214</td>\n",
       "      <td>2108369185.1630766215</td>\n",
       "      <td>2021-09-04</td>\n",
       "      <td>17:00:00</td>\n",
       "      <td>1</td>\n",
       "      <td>fDLlAcSmythWSCVMvqvL</td>\n",
       "      <td>(none)</td>\n",
       "      <td>LTuZkdKfxRGVceoWkVyg</td>\n",
       "      <td>JNHcPlZPxEMWDnRiyoBf</td>\n",
       "      <td>desktop</td>\n",
       "      <td>NaN</td>\n",
       "      <td>NaN</td>\n",
       "      <td>1920x1080</td>\n",
       "      <td>Chrome</td>\n",
       "      <td>Russia</td>\n",
       "      <td>Khimki</td>\n",
       "      <td>1.0</td>\n",
       "    </tr>\n",
       "  </tbody>\n",
       "</table>\n",
       "<p>248500 rows × 17 columns</p>\n",
       "</div>"
      ],
      "text/plain": [
       "                                        session_id              client_id  \\\n",
       "63       9055657327967035032.1629707931.1629707931  2108434524.1629707928   \n",
       "64        905565977351442956.1622561294.1622561294   210843509.1622561292   \n",
       "73       9055788191321875859.1626006934.1626006934  2108464993.1626006931   \n",
       "74       9055788191321875859.1627377569.1627377569  2108464993.1626006931   \n",
       "78       9055794766915104430.1624305327.1624305327  2108466524.1624305326   \n",
       "...                                            ...                    ...   \n",
       "1860020  9055329372850890545.1629287172.1629287172  2108358166.1626351409   \n",
       "1860021  9055343778173115129.1628265209.1628265209  2108361520.1628265209   \n",
       "1860022  9055345397369530035.1622009529.1622009529  2108361897.1622009523   \n",
       "1860027  9055363711117247375.1629176721.1629176721  2108366161.1629176719   \n",
       "1860029  9055376699099939975.1630766214.1630766214  2108369185.1630766215   \n",
       "\n",
       "         visit_date visit_time  visit_number            utm_source utm_medium  \\\n",
       "63       2021-08-23   11:00:00             1  nSReTmyFtbSjlPrTKoaX     banner   \n",
       "64       2021-06-01   18:00:00             1  fDLlAcSmythWSCVMvqvL     (none)   \n",
       "73       2021-07-11   15:00:00             1  fDLlAcSmythWSCVMvqvL     (none)   \n",
       "74       2021-07-27   12:00:00             2  kjsLglQLzykiRbcDiGcD        cpc   \n",
       "78       2021-06-21   22:00:00             1  BHcvLfOaCWvWTykYqHVe        cpc   \n",
       "...             ...        ...           ...                   ...        ...   \n",
       "1860020  2021-08-18   14:00:00             3  BHcvLfOaCWvWTykYqHVe        cpc   \n",
       "1860021  2021-08-06   18:00:00             1  kjsLglQLzykiRbcDiGcD    organic   \n",
       "1860022  2021-05-26   09:00:00             1  fDLlAcSmythWSCVMvqvL     (none)   \n",
       "1860027  2021-08-17   08:00:00             1  PlbkrSYoHuZBWfYjYnfw        cpm   \n",
       "1860029  2021-09-04   17:00:00             1  fDLlAcSmythWSCVMvqvL     (none)   \n",
       "\n",
       "                 utm_campaign         utm_adcontent device_category device_os  \\\n",
       "63       BVKxkCOHKUOvkpbrLMgZ  JNHcPlZPxEMWDnRiyoBf         desktop       NaN   \n",
       "64       LTuZkdKfxRGVceoWkVyg  JNHcPlZPxEMWDnRiyoBf         desktop       NaN   \n",
       "73       LTuZkdKfxRGVceoWkVyg  JNHcPlZPxEMWDnRiyoBf         desktop       NaN   \n",
       "74       nSReTmyFtbSjlPrTKoaX  JNHcPlZPxEMWDnRiyoBf         desktop       NaN   \n",
       "78                        NaN                   NaN         desktop       NaN   \n",
       "...                       ...                   ...             ...       ...   \n",
       "1860020                   NaN                   NaN         desktop       NaN   \n",
       "1860021  LTuZkdKfxRGVceoWkVyg  JNHcPlZPxEMWDnRiyoBf         desktop       NaN   \n",
       "1860022  LTuZkdKfxRGVceoWkVyg  JNHcPlZPxEMWDnRiyoBf         desktop       NaN   \n",
       "1860027  FTjNLDyTrXaWYgZymFkV  TuyPWsGQruPMpKvRxeBF         desktop       NaN   \n",
       "1860029  LTuZkdKfxRGVceoWkVyg  JNHcPlZPxEMWDnRiyoBf         desktop       NaN   \n",
       "\n",
       "        device_brand device_screen_resolution device_browser geo_country  \\\n",
       "63               NaN                1920x1080      YaBrowser      Russia   \n",
       "64               NaN                1920x1080         Chrome      Russia   \n",
       "73               NaN                 1280x720         Chrome      Russia   \n",
       "74               NaN                1920x1080         Chrome      Russia   \n",
       "78               NaN                 834x1112         Safari      Russia   \n",
       "...              ...                      ...            ...         ...   \n",
       "1860020          NaN                1920x1080      YaBrowser      Russia   \n",
       "1860021          NaN                1920x1080        Firefox      Russia   \n",
       "1860022          NaN                 1536x864        Firefox      Russia   \n",
       "1860027          NaN                1920x1080         Chrome      Russia   \n",
       "1860029          NaN                1920x1080         Chrome      Russia   \n",
       "\n",
       "           geo_city  target  \n",
       "63           Moscow     0.0  \n",
       "64           Moscow     0.0  \n",
       "73           Moscow     0.0  \n",
       "74           Moscow     0.0  \n",
       "78       Domodedovo     1.0  \n",
       "...             ...     ...  \n",
       "1860020      Moscow     0.0  \n",
       "1860021      Moscow     0.0  \n",
       "1860022   (not set)     0.0  \n",
       "1860027   (not set)     0.0  \n",
       "1860029      Khimki     1.0  \n",
       "\n",
       "[248500 rows x 17 columns]"
      ]
     },
     "execution_count": 41,
     "metadata": {},
     "output_type": "execute_result"
    }
   ],
   "source": [
    "df_clean[(df_clean[\"device_os\"].isna()) & (df_clean[\"device_brand\"].isna())]"
   ]
  },
  {
   "cell_type": "code",
   "execution_count": 42,
   "id": "f9e87edd-d3f4-42d5-a1b3-131ee9ff475b",
   "metadata": {},
   "outputs": [],
   "source": [
    "#В объектах, где неизвестно ни device_os, ни device_brand, указываем значение other\n",
    "df_clean.loc[(df_clean[\"device_os\"].isna()) & (df_clean[\"device_brand\"].isna()), ['device_os', 'device_brand']] = 'other'"
   ]
  },
  {
   "cell_type": "code",
   "execution_count": 43,
   "id": "9db9e246-5e8a-48a0-8553-56aa7834a848",
   "metadata": {},
   "outputs": [
    {
     "data": {
      "text/plain": [
       "device_os\n",
       "NaN              821638\n",
       "Android          464054\n",
       "other            248500\n",
       "iOS              207104\n",
       "Windows           88307\n",
       "Macintosh         24824\n",
       "Linux              5120\n",
       "(not set)           364\n",
       "Chrome OS            83\n",
       "BlackBerry           27\n",
       "Tizen                 7\n",
       "Samsung               4\n",
       "Windows Phone         4\n",
       "Firefox OS            3\n",
       "Nokia                 3\n",
       "Name: count, dtype: int64"
      ]
     },
     "execution_count": 43,
     "metadata": {},
     "output_type": "execute_result"
    }
   ],
   "source": [
    "df_clean['device_os'].value_counts(dropna=False)"
   ]
  },
  {
   "cell_type": "code",
   "execution_count": 44,
   "id": "6c45a08a-02de-4757-83d8-6c084f44f336",
   "metadata": {},
   "outputs": [
    {
     "data": {
      "text/plain": [
       "device_brand\n",
       "Apple       551088\n",
       "Samsung     332194\n",
       "Xiaomi      288367\n",
       "other       248500\n",
       "Huawei      185853\n",
       "             ...  \n",
       "Vodafone         1\n",
       "Wexler           1\n",
       "KingSing         1\n",
       "Star             1\n",
       "Opera            1\n",
       "Name: count, Length: 207, dtype: int64"
      ]
     },
     "execution_count": 44,
     "metadata": {},
     "output_type": "execute_result"
    }
   ],
   "source": [
    "df_clean['device_brand'].value_counts(dropna=False)"
   ]
  },
  {
   "cell_type": "markdown",
   "id": "789395d4-efe5-423c-8af7-1f3caf4ffffd",
   "metadata": {},
   "source": [
    "Все верно, в обоих столбцах в 248500 объектах теперь вместо NaN - other"
   ]
  },
  {
   "cell_type": "code",
   "execution_count": 45,
   "id": "501435d3-b8d2-43cc-a92f-dd6611fa8dae",
   "metadata": {},
   "outputs": [
    {
     "name": "stdout",
     "output_type": "stream",
     "text": [
      "Процент пропущенных значений в device_brand: 6.38\n",
      "Количество пропущенных значений в device_brand: 118678\n"
     ]
    }
   ],
   "source": [
    "print_useful_rows_info_column(df_clean, 'device_brand')"
   ]
  },
  {
   "cell_type": "code",
   "execution_count": 46,
   "id": "02aa2bbe-7724-4789-aaeb-81df1009c15f",
   "metadata": {},
   "outputs": [
    {
     "data": {
      "text/plain": [
       "device_os\n",
       "Windows      88307\n",
       "Macintosh    24824\n",
       "Linux         5120\n",
       "(not set)      344\n",
       "Chrome OS       83\n",
       "Name: count, dtype: int64"
      ]
     },
     "execution_count": 46,
     "metadata": {},
     "output_type": "execute_result"
    }
   ],
   "source": [
    "df_clean[df_clean['device_brand'].isna()].device_os.value_counts()"
   ]
  },
  {
   "cell_type": "markdown",
   "id": "a395e21e-6f77-44b4-b7af-524ac4844d33",
   "metadata": {},
   "source": [
    "Так как на операционной системе Macintosh работают только устройства от Apple, занесем для них значение Apple в device_brand"
   ]
  },
  {
   "cell_type": "code",
   "execution_count": 47,
   "id": "aff50879-11f8-4d20-b911-4cadb1d79c26",
   "metadata": {},
   "outputs": [],
   "source": [
    "df_clean.loc[(df_clean[\"device_brand\"].isna()) & (df_clean[\"device_os\"] == 'Macintosh'), 'device_brand'] = 'Apple'"
   ]
  },
  {
   "cell_type": "code",
   "execution_count": 48,
   "id": "ee320a16-318b-42f8-9cd4-1b85ed1503af",
   "metadata": {},
   "outputs": [
    {
     "name": "stdout",
     "output_type": "stream",
     "text": [
      "Процент пропущенных значений в device_brand: 5.05\n",
      "Количество пропущенных значений в device_brand: 93854\n"
     ]
    }
   ],
   "source": [
    "print_useful_rows_info_column(df_clean, 'device_brand')"
   ]
  },
  {
   "cell_type": "markdown",
   "id": "94c50934-b8a1-4659-8518-7fe5c484d74d",
   "metadata": {},
   "source": [
    "Под оставшимися ОС могут работать устройства разных производителей, поэтому для них укажем в столбце device_brand значение other"
   ]
  },
  {
   "cell_type": "code",
   "execution_count": 49,
   "id": "98fa98ea-3960-4aa9-a6c8-f7b9a2bc83fd",
   "metadata": {},
   "outputs": [],
   "source": [
    "df_clean.device_brand = df_clean.device_brand.fillna('other')"
   ]
  },
  {
   "cell_type": "code",
   "execution_count": 50,
   "id": "52a333cc-936f-481c-a530-3b29e503a527",
   "metadata": {},
   "outputs": [
    {
     "name": "stdout",
     "output_type": "stream",
     "text": [
      "Процент пропущенных значений в device_brand: 0.0\n",
      "Количество пропущенных значений в device_brand: 0\n"
     ]
    }
   ],
   "source": [
    "print_useful_rows_info_column(df_clean, 'device_brand')"
   ]
  },
  {
   "cell_type": "markdown",
   "id": "b7163a96-2fcc-4a2f-9f49-f56846362671",
   "metadata": {},
   "source": [
    "Пропуски в столбце device_brand обработаны. Переходим к столбцу device_os"
   ]
  },
  {
   "cell_type": "code",
   "execution_count": 51,
   "id": "3b161614-492a-4f70-8fcd-58e2f5c6b6e4",
   "metadata": {},
   "outputs": [
    {
     "name": "stdout",
     "output_type": "stream",
     "text": [
      "Процент пропущенных значений в device_os: 44.17\n",
      "Количество пропущенных значений в device_os: 821638\n"
     ]
    }
   ],
   "source": [
    "print_useful_rows_info_column(df_clean, 'device_os')"
   ]
  },
  {
   "cell_type": "code",
   "execution_count": 52,
   "id": "447db32d-1ccb-457d-a92c-3f7f70a2d38e",
   "metadata": {},
   "outputs": [
    {
     "data": {
      "text/plain": [
       "device_os\n",
       "NaN              821638\n",
       "Android          464054\n",
       "other            248500\n",
       "iOS              207104\n",
       "Windows           88307\n",
       "Macintosh         24824\n",
       "Linux              5120\n",
       "(not set)           364\n",
       "Chrome OS            83\n",
       "BlackBerry           27\n",
       "Tizen                 7\n",
       "Samsung               4\n",
       "Windows Phone         4\n",
       "Firefox OS            3\n",
       "Nokia                 3\n",
       "Name: count, dtype: int64"
      ]
     },
     "execution_count": 52,
     "metadata": {},
     "output_type": "execute_result"
    }
   ],
   "source": [
    "df_clean['device_os'].value_counts(dropna=False)"
   ]
  },
  {
   "cell_type": "code",
   "execution_count": 53,
   "id": "feac1d58-a481-4967-b79f-a4197dc577f7",
   "metadata": {},
   "outputs": [
    {
     "data": {
      "text/html": [
       "<div>\n",
       "<style scoped>\n",
       "    .dataframe tbody tr th:only-of-type {\n",
       "        vertical-align: middle;\n",
       "    }\n",
       "\n",
       "    .dataframe tbody tr th {\n",
       "        vertical-align: top;\n",
       "    }\n",
       "\n",
       "    .dataframe thead th {\n",
       "        text-align: right;\n",
       "    }\n",
       "</style>\n",
       "<table border=\"1\" class=\"dataframe\">\n",
       "  <thead>\n",
       "    <tr style=\"text-align: right;\">\n",
       "      <th></th>\n",
       "      <th>session_id</th>\n",
       "      <th>client_id</th>\n",
       "      <th>visit_date</th>\n",
       "      <th>visit_time</th>\n",
       "      <th>visit_number</th>\n",
       "      <th>utm_source</th>\n",
       "      <th>utm_medium</th>\n",
       "      <th>utm_campaign</th>\n",
       "      <th>utm_adcontent</th>\n",
       "      <th>device_category</th>\n",
       "      <th>device_os</th>\n",
       "      <th>device_brand</th>\n",
       "      <th>device_screen_resolution</th>\n",
       "      <th>device_browser</th>\n",
       "      <th>geo_country</th>\n",
       "      <th>geo_city</th>\n",
       "      <th>target</th>\n",
       "    </tr>\n",
       "  </thead>\n",
       "  <tbody>\n",
       "    <tr>\n",
       "      <th>3</th>\n",
       "      <td>9055447046360770272.1622255328.1622255328</td>\n",
       "      <td>2108385564.1622255328</td>\n",
       "      <td>2021-05-29</td>\n",
       "      <td>05:00:00</td>\n",
       "      <td>1</td>\n",
       "      <td>kjsLglQLzykiRbcDiGcD</td>\n",
       "      <td>cpc</td>\n",
       "      <td>NaN</td>\n",
       "      <td>NOBKLgtuvqYWkXQHeYWM</td>\n",
       "      <td>mobile</td>\n",
       "      <td>NaN</td>\n",
       "      <td>Xiaomi</td>\n",
       "      <td>393x786</td>\n",
       "      <td>Chrome</td>\n",
       "      <td>Russia</td>\n",
       "      <td>Moscow</td>\n",
       "      <td>0.0</td>\n",
       "    </tr>\n",
       "    <tr>\n",
       "      <th>4</th>\n",
       "      <td>9055447046360770272.1622255345.1622255345</td>\n",
       "      <td>2108385564.1622255328</td>\n",
       "      <td>2021-05-29</td>\n",
       "      <td>05:00:00</td>\n",
       "      <td>2</td>\n",
       "      <td>kjsLglQLzykiRbcDiGcD</td>\n",
       "      <td>cpc</td>\n",
       "      <td>NaN</td>\n",
       "      <td>NaN</td>\n",
       "      <td>mobile</td>\n",
       "      <td>NaN</td>\n",
       "      <td>Xiaomi</td>\n",
       "      <td>393x786</td>\n",
       "      <td>Chrome</td>\n",
       "      <td>Russia</td>\n",
       "      <td>Moscow</td>\n",
       "      <td>0.0</td>\n",
       "    </tr>\n",
       "    <tr>\n",
       "      <th>5</th>\n",
       "      <td>9055447192389856083.1622453074.1622453074</td>\n",
       "      <td>2108385598.1622453075</td>\n",
       "      <td>2021-05-31</td>\n",
       "      <td>12:00:00</td>\n",
       "      <td>1</td>\n",
       "      <td>kjsLglQLzykiRbcDiGcD</td>\n",
       "      <td>organic</td>\n",
       "      <td>LTuZkdKfxRGVceoWkVyg</td>\n",
       "      <td>JNHcPlZPxEMWDnRiyoBf</td>\n",
       "      <td>mobile</td>\n",
       "      <td>NaN</td>\n",
       "      <td>Apple</td>\n",
       "      <td>375x812</td>\n",
       "      <td>Safari</td>\n",
       "      <td>Russia</td>\n",
       "      <td>Saint Petersburg</td>\n",
       "      <td>0.0</td>\n",
       "    </tr>\n",
       "    <tr>\n",
       "      <th>7</th>\n",
       "      <td>9055461992850812764.1626107740.1626107740</td>\n",
       "      <td>2108389044.1626107740</td>\n",
       "      <td>2021-07-12</td>\n",
       "      <td>19:00:00</td>\n",
       "      <td>1</td>\n",
       "      <td>ZpYIoDJMcFzVoPFsHGJL</td>\n",
       "      <td>banner</td>\n",
       "      <td>LEoPHuyFvzoNfnzGgfcd</td>\n",
       "      <td>JNHcPlZPxEMWDnRiyoBf</td>\n",
       "      <td>mobile</td>\n",
       "      <td>NaN</td>\n",
       "      <td>Samsung</td>\n",
       "      <td>360x640</td>\n",
       "      <td>Chrome</td>\n",
       "      <td>Russia</td>\n",
       "      <td>Saint Petersburg</td>\n",
       "      <td>0.0</td>\n",
       "    </tr>\n",
       "    <tr>\n",
       "      <th>9</th>\n",
       "      <td>9055466554104774132.1624800757.1624800757</td>\n",
       "      <td>2108390106.1624800756</td>\n",
       "      <td>2021-06-27</td>\n",
       "      <td>16:00:00</td>\n",
       "      <td>1</td>\n",
       "      <td>ZpYIoDJMcFzVoPFsHGJL</td>\n",
       "      <td>banner</td>\n",
       "      <td>LEoPHuyFvzoNfnzGgfcd</td>\n",
       "      <td>JNHcPlZPxEMWDnRiyoBf</td>\n",
       "      <td>mobile</td>\n",
       "      <td>NaN</td>\n",
       "      <td>Samsung</td>\n",
       "      <td>412x915</td>\n",
       "      <td>Chrome</td>\n",
       "      <td>Russia</td>\n",
       "      <td>Moscow</td>\n",
       "      <td>0.0</td>\n",
       "    </tr>\n",
       "    <tr>\n",
       "      <th>...</th>\n",
       "      <td>...</td>\n",
       "      <td>...</td>\n",
       "      <td>...</td>\n",
       "      <td>...</td>\n",
       "      <td>...</td>\n",
       "      <td>...</td>\n",
       "      <td>...</td>\n",
       "      <td>...</td>\n",
       "      <td>...</td>\n",
       "      <td>...</td>\n",
       "      <td>...</td>\n",
       "      <td>...</td>\n",
       "      <td>...</td>\n",
       "      <td>...</td>\n",
       "      <td>...</td>\n",
       "      <td>...</td>\n",
       "      <td>...</td>\n",
       "    </tr>\n",
       "    <tr>\n",
       "      <th>1860030</th>\n",
       "      <td>9055382948278467242.1631877802.1631877802</td>\n",
       "      <td>2108370640.1631877802</td>\n",
       "      <td>2021-09-17</td>\n",
       "      <td>14:00:00</td>\n",
       "      <td>1</td>\n",
       "      <td>MvfHsxITijuriZxsqZqt</td>\n",
       "      <td>cpm</td>\n",
       "      <td>FTjNLDyTrXaWYgZymFkV</td>\n",
       "      <td>PkybGvWbaqORmxjNunqZ</td>\n",
       "      <td>mobile</td>\n",
       "      <td>NaN</td>\n",
       "      <td>Xiaomi</td>\n",
       "      <td>393x851</td>\n",
       "      <td>Chrome</td>\n",
       "      <td>Russia</td>\n",
       "      <td>Saint Petersburg</td>\n",
       "      <td>0.0</td>\n",
       "    </tr>\n",
       "    <tr>\n",
       "      <th>1860032</th>\n",
       "      <td>9055394269810294140.1629912447.1629912447</td>\n",
       "      <td>2108373276.1629912444</td>\n",
       "      <td>2021-08-25</td>\n",
       "      <td>20:00:00</td>\n",
       "      <td>1</td>\n",
       "      <td>bByPQxmDaMXgpHeypKSM</td>\n",
       "      <td>referral</td>\n",
       "      <td>LTuZkdKfxRGVceoWkVyg</td>\n",
       "      <td>JNHcPlZPxEMWDnRiyoBf</td>\n",
       "      <td>mobile</td>\n",
       "      <td>NaN</td>\n",
       "      <td>Samsung</td>\n",
       "      <td>360x800</td>\n",
       "      <td>Android Webview</td>\n",
       "      <td>Russia</td>\n",
       "      <td>Saint Petersburg</td>\n",
       "      <td>1.0</td>\n",
       "    </tr>\n",
       "    <tr>\n",
       "      <th>1860034</th>\n",
       "      <td>9055397194683347295.1630237022.1630237022</td>\n",
       "      <td>2108373957.1630237023</td>\n",
       "      <td>2021-08-29</td>\n",
       "      <td>14:00:00</td>\n",
       "      <td>1</td>\n",
       "      <td>ISrKoXQCxqqYvAZICvjs</td>\n",
       "      <td>blogger_stories</td>\n",
       "      <td>zfwIehuEfWYdYrEZgRLo</td>\n",
       "      <td>JNHcPlZPxEMWDnRiyoBf</td>\n",
       "      <td>mobile</td>\n",
       "      <td>NaN</td>\n",
       "      <td>Apple</td>\n",
       "      <td>414x896</td>\n",
       "      <td>Safari</td>\n",
       "      <td>Russia</td>\n",
       "      <td>Zheleznodorozhny</td>\n",
       "      <td>0.0</td>\n",
       "    </tr>\n",
       "    <tr>\n",
       "      <th>1860035</th>\n",
       "      <td>9055398929844789828.1624891784.1624891784</td>\n",
       "      <td>2108374361.1624891972</td>\n",
       "      <td>2021-06-28</td>\n",
       "      <td>17:00:00</td>\n",
       "      <td>1</td>\n",
       "      <td>kjsLglQLzykiRbcDiGcD</td>\n",
       "      <td>cpc</td>\n",
       "      <td>vXsFkagGabkcWKlgLzSg</td>\n",
       "      <td>NaN</td>\n",
       "      <td>mobile</td>\n",
       "      <td>NaN</td>\n",
       "      <td>Samsung</td>\n",
       "      <td>320x676</td>\n",
       "      <td>Chrome</td>\n",
       "      <td>Russia</td>\n",
       "      <td>Naro-Fominsk</td>\n",
       "      <td>0.0</td>\n",
       "    </tr>\n",
       "    <tr>\n",
       "      <th>1860038</th>\n",
       "      <td>9055421130527858185.1622007305.1622007305</td>\n",
       "      <td>2108379530.1622007305</td>\n",
       "      <td>2021-05-26</td>\n",
       "      <td>08:00:00</td>\n",
       "      <td>1</td>\n",
       "      <td>fDLlAcSmythWSCVMvqvL</td>\n",
       "      <td>(none)</td>\n",
       "      <td>LTuZkdKfxRGVceoWkVyg</td>\n",
       "      <td>JNHcPlZPxEMWDnRiyoBf</td>\n",
       "      <td>mobile</td>\n",
       "      <td>NaN</td>\n",
       "      <td>Apple</td>\n",
       "      <td>390x844</td>\n",
       "      <td>Safari</td>\n",
       "      <td>Russia</td>\n",
       "      <td>Stavropol</td>\n",
       "      <td>0.0</td>\n",
       "    </tr>\n",
       "  </tbody>\n",
       "</table>\n",
       "<p>821638 rows × 17 columns</p>\n",
       "</div>"
      ],
      "text/plain": [
       "                                        session_id              client_id  \\\n",
       "3        9055447046360770272.1622255328.1622255328  2108385564.1622255328   \n",
       "4        9055447046360770272.1622255345.1622255345  2108385564.1622255328   \n",
       "5        9055447192389856083.1622453074.1622453074  2108385598.1622453075   \n",
       "7        9055461992850812764.1626107740.1626107740  2108389044.1626107740   \n",
       "9        9055466554104774132.1624800757.1624800757  2108390106.1624800756   \n",
       "...                                            ...                    ...   \n",
       "1860030  9055382948278467242.1631877802.1631877802  2108370640.1631877802   \n",
       "1860032  9055394269810294140.1629912447.1629912447  2108373276.1629912444   \n",
       "1860034  9055397194683347295.1630237022.1630237022  2108373957.1630237023   \n",
       "1860035  9055398929844789828.1624891784.1624891784  2108374361.1624891972   \n",
       "1860038  9055421130527858185.1622007305.1622007305  2108379530.1622007305   \n",
       "\n",
       "         visit_date visit_time  visit_number            utm_source  \\\n",
       "3        2021-05-29   05:00:00             1  kjsLglQLzykiRbcDiGcD   \n",
       "4        2021-05-29   05:00:00             2  kjsLglQLzykiRbcDiGcD   \n",
       "5        2021-05-31   12:00:00             1  kjsLglQLzykiRbcDiGcD   \n",
       "7        2021-07-12   19:00:00             1  ZpYIoDJMcFzVoPFsHGJL   \n",
       "9        2021-06-27   16:00:00             1  ZpYIoDJMcFzVoPFsHGJL   \n",
       "...             ...        ...           ...                   ...   \n",
       "1860030  2021-09-17   14:00:00             1  MvfHsxITijuriZxsqZqt   \n",
       "1860032  2021-08-25   20:00:00             1  bByPQxmDaMXgpHeypKSM   \n",
       "1860034  2021-08-29   14:00:00             1  ISrKoXQCxqqYvAZICvjs   \n",
       "1860035  2021-06-28   17:00:00             1  kjsLglQLzykiRbcDiGcD   \n",
       "1860038  2021-05-26   08:00:00             1  fDLlAcSmythWSCVMvqvL   \n",
       "\n",
       "              utm_medium          utm_campaign         utm_adcontent  \\\n",
       "3                    cpc                   NaN  NOBKLgtuvqYWkXQHeYWM   \n",
       "4                    cpc                   NaN                   NaN   \n",
       "5                organic  LTuZkdKfxRGVceoWkVyg  JNHcPlZPxEMWDnRiyoBf   \n",
       "7                 banner  LEoPHuyFvzoNfnzGgfcd  JNHcPlZPxEMWDnRiyoBf   \n",
       "9                 banner  LEoPHuyFvzoNfnzGgfcd  JNHcPlZPxEMWDnRiyoBf   \n",
       "...                  ...                   ...                   ...   \n",
       "1860030              cpm  FTjNLDyTrXaWYgZymFkV  PkybGvWbaqORmxjNunqZ   \n",
       "1860032         referral  LTuZkdKfxRGVceoWkVyg  JNHcPlZPxEMWDnRiyoBf   \n",
       "1860034  blogger_stories  zfwIehuEfWYdYrEZgRLo  JNHcPlZPxEMWDnRiyoBf   \n",
       "1860035              cpc  vXsFkagGabkcWKlgLzSg                   NaN   \n",
       "1860038           (none)  LTuZkdKfxRGVceoWkVyg  JNHcPlZPxEMWDnRiyoBf   \n",
       "\n",
       "        device_category device_os device_brand device_screen_resolution  \\\n",
       "3                mobile       NaN       Xiaomi                  393x786   \n",
       "4                mobile       NaN       Xiaomi                  393x786   \n",
       "5                mobile       NaN        Apple                  375x812   \n",
       "7                mobile       NaN      Samsung                  360x640   \n",
       "9                mobile       NaN      Samsung                  412x915   \n",
       "...                 ...       ...          ...                      ...   \n",
       "1860030          mobile       NaN       Xiaomi                  393x851   \n",
       "1860032          mobile       NaN      Samsung                  360x800   \n",
       "1860034          mobile       NaN        Apple                  414x896   \n",
       "1860035          mobile       NaN      Samsung                  320x676   \n",
       "1860038          mobile       NaN        Apple                  390x844   \n",
       "\n",
       "          device_browser geo_country          geo_city  target  \n",
       "3                 Chrome      Russia            Moscow     0.0  \n",
       "4                 Chrome      Russia            Moscow     0.0  \n",
       "5                 Safari      Russia  Saint Petersburg     0.0  \n",
       "7                 Chrome      Russia  Saint Petersburg     0.0  \n",
       "9                 Chrome      Russia            Moscow     0.0  \n",
       "...                  ...         ...               ...     ...  \n",
       "1860030           Chrome      Russia  Saint Petersburg     0.0  \n",
       "1860032  Android Webview      Russia  Saint Petersburg     1.0  \n",
       "1860034           Safari      Russia  Zheleznodorozhny     0.0  \n",
       "1860035           Chrome      Russia      Naro-Fominsk     0.0  \n",
       "1860038           Safari      Russia         Stavropol     0.0  \n",
       "\n",
       "[821638 rows x 17 columns]"
      ]
     },
     "execution_count": 53,
     "metadata": {},
     "output_type": "execute_result"
    }
   ],
   "source": [
    "df_clean[df_clean['device_os'].isna()]"
   ]
  },
  {
   "cell_type": "code",
   "execution_count": 54,
   "id": "89897590-b5a4-4368-97a6-508dd0122a3d",
   "metadata": {},
   "outputs": [
    {
     "data": {
      "text/plain": [
       "device_brand\n",
       "Apple       343990\n",
       "Samsung     166510\n",
       "Xiaomi      147224\n",
       "Huawei       96135\n",
       "Realme        8195\n",
       "             ...  \n",
       "Jiake            1\n",
       "Olla             1\n",
       "Krip             1\n",
       "KingSing         1\n",
       "Maxvi            1\n",
       "Name: count, Length: 180, dtype: int64"
      ]
     },
     "execution_count": 54,
     "metadata": {},
     "output_type": "execute_result"
    }
   ],
   "source": [
    "df_clean[df_clean['device_os'].isna()].device_brand.value_counts()"
   ]
  },
  {
   "cell_type": "markdown",
   "id": "c8fcb6e1-f181-4ddc-869b-e093a777f2b8",
   "metadata": {},
   "source": [
    "Известно, что планшеты и мобильные телефоны бренда Apple работают на ОС iOS, а стационарные компьютеры на Macintosh. Заполним такие объекты"
   ]
  },
  {
   "cell_type": "code",
   "execution_count": 55,
   "id": "a52a3a6c-6499-45a9-b7e6-2c10d28222ed",
   "metadata": {},
   "outputs": [],
   "source": [
    "df_clean.loc[(df_clean[\"device_os\"].isna()) & (df_clean[\"device_brand\"] == 'Apple') & (df_clean[\"device_category\"] != 'desktop'), 'device_os'] = 'iOS'\n",
    "df_clean.loc[(df_clean[\"device_os\"].isna()) & (df_clean[\"device_brand\"] == 'Apple') & (df_clean[\"device_category\"] == 'desktop'), 'device_os'] = 'Macintosh'"
   ]
  },
  {
   "cell_type": "code",
   "execution_count": 56,
   "id": "a366a967-67d1-4223-94a4-24d62e8d9201",
   "metadata": {},
   "outputs": [
    {
     "data": {
      "text/plain": [
       "0"
      ]
     },
     "execution_count": 56,
     "metadata": {},
     "output_type": "execute_result"
    }
   ],
   "source": [
    "#Проверяем, что больше нет объектов с пропущенными значениями device_os от производителя Apple\n",
    "len(df_clean[(df_clean['device_os'].isna()) & (df_clean['device_brand'] == 'Apple')])"
   ]
  },
  {
   "cell_type": "code",
   "execution_count": 57,
   "id": "71671ed6-6a6f-4c7a-a943-c5a0112abe7f",
   "metadata": {},
   "outputs": [
    {
     "name": "stdout",
     "output_type": "stream",
     "text": [
      "Процент пропущенных значений в device_os: 25.68\n",
      "Количество пропущенных значений в device_os: 477648\n"
     ]
    }
   ],
   "source": [
    "print_useful_rows_info_column(df_clean, 'device_os')"
   ]
  },
  {
   "cell_type": "code",
   "execution_count": 58,
   "id": "7a035cd6-9492-4601-aa79-b4b7a9a56d10",
   "metadata": {},
   "outputs": [
    {
     "data": {
      "text/html": [
       "<div>\n",
       "<style scoped>\n",
       "    .dataframe tbody tr th:only-of-type {\n",
       "        vertical-align: middle;\n",
       "    }\n",
       "\n",
       "    .dataframe tbody tr th {\n",
       "        vertical-align: top;\n",
       "    }\n",
       "\n",
       "    .dataframe thead th {\n",
       "        text-align: right;\n",
       "    }\n",
       "</style>\n",
       "<table border=\"1\" class=\"dataframe\">\n",
       "  <thead>\n",
       "    <tr style=\"text-align: right;\">\n",
       "      <th></th>\n",
       "      <th>session_id</th>\n",
       "      <th>client_id</th>\n",
       "      <th>visit_date</th>\n",
       "      <th>visit_time</th>\n",
       "      <th>visit_number</th>\n",
       "      <th>utm_source</th>\n",
       "      <th>utm_medium</th>\n",
       "      <th>utm_campaign</th>\n",
       "      <th>utm_adcontent</th>\n",
       "      <th>device_category</th>\n",
       "      <th>device_os</th>\n",
       "      <th>device_brand</th>\n",
       "      <th>device_screen_resolution</th>\n",
       "      <th>device_browser</th>\n",
       "      <th>geo_country</th>\n",
       "      <th>geo_city</th>\n",
       "      <th>target</th>\n",
       "    </tr>\n",
       "  </thead>\n",
       "  <tbody>\n",
       "    <tr>\n",
       "      <th>3</th>\n",
       "      <td>9055447046360770272.1622255328.1622255328</td>\n",
       "      <td>2108385564.1622255328</td>\n",
       "      <td>2021-05-29</td>\n",
       "      <td>05:00:00</td>\n",
       "      <td>1</td>\n",
       "      <td>kjsLglQLzykiRbcDiGcD</td>\n",
       "      <td>cpc</td>\n",
       "      <td>NaN</td>\n",
       "      <td>NOBKLgtuvqYWkXQHeYWM</td>\n",
       "      <td>mobile</td>\n",
       "      <td>NaN</td>\n",
       "      <td>Xiaomi</td>\n",
       "      <td>393x786</td>\n",
       "      <td>Chrome</td>\n",
       "      <td>Russia</td>\n",
       "      <td>Moscow</td>\n",
       "      <td>0.0</td>\n",
       "    </tr>\n",
       "    <tr>\n",
       "      <th>4</th>\n",
       "      <td>9055447046360770272.1622255345.1622255345</td>\n",
       "      <td>2108385564.1622255328</td>\n",
       "      <td>2021-05-29</td>\n",
       "      <td>05:00:00</td>\n",
       "      <td>2</td>\n",
       "      <td>kjsLglQLzykiRbcDiGcD</td>\n",
       "      <td>cpc</td>\n",
       "      <td>NaN</td>\n",
       "      <td>NaN</td>\n",
       "      <td>mobile</td>\n",
       "      <td>NaN</td>\n",
       "      <td>Xiaomi</td>\n",
       "      <td>393x786</td>\n",
       "      <td>Chrome</td>\n",
       "      <td>Russia</td>\n",
       "      <td>Moscow</td>\n",
       "      <td>0.0</td>\n",
       "    </tr>\n",
       "    <tr>\n",
       "      <th>7</th>\n",
       "      <td>9055461992850812764.1626107740.1626107740</td>\n",
       "      <td>2108389044.1626107740</td>\n",
       "      <td>2021-07-12</td>\n",
       "      <td>19:00:00</td>\n",
       "      <td>1</td>\n",
       "      <td>ZpYIoDJMcFzVoPFsHGJL</td>\n",
       "      <td>banner</td>\n",
       "      <td>LEoPHuyFvzoNfnzGgfcd</td>\n",
       "      <td>JNHcPlZPxEMWDnRiyoBf</td>\n",
       "      <td>mobile</td>\n",
       "      <td>NaN</td>\n",
       "      <td>Samsung</td>\n",
       "      <td>360x640</td>\n",
       "      <td>Chrome</td>\n",
       "      <td>Russia</td>\n",
       "      <td>Saint Petersburg</td>\n",
       "      <td>0.0</td>\n",
       "    </tr>\n",
       "    <tr>\n",
       "      <th>9</th>\n",
       "      <td>9055466554104774132.1624800757.1624800757</td>\n",
       "      <td>2108390106.1624800756</td>\n",
       "      <td>2021-06-27</td>\n",
       "      <td>16:00:00</td>\n",
       "      <td>1</td>\n",
       "      <td>ZpYIoDJMcFzVoPFsHGJL</td>\n",
       "      <td>banner</td>\n",
       "      <td>LEoPHuyFvzoNfnzGgfcd</td>\n",
       "      <td>JNHcPlZPxEMWDnRiyoBf</td>\n",
       "      <td>mobile</td>\n",
       "      <td>NaN</td>\n",
       "      <td>Samsung</td>\n",
       "      <td>412x915</td>\n",
       "      <td>Chrome</td>\n",
       "      <td>Russia</td>\n",
       "      <td>Moscow</td>\n",
       "      <td>0.0</td>\n",
       "    </tr>\n",
       "    <tr>\n",
       "      <th>10</th>\n",
       "      <td>9055466554104774132.1629442326.1629442326</td>\n",
       "      <td>2108390106.1624800756</td>\n",
       "      <td>2021-08-20</td>\n",
       "      <td>09:00:00</td>\n",
       "      <td>2</td>\n",
       "      <td>ZpYIoDJMcFzVoPFsHGJL</td>\n",
       "      <td>banner</td>\n",
       "      <td>LEoPHuyFvzoNfnzGgfcd</td>\n",
       "      <td>JNHcPlZPxEMWDnRiyoBf</td>\n",
       "      <td>mobile</td>\n",
       "      <td>NaN</td>\n",
       "      <td>Samsung</td>\n",
       "      <td>412x915</td>\n",
       "      <td>Chrome</td>\n",
       "      <td>Russia</td>\n",
       "      <td>Moscow</td>\n",
       "      <td>0.0</td>\n",
       "    </tr>\n",
       "    <tr>\n",
       "      <th>...</th>\n",
       "      <td>...</td>\n",
       "      <td>...</td>\n",
       "      <td>...</td>\n",
       "      <td>...</td>\n",
       "      <td>...</td>\n",
       "      <td>...</td>\n",
       "      <td>...</td>\n",
       "      <td>...</td>\n",
       "      <td>...</td>\n",
       "      <td>...</td>\n",
       "      <td>...</td>\n",
       "      <td>...</td>\n",
       "      <td>...</td>\n",
       "      <td>...</td>\n",
       "      <td>...</td>\n",
       "      <td>...</td>\n",
       "      <td>...</td>\n",
       "    </tr>\n",
       "    <tr>\n",
       "      <th>1860024</th>\n",
       "      <td>9055349030922605117.1632752193.1632752193</td>\n",
       "      <td>2108362743.1632752189</td>\n",
       "      <td>2021-09-27</td>\n",
       "      <td>17:00:00</td>\n",
       "      <td>1</td>\n",
       "      <td>MvfHsxITijuriZxsqZqt</td>\n",
       "      <td>cpm</td>\n",
       "      <td>FTjNLDyTrXaWYgZymFkV</td>\n",
       "      <td>PkybGvWbaqORmxjNunqZ</td>\n",
       "      <td>mobile</td>\n",
       "      <td>NaN</td>\n",
       "      <td>BQ</td>\n",
       "      <td>640x360</td>\n",
       "      <td>YaBrowser</td>\n",
       "      <td>Russia</td>\n",
       "      <td>Saint Petersburg</td>\n",
       "      <td>0.0</td>\n",
       "    </tr>\n",
       "    <tr>\n",
       "      <th>1860028</th>\n",
       "      <td>9055373598132450813.1629664766.1629664766</td>\n",
       "      <td>2108368463.1629664765</td>\n",
       "      <td>2021-08-22</td>\n",
       "      <td>23:00:00</td>\n",
       "      <td>1</td>\n",
       "      <td>MvfHsxITijuriZxsqZqt</td>\n",
       "      <td>cpm</td>\n",
       "      <td>FTjNLDyTrXaWYgZymFkV</td>\n",
       "      <td>PkybGvWbaqORmxjNunqZ</td>\n",
       "      <td>mobile</td>\n",
       "      <td>NaN</td>\n",
       "      <td>Xiaomi</td>\n",
       "      <td>851x393</td>\n",
       "      <td>Chrome</td>\n",
       "      <td>Russia</td>\n",
       "      <td>Saint Petersburg</td>\n",
       "      <td>0.0</td>\n",
       "    </tr>\n",
       "    <tr>\n",
       "      <th>1860030</th>\n",
       "      <td>9055382948278467242.1631877802.1631877802</td>\n",
       "      <td>2108370640.1631877802</td>\n",
       "      <td>2021-09-17</td>\n",
       "      <td>14:00:00</td>\n",
       "      <td>1</td>\n",
       "      <td>MvfHsxITijuriZxsqZqt</td>\n",
       "      <td>cpm</td>\n",
       "      <td>FTjNLDyTrXaWYgZymFkV</td>\n",
       "      <td>PkybGvWbaqORmxjNunqZ</td>\n",
       "      <td>mobile</td>\n",
       "      <td>NaN</td>\n",
       "      <td>Xiaomi</td>\n",
       "      <td>393x851</td>\n",
       "      <td>Chrome</td>\n",
       "      <td>Russia</td>\n",
       "      <td>Saint Petersburg</td>\n",
       "      <td>0.0</td>\n",
       "    </tr>\n",
       "    <tr>\n",
       "      <th>1860032</th>\n",
       "      <td>9055394269810294140.1629912447.1629912447</td>\n",
       "      <td>2108373276.1629912444</td>\n",
       "      <td>2021-08-25</td>\n",
       "      <td>20:00:00</td>\n",
       "      <td>1</td>\n",
       "      <td>bByPQxmDaMXgpHeypKSM</td>\n",
       "      <td>referral</td>\n",
       "      <td>LTuZkdKfxRGVceoWkVyg</td>\n",
       "      <td>JNHcPlZPxEMWDnRiyoBf</td>\n",
       "      <td>mobile</td>\n",
       "      <td>NaN</td>\n",
       "      <td>Samsung</td>\n",
       "      <td>360x800</td>\n",
       "      <td>Android Webview</td>\n",
       "      <td>Russia</td>\n",
       "      <td>Saint Petersburg</td>\n",
       "      <td>1.0</td>\n",
       "    </tr>\n",
       "    <tr>\n",
       "      <th>1860035</th>\n",
       "      <td>9055398929844789828.1624891784.1624891784</td>\n",
       "      <td>2108374361.1624891972</td>\n",
       "      <td>2021-06-28</td>\n",
       "      <td>17:00:00</td>\n",
       "      <td>1</td>\n",
       "      <td>kjsLglQLzykiRbcDiGcD</td>\n",
       "      <td>cpc</td>\n",
       "      <td>vXsFkagGabkcWKlgLzSg</td>\n",
       "      <td>NaN</td>\n",
       "      <td>mobile</td>\n",
       "      <td>NaN</td>\n",
       "      <td>Samsung</td>\n",
       "      <td>320x676</td>\n",
       "      <td>Chrome</td>\n",
       "      <td>Russia</td>\n",
       "      <td>Naro-Fominsk</td>\n",
       "      <td>0.0</td>\n",
       "    </tr>\n",
       "  </tbody>\n",
       "</table>\n",
       "<p>477648 rows × 17 columns</p>\n",
       "</div>"
      ],
      "text/plain": [
       "                                        session_id              client_id  \\\n",
       "3        9055447046360770272.1622255328.1622255328  2108385564.1622255328   \n",
       "4        9055447046360770272.1622255345.1622255345  2108385564.1622255328   \n",
       "7        9055461992850812764.1626107740.1626107740  2108389044.1626107740   \n",
       "9        9055466554104774132.1624800757.1624800757  2108390106.1624800756   \n",
       "10       9055466554104774132.1629442326.1629442326  2108390106.1624800756   \n",
       "...                                            ...                    ...   \n",
       "1860024  9055349030922605117.1632752193.1632752193  2108362743.1632752189   \n",
       "1860028  9055373598132450813.1629664766.1629664766  2108368463.1629664765   \n",
       "1860030  9055382948278467242.1631877802.1631877802  2108370640.1631877802   \n",
       "1860032  9055394269810294140.1629912447.1629912447  2108373276.1629912444   \n",
       "1860035  9055398929844789828.1624891784.1624891784  2108374361.1624891972   \n",
       "\n",
       "         visit_date visit_time  visit_number            utm_source utm_medium  \\\n",
       "3        2021-05-29   05:00:00             1  kjsLglQLzykiRbcDiGcD        cpc   \n",
       "4        2021-05-29   05:00:00             2  kjsLglQLzykiRbcDiGcD        cpc   \n",
       "7        2021-07-12   19:00:00             1  ZpYIoDJMcFzVoPFsHGJL     banner   \n",
       "9        2021-06-27   16:00:00             1  ZpYIoDJMcFzVoPFsHGJL     banner   \n",
       "10       2021-08-20   09:00:00             2  ZpYIoDJMcFzVoPFsHGJL     banner   \n",
       "...             ...        ...           ...                   ...        ...   \n",
       "1860024  2021-09-27   17:00:00             1  MvfHsxITijuriZxsqZqt        cpm   \n",
       "1860028  2021-08-22   23:00:00             1  MvfHsxITijuriZxsqZqt        cpm   \n",
       "1860030  2021-09-17   14:00:00             1  MvfHsxITijuriZxsqZqt        cpm   \n",
       "1860032  2021-08-25   20:00:00             1  bByPQxmDaMXgpHeypKSM   referral   \n",
       "1860035  2021-06-28   17:00:00             1  kjsLglQLzykiRbcDiGcD        cpc   \n",
       "\n",
       "                 utm_campaign         utm_adcontent device_category device_os  \\\n",
       "3                         NaN  NOBKLgtuvqYWkXQHeYWM          mobile       NaN   \n",
       "4                         NaN                   NaN          mobile       NaN   \n",
       "7        LEoPHuyFvzoNfnzGgfcd  JNHcPlZPxEMWDnRiyoBf          mobile       NaN   \n",
       "9        LEoPHuyFvzoNfnzGgfcd  JNHcPlZPxEMWDnRiyoBf          mobile       NaN   \n",
       "10       LEoPHuyFvzoNfnzGgfcd  JNHcPlZPxEMWDnRiyoBf          mobile       NaN   \n",
       "...                       ...                   ...             ...       ...   \n",
       "1860024  FTjNLDyTrXaWYgZymFkV  PkybGvWbaqORmxjNunqZ          mobile       NaN   \n",
       "1860028  FTjNLDyTrXaWYgZymFkV  PkybGvWbaqORmxjNunqZ          mobile       NaN   \n",
       "1860030  FTjNLDyTrXaWYgZymFkV  PkybGvWbaqORmxjNunqZ          mobile       NaN   \n",
       "1860032  LTuZkdKfxRGVceoWkVyg  JNHcPlZPxEMWDnRiyoBf          mobile       NaN   \n",
       "1860035  vXsFkagGabkcWKlgLzSg                   NaN          mobile       NaN   \n",
       "\n",
       "        device_brand device_screen_resolution   device_browser geo_country  \\\n",
       "3             Xiaomi                  393x786           Chrome      Russia   \n",
       "4             Xiaomi                  393x786           Chrome      Russia   \n",
       "7            Samsung                  360x640           Chrome      Russia   \n",
       "9            Samsung                  412x915           Chrome      Russia   \n",
       "10           Samsung                  412x915           Chrome      Russia   \n",
       "...              ...                      ...              ...         ...   \n",
       "1860024           BQ                  640x360        YaBrowser      Russia   \n",
       "1860028       Xiaomi                  851x393           Chrome      Russia   \n",
       "1860030       Xiaomi                  393x851           Chrome      Russia   \n",
       "1860032      Samsung                  360x800  Android Webview      Russia   \n",
       "1860035      Samsung                  320x676           Chrome      Russia   \n",
       "\n",
       "                 geo_city  target  \n",
       "3                  Moscow     0.0  \n",
       "4                  Moscow     0.0  \n",
       "7        Saint Petersburg     0.0  \n",
       "9                  Moscow     0.0  \n",
       "10                 Moscow     0.0  \n",
       "...                   ...     ...  \n",
       "1860024  Saint Petersburg     0.0  \n",
       "1860028  Saint Petersburg     0.0  \n",
       "1860030  Saint Petersburg     0.0  \n",
       "1860032  Saint Petersburg     1.0  \n",
       "1860035      Naro-Fominsk     0.0  \n",
       "\n",
       "[477648 rows x 17 columns]"
      ]
     },
     "execution_count": 58,
     "metadata": {},
     "output_type": "execute_result"
    }
   ],
   "source": [
    "df_clean[df_clean['device_os'].isna()]"
   ]
  },
  {
   "cell_type": "code",
   "execution_count": 59,
   "id": "bbbd1827-efa2-4656-a240-8ec0082f4902",
   "metadata": {},
   "outputs": [
    {
     "data": {
      "text/plain": [
       "device_brand\n",
       "Samsung      166510\n",
       "Xiaomi       147224\n",
       "Huawei        96135\n",
       "Realme         8195\n",
       "(not set)      7767\n",
       "              ...  \n",
       "Jiake             1\n",
       "Olla              1\n",
       "Krip              1\n",
       "KingSing          1\n",
       "Maxvi             1\n",
       "Name: count, Length: 179, dtype: int64"
      ]
     },
     "execution_count": 59,
     "metadata": {},
     "output_type": "execute_result"
    }
   ],
   "source": [
    "df_clean[df_clean['device_os'].isna()].device_brand.value_counts()"
   ]
  },
  {
   "cell_type": "markdown",
   "id": "57f0c8e7-3181-4388-9c06-fa43cca6eb13",
   "metadata": {},
   "source": [
    "Также известно, что компания Самсунг выпускает практически все свои мобильные телефоны и планшеты под ОС Andriod, а стационарные компьютеры под ОС Windows. Заполним такие пробелы."
   ]
  },
  {
   "cell_type": "code",
   "execution_count": 60,
   "id": "57158cda-502f-4da6-99be-51df74c2b8ed",
   "metadata": {},
   "outputs": [],
   "source": [
    "df_clean.loc[(df_clean[\"device_os\"].isna()) & (df_clean[\"device_brand\"] == 'Samsung') & (df_clean[\"device_category\"] != 'desktop'), 'device_os'] = 'Android'\n",
    "df_clean.loc[(df_clean[\"device_os\"].isna()) & (df_clean[\"device_brand\"] == 'Samsung') & (df_clean[\"device_category\"] == 'desktop'), 'device_os'] = 'Windows'"
   ]
  },
  {
   "cell_type": "code",
   "execution_count": 61,
   "id": "5ec91947-368a-40e6-a3af-41e01e488471",
   "metadata": {},
   "outputs": [
    {
     "data": {
      "text/plain": [
       "device_brand\n",
       "Xiaomi       147224\n",
       "Huawei        96135\n",
       "Realme         8195\n",
       "(not set)      7767\n",
       "OPPO           6493\n",
       "              ...  \n",
       "Jiake             1\n",
       "Olla              1\n",
       "Krip              1\n",
       "KingSing          1\n",
       "Maxvi             1\n",
       "Name: count, Length: 178, dtype: int64"
      ]
     },
     "execution_count": 61,
     "metadata": {},
     "output_type": "execute_result"
    }
   ],
   "source": [
    "df_clean[df_clean['device_os'].isna()].device_brand.value_counts()"
   ]
  },
  {
   "cell_type": "code",
   "execution_count": 62,
   "id": "417a268b-d4ed-4e99-9e14-cf10dd496fcb",
   "metadata": {},
   "outputs": [
    {
     "data": {
      "text/plain": [
       "device_os\n",
       "Android          630559\n",
       "iOS              551055\n",
       "other            248500\n",
       "Windows           88312\n",
       "Macintosh         24863\n",
       "Linux              5120\n",
       "(not set)           364\n",
       "Chrome OS            83\n",
       "BlackBerry           27\n",
       "Tizen                 7\n",
       "Samsung               4\n",
       "Windows Phone         4\n",
       "Firefox OS            3\n",
       "Nokia                 3\n",
       "Name: count, dtype: int64"
      ]
     },
     "execution_count": 62,
     "metadata": {},
     "output_type": "execute_result"
    }
   ],
   "source": [
    "df_clean['device_os'].value_counts()"
   ]
  },
  {
   "cell_type": "markdown",
   "id": "a790a7db-2ac3-4825-aef4-53f9304ffe40",
   "metadata": {},
   "source": [
    "Компании Xiaomi, Huawei, Realme, OPPO выпускают свои устройства под ОС Android. В целом считаю уместным все оставшиеся пропуски в столбце device_os заполнить значением Andriod."
   ]
  },
  {
   "cell_type": "code",
   "execution_count": 63,
   "id": "46a10b79-5b8c-4c81-8f72-3a04021fd0d1",
   "metadata": {},
   "outputs": [],
   "source": [
    "df_clean.device_os = df_clean.device_os.fillna('Android')"
   ]
  },
  {
   "cell_type": "code",
   "execution_count": 64,
   "id": "7a41e84f-5996-4b72-b322-1a2bcaec6083",
   "metadata": {},
   "outputs": [
    {
     "name": "stdout",
     "output_type": "stream",
     "text": [
      "Процент пропущенных значений в device_brand: 0.0\n",
      "Количество пропущенных значений в device_brand: 0\n"
     ]
    }
   ],
   "source": [
    "print_useful_rows_info_column(df_clean, 'device_brand')"
   ]
  },
  {
   "cell_type": "code",
   "execution_count": 65,
   "id": "5c532ac2-a573-4c8b-9f39-1ac4c7055ff2",
   "metadata": {},
   "outputs": [
    {
     "name": "stdout",
     "output_type": "stream",
     "text": [
      "Количество полностью заполненных объектов в выборке:  1507241\n",
      "Процент полностью заполненных объектов в выборке:  81.03\n",
      "Процент пропусков по столбцам: \n",
      "utm_adcontent               18.043410\n",
      "utm_campaign                11.806346\n",
      "utm_source                   0.005215\n",
      "device_os                    0.000000\n",
      "geo_city                     0.000000\n",
      "geo_country                  0.000000\n",
      "device_browser               0.000000\n",
      "device_screen_resolution     0.000000\n",
      "device_brand                 0.000000\n",
      "session_id                   0.000000\n",
      "device_category              0.000000\n",
      "client_id                    0.000000\n",
      "utm_medium                   0.000000\n",
      "visit_number                 0.000000\n",
      "visit_time                   0.000000\n",
      "visit_date                   0.000000\n",
      "target                       0.000000\n",
      "dtype: float64\n"
     ]
    }
   ],
   "source": [
    "print_usefull_rows_info_full(df_clean)"
   ]
  },
  {
   "cell_type": "markdown",
   "id": "ef59545f-1b07-43e5-9b22-1c8643b889cb",
   "metadata": {},
   "source": [
    "#### Обработка пропусков в столбце utm_adcontent"
   ]
  },
  {
   "cell_type": "code",
   "execution_count": 66,
   "id": "9de39c29-069c-4ac4-81a6-d34a448f72a2",
   "metadata": {},
   "outputs": [
    {
     "data": {
      "text/html": [
       "<div>\n",
       "<style scoped>\n",
       "    .dataframe tbody tr th:only-of-type {\n",
       "        vertical-align: middle;\n",
       "    }\n",
       "\n",
       "    .dataframe tbody tr th {\n",
       "        vertical-align: top;\n",
       "    }\n",
       "\n",
       "    .dataframe thead th {\n",
       "        text-align: right;\n",
       "    }\n",
       "</style>\n",
       "<table border=\"1\" class=\"dataframe\">\n",
       "  <thead>\n",
       "    <tr style=\"text-align: right;\">\n",
       "      <th></th>\n",
       "      <th>session_id</th>\n",
       "      <th>client_id</th>\n",
       "      <th>visit_date</th>\n",
       "      <th>visit_time</th>\n",
       "      <th>visit_number</th>\n",
       "      <th>utm_source</th>\n",
       "      <th>utm_medium</th>\n",
       "      <th>utm_campaign</th>\n",
       "      <th>utm_adcontent</th>\n",
       "      <th>device_category</th>\n",
       "      <th>device_os</th>\n",
       "      <th>device_brand</th>\n",
       "      <th>device_screen_resolution</th>\n",
       "      <th>device_browser</th>\n",
       "      <th>geo_country</th>\n",
       "      <th>geo_city</th>\n",
       "      <th>target</th>\n",
       "    </tr>\n",
       "  </thead>\n",
       "  <tbody>\n",
       "    <tr>\n",
       "      <th>4</th>\n",
       "      <td>9055447046360770272.1622255345.1622255345</td>\n",
       "      <td>2108385564.1622255328</td>\n",
       "      <td>2021-05-29</td>\n",
       "      <td>05:00:00</td>\n",
       "      <td>2</td>\n",
       "      <td>kjsLglQLzykiRbcDiGcD</td>\n",
       "      <td>cpc</td>\n",
       "      <td>NaN</td>\n",
       "      <td>NaN</td>\n",
       "      <td>mobile</td>\n",
       "      <td>Android</td>\n",
       "      <td>Xiaomi</td>\n",
       "      <td>393x786</td>\n",
       "      <td>Chrome</td>\n",
       "      <td>Russia</td>\n",
       "      <td>Moscow</td>\n",
       "      <td>0.0</td>\n",
       "    </tr>\n",
       "    <tr>\n",
       "      <th>14</th>\n",
       "      <td>9055469620715506713.1636559415.1636559415</td>\n",
       "      <td>2108390820.1628883993</td>\n",
       "      <td>2021-11-10</td>\n",
       "      <td>18:50:15</td>\n",
       "      <td>4</td>\n",
       "      <td>SzZERoLMmrEUEhDaYcyN</td>\n",
       "      <td>cpc</td>\n",
       "      <td>NaN</td>\n",
       "      <td>NaN</td>\n",
       "      <td>mobile</td>\n",
       "      <td>Android</td>\n",
       "      <td>Samsung</td>\n",
       "      <td>412x869</td>\n",
       "      <td>Android Webview</td>\n",
       "      <td>Russia</td>\n",
       "      <td>Saint Petersburg</td>\n",
       "      <td>0.0</td>\n",
       "    </tr>\n",
       "    <tr>\n",
       "      <th>27</th>\n",
       "      <td>9055504865227535872.1639282176.1639282176</td>\n",
       "      <td>2108399026.1639282176</td>\n",
       "      <td>2021-12-12</td>\n",
       "      <td>07:09:36</td>\n",
       "      <td>1</td>\n",
       "      <td>BHcvLfOaCWvWTykYqHVe</td>\n",
       "      <td>cpc</td>\n",
       "      <td>NaN</td>\n",
       "      <td>NaN</td>\n",
       "      <td>mobile</td>\n",
       "      <td>Android</td>\n",
       "      <td>Samsung</td>\n",
       "      <td>385x854</td>\n",
       "      <td>Chrome</td>\n",
       "      <td>Russia</td>\n",
       "      <td>Moscow</td>\n",
       "      <td>0.0</td>\n",
       "    </tr>\n",
       "    <tr>\n",
       "      <th>37</th>\n",
       "      <td>905553874150070422.1639028885.1639028885</td>\n",
       "      <td>210840691.1639028886</td>\n",
       "      <td>2021-12-09</td>\n",
       "      <td>08:48:05</td>\n",
       "      <td>1</td>\n",
       "      <td>kjsLglQLzykiRbcDiGcD</td>\n",
       "      <td>cpc</td>\n",
       "      <td>LwJZxKuWmvOhPsaCeRjG</td>\n",
       "      <td>NaN</td>\n",
       "      <td>mobile</td>\n",
       "      <td>iOS</td>\n",
       "      <td>Apple</td>\n",
       "      <td>375x812</td>\n",
       "      <td>Safari</td>\n",
       "      <td>Russia</td>\n",
       "      <td>Moscow</td>\n",
       "      <td>0.0</td>\n",
       "    </tr>\n",
       "    <tr>\n",
       "      <th>38</th>\n",
       "      <td>905553874150070422.1639028922.1639028922</td>\n",
       "      <td>210840691.1639028886</td>\n",
       "      <td>2021-12-09</td>\n",
       "      <td>08:48:42</td>\n",
       "      <td>2</td>\n",
       "      <td>kjsLglQLzykiRbcDiGcD</td>\n",
       "      <td>cpc</td>\n",
       "      <td>NaN</td>\n",
       "      <td>NaN</td>\n",
       "      <td>mobile</td>\n",
       "      <td>iOS</td>\n",
       "      <td>Apple</td>\n",
       "      <td>375x812</td>\n",
       "      <td>Safari</td>\n",
       "      <td>Russia</td>\n",
       "      <td>Moscow</td>\n",
       "      <td>0.0</td>\n",
       "    </tr>\n",
       "    <tr>\n",
       "      <th>...</th>\n",
       "      <td>...</td>\n",
       "      <td>...</td>\n",
       "      <td>...</td>\n",
       "      <td>...</td>\n",
       "      <td>...</td>\n",
       "      <td>...</td>\n",
       "      <td>...</td>\n",
       "      <td>...</td>\n",
       "      <td>...</td>\n",
       "      <td>...</td>\n",
       "      <td>...</td>\n",
       "      <td>...</td>\n",
       "      <td>...</td>\n",
       "      <td>...</td>\n",
       "      <td>...</td>\n",
       "      <td>...</td>\n",
       "      <td>...</td>\n",
       "    </tr>\n",
       "    <tr>\n",
       "      <th>1860018</th>\n",
       "      <td>9055329372850890545.1626351420.1626351420</td>\n",
       "      <td>2108358166.1626351409</td>\n",
       "      <td>2021-07-15</td>\n",
       "      <td>15:00:00</td>\n",
       "      <td>1</td>\n",
       "      <td>BHcvLfOaCWvWTykYqHVe</td>\n",
       "      <td>cpc</td>\n",
       "      <td>NaN</td>\n",
       "      <td>NaN</td>\n",
       "      <td>desktop</td>\n",
       "      <td>other</td>\n",
       "      <td>other</td>\n",
       "      <td>1920x1080</td>\n",
       "      <td>YaBrowser</td>\n",
       "      <td>Russia</td>\n",
       "      <td>Moscow</td>\n",
       "      <td>0.0</td>\n",
       "    </tr>\n",
       "    <tr>\n",
       "      <th>1860020</th>\n",
       "      <td>9055329372850890545.1629287172.1629287172</td>\n",
       "      <td>2108358166.1626351409</td>\n",
       "      <td>2021-08-18</td>\n",
       "      <td>14:00:00</td>\n",
       "      <td>3</td>\n",
       "      <td>BHcvLfOaCWvWTykYqHVe</td>\n",
       "      <td>cpc</td>\n",
       "      <td>NaN</td>\n",
       "      <td>NaN</td>\n",
       "      <td>desktop</td>\n",
       "      <td>other</td>\n",
       "      <td>other</td>\n",
       "      <td>1920x1080</td>\n",
       "      <td>YaBrowser</td>\n",
       "      <td>Russia</td>\n",
       "      <td>Moscow</td>\n",
       "      <td>0.0</td>\n",
       "    </tr>\n",
       "    <tr>\n",
       "      <th>1860031</th>\n",
       "      <td>9055387664158410361.1637729914.1637729914</td>\n",
       "      <td>2108371738.1637729913</td>\n",
       "      <td>2021-11-24</td>\n",
       "      <td>07:58:34</td>\n",
       "      <td>1</td>\n",
       "      <td>kjsLglQLzykiRbcDiGcD</td>\n",
       "      <td>cpc</td>\n",
       "      <td>RoDitORHdzGfGhNCyEMy</td>\n",
       "      <td>NaN</td>\n",
       "      <td>mobile</td>\n",
       "      <td>iOS</td>\n",
       "      <td>Apple</td>\n",
       "      <td>428x926</td>\n",
       "      <td>Safari</td>\n",
       "      <td>Russia</td>\n",
       "      <td>Moscow</td>\n",
       "      <td>0.0</td>\n",
       "    </tr>\n",
       "    <tr>\n",
       "      <th>1860035</th>\n",
       "      <td>9055398929844789828.1624891784.1624891784</td>\n",
       "      <td>2108374361.1624891972</td>\n",
       "      <td>2021-06-28</td>\n",
       "      <td>17:00:00</td>\n",
       "      <td>1</td>\n",
       "      <td>kjsLglQLzykiRbcDiGcD</td>\n",
       "      <td>cpc</td>\n",
       "      <td>vXsFkagGabkcWKlgLzSg</td>\n",
       "      <td>NaN</td>\n",
       "      <td>mobile</td>\n",
       "      <td>Android</td>\n",
       "      <td>Samsung</td>\n",
       "      <td>320x676</td>\n",
       "      <td>Chrome</td>\n",
       "      <td>Russia</td>\n",
       "      <td>Naro-Fominsk</td>\n",
       "      <td>0.0</td>\n",
       "    </tr>\n",
       "    <tr>\n",
       "      <th>1860037</th>\n",
       "      <td>9055415581448263752.1640159305.1640159305</td>\n",
       "      <td>2108378238.1640159304</td>\n",
       "      <td>2021-12-22</td>\n",
       "      <td>10:48:25</td>\n",
       "      <td>1</td>\n",
       "      <td>BHcvLfOaCWvWTykYqHVe</td>\n",
       "      <td>cpc</td>\n",
       "      <td>NaN</td>\n",
       "      <td>NaN</td>\n",
       "      <td>desktop</td>\n",
       "      <td>Windows</td>\n",
       "      <td>other</td>\n",
       "      <td>1920x1080</td>\n",
       "      <td>Chrome</td>\n",
       "      <td>Russia</td>\n",
       "      <td>Moscow</td>\n",
       "      <td>0.0</td>\n",
       "    </tr>\n",
       "  </tbody>\n",
       "</table>\n",
       "<p>335615 rows × 17 columns</p>\n",
       "</div>"
      ],
      "text/plain": [
       "                                        session_id              client_id  \\\n",
       "4        9055447046360770272.1622255345.1622255345  2108385564.1622255328   \n",
       "14       9055469620715506713.1636559415.1636559415  2108390820.1628883993   \n",
       "27       9055504865227535872.1639282176.1639282176  2108399026.1639282176   \n",
       "37        905553874150070422.1639028885.1639028885   210840691.1639028886   \n",
       "38        905553874150070422.1639028922.1639028922   210840691.1639028886   \n",
       "...                                            ...                    ...   \n",
       "1860018  9055329372850890545.1626351420.1626351420  2108358166.1626351409   \n",
       "1860020  9055329372850890545.1629287172.1629287172  2108358166.1626351409   \n",
       "1860031  9055387664158410361.1637729914.1637729914  2108371738.1637729913   \n",
       "1860035  9055398929844789828.1624891784.1624891784  2108374361.1624891972   \n",
       "1860037  9055415581448263752.1640159305.1640159305  2108378238.1640159304   \n",
       "\n",
       "         visit_date visit_time  visit_number            utm_source utm_medium  \\\n",
       "4        2021-05-29   05:00:00             2  kjsLglQLzykiRbcDiGcD        cpc   \n",
       "14       2021-11-10   18:50:15             4  SzZERoLMmrEUEhDaYcyN        cpc   \n",
       "27       2021-12-12   07:09:36             1  BHcvLfOaCWvWTykYqHVe        cpc   \n",
       "37       2021-12-09   08:48:05             1  kjsLglQLzykiRbcDiGcD        cpc   \n",
       "38       2021-12-09   08:48:42             2  kjsLglQLzykiRbcDiGcD        cpc   \n",
       "...             ...        ...           ...                   ...        ...   \n",
       "1860018  2021-07-15   15:00:00             1  BHcvLfOaCWvWTykYqHVe        cpc   \n",
       "1860020  2021-08-18   14:00:00             3  BHcvLfOaCWvWTykYqHVe        cpc   \n",
       "1860031  2021-11-24   07:58:34             1  kjsLglQLzykiRbcDiGcD        cpc   \n",
       "1860035  2021-06-28   17:00:00             1  kjsLglQLzykiRbcDiGcD        cpc   \n",
       "1860037  2021-12-22   10:48:25             1  BHcvLfOaCWvWTykYqHVe        cpc   \n",
       "\n",
       "                 utm_campaign utm_adcontent device_category device_os  \\\n",
       "4                         NaN           NaN          mobile   Android   \n",
       "14                        NaN           NaN          mobile   Android   \n",
       "27                        NaN           NaN          mobile   Android   \n",
       "37       LwJZxKuWmvOhPsaCeRjG           NaN          mobile       iOS   \n",
       "38                        NaN           NaN          mobile       iOS   \n",
       "...                       ...           ...             ...       ...   \n",
       "1860018                   NaN           NaN         desktop     other   \n",
       "1860020                   NaN           NaN         desktop     other   \n",
       "1860031  RoDitORHdzGfGhNCyEMy           NaN          mobile       iOS   \n",
       "1860035  vXsFkagGabkcWKlgLzSg           NaN          mobile   Android   \n",
       "1860037                   NaN           NaN         desktop   Windows   \n",
       "\n",
       "        device_brand device_screen_resolution   device_browser geo_country  \\\n",
       "4             Xiaomi                  393x786           Chrome      Russia   \n",
       "14           Samsung                  412x869  Android Webview      Russia   \n",
       "27           Samsung                  385x854           Chrome      Russia   \n",
       "37             Apple                  375x812           Safari      Russia   \n",
       "38             Apple                  375x812           Safari      Russia   \n",
       "...              ...                      ...              ...         ...   \n",
       "1860018        other                1920x1080        YaBrowser      Russia   \n",
       "1860020        other                1920x1080        YaBrowser      Russia   \n",
       "1860031        Apple                  428x926           Safari      Russia   \n",
       "1860035      Samsung                  320x676           Chrome      Russia   \n",
       "1860037        other                1920x1080           Chrome      Russia   \n",
       "\n",
       "                 geo_city  target  \n",
       "4                  Moscow     0.0  \n",
       "14       Saint Petersburg     0.0  \n",
       "27                 Moscow     0.0  \n",
       "37                 Moscow     0.0  \n",
       "38                 Moscow     0.0  \n",
       "...                   ...     ...  \n",
       "1860018            Moscow     0.0  \n",
       "1860020            Moscow     0.0  \n",
       "1860031            Moscow     0.0  \n",
       "1860035      Naro-Fominsk     0.0  \n",
       "1860037            Moscow     0.0  \n",
       "\n",
       "[335615 rows x 17 columns]"
      ]
     },
     "execution_count": 66,
     "metadata": {},
     "output_type": "execute_result"
    }
   ],
   "source": [
    "df_clean[df_clean['utm_adcontent'].isna()]"
   ]
  },
  {
   "cell_type": "code",
   "execution_count": 67,
   "id": "a9ef8904-a15a-486e-9ab3-0301b2a7bfe3",
   "metadata": {},
   "outputs": [
    {
     "data": {
      "text/plain": [
       "utm_adcontent\n",
       "JNHcPlZPxEMWDnRiyoBf    1006599\n",
       "NaN                      335615\n",
       "vCIpmpaGBnIQhyYNkXqp     181048\n",
       "xhoenQgDQsgfEPYNPwKO     113072\n",
       "PkybGvWbaqORmxjNunqZ      60316\n",
       "                         ...   \n",
       "vXARZToVDdvNhALiQtvl          1\n",
       "ryswqHdLvbezpDLjokYF          1\n",
       "gQEnaeQmOHisHSTEyzhp          1\n",
       "PlanrlymnpCeYvUrUTVJ          1\n",
       "oJivRDNIrrOckRBIKOtG          1\n",
       "Name: count, Length: 287, dtype: int64"
      ]
     },
     "execution_count": 67,
     "metadata": {},
     "output_type": "execute_result"
    }
   ],
   "source": [
    "df_clean['utm_adcontent'].value_counts(dropna=False)"
   ]
  },
  {
   "cell_type": "code",
   "execution_count": 68,
   "id": "01c1eecb-856c-4468-8b24-8705abd04e07",
   "metadata": {},
   "outputs": [
    {
     "data": {
      "text/plain": [
       "66.03"
      ]
     },
     "execution_count": 68,
     "metadata": {},
     "output_type": "execute_result"
    }
   ],
   "source": [
    "round(len(df_clean[df_clean['utm_adcontent'] == 'JNHcPlZPxEMWDnRiyoBf']) / len(df_clean[df_clean['utm_adcontent'].notnull()]) * 100, 2)"
   ]
  },
  {
   "cell_type": "markdown",
   "id": "ebc077d6-1682-4bc3-b15c-ed004e247083",
   "metadata": {},
   "source": [
    "Так как 66% заполненных объектов в столбце utm_adcontent имеют значение JNHcPlZPxEMWDnRiyoBf, считаю правильным всем пропускам присвоить это же значение."
   ]
  },
  {
   "cell_type": "code",
   "execution_count": 69,
   "id": "aff24cc3-2f0e-4a1f-a03a-e250a47d0a45",
   "metadata": {},
   "outputs": [
    {
     "data": {
      "text/plain": [
       "'JNHcPlZPxEMWDnRiyoBf'"
      ]
     },
     "execution_count": 69,
     "metadata": {},
     "output_type": "execute_result"
    }
   ],
   "source": [
    "df_clean.utm_adcontent.mode()[0]"
   ]
  },
  {
   "cell_type": "code",
   "execution_count": 70,
   "id": "5c009481-a919-42a8-b197-4c7b308a8b60",
   "metadata": {},
   "outputs": [],
   "source": [
    "df_clean.utm_adcontent = df_clean.utm_adcontent.fillna(df_clean.utm_adcontent.mode()[0])"
   ]
  },
  {
   "cell_type": "code",
   "execution_count": 71,
   "id": "209bb4b3-d5bc-4303-bcc9-eed810dfa1be",
   "metadata": {},
   "outputs": [
    {
     "name": "stdout",
     "output_type": "stream",
     "text": [
      "Процент пропущенных значений в utm_adcontent: 0.0\n",
      "Количество пропущенных значений в utm_adcontent: 0\n"
     ]
    }
   ],
   "source": [
    "print_useful_rows_info_column(df_clean, 'utm_adcontent')"
   ]
  },
  {
   "cell_type": "code",
   "execution_count": 72,
   "id": "7ece6403-5987-48df-b104-ec49eee295fe",
   "metadata": {},
   "outputs": [
    {
     "name": "stdout",
     "output_type": "stream",
     "text": [
      "Количество полностью заполненных объектов в выборке:  1640342\n",
      "Процент полностью заполненных объектов в выборке:  88.19\n",
      "Процент пропусков по столбцам: \n",
      "utm_campaign                11.806346\n",
      "utm_source                   0.005215\n",
      "session_id                   0.000000\n",
      "device_os                    0.000000\n",
      "geo_city                     0.000000\n",
      "geo_country                  0.000000\n",
      "device_browser               0.000000\n",
      "device_screen_resolution     0.000000\n",
      "device_brand                 0.000000\n",
      "utm_adcontent                0.000000\n",
      "device_category              0.000000\n",
      "client_id                    0.000000\n",
      "utm_medium                   0.000000\n",
      "visit_number                 0.000000\n",
      "visit_time                   0.000000\n",
      "visit_date                   0.000000\n",
      "target                       0.000000\n",
      "dtype: float64\n"
     ]
    }
   ],
   "source": [
    "print_usefull_rows_info_full(df_clean)"
   ]
  },
  {
   "cell_type": "markdown",
   "id": "956834e9-2efd-45bd-9381-999530ec1e51",
   "metadata": {},
   "source": [
    "#### Обработка пропусков в столбце utm_campaign"
   ]
  },
  {
   "cell_type": "code",
   "execution_count": 73,
   "id": "ad29d8e8-aa43-4465-bba2-2c3334c5a037",
   "metadata": {},
   "outputs": [
    {
     "name": "stdout",
     "output_type": "stream",
     "text": [
      "Процент пропущенных значений в utm_campaign: 11.81\n",
      "Количество пропущенных значений в utm_campaign: 219603\n"
     ]
    }
   ],
   "source": [
    "print_useful_rows_info_column(df_clean, 'utm_campaign')"
   ]
  },
  {
   "cell_type": "code",
   "execution_count": 74,
   "id": "ee04c211-7a3f-4472-851f-3efd10cb68d8",
   "metadata": {},
   "outputs": [
    {
     "data": {
      "text/html": [
       "<div>\n",
       "<style scoped>\n",
       "    .dataframe tbody tr th:only-of-type {\n",
       "        vertical-align: middle;\n",
       "    }\n",
       "\n",
       "    .dataframe tbody tr th {\n",
       "        vertical-align: top;\n",
       "    }\n",
       "\n",
       "    .dataframe thead th {\n",
       "        text-align: right;\n",
       "    }\n",
       "</style>\n",
       "<table border=\"1\" class=\"dataframe\">\n",
       "  <thead>\n",
       "    <tr style=\"text-align: right;\">\n",
       "      <th></th>\n",
       "      <th>session_id</th>\n",
       "      <th>client_id</th>\n",
       "      <th>visit_date</th>\n",
       "      <th>visit_time</th>\n",
       "      <th>visit_number</th>\n",
       "      <th>utm_source</th>\n",
       "      <th>utm_medium</th>\n",
       "      <th>utm_campaign</th>\n",
       "      <th>utm_adcontent</th>\n",
       "      <th>device_category</th>\n",
       "      <th>device_os</th>\n",
       "      <th>device_brand</th>\n",
       "      <th>device_screen_resolution</th>\n",
       "      <th>device_browser</th>\n",
       "      <th>geo_country</th>\n",
       "      <th>geo_city</th>\n",
       "      <th>target</th>\n",
       "    </tr>\n",
       "  </thead>\n",
       "  <tbody>\n",
       "    <tr>\n",
       "      <th>3</th>\n",
       "      <td>9055447046360770272.1622255328.1622255328</td>\n",
       "      <td>2108385564.1622255328</td>\n",
       "      <td>2021-05-29</td>\n",
       "      <td>05:00:00</td>\n",
       "      <td>1</td>\n",
       "      <td>kjsLglQLzykiRbcDiGcD</td>\n",
       "      <td>cpc</td>\n",
       "      <td>NaN</td>\n",
       "      <td>NOBKLgtuvqYWkXQHeYWM</td>\n",
       "      <td>mobile</td>\n",
       "      <td>Android</td>\n",
       "      <td>Xiaomi</td>\n",
       "      <td>393x786</td>\n",
       "      <td>Chrome</td>\n",
       "      <td>Russia</td>\n",
       "      <td>Moscow</td>\n",
       "      <td>0.0</td>\n",
       "    </tr>\n",
       "    <tr>\n",
       "      <th>4</th>\n",
       "      <td>9055447046360770272.1622255345.1622255345</td>\n",
       "      <td>2108385564.1622255328</td>\n",
       "      <td>2021-05-29</td>\n",
       "      <td>05:00:00</td>\n",
       "      <td>2</td>\n",
       "      <td>kjsLglQLzykiRbcDiGcD</td>\n",
       "      <td>cpc</td>\n",
       "      <td>NaN</td>\n",
       "      <td>JNHcPlZPxEMWDnRiyoBf</td>\n",
       "      <td>mobile</td>\n",
       "      <td>Android</td>\n",
       "      <td>Xiaomi</td>\n",
       "      <td>393x786</td>\n",
       "      <td>Chrome</td>\n",
       "      <td>Russia</td>\n",
       "      <td>Moscow</td>\n",
       "      <td>0.0</td>\n",
       "    </tr>\n",
       "    <tr>\n",
       "      <th>14</th>\n",
       "      <td>9055469620715506713.1636559415.1636559415</td>\n",
       "      <td>2108390820.1628883993</td>\n",
       "      <td>2021-11-10</td>\n",
       "      <td>18:50:15</td>\n",
       "      <td>4</td>\n",
       "      <td>SzZERoLMmrEUEhDaYcyN</td>\n",
       "      <td>cpc</td>\n",
       "      <td>NaN</td>\n",
       "      <td>JNHcPlZPxEMWDnRiyoBf</td>\n",
       "      <td>mobile</td>\n",
       "      <td>Android</td>\n",
       "      <td>Samsung</td>\n",
       "      <td>412x869</td>\n",
       "      <td>Android Webview</td>\n",
       "      <td>Russia</td>\n",
       "      <td>Saint Petersburg</td>\n",
       "      <td>0.0</td>\n",
       "    </tr>\n",
       "    <tr>\n",
       "      <th>27</th>\n",
       "      <td>9055504865227535872.1639282176.1639282176</td>\n",
       "      <td>2108399026.1639282176</td>\n",
       "      <td>2021-12-12</td>\n",
       "      <td>07:09:36</td>\n",
       "      <td>1</td>\n",
       "      <td>BHcvLfOaCWvWTykYqHVe</td>\n",
       "      <td>cpc</td>\n",
       "      <td>NaN</td>\n",
       "      <td>JNHcPlZPxEMWDnRiyoBf</td>\n",
       "      <td>mobile</td>\n",
       "      <td>Android</td>\n",
       "      <td>Samsung</td>\n",
       "      <td>385x854</td>\n",
       "      <td>Chrome</td>\n",
       "      <td>Russia</td>\n",
       "      <td>Moscow</td>\n",
       "      <td>0.0</td>\n",
       "    </tr>\n",
       "    <tr>\n",
       "      <th>38</th>\n",
       "      <td>905553874150070422.1639028922.1639028922</td>\n",
       "      <td>210840691.1639028886</td>\n",
       "      <td>2021-12-09</td>\n",
       "      <td>08:48:42</td>\n",
       "      <td>2</td>\n",
       "      <td>kjsLglQLzykiRbcDiGcD</td>\n",
       "      <td>cpc</td>\n",
       "      <td>NaN</td>\n",
       "      <td>JNHcPlZPxEMWDnRiyoBf</td>\n",
       "      <td>mobile</td>\n",
       "      <td>iOS</td>\n",
       "      <td>Apple</td>\n",
       "      <td>375x812</td>\n",
       "      <td>Safari</td>\n",
       "      <td>Russia</td>\n",
       "      <td>Moscow</td>\n",
       "      <td>0.0</td>\n",
       "    </tr>\n",
       "    <tr>\n",
       "      <th>...</th>\n",
       "      <td>...</td>\n",
       "      <td>...</td>\n",
       "      <td>...</td>\n",
       "      <td>...</td>\n",
       "      <td>...</td>\n",
       "      <td>...</td>\n",
       "      <td>...</td>\n",
       "      <td>...</td>\n",
       "      <td>...</td>\n",
       "      <td>...</td>\n",
       "      <td>...</td>\n",
       "      <td>...</td>\n",
       "      <td>...</td>\n",
       "      <td>...</td>\n",
       "      <td>...</td>\n",
       "      <td>...</td>\n",
       "      <td>...</td>\n",
       "    </tr>\n",
       "    <tr>\n",
       "      <th>1859982</th>\n",
       "      <td>9055195915335919645.1630169119.1630169119</td>\n",
       "      <td>2108327093.1630169117</td>\n",
       "      <td>2021-08-28</td>\n",
       "      <td>19:00:00</td>\n",
       "      <td>1</td>\n",
       "      <td>BHcvLfOaCWvWTykYqHVe</td>\n",
       "      <td>cpc</td>\n",
       "      <td>NaN</td>\n",
       "      <td>JNHcPlZPxEMWDnRiyoBf</td>\n",
       "      <td>mobile</td>\n",
       "      <td>Android</td>\n",
       "      <td>Xiaomi</td>\n",
       "      <td>393x873</td>\n",
       "      <td>YaBrowser</td>\n",
       "      <td>Russia</td>\n",
       "      <td>Moscow</td>\n",
       "      <td>0.0</td>\n",
       "    </tr>\n",
       "    <tr>\n",
       "      <th>1859987</th>\n",
       "      <td>9055216346490282940.1625105400.1625105400</td>\n",
       "      <td>2108331850.1625105340</td>\n",
       "      <td>2021-07-01</td>\n",
       "      <td>05:00:00</td>\n",
       "      <td>2</td>\n",
       "      <td>kjsLglQLzykiRbcDiGcD</td>\n",
       "      <td>cpc</td>\n",
       "      <td>NaN</td>\n",
       "      <td>JNHcPlZPxEMWDnRiyoBf</td>\n",
       "      <td>desktop</td>\n",
       "      <td>other</td>\n",
       "      <td>other</td>\n",
       "      <td>1920x1080</td>\n",
       "      <td>Chrome</td>\n",
       "      <td>Russia</td>\n",
       "      <td>Moscow</td>\n",
       "      <td>0.0</td>\n",
       "    </tr>\n",
       "    <tr>\n",
       "      <th>1860018</th>\n",
       "      <td>9055329372850890545.1626351420.1626351420</td>\n",
       "      <td>2108358166.1626351409</td>\n",
       "      <td>2021-07-15</td>\n",
       "      <td>15:00:00</td>\n",
       "      <td>1</td>\n",
       "      <td>BHcvLfOaCWvWTykYqHVe</td>\n",
       "      <td>cpc</td>\n",
       "      <td>NaN</td>\n",
       "      <td>JNHcPlZPxEMWDnRiyoBf</td>\n",
       "      <td>desktop</td>\n",
       "      <td>other</td>\n",
       "      <td>other</td>\n",
       "      <td>1920x1080</td>\n",
       "      <td>YaBrowser</td>\n",
       "      <td>Russia</td>\n",
       "      <td>Moscow</td>\n",
       "      <td>0.0</td>\n",
       "    </tr>\n",
       "    <tr>\n",
       "      <th>1860020</th>\n",
       "      <td>9055329372850890545.1629287172.1629287172</td>\n",
       "      <td>2108358166.1626351409</td>\n",
       "      <td>2021-08-18</td>\n",
       "      <td>14:00:00</td>\n",
       "      <td>3</td>\n",
       "      <td>BHcvLfOaCWvWTykYqHVe</td>\n",
       "      <td>cpc</td>\n",
       "      <td>NaN</td>\n",
       "      <td>JNHcPlZPxEMWDnRiyoBf</td>\n",
       "      <td>desktop</td>\n",
       "      <td>other</td>\n",
       "      <td>other</td>\n",
       "      <td>1920x1080</td>\n",
       "      <td>YaBrowser</td>\n",
       "      <td>Russia</td>\n",
       "      <td>Moscow</td>\n",
       "      <td>0.0</td>\n",
       "    </tr>\n",
       "    <tr>\n",
       "      <th>1860037</th>\n",
       "      <td>9055415581448263752.1640159305.1640159305</td>\n",
       "      <td>2108378238.1640159304</td>\n",
       "      <td>2021-12-22</td>\n",
       "      <td>10:48:25</td>\n",
       "      <td>1</td>\n",
       "      <td>BHcvLfOaCWvWTykYqHVe</td>\n",
       "      <td>cpc</td>\n",
       "      <td>NaN</td>\n",
       "      <td>JNHcPlZPxEMWDnRiyoBf</td>\n",
       "      <td>desktop</td>\n",
       "      <td>Windows</td>\n",
       "      <td>other</td>\n",
       "      <td>1920x1080</td>\n",
       "      <td>Chrome</td>\n",
       "      <td>Russia</td>\n",
       "      <td>Moscow</td>\n",
       "      <td>0.0</td>\n",
       "    </tr>\n",
       "  </tbody>\n",
       "</table>\n",
       "<p>219603 rows × 17 columns</p>\n",
       "</div>"
      ],
      "text/plain": [
       "                                        session_id              client_id  \\\n",
       "3        9055447046360770272.1622255328.1622255328  2108385564.1622255328   \n",
       "4        9055447046360770272.1622255345.1622255345  2108385564.1622255328   \n",
       "14       9055469620715506713.1636559415.1636559415  2108390820.1628883993   \n",
       "27       9055504865227535872.1639282176.1639282176  2108399026.1639282176   \n",
       "38        905553874150070422.1639028922.1639028922   210840691.1639028886   \n",
       "...                                            ...                    ...   \n",
       "1859982  9055195915335919645.1630169119.1630169119  2108327093.1630169117   \n",
       "1859987  9055216346490282940.1625105400.1625105400  2108331850.1625105340   \n",
       "1860018  9055329372850890545.1626351420.1626351420  2108358166.1626351409   \n",
       "1860020  9055329372850890545.1629287172.1629287172  2108358166.1626351409   \n",
       "1860037  9055415581448263752.1640159305.1640159305  2108378238.1640159304   \n",
       "\n",
       "         visit_date visit_time  visit_number            utm_source utm_medium  \\\n",
       "3        2021-05-29   05:00:00             1  kjsLglQLzykiRbcDiGcD        cpc   \n",
       "4        2021-05-29   05:00:00             2  kjsLglQLzykiRbcDiGcD        cpc   \n",
       "14       2021-11-10   18:50:15             4  SzZERoLMmrEUEhDaYcyN        cpc   \n",
       "27       2021-12-12   07:09:36             1  BHcvLfOaCWvWTykYqHVe        cpc   \n",
       "38       2021-12-09   08:48:42             2  kjsLglQLzykiRbcDiGcD        cpc   \n",
       "...             ...        ...           ...                   ...        ...   \n",
       "1859982  2021-08-28   19:00:00             1  BHcvLfOaCWvWTykYqHVe        cpc   \n",
       "1859987  2021-07-01   05:00:00             2  kjsLglQLzykiRbcDiGcD        cpc   \n",
       "1860018  2021-07-15   15:00:00             1  BHcvLfOaCWvWTykYqHVe        cpc   \n",
       "1860020  2021-08-18   14:00:00             3  BHcvLfOaCWvWTykYqHVe        cpc   \n",
       "1860037  2021-12-22   10:48:25             1  BHcvLfOaCWvWTykYqHVe        cpc   \n",
       "\n",
       "        utm_campaign         utm_adcontent device_category device_os  \\\n",
       "3                NaN  NOBKLgtuvqYWkXQHeYWM          mobile   Android   \n",
       "4                NaN  JNHcPlZPxEMWDnRiyoBf          mobile   Android   \n",
       "14               NaN  JNHcPlZPxEMWDnRiyoBf          mobile   Android   \n",
       "27               NaN  JNHcPlZPxEMWDnRiyoBf          mobile   Android   \n",
       "38               NaN  JNHcPlZPxEMWDnRiyoBf          mobile       iOS   \n",
       "...              ...                   ...             ...       ...   \n",
       "1859982          NaN  JNHcPlZPxEMWDnRiyoBf          mobile   Android   \n",
       "1859987          NaN  JNHcPlZPxEMWDnRiyoBf         desktop     other   \n",
       "1860018          NaN  JNHcPlZPxEMWDnRiyoBf         desktop     other   \n",
       "1860020          NaN  JNHcPlZPxEMWDnRiyoBf         desktop     other   \n",
       "1860037          NaN  JNHcPlZPxEMWDnRiyoBf         desktop   Windows   \n",
       "\n",
       "        device_brand device_screen_resolution   device_browser geo_country  \\\n",
       "3             Xiaomi                  393x786           Chrome      Russia   \n",
       "4             Xiaomi                  393x786           Chrome      Russia   \n",
       "14           Samsung                  412x869  Android Webview      Russia   \n",
       "27           Samsung                  385x854           Chrome      Russia   \n",
       "38             Apple                  375x812           Safari      Russia   \n",
       "...              ...                      ...              ...         ...   \n",
       "1859982       Xiaomi                  393x873        YaBrowser      Russia   \n",
       "1859987        other                1920x1080           Chrome      Russia   \n",
       "1860018        other                1920x1080        YaBrowser      Russia   \n",
       "1860020        other                1920x1080        YaBrowser      Russia   \n",
       "1860037        other                1920x1080           Chrome      Russia   \n",
       "\n",
       "                 geo_city  target  \n",
       "3                  Moscow     0.0  \n",
       "4                  Moscow     0.0  \n",
       "14       Saint Petersburg     0.0  \n",
       "27                 Moscow     0.0  \n",
       "38                 Moscow     0.0  \n",
       "...                   ...     ...  \n",
       "1859982            Moscow     0.0  \n",
       "1859987            Moscow     0.0  \n",
       "1860018            Moscow     0.0  \n",
       "1860020            Moscow     0.0  \n",
       "1860037            Moscow     0.0  \n",
       "\n",
       "[219603 rows x 17 columns]"
      ]
     },
     "execution_count": 74,
     "metadata": {},
     "output_type": "execute_result"
    }
   ],
   "source": [
    "df_clean[df_clean['utm_campaign'].isna()]"
   ]
  },
  {
   "cell_type": "code",
   "execution_count": 75,
   "id": "fa0e606a-6f6d-4d63-be3b-3ed17a6bc17b",
   "metadata": {},
   "outputs": [
    {
     "data": {
      "text/plain": [
       "utm_campaign\n",
       "LTuZkdKfxRGVceoWkVyg    463481\n",
       "LEoPHuyFvzoNfnzGgfcd    324044\n",
       "FTjNLDyTrXaWYgZymFkV    247360\n",
       "NaN                     219603\n",
       "gecBYcKZCPMcVYdSSzKP    134042\n",
       "                         ...  \n",
       "RkpOyeEPgcMBSDuHLQcj         1\n",
       "pcvPxfVFaAmhwFmvIeYd         1\n",
       "qPDTdivQVeflLjTYIJnG         1\n",
       "MHdHrBKQwbDaRalwnlJq         1\n",
       "cXxuwXPoQCvAXPHpFcZl         1\n",
       "Name: count, Length: 413, dtype: int64"
      ]
     },
     "execution_count": 75,
     "metadata": {},
     "output_type": "execute_result"
    }
   ],
   "source": [
    "df_clean['utm_campaign'].value_counts(dropna=False)"
   ]
  },
  {
   "cell_type": "code",
   "execution_count": 76,
   "id": "4c1f42cf-9aa2-40dd-a503-4f986d20fee0",
   "metadata": {},
   "outputs": [
    {
     "name": "stdout",
     "output_type": "stream",
     "text": [
      "Самое часто встречающееся значение имеется в 28.25% заполненных данных\n"
     ]
    }
   ],
   "source": [
    "moda_utm_campaign = round(len(df_clean[df_clean['utm_campaign'] == 'LTuZkdKfxRGVceoWkVyg']) / len(df_clean[df_clean['utm_campaign'].notnull()]) * 100, 2)\n",
    "print(f'Самое часто встречающееся значение имеется в {moda_utm_campaign}% заполненных данных')"
   ]
  },
  {
   "cell_type": "markdown",
   "id": "7f6d26c7-74a3-4949-9e8b-9307d70ba070",
   "metadata": {},
   "source": [
    "Нам неоткуда взять истинные значения пропусков в столбце utm_campaign. В то же время считаю не совсем правильным присваивать им значение моды, потому что это значение встречается всего в 28% заполненных данных. К тому же количество пропущенных объектов достаточно велико. Поэтому оптимальным решением считаю присвоить пропускам в этом столбце значение other."
   ]
  },
  {
   "cell_type": "code",
   "execution_count": 77,
   "id": "8a9b7159-7356-42ad-8a2b-6a624206cb98",
   "metadata": {},
   "outputs": [],
   "source": [
    "df_clean.utm_campaign = df_clean.utm_campaign.fillna('other')"
   ]
  },
  {
   "cell_type": "code",
   "execution_count": 78,
   "id": "e419de84-8c55-4991-86ec-1efc5934511c",
   "metadata": {},
   "outputs": [
    {
     "name": "stdout",
     "output_type": "stream",
     "text": [
      "Процент пропущенных значений в utm_campaign: 0.0\n",
      "Количество пропущенных значений в utm_campaign: 0\n"
     ]
    }
   ],
   "source": [
    "print_useful_rows_info_column(df_clean, 'utm_campaign')"
   ]
  },
  {
   "cell_type": "code",
   "execution_count": 79,
   "id": "ea0bdb6a-2d81-4e9c-8da9-0e8a90f77137",
   "metadata": {},
   "outputs": [
    {
     "name": "stdout",
     "output_type": "stream",
     "text": [
      "Количество полностью заполненных объектов в выборке:  1859945\n",
      "Процент полностью заполненных объектов в выборке:  99.99\n",
      "Процент пропусков по столбцам: \n",
      "utm_source                  0.005215\n",
      "session_id                  0.000000\n",
      "device_category             0.000000\n",
      "geo_city                    0.000000\n",
      "geo_country                 0.000000\n",
      "device_browser              0.000000\n",
      "device_screen_resolution    0.000000\n",
      "device_brand                0.000000\n",
      "device_os                   0.000000\n",
      "utm_adcontent               0.000000\n",
      "client_id                   0.000000\n",
      "utm_campaign                0.000000\n",
      "utm_medium                  0.000000\n",
      "visit_number                0.000000\n",
      "visit_time                  0.000000\n",
      "visit_date                  0.000000\n",
      "target                      0.000000\n",
      "dtype: float64\n"
     ]
    }
   ],
   "source": [
    "print_usefull_rows_info_full(df_clean)"
   ]
  },
  {
   "cell_type": "markdown",
   "id": "01a82d35-ccea-4023-9191-e9696693e82c",
   "metadata": {},
   "source": [
    "#### Обработка пропусков в столбце utm_source"
   ]
  },
  {
   "cell_type": "code",
   "execution_count": 80,
   "id": "ae3faf2a-abb1-47b0-aa05-ebeac39633fa",
   "metadata": {},
   "outputs": [
    {
     "name": "stdout",
     "output_type": "stream",
     "text": [
      "Процент пропущенных значений в utm_source: 0.01\n",
      "Количество пропущенных значений в utm_source: 97\n"
     ]
    }
   ],
   "source": [
    "print_useful_rows_info_column(df_clean, 'utm_source')"
   ]
  },
  {
   "cell_type": "code",
   "execution_count": 81,
   "id": "6ad27a3e-56d0-4342-a632-2f168730017e",
   "metadata": {},
   "outputs": [
    {
     "data": {
      "text/plain": [
       "utm_source\n",
       "ZpYIoDJMcFzVoPFsHGJL    578290\n",
       "fDLlAcSmythWSCVMvqvL    300575\n",
       "kjsLglQLzykiRbcDiGcD    266354\n",
       "MvfHsxITijuriZxsqZqt    186199\n",
       "BHcvLfOaCWvWTykYqHVe    116320\n",
       "                         ...  \n",
       "GYkgJdhSxirUFPHFiYSe         1\n",
       "WRHPhoRKhKxaenRCLBfo         1\n",
       "tjKUGseGMhkLEzdCqBRx         1\n",
       "wpmatvDuiMutnvmNVPJo         1\n",
       "BellrslNBZQZaIxVFGXJ         1\n",
       "Name: count, Length: 294, dtype: int64"
      ]
     },
     "execution_count": 81,
     "metadata": {},
     "output_type": "execute_result"
    }
   ],
   "source": [
    "df_clean['utm_source'].value_counts(dropna=False)"
   ]
  },
  {
   "cell_type": "code",
   "execution_count": 82,
   "id": "c77b9fc6-6956-4e5d-b656-960bbf883bed",
   "metadata": {},
   "outputs": [
    {
     "name": "stdout",
     "output_type": "stream",
     "text": [
      "Самое часто встречающееся значение имеется в 31.09% заполненных данных\n"
     ]
    }
   ],
   "source": [
    "moda_utm_source = round(len(df_clean[df_clean['utm_source'] == 'ZpYIoDJMcFzVoPFsHGJL']) / len(df_clean[df_clean['utm_source'].notnull()]) * 100, 2)\n",
    "print(f'Самое часто встречающееся значение имеется в {moda_utm_source}% заполненных данных')"
   ]
  },
  {
   "cell_type": "markdown",
   "id": "4c040fae-81f7-49a2-9a36-261ea28908d1",
   "metadata": {},
   "source": [
    "Нам также неоткуда взять истинные значения данных пропусков. Мода занимает чуть больше 30% всех заполненных данных. Но так как пропусков всего 0.01%, считаю доспустимым присвоить им значение моды. Это не приведет к существенному изменению распределения объектов."
   ]
  },
  {
   "cell_type": "code",
   "execution_count": 83,
   "id": "a8b104fe-09d9-4bf8-a3c3-155dc16a7bd7",
   "metadata": {},
   "outputs": [],
   "source": [
    "df_clean.utm_source = df_clean.utm_source.fillna('ZpYIoDJMcFzVoPFsHGJL')"
   ]
  },
  {
   "cell_type": "code",
   "execution_count": 84,
   "id": "7661a7b5-c2d8-490d-811e-75432a8f641f",
   "metadata": {},
   "outputs": [
    {
     "name": "stdout",
     "output_type": "stream",
     "text": [
      "Процент пропущенных значений в utm_source: 0.0\n",
      "Количество пропущенных значений в utm_source: 0\n"
     ]
    }
   ],
   "source": [
    "print_useful_rows_info_column(df_clean, 'utm_source')"
   ]
  },
  {
   "cell_type": "markdown",
   "id": "3561266f-2714-4fa6-8a3a-1a71381789ac",
   "metadata": {},
   "source": [
    "#### Результаты анализа пропусков"
   ]
  },
  {
   "cell_type": "code",
   "execution_count": 85,
   "id": "4fd4cb04-a955-4add-9f6c-de379c102a1c",
   "metadata": {},
   "outputs": [
    {
     "data": {
      "image/png": "[encoded data removed]",
      "text/plain": [
       "<Figure size 2500x1000 with 2 Axes>"
      ]
     },
     "metadata": {},
     "output_type": "display_data"
    }
   ],
   "source": [
    "msno.matrix(df_clean);"
   ]
  },
  {
   "cell_type": "code",
   "execution_count": 86,
   "id": "61c5c4a4-fc87-4105-9e19-cd791db62dbf",
   "metadata": {},
   "outputs": [
    {
     "name": "stdout",
     "output_type": "stream",
     "text": [
      "Количество полностью заполненных объектов в выборке:  1860042\n",
      "Процент полностью заполненных объектов в выборке:  100.0\n",
      "Процент пропусков по столбцам: \n",
      "session_id                  0.0\n",
      "device_category             0.0\n",
      "geo_city                    0.0\n",
      "geo_country                 0.0\n",
      "device_browser              0.0\n",
      "device_screen_resolution    0.0\n",
      "device_brand                0.0\n",
      "device_os                   0.0\n",
      "utm_adcontent               0.0\n",
      "client_id                   0.0\n",
      "utm_campaign                0.0\n",
      "utm_medium                  0.0\n",
      "utm_source                  0.0\n",
      "visit_number                0.0\n",
      "visit_time                  0.0\n",
      "visit_date                  0.0\n",
      "target                      0.0\n",
      "dtype: float64\n"
     ]
    }
   ],
   "source": [
    "print_usefull_rows_info_full(df_clean)"
   ]
  },
  {
   "cell_type": "markdown",
   "id": "f07f6c0b-c10e-47bd-bb63-1fb38b603938",
   "metadata": {},
   "source": [
    "### Преобразование типов данных"
   ]
  },
  {
   "cell_type": "markdown",
   "id": "5fb97988-c2c3-48f4-99e5-510eb5a98f71",
   "metadata": {},
   "source": [
    "#### Общий анализ типов данных"
   ]
  },
  {
   "cell_type": "code",
   "execution_count": 87,
   "id": "14ab4ad2-0609-49bb-897f-47f04015d9c1",
   "metadata": {},
   "outputs": [
    {
     "name": "stdout",
     "output_type": "stream",
     "text": [
      "<class 'pandas.core.frame.DataFrame'>\n",
      "RangeIndex: 1860042 entries, 0 to 1860041\n",
      "Data columns (total 17 columns):\n",
      " #   Column                    Dtype  \n",
      "---  ------                    -----  \n",
      " 0   session_id                object \n",
      " 1   client_id                 object \n",
      " 2   visit_date                object \n",
      " 3   visit_time                object \n",
      " 4   visit_number              int64  \n",
      " 5   utm_source                object \n",
      " 6   utm_medium                object \n",
      " 7   utm_campaign              object \n",
      " 8   utm_adcontent             object \n",
      " 9   device_category           object \n",
      " 10  device_os                 object \n",
      " 11  device_brand              object \n",
      " 12  device_screen_resolution  object \n",
      " 13  device_browser            object \n",
      " 14  geo_country               object \n",
      " 15  geo_city                  object \n",
      " 16  target                    float64\n",
      "dtypes: float64(1), int64(1), object(15)\n",
      "memory usage: 241.2+ MB\n"
     ]
    }
   ],
   "source": [
    "df_clean.info()"
   ]
  },
  {
   "cell_type": "code",
   "execution_count": 88,
   "id": "4e630061-9e0a-4099-aad7-7ead60a43bd6",
   "metadata": {},
   "outputs": [],
   "source": [
    "df_types = df_clean.copy()"
   ]
  },
  {
   "cell_type": "code",
   "execution_count": 89,
   "id": "2089123f-4211-468f-aeab-ed54f26dec99",
   "metadata": {},
   "outputs": [
    {
     "data": {
      "text/html": [
       "<div>\n",
       "<style scoped>\n",
       "    .dataframe tbody tr th:only-of-type {\n",
       "        vertical-align: middle;\n",
       "    }\n",
       "\n",
       "    .dataframe tbody tr th {\n",
       "        vertical-align: top;\n",
       "    }\n",
       "\n",
       "    .dataframe thead th {\n",
       "        text-align: right;\n",
       "    }\n",
       "</style>\n",
       "<table border=\"1\" class=\"dataframe\">\n",
       "  <thead>\n",
       "    <tr style=\"text-align: right;\">\n",
       "      <th></th>\n",
       "      <th>session_id</th>\n",
       "      <th>client_id</th>\n",
       "      <th>visit_date</th>\n",
       "      <th>visit_time</th>\n",
       "      <th>visit_number</th>\n",
       "      <th>utm_source</th>\n",
       "      <th>utm_medium</th>\n",
       "      <th>utm_campaign</th>\n",
       "      <th>utm_adcontent</th>\n",
       "      <th>device_category</th>\n",
       "      <th>device_os</th>\n",
       "      <th>device_brand</th>\n",
       "      <th>device_screen_resolution</th>\n",
       "      <th>device_browser</th>\n",
       "      <th>geo_country</th>\n",
       "      <th>geo_city</th>\n",
       "      <th>target</th>\n",
       "    </tr>\n",
       "  </thead>\n",
       "  <tbody>\n",
       "    <tr>\n",
       "      <th>0</th>\n",
       "      <td>9055434745589932991.1637753792.1637753792</td>\n",
       "      <td>2108382700.1637753791</td>\n",
       "      <td>2021-11-24</td>\n",
       "      <td>14:36:32</td>\n",
       "      <td>1</td>\n",
       "      <td>ZpYIoDJMcFzVoPFsHGJL</td>\n",
       "      <td>banner</td>\n",
       "      <td>LEoPHuyFvzoNfnzGgfcd</td>\n",
       "      <td>vCIpmpaGBnIQhyYNkXqp</td>\n",
       "      <td>mobile</td>\n",
       "      <td>Android</td>\n",
       "      <td>Huawei</td>\n",
       "      <td>360x720</td>\n",
       "      <td>Chrome</td>\n",
       "      <td>Russia</td>\n",
       "      <td>Zlatoust</td>\n",
       "      <td>0.0</td>\n",
       "    </tr>\n",
       "    <tr>\n",
       "      <th>1</th>\n",
       "      <td>905544597018549464.1636867290.1636867290</td>\n",
       "      <td>210838531.1636867288</td>\n",
       "      <td>2021-11-14</td>\n",
       "      <td>08:21:30</td>\n",
       "      <td>1</td>\n",
       "      <td>MvfHsxITijuriZxsqZqt</td>\n",
       "      <td>cpm</td>\n",
       "      <td>FTjNLDyTrXaWYgZymFkV</td>\n",
       "      <td>xhoenQgDQsgfEPYNPwKO</td>\n",
       "      <td>mobile</td>\n",
       "      <td>Android</td>\n",
       "      <td>Samsung</td>\n",
       "      <td>385x854</td>\n",
       "      <td>Samsung Internet</td>\n",
       "      <td>Russia</td>\n",
       "      <td>Moscow</td>\n",
       "      <td>0.0</td>\n",
       "    </tr>\n",
       "    <tr>\n",
       "      <th>2</th>\n",
       "      <td>9055446045651783499.1640648526.1640648526</td>\n",
       "      <td>2108385331.1640648523</td>\n",
       "      <td>2021-12-28</td>\n",
       "      <td>02:42:06</td>\n",
       "      <td>1</td>\n",
       "      <td>ZpYIoDJMcFzVoPFsHGJL</td>\n",
       "      <td>banner</td>\n",
       "      <td>LEoPHuyFvzoNfnzGgfcd</td>\n",
       "      <td>vCIpmpaGBnIQhyYNkXqp</td>\n",
       "      <td>mobile</td>\n",
       "      <td>Android</td>\n",
       "      <td>Huawei</td>\n",
       "      <td>360x720</td>\n",
       "      <td>Chrome</td>\n",
       "      <td>Russia</td>\n",
       "      <td>Krasnoyarsk</td>\n",
       "      <td>0.0</td>\n",
       "    </tr>\n",
       "    <tr>\n",
       "      <th>3</th>\n",
       "      <td>9055447046360770272.1622255328.1622255328</td>\n",
       "      <td>2108385564.1622255328</td>\n",
       "      <td>2021-05-29</td>\n",
       "      <td>05:00:00</td>\n",
       "      <td>1</td>\n",
       "      <td>kjsLglQLzykiRbcDiGcD</td>\n",
       "      <td>cpc</td>\n",
       "      <td>other</td>\n",
       "      <td>NOBKLgtuvqYWkXQHeYWM</td>\n",
       "      <td>mobile</td>\n",
       "      <td>Android</td>\n",
       "      <td>Xiaomi</td>\n",
       "      <td>393x786</td>\n",
       "      <td>Chrome</td>\n",
       "      <td>Russia</td>\n",
       "      <td>Moscow</td>\n",
       "      <td>0.0</td>\n",
       "    </tr>\n",
       "    <tr>\n",
       "      <th>4</th>\n",
       "      <td>9055447046360770272.1622255345.1622255345</td>\n",
       "      <td>2108385564.1622255328</td>\n",
       "      <td>2021-05-29</td>\n",
       "      <td>05:00:00</td>\n",
       "      <td>2</td>\n",
       "      <td>kjsLglQLzykiRbcDiGcD</td>\n",
       "      <td>cpc</td>\n",
       "      <td>other</td>\n",
       "      <td>JNHcPlZPxEMWDnRiyoBf</td>\n",
       "      <td>mobile</td>\n",
       "      <td>Android</td>\n",
       "      <td>Xiaomi</td>\n",
       "      <td>393x786</td>\n",
       "      <td>Chrome</td>\n",
       "      <td>Russia</td>\n",
       "      <td>Moscow</td>\n",
       "      <td>0.0</td>\n",
       "    </tr>\n",
       "  </tbody>\n",
       "</table>\n",
       "</div>"
      ],
      "text/plain": [
       "                                  session_id              client_id  \\\n",
       "0  9055434745589932991.1637753792.1637753792  2108382700.1637753791   \n",
       "1   905544597018549464.1636867290.1636867290   210838531.1636867288   \n",
       "2  9055446045651783499.1640648526.1640648526  2108385331.1640648523   \n",
       "3  9055447046360770272.1622255328.1622255328  2108385564.1622255328   \n",
       "4  9055447046360770272.1622255345.1622255345  2108385564.1622255328   \n",
       "\n",
       "   visit_date visit_time  visit_number            utm_source utm_medium  \\\n",
       "0  2021-11-24   14:36:32             1  ZpYIoDJMcFzVoPFsHGJL     banner   \n",
       "1  2021-11-14   08:21:30             1  MvfHsxITijuriZxsqZqt        cpm   \n",
       "2  2021-12-28   02:42:06             1  ZpYIoDJMcFzVoPFsHGJL     banner   \n",
       "3  2021-05-29   05:00:00             1  kjsLglQLzykiRbcDiGcD        cpc   \n",
       "4  2021-05-29   05:00:00             2  kjsLglQLzykiRbcDiGcD        cpc   \n",
       "\n",
       "           utm_campaign         utm_adcontent device_category device_os  \\\n",
       "0  LEoPHuyFvzoNfnzGgfcd  vCIpmpaGBnIQhyYNkXqp          mobile   Android   \n",
       "1  FTjNLDyTrXaWYgZymFkV  xhoenQgDQsgfEPYNPwKO          mobile   Android   \n",
       "2  LEoPHuyFvzoNfnzGgfcd  vCIpmpaGBnIQhyYNkXqp          mobile   Android   \n",
       "3                 other  NOBKLgtuvqYWkXQHeYWM          mobile   Android   \n",
       "4                 other  JNHcPlZPxEMWDnRiyoBf          mobile   Android   \n",
       "\n",
       "  device_brand device_screen_resolution    device_browser geo_country  \\\n",
       "0       Huawei                  360x720            Chrome      Russia   \n",
       "1      Samsung                  385x854  Samsung Internet      Russia   \n",
       "2       Huawei                  360x720            Chrome      Russia   \n",
       "3       Xiaomi                  393x786            Chrome      Russia   \n",
       "4       Xiaomi                  393x786            Chrome      Russia   \n",
       "\n",
       "      geo_city  target  \n",
       "0     Zlatoust     0.0  \n",
       "1       Moscow     0.0  \n",
       "2  Krasnoyarsk     0.0  \n",
       "3       Moscow     0.0  \n",
       "4       Moscow     0.0  "
      ]
     },
     "execution_count": 89,
     "metadata": {},
     "output_type": "execute_result"
    }
   ],
   "source": [
    "df_types.head()"
   ]
  },
  {
   "cell_type": "markdown",
   "id": "9ca073d5-bfad-4947-b3f8-c376cc80df23",
   "metadata": {
    "jp-MarkdownHeadingCollapsed": true
   },
   "source": [
    "#### Преобразование типа данных в дате посещения"
   ]
  },
  {
   "cell_type": "code",
   "execution_count": 90,
   "id": "f353da2a-aab2-4379-a677-87d18a6bc085",
   "metadata": {},
   "outputs": [
    {
     "data": {
      "text/html": [
       "<div>\n",
       "<style scoped>\n",
       "    .dataframe tbody tr th:only-of-type {\n",
       "        vertical-align: middle;\n",
       "    }\n",
       "\n",
       "    .dataframe tbody tr th {\n",
       "        vertical-align: top;\n",
       "    }\n",
       "\n",
       "    .dataframe thead th {\n",
       "        text-align: right;\n",
       "    }\n",
       "</style>\n",
       "<table border=\"1\" class=\"dataframe\">\n",
       "  <thead>\n",
       "    <tr style=\"text-align: right;\">\n",
       "      <th></th>\n",
       "      <th>session_id</th>\n",
       "      <th>client_id</th>\n",
       "      <th>visit_date</th>\n",
       "      <th>visit_time</th>\n",
       "      <th>visit_number</th>\n",
       "      <th>utm_source</th>\n",
       "      <th>utm_medium</th>\n",
       "      <th>utm_campaign</th>\n",
       "      <th>utm_adcontent</th>\n",
       "      <th>device_category</th>\n",
       "      <th>device_os</th>\n",
       "      <th>device_brand</th>\n",
       "      <th>device_screen_resolution</th>\n",
       "      <th>device_browser</th>\n",
       "      <th>geo_country</th>\n",
       "      <th>geo_city</th>\n",
       "      <th>target</th>\n",
       "      <th>visit_date_time</th>\n",
       "    </tr>\n",
       "  </thead>\n",
       "  <tbody>\n",
       "    <tr>\n",
       "      <th>0</th>\n",
       "      <td>9055434745589932991.1637753792.1637753792</td>\n",
       "      <td>2108382700.1637753791</td>\n",
       "      <td>2021-11-24</td>\n",
       "      <td>14:36:32</td>\n",
       "      <td>1</td>\n",
       "      <td>ZpYIoDJMcFzVoPFsHGJL</td>\n",
       "      <td>banner</td>\n",
       "      <td>LEoPHuyFvzoNfnzGgfcd</td>\n",
       "      <td>vCIpmpaGBnIQhyYNkXqp</td>\n",
       "      <td>mobile</td>\n",
       "      <td>Android</td>\n",
       "      <td>Huawei</td>\n",
       "      <td>360x720</td>\n",
       "      <td>Chrome</td>\n",
       "      <td>Russia</td>\n",
       "      <td>Zlatoust</td>\n",
       "      <td>0.0</td>\n",
       "      <td>2021-11-24 14:36:32</td>\n",
       "    </tr>\n",
       "    <tr>\n",
       "      <th>1</th>\n",
       "      <td>905544597018549464.1636867290.1636867290</td>\n",
       "      <td>210838531.1636867288</td>\n",
       "      <td>2021-11-14</td>\n",
       "      <td>08:21:30</td>\n",
       "      <td>1</td>\n",
       "      <td>MvfHsxITijuriZxsqZqt</td>\n",
       "      <td>cpm</td>\n",
       "      <td>FTjNLDyTrXaWYgZymFkV</td>\n",
       "      <td>xhoenQgDQsgfEPYNPwKO</td>\n",
       "      <td>mobile</td>\n",
       "      <td>Android</td>\n",
       "      <td>Samsung</td>\n",
       "      <td>385x854</td>\n",
       "      <td>Samsung Internet</td>\n",
       "      <td>Russia</td>\n",
       "      <td>Moscow</td>\n",
       "      <td>0.0</td>\n",
       "      <td>2021-11-14 08:21:30</td>\n",
       "    </tr>\n",
       "    <tr>\n",
       "      <th>2</th>\n",
       "      <td>9055446045651783499.1640648526.1640648526</td>\n",
       "      <td>2108385331.1640648523</td>\n",
       "      <td>2021-12-28</td>\n",
       "      <td>02:42:06</td>\n",
       "      <td>1</td>\n",
       "      <td>ZpYIoDJMcFzVoPFsHGJL</td>\n",
       "      <td>banner</td>\n",
       "      <td>LEoPHuyFvzoNfnzGgfcd</td>\n",
       "      <td>vCIpmpaGBnIQhyYNkXqp</td>\n",
       "      <td>mobile</td>\n",
       "      <td>Android</td>\n",
       "      <td>Huawei</td>\n",
       "      <td>360x720</td>\n",
       "      <td>Chrome</td>\n",
       "      <td>Russia</td>\n",
       "      <td>Krasnoyarsk</td>\n",
       "      <td>0.0</td>\n",
       "      <td>2021-12-28 02:42:06</td>\n",
       "    </tr>\n",
       "    <tr>\n",
       "      <th>3</th>\n",
       "      <td>9055447046360770272.1622255328.1622255328</td>\n",
       "      <td>2108385564.1622255328</td>\n",
       "      <td>2021-05-29</td>\n",
       "      <td>05:00:00</td>\n",
       "      <td>1</td>\n",
       "      <td>kjsLglQLzykiRbcDiGcD</td>\n",
       "      <td>cpc</td>\n",
       "      <td>other</td>\n",
       "      <td>NOBKLgtuvqYWkXQHeYWM</td>\n",
       "      <td>mobile</td>\n",
       "      <td>Android</td>\n",
       "      <td>Xiaomi</td>\n",
       "      <td>393x786</td>\n",
       "      <td>Chrome</td>\n",
       "      <td>Russia</td>\n",
       "      <td>Moscow</td>\n",
       "      <td>0.0</td>\n",
       "      <td>2021-05-29 05:00:00</td>\n",
       "    </tr>\n",
       "    <tr>\n",
       "      <th>4</th>\n",
       "      <td>9055447046360770272.1622255345.1622255345</td>\n",
       "      <td>2108385564.1622255328</td>\n",
       "      <td>2021-05-29</td>\n",
       "      <td>05:00:00</td>\n",
       "      <td>2</td>\n",
       "      <td>kjsLglQLzykiRbcDiGcD</td>\n",
       "      <td>cpc</td>\n",
       "      <td>other</td>\n",
       "      <td>JNHcPlZPxEMWDnRiyoBf</td>\n",
       "      <td>mobile</td>\n",
       "      <td>Android</td>\n",
       "      <td>Xiaomi</td>\n",
       "      <td>393x786</td>\n",
       "      <td>Chrome</td>\n",
       "      <td>Russia</td>\n",
       "      <td>Moscow</td>\n",
       "      <td>0.0</td>\n",
       "      <td>2021-05-29 05:00:00</td>\n",
       "    </tr>\n",
       "  </tbody>\n",
       "</table>\n",
       "</div>"
      ],
      "text/plain": [
       "                                  session_id              client_id  \\\n",
       "0  9055434745589932991.1637753792.1637753792  2108382700.1637753791   \n",
       "1   905544597018549464.1636867290.1636867290   210838531.1636867288   \n",
       "2  9055446045651783499.1640648526.1640648526  2108385331.1640648523   \n",
       "3  9055447046360770272.1622255328.1622255328  2108385564.1622255328   \n",
       "4  9055447046360770272.1622255345.1622255345  2108385564.1622255328   \n",
       "\n",
       "   visit_date visit_time  visit_number            utm_source utm_medium  \\\n",
       "0  2021-11-24   14:36:32             1  ZpYIoDJMcFzVoPFsHGJL     banner   \n",
       "1  2021-11-14   08:21:30             1  MvfHsxITijuriZxsqZqt        cpm   \n",
       "2  2021-12-28   02:42:06             1  ZpYIoDJMcFzVoPFsHGJL     banner   \n",
       "3  2021-05-29   05:00:00             1  kjsLglQLzykiRbcDiGcD        cpc   \n",
       "4  2021-05-29   05:00:00             2  kjsLglQLzykiRbcDiGcD        cpc   \n",
       "\n",
       "           utm_campaign         utm_adcontent device_category device_os  \\\n",
       "0  LEoPHuyFvzoNfnzGgfcd  vCIpmpaGBnIQhyYNkXqp          mobile   Android   \n",
       "1  FTjNLDyTrXaWYgZymFkV  xhoenQgDQsgfEPYNPwKO          mobile   Android   \n",
       "2  LEoPHuyFvzoNfnzGgfcd  vCIpmpaGBnIQhyYNkXqp          mobile   Android   \n",
       "3                 other  NOBKLgtuvqYWkXQHeYWM          mobile   Android   \n",
       "4                 other  JNHcPlZPxEMWDnRiyoBf          mobile   Android   \n",
       "\n",
       "  device_brand device_screen_resolution    device_browser geo_country  \\\n",
       "0       Huawei                  360x720            Chrome      Russia   \n",
       "1      Samsung                  385x854  Samsung Internet      Russia   \n",
       "2       Huawei                  360x720            Chrome      Russia   \n",
       "3       Xiaomi                  393x786            Chrome      Russia   \n",
       "4       Xiaomi                  393x786            Chrome      Russia   \n",
       "\n",
       "      geo_city  target      visit_date_time  \n",
       "0     Zlatoust     0.0  2021-11-24 14:36:32  \n",
       "1       Moscow     0.0  2021-11-14 08:21:30  \n",
       "2  Krasnoyarsk     0.0  2021-12-28 02:42:06  \n",
       "3       Moscow     0.0  2021-05-29 05:00:00  \n",
       "4       Moscow     0.0  2021-05-29 05:00:00  "
      ]
     },
     "execution_count": 90,
     "metadata": {},
     "output_type": "execute_result"
    }
   ],
   "source": [
    "# Объединяю столбцы с датой и временем посещения\n",
    "df_types['visit_date_time'] = df_types['visit_date'] + ' ' +  df_types['visit_time']\n",
    "df_types.head()"
   ]
  },
  {
   "cell_type": "code",
   "execution_count": 91,
   "id": "0f4aac8f-1958-4243-8ad2-a4f2d4462c34",
   "metadata": {},
   "outputs": [
    {
     "data": {
      "text/html": [
       "<div>\n",
       "<style scoped>\n",
       "    .dataframe tbody tr th:only-of-type {\n",
       "        vertical-align: middle;\n",
       "    }\n",
       "\n",
       "    .dataframe tbody tr th {\n",
       "        vertical-align: top;\n",
       "    }\n",
       "\n",
       "    .dataframe thead th {\n",
       "        text-align: right;\n",
       "    }\n",
       "</style>\n",
       "<table border=\"1\" class=\"dataframe\">\n",
       "  <thead>\n",
       "    <tr style=\"text-align: right;\">\n",
       "      <th></th>\n",
       "      <th>visit_date</th>\n",
       "      <th>visit_time</th>\n",
       "      <th>visit_date_time</th>\n",
       "    </tr>\n",
       "  </thead>\n",
       "  <tbody>\n",
       "    <tr>\n",
       "      <th>0</th>\n",
       "      <td>2021-11-24</td>\n",
       "      <td>14:36:32</td>\n",
       "      <td>2021-11-24 14:36:32</td>\n",
       "    </tr>\n",
       "    <tr>\n",
       "      <th>1</th>\n",
       "      <td>2021-11-14</td>\n",
       "      <td>08:21:30</td>\n",
       "      <td>2021-11-14 08:21:30</td>\n",
       "    </tr>\n",
       "    <tr>\n",
       "      <th>2</th>\n",
       "      <td>2021-12-28</td>\n",
       "      <td>02:42:06</td>\n",
       "      <td>2021-12-28 02:42:06</td>\n",
       "    </tr>\n",
       "    <tr>\n",
       "      <th>3</th>\n",
       "      <td>2021-05-29</td>\n",
       "      <td>05:00:00</td>\n",
       "      <td>2021-05-29 05:00:00</td>\n",
       "    </tr>\n",
       "    <tr>\n",
       "      <th>4</th>\n",
       "      <td>2021-05-29</td>\n",
       "      <td>05:00:00</td>\n",
       "      <td>2021-05-29 05:00:00</td>\n",
       "    </tr>\n",
       "    <tr>\n",
       "      <th>...</th>\n",
       "      <td>...</td>\n",
       "      <td>...</td>\n",
       "      <td>...</td>\n",
       "    </tr>\n",
       "    <tr>\n",
       "      <th>1860037</th>\n",
       "      <td>2021-12-22</td>\n",
       "      <td>10:48:25</td>\n",
       "      <td>2021-12-22 10:48:25</td>\n",
       "    </tr>\n",
       "    <tr>\n",
       "      <th>1860038</th>\n",
       "      <td>2021-05-26</td>\n",
       "      <td>08:00:00</td>\n",
       "      <td>2021-05-26 08:00:00</td>\n",
       "    </tr>\n",
       "    <tr>\n",
       "      <th>1860039</th>\n",
       "      <td>2021-11-15</td>\n",
       "      <td>15:31:55</td>\n",
       "      <td>2021-11-15 15:31:55</td>\n",
       "    </tr>\n",
       "    <tr>\n",
       "      <th>1860040</th>\n",
       "      <td>2021-11-29</td>\n",
       "      <td>15:36:44</td>\n",
       "      <td>2021-11-29 15:36:44</td>\n",
       "    </tr>\n",
       "    <tr>\n",
       "      <th>1860041</th>\n",
       "      <td>2021-12-31</td>\n",
       "      <td>19:39:02</td>\n",
       "      <td>2021-12-31 19:39:02</td>\n",
       "    </tr>\n",
       "  </tbody>\n",
       "</table>\n",
       "<p>1860042 rows × 3 columns</p>\n",
       "</div>"
      ],
      "text/plain": [
       "         visit_date visit_time      visit_date_time\n",
       "0        2021-11-24   14:36:32  2021-11-24 14:36:32\n",
       "1        2021-11-14   08:21:30  2021-11-14 08:21:30\n",
       "2        2021-12-28   02:42:06  2021-12-28 02:42:06\n",
       "3        2021-05-29   05:00:00  2021-05-29 05:00:00\n",
       "4        2021-05-29   05:00:00  2021-05-29 05:00:00\n",
       "...             ...        ...                  ...\n",
       "1860037  2021-12-22   10:48:25  2021-12-22 10:48:25\n",
       "1860038  2021-05-26   08:00:00  2021-05-26 08:00:00\n",
       "1860039  2021-11-15   15:31:55  2021-11-15 15:31:55\n",
       "1860040  2021-11-29   15:36:44  2021-11-29 15:36:44\n",
       "1860041  2021-12-31   19:39:02  2021-12-31 19:39:02\n",
       "\n",
       "[1860042 rows x 3 columns]"
      ]
     },
     "execution_count": 91,
     "metadata": {},
     "output_type": "execute_result"
    }
   ],
   "source": [
    "df_types[['visit_date', 'visit_time', 'visit_date_time']]"
   ]
  },
  {
   "cell_type": "code",
   "execution_count": 92,
   "id": "0a5848a1-6b64-48c8-816c-8fe5f9172469",
   "metadata": {},
   "outputs": [
    {
     "data": {
      "text/plain": [
       "visit_date         object\n",
       "visit_time         object\n",
       "visit_date_time    object\n",
       "dtype: object"
      ]
     },
     "execution_count": 92,
     "metadata": {},
     "output_type": "execute_result"
    }
   ],
   "source": [
    "df_types[['visit_date', 'visit_time', 'visit_date_time']].dtypes"
   ]
  },
  {
   "cell_type": "code",
   "execution_count": 93,
   "id": "f0cbb757-2d9a-46af-bc59-c4210ee20155",
   "metadata": {},
   "outputs": [],
   "source": [
    "# Преобразуем тип объединенного столбца\n",
    "df_types['visit_date_time'] = pd.to_datetime(df_types.visit_date_time, utc=True)"
   ]
  },
  {
   "cell_type": "code",
   "execution_count": 94,
   "id": "3c2788fb-eafe-4751-933f-37e5144643d4",
   "metadata": {},
   "outputs": [
    {
     "data": {
      "text/html": [
       "<div>\n",
       "<style scoped>\n",
       "    .dataframe tbody tr th:only-of-type {\n",
       "        vertical-align: middle;\n",
       "    }\n",
       "\n",
       "    .dataframe tbody tr th {\n",
       "        vertical-align: top;\n",
       "    }\n",
       "\n",
       "    .dataframe thead th {\n",
       "        text-align: right;\n",
       "    }\n",
       "</style>\n",
       "<table border=\"1\" class=\"dataframe\">\n",
       "  <thead>\n",
       "    <tr style=\"text-align: right;\">\n",
       "      <th></th>\n",
       "      <th>visit_date</th>\n",
       "      <th>visit_time</th>\n",
       "      <th>visit_date_time</th>\n",
       "    </tr>\n",
       "  </thead>\n",
       "  <tbody>\n",
       "    <tr>\n",
       "      <th>0</th>\n",
       "      <td>2021-11-24</td>\n",
       "      <td>14:36:32</td>\n",
       "      <td>2021-11-24 14:36:32+00:00</td>\n",
       "    </tr>\n",
       "    <tr>\n",
       "      <th>1</th>\n",
       "      <td>2021-11-14</td>\n",
       "      <td>08:21:30</td>\n",
       "      <td>2021-11-14 08:21:30+00:00</td>\n",
       "    </tr>\n",
       "    <tr>\n",
       "      <th>2</th>\n",
       "      <td>2021-12-28</td>\n",
       "      <td>02:42:06</td>\n",
       "      <td>2021-12-28 02:42:06+00:00</td>\n",
       "    </tr>\n",
       "    <tr>\n",
       "      <th>3</th>\n",
       "      <td>2021-05-29</td>\n",
       "      <td>05:00:00</td>\n",
       "      <td>2021-05-29 05:00:00+00:00</td>\n",
       "    </tr>\n",
       "    <tr>\n",
       "      <th>4</th>\n",
       "      <td>2021-05-29</td>\n",
       "      <td>05:00:00</td>\n",
       "      <td>2021-05-29 05:00:00+00:00</td>\n",
       "    </tr>\n",
       "    <tr>\n",
       "      <th>...</th>\n",
       "      <td>...</td>\n",
       "      <td>...</td>\n",
       "      <td>...</td>\n",
       "    </tr>\n",
       "    <tr>\n",
       "      <th>1860037</th>\n",
       "      <td>2021-12-22</td>\n",
       "      <td>10:48:25</td>\n",
       "      <td>2021-12-22 10:48:25+00:00</td>\n",
       "    </tr>\n",
       "    <tr>\n",
       "      <th>1860038</th>\n",
       "      <td>2021-05-26</td>\n",
       "      <td>08:00:00</td>\n",
       "      <td>2021-05-26 08:00:00+00:00</td>\n",
       "    </tr>\n",
       "    <tr>\n",
       "      <th>1860039</th>\n",
       "      <td>2021-11-15</td>\n",
       "      <td>15:31:55</td>\n",
       "      <td>2021-11-15 15:31:55+00:00</td>\n",
       "    </tr>\n",
       "    <tr>\n",
       "      <th>1860040</th>\n",
       "      <td>2021-11-29</td>\n",
       "      <td>15:36:44</td>\n",
       "      <td>2021-11-29 15:36:44+00:00</td>\n",
       "    </tr>\n",
       "    <tr>\n",
       "      <th>1860041</th>\n",
       "      <td>2021-12-31</td>\n",
       "      <td>19:39:02</td>\n",
       "      <td>2021-12-31 19:39:02+00:00</td>\n",
       "    </tr>\n",
       "  </tbody>\n",
       "</table>\n",
       "<p>1860042 rows × 3 columns</p>\n",
       "</div>"
      ],
      "text/plain": [
       "         visit_date visit_time           visit_date_time\n",
       "0        2021-11-24   14:36:32 2021-11-24 14:36:32+00:00\n",
       "1        2021-11-14   08:21:30 2021-11-14 08:21:30+00:00\n",
       "2        2021-12-28   02:42:06 2021-12-28 02:42:06+00:00\n",
       "3        2021-05-29   05:00:00 2021-05-29 05:00:00+00:00\n",
       "4        2021-05-29   05:00:00 2021-05-29 05:00:00+00:00\n",
       "...             ...        ...                       ...\n",
       "1860037  2021-12-22   10:48:25 2021-12-22 10:48:25+00:00\n",
       "1860038  2021-05-26   08:00:00 2021-05-26 08:00:00+00:00\n",
       "1860039  2021-11-15   15:31:55 2021-11-15 15:31:55+00:00\n",
       "1860040  2021-11-29   15:36:44 2021-11-29 15:36:44+00:00\n",
       "1860041  2021-12-31   19:39:02 2021-12-31 19:39:02+00:00\n",
       "\n",
       "[1860042 rows x 3 columns]"
      ]
     },
     "execution_count": 94,
     "metadata": {},
     "output_type": "execute_result"
    }
   ],
   "source": [
    "df_types[['visit_date', 'visit_time', 'visit_date_time']]"
   ]
  },
  {
   "cell_type": "code",
   "execution_count": 95,
   "id": "e0171ff1-2de2-4bf2-9ed8-48bd6882886b",
   "metadata": {},
   "outputs": [
    {
     "data": {
      "text/plain": [
       "visit_date                      object\n",
       "visit_time                      object\n",
       "visit_date_time    datetime64[ns, UTC]\n",
       "dtype: object"
      ]
     },
     "execution_count": 95,
     "metadata": {},
     "output_type": "execute_result"
    }
   ],
   "source": [
    "# Проверяю присовенный тип нового столбца\n",
    "df_types[['visit_date', 'visit_time', 'visit_date_time']].dtypes"
   ]
  },
  {
   "cell_type": "code",
   "execution_count": 96,
   "id": "fe1b50af-1a2d-4c50-ba4c-2cb9c10183e1",
   "metadata": {},
   "outputs": [],
   "source": [
    "# Удаляю исходные столбцы visit_date и visit_time\n",
    "df_types = df_types.drop(['visit_date', 'visit_time'], axis=1)"
   ]
  },
  {
   "cell_type": "code",
   "execution_count": 97,
   "id": "155efc2c-cff2-40bf-b0a7-46d2f6b088d1",
   "metadata": {},
   "outputs": [
    {
     "name": "stdout",
     "output_type": "stream",
     "text": [
      "<class 'pandas.core.frame.DataFrame'>\n",
      "RangeIndex: 1860042 entries, 0 to 1860041\n",
      "Data columns (total 16 columns):\n",
      " #   Column                    Dtype              \n",
      "---  ------                    -----              \n",
      " 0   session_id                object             \n",
      " 1   client_id                 object             \n",
      " 2   visit_number              int64              \n",
      " 3   utm_source                object             \n",
      " 4   utm_medium                object             \n",
      " 5   utm_campaign              object             \n",
      " 6   utm_adcontent             object             \n",
      " 7   device_category           object             \n",
      " 8   device_os                 object             \n",
      " 9   device_brand              object             \n",
      " 10  device_screen_resolution  object             \n",
      " 11  device_browser            object             \n",
      " 12  geo_country               object             \n",
      " 13  geo_city                  object             \n",
      " 14  target                    float64            \n",
      " 15  visit_date_time           datetime64[ns, UTC]\n",
      "dtypes: datetime64[ns, UTC](1), float64(1), int64(1), object(13)\n",
      "memory usage: 227.1+ MB\n"
     ]
    }
   ],
   "source": [
    "df_types.info()"
   ]
  },
  {
   "cell_type": "markdown",
   "id": "62b54a8a-eed2-480c-ae36-65295fa547d0",
   "metadata": {
    "jp-MarkdownHeadingCollapsed": true
   },
   "source": [
    "#### Преобразование категориальных типов данных"
   ]
  },
  {
   "cell_type": "code",
   "execution_count": 98,
   "id": "f6645d87-842d-4177-bc02-e1117430786a",
   "metadata": {},
   "outputs": [],
   "source": [
    "category_columns = ['utm_source', 'utm_medium', 'utm_campaign', 'utm_adcontent', 'device_category', 'device_os', 'device_brand', 'device_browser']\n",
    "df_types[category_columns] = df_types[category_columns].astype('category')"
   ]
  },
  {
   "cell_type": "code",
   "execution_count": 99,
   "id": "dbf0ff25-c93f-4082-8e24-6d663ab6e3ff",
   "metadata": {},
   "outputs": [
    {
     "name": "stdout",
     "output_type": "stream",
     "text": [
      "<class 'pandas.core.frame.DataFrame'>\n",
      "RangeIndex: 1860042 entries, 0 to 1860041\n",
      "Data columns (total 16 columns):\n",
      " #   Column                    Dtype              \n",
      "---  ------                    -----              \n",
      " 0   session_id                object             \n",
      " 1   client_id                 object             \n",
      " 2   visit_number              int64              \n",
      " 3   utm_source                category           \n",
      " 4   utm_medium                category           \n",
      " 5   utm_campaign              category           \n",
      " 6   utm_adcontent             category           \n",
      " 7   device_category           category           \n",
      " 8   device_os                 category           \n",
      " 9   device_brand              category           \n",
      " 10  device_screen_resolution  object             \n",
      " 11  device_browser            category           \n",
      " 12  geo_country               object             \n",
      " 13  geo_city                  object             \n",
      " 14  target                    float64            \n",
      " 15  visit_date_time           datetime64[ns, UTC]\n",
      "dtypes: category(8), datetime64[ns, UTC](1), float64(1), int64(1), object(5)\n",
      "memory usage: 134.9+ MB\n"
     ]
    }
   ],
   "source": [
    "df_types.info()"
   ]
  },
  {
   "cell_type": "markdown",
   "id": "280a2883-3f34-428e-a08d-12bdbba8aef1",
   "metadata": {},
   "source": [
    "### Выявление аномальных значений"
   ]
  },
  {
   "cell_type": "markdown",
   "id": "d2521f4f-9bf0-4e82-b961-703219094a9c",
   "metadata": {},
   "source": [
    "#### Выявление аномалий в столбце номера визита"
   ]
  },
  {
   "cell_type": "code",
   "execution_count": 100,
   "id": "412e64f6-4834-4276-a484-9daee2878683",
   "metadata": {},
   "outputs": [],
   "source": [
    "df_out = df_types.copy()"
   ]
  },
  {
   "cell_type": "code",
   "execution_count": 101,
   "id": "a6c9fc69-95e8-4430-9a11-59d316fcdd48",
   "metadata": {},
   "outputs": [
    {
     "data": {
      "text/plain": [
       "count     1860042.000\n",
       "mean            2.713\n",
       "std            11.829\n",
       "min             1.000\n",
       "25%             1.000\n",
       "50%             1.000\n",
       "75%             2.000\n",
       "max           564.000\n",
       "Name: visit_number, dtype: object"
      ]
     },
     "execution_count": 101,
     "metadata": {},
     "output_type": "execute_result"
    }
   ],
   "source": [
    "df_out.visit_number.describe().apply(lambda x: f\"{x: 0.3f}\")"
   ]
  },
  {
   "cell_type": "code",
   "execution_count": 102,
   "id": "5a3f54fe-dc20-4b60-aed0-04b45df153fe",
   "metadata": {},
   "outputs": [
    {
     "data": {
      "image/png": "[encoded data removed]",
      "text/plain": [
       "<Figure size 800x500 with 1 Axes>"
      ]
     },
     "metadata": {},
     "output_type": "display_data"
    }
   ],
   "source": [
    "plt.figure(figsize = (8,5))\n",
    "plt.boxplot(df_out.visit_number)\n",
    "plt.ylabel('Количество визитов')\n",
    "plt.title('Ящик с усами для количества визитов');"
   ]
  },
  {
   "cell_type": "code",
   "execution_count": 103,
   "id": "6ad30d8b-581a-476c-b432-006c84308048",
   "metadata": {},
   "outputs": [],
   "source": [
    "def calculate_outliers(data):\n",
    "    q25 = data.quantile(0.25)\n",
    "    q75 = data.quantile(0.75)\n",
    "    iqr = q75 - q25\n",
    "    boundaries = (q25 - 1.5 * iqr, q75 + 1.5 * iqr)\n",
    "    return boundaries"
   ]
  },
  {
   "cell_type": "code",
   "execution_count": 104,
   "id": "93da5bec-2915-4443-b491-2f3dd0368e98",
   "metadata": {},
   "outputs": [
    {
     "data": {
      "text/plain": [
       "(-0.5, 3.5)"
      ]
     },
     "execution_count": 104,
     "metadata": {},
     "output_type": "execute_result"
    }
   ],
   "source": [
    "calculate_outliers(df_out.visit_number)"
   ]
  },
  {
   "cell_type": "code",
   "execution_count": 105,
   "id": "7c1a4bb6-fe5b-4026-9b46-cbde77bec41d",
   "metadata": {},
   "outputs": [
    {
     "data": {
      "text/plain": [
       "166969"
      ]
     },
     "execution_count": 105,
     "metadata": {},
     "output_type": "execute_result"
    }
   ],
   "source": [
    "boundaries = calculate_outliers(df_out.visit_number)\n",
    "is_outlier = (df_out.visit_number < boundaries[0]) | (df_out.visit_number > boundaries[1])\n",
    "is_outlier.sum()"
   ]
  },
  {
   "cell_type": "code",
   "execution_count": 106,
   "id": "b29a08f3-8085-45f2-ab2b-d9ae581055d4",
   "metadata": {},
   "outputs": [
    {
     "name": "stdout",
     "output_type": "stream",
     "text": [
      "Доля выбросов в столбце номера визитов: 0.08976625258999528\n"
     ]
    }
   ],
   "source": [
    "print(f'Доля выбросов в столбце номера визитов: {is_outlier.sum() / len(df_out.visit_number)}')"
   ]
  },
  {
   "cell_type": "code",
   "execution_count": 107,
   "id": "f211a449-c9f5-4ce9-853f-3fdd53eb83c6",
   "metadata": {},
   "outputs": [],
   "source": [
    "df_out.loc[is_outlier, 'visit_number'] = int(boundaries[1])"
   ]
  },
  {
   "cell_type": "code",
   "execution_count": 108,
   "id": "69bfb5d1-fd09-4208-8b25-9f5c31f6f6c2",
   "metadata": {},
   "outputs": [
    {
     "data": {
      "image/png": "[encoded data removed]",
      "text/plain": [
       "<Figure size 800x500 with 1 Axes>"
      ]
     },
     "metadata": {},
     "output_type": "display_data"
    }
   ],
   "source": [
    "plt.figure(figsize = (8,5))\n",
    "plt.boxplot(df_out.visit_number)\n",
    "plt.ylabel('Количество визитов')\n",
    "plt.title('Ящик с усами для количества визитов');"
   ]
  },
  {
   "cell_type": "markdown",
   "id": "3059f73d-5df0-49ad-aa2d-81055142dbe3",
   "metadata": {},
   "source": [
    "## Feature Engineering"
   ]
  },
  {
   "cell_type": "markdown",
   "id": "1dcbec03-79e8-429b-bb17-c20afcbbdebc",
   "metadata": {},
   "source": [
    "### Работа со столбцом utm_source"
   ]
  },
  {
   "cell_type": "markdown",
   "id": "c5dbcebf-b413-4764-b59a-d3aff02c96ac",
   "metadata": {},
   "source": [
    "#### Создание новых признаков из столбца utm_source"
   ]
  },
  {
   "cell_type": "code",
   "execution_count": 109,
   "id": "7fddda9f-8d84-4dc3-b5d7-11eb0201a5e6",
   "metadata": {},
   "outputs": [],
   "source": [
    "df_fe = df_out.copy()"
   ]
  },
  {
   "cell_type": "code",
   "execution_count": 110,
   "id": "880cf1be-081e-44c6-97b9-3d706e08ebcc",
   "metadata": {},
   "outputs": [
    {
     "data": {
      "text/plain": [
       "Index(['session_id', 'client_id', 'visit_number', 'utm_source', 'utm_medium',\n",
       "       'utm_campaign', 'utm_adcontent', 'device_category', 'device_os',\n",
       "       'device_brand', 'device_screen_resolution', 'device_browser',\n",
       "       'geo_country', 'geo_city', 'target', 'visit_date_time'],\n",
       "      dtype='object')"
      ]
     },
     "execution_count": 110,
     "metadata": {},
     "output_type": "execute_result"
    }
   ],
   "source": [
    "df_fe.columns"
   ]
  },
  {
   "cell_type": "code",
   "execution_count": 111,
   "id": "a77c3de0-c67c-4477-997b-0699e4cfbdef",
   "metadata": {},
   "outputs": [],
   "source": [
    "#Создадим признак по типу канала привлечения: из социальных сетей и не из социальных сетей\n",
    "social_net_source_list = ['QxAxdyPLuQMEcrdZWdWb', 'MvfHsxITijuriZxsqZqt', 'ISrKoXQCxqqYvAZICvjs', \n",
    "                          'IZEXUFLARCUMynmHNBGo', 'PlbkrSYoHuZBWfYjYnfw', 'gVRrcxiDQubJiljoTbGm']"
   ]
  },
  {
   "cell_type": "code",
   "execution_count": 112,
   "id": "97d08962-9031-49ce-b71c-63de6128c7d0",
   "metadata": {},
   "outputs": [],
   "source": [
    "df_fe['utm_source_type'] = df_fe.apply(lambda x: 'social_net' if x['utm_source'] in social_net_source_list else 'other', axis=1)"
   ]
  },
  {
   "cell_type": "code",
   "execution_count": 113,
   "id": "3e0b4c82-d948-4c9b-aac4-90ce8e4ae2fd",
   "metadata": {},
   "outputs": [
    {
     "data": {
      "text/plain": [
       "array(['other', 'social_net'], dtype=object)"
      ]
     },
     "execution_count": 113,
     "metadata": {},
     "output_type": "execute_result"
    }
   ],
   "source": [
    "df_fe.utm_source_type.unique()"
   ]
  },
  {
   "cell_type": "markdown",
   "id": "892f9f09-78f7-4733-bd93-c66bc8640d61",
   "metadata": {},
   "source": [
    "#### Перерасчет значений в столбце utm_source"
   ]
  },
  {
   "cell_type": "code",
   "execution_count": 114,
   "id": "2dfb0403-52e1-4a7a-8d85-1daf6a49b7ac",
   "metadata": {},
   "outputs": [
    {
     "data": {
      "text/plain": [
       "293"
      ]
     },
     "execution_count": 114,
     "metadata": {},
     "output_type": "execute_result"
    }
   ],
   "source": [
    "df_fe.utm_source.nunique()"
   ]
  },
  {
   "cell_type": "markdown",
   "id": "aa9c2cf1-34d5-416b-b1b0-9518821e0b16",
   "metadata": {},
   "source": [
    "В столбце utm_source имеется 293 уникальных значения. Я бы хотел уменьшить их количество во избежании высокой нагрузки на компьютер при моделировании"
   ]
  },
  {
   "cell_type": "code",
   "execution_count": 115,
   "id": "8503ba97-c265-4fc9-a1e3-ebe517268202",
   "metadata": {},
   "outputs": [
    {
     "data": {
      "text/plain": [
       "utm_source\n",
       "ZpYIoDJMcFzVoPFsHGJL    31.10\n",
       "fDLlAcSmythWSCVMvqvL    16.16\n",
       "kjsLglQLzykiRbcDiGcD    14.32\n",
       "MvfHsxITijuriZxsqZqt    10.01\n",
       "BHcvLfOaCWvWTykYqHVe     6.25\n",
       "bByPQxmDaMXgpHeypKSM     5.50\n",
       "QxAxdyPLuQMEcrdZWdWb     2.76\n",
       "aXQzDWsJuGXeBXexNHjc     1.67\n",
       "jaSOmLICuBzCFqHfBdRg     1.57\n",
       "RmEBuqrriAfAVsLQQmhk     1.51\n",
       "vFcAhRxLfOWKhvxjELkx     1.31\n",
       "PlbkrSYoHuZBWfYjYnfw     1.12\n",
       "hTjLvqNxGggkGnxSCaTm     0.78\n",
       "gDBGzjFKYabGgSPZvrDH     0.73\n",
       "fgymSoTvjKPEgaIJqsiH     0.52\n",
       "geDcueAOghDzHkGMmdOq     0.47\n",
       "ISrKoXQCxqqYvAZICvjs     0.46\n",
       "nSReTmyFtbSjlPrTKoaX     0.39\n",
       "SzZERoLMmrEUEhDaYcyN     0.37\n",
       "eLzNJHzPelJpEyBwMrKo     0.29\n",
       "Name: proportion, dtype: float64"
      ]
     },
     "execution_count": 115,
     "metadata": {},
     "output_type": "execute_result"
    }
   ],
   "source": [
    "#Рассмотрю распределение уникальных значений в столбце utm_source в процентах\n",
    "utm_source_prop = df_fe.utm_source.value_counts(normalize=True).apply(lambda x: 100 * float(f\"{x: 0.4f}\"))\n",
    "utm_source_prop.head(20)"
   ]
  },
  {
   "cell_type": "code",
   "execution_count": 116,
   "id": "13417232-afc0-4f51-957d-73c74f1fddaf",
   "metadata": {},
   "outputs": [
    {
     "data": {
      "text/plain": [
       "99.19999999999999"
      ]
     },
     "execution_count": 116,
     "metadata": {},
     "output_type": "execute_result"
    }
   ],
   "source": [
    "utm_source_prop[utm_source_prop > 0.05].sum()"
   ]
  },
  {
   "cell_type": "code",
   "execution_count": 117,
   "id": "40147f70-ea86-4fae-83d8-776d9cb212b6",
   "metadata": {},
   "outputs": [
    {
     "data": {
      "text/plain": [
       "38"
      ]
     },
     "execution_count": 117,
     "metadata": {},
     "output_type": "execute_result"
    }
   ],
   "source": [
    "utm_source_prop[utm_source_prop > 0.05].count()"
   ]
  },
  {
   "cell_type": "markdown",
   "id": "4a1bfaaa-9a46-4b50-b27d-adcd479aec61",
   "metadata": {},
   "source": [
    "Таким образом, имеется 27 значений utm_source, каждый из которых встречается чаще 0.1% и в сумме занимают 98.38% от общего количества объектов. Во избежании повышенной нагрузки на компьютер при моделировании считаю допустимым присвоить значение other всем значениям, встречающимся реже 0.1%"
   ]
  },
  {
   "cell_type": "code",
   "execution_count": 118,
   "id": "bb4f5062-a12c-4104-a808-55cbcf18447e",
   "metadata": {},
   "outputs": [
    {
     "data": {
      "text/plain": [
       "['ZpYIoDJMcFzVoPFsHGJL',\n",
       " 'fDLlAcSmythWSCVMvqvL',\n",
       " 'kjsLglQLzykiRbcDiGcD',\n",
       " 'MvfHsxITijuriZxsqZqt',\n",
       " 'BHcvLfOaCWvWTykYqHVe',\n",
       " 'bByPQxmDaMXgpHeypKSM',\n",
       " 'QxAxdyPLuQMEcrdZWdWb',\n",
       " 'aXQzDWsJuGXeBXexNHjc',\n",
       " 'jaSOmLICuBzCFqHfBdRg',\n",
       " 'RmEBuqrriAfAVsLQQmhk',\n",
       " 'vFcAhRxLfOWKhvxjELkx',\n",
       " 'PlbkrSYoHuZBWfYjYnfw',\n",
       " 'hTjLvqNxGggkGnxSCaTm',\n",
       " 'gDBGzjFKYabGgSPZvrDH',\n",
       " 'fgymSoTvjKPEgaIJqsiH',\n",
       " 'geDcueAOghDzHkGMmdOq',\n",
       " 'ISrKoXQCxqqYvAZICvjs',\n",
       " 'nSReTmyFtbSjlPrTKoaX',\n",
       " 'SzZERoLMmrEUEhDaYcyN',\n",
       " 'eLzNJHzPelJpEyBwMrKo',\n",
       " 'IZEXUFLARCUMynmHNBGo',\n",
       " 'iNFgfQPqHPBuvGCYtrQE',\n",
       " 'oZCzWSykfixnjMPDNjSU',\n",
       " 'gVRrcxiDQubJiljoTbGm',\n",
       " 'nmfptFmSirEqNzAzqbXA',\n",
       " 'GpAkIXsclxDGyILfNlrR',\n",
       " 'TxKUcPpthBDPieTGmVhx',\n",
       " 'ghoaGAksqhKomdFrxgyJ',\n",
       " 'KgicpPxiEQfzPlPwQZJq',\n",
       " 'nrKihqcWGIzDsOqljdAv',\n",
       " 'BKeImrJuRDZcHiSSTdzm',\n",
       " 'DnEUulZAecfGPvdtZBYS',\n",
       " 'YlsczTIyBSwTLNtuDkCd',\n",
       " 'YclHumxPxSxgzHfvCaeF',\n",
       " 'klTrhUaShgnjIbaPmqjc',\n",
       " 'dyicZQGoeASogoSafjEh',\n",
       " 'HFaOtpcChAlcMuxEAlpu',\n",
       " 'TTtiRKFZIaQpIWggfCoF']"
      ]
     },
     "execution_count": 118,
     "metadata": {},
     "output_type": "execute_result"
    }
   ],
   "source": [
    "#Значения, встречающиеся чаще 0.1% занимают в сумме более 95% от общего количества объектов. \n",
    "#В целях снижения нагрузки на компьютер присвою значениям, встречающимся реже 0.1%, значение other.\n",
    "utm_source_prop_list = utm_source_prop[utm_source_prop > 0.05].keys().tolist()\n",
    "utm_source_prop_list"
   ]
  },
  {
   "cell_type": "code",
   "execution_count": 119,
   "id": "bc0e81a7-eb92-4968-a57c-31679fb77c25",
   "metadata": {},
   "outputs": [],
   "source": [
    "df_fe['utm_source'] = df_fe['utm_source'].apply(lambda x: x if x in utm_source_prop_list else 'other')"
   ]
  },
  {
   "cell_type": "code",
   "execution_count": 120,
   "id": "3f24b034-68bd-4868-9e26-46ab9de07d42",
   "metadata": {},
   "outputs": [
    {
     "name": "stdout",
     "output_type": "stream",
     "text": [
      "После переименования в стобце utm_source стало 39 значений\n"
     ]
    }
   ],
   "source": [
    "print(f'После переименования в стобце utm_source стало {df_fe.utm_source.nunique()} значений')"
   ]
  },
  {
   "cell_type": "markdown",
   "id": "2ab783d6-9205-4348-9f2e-2d88b5a51194",
   "metadata": {},
   "source": [
    "### Работа со столбцом utm_medium"
   ]
  },
  {
   "cell_type": "markdown",
   "id": "8316fdf2-49b8-412d-8522-fe73234ef418",
   "metadata": {},
   "source": [
    "#### Создание новых признаков из столбца utm_medium"
   ]
  },
  {
   "cell_type": "code",
   "execution_count": 121,
   "id": "505f1434-dc5e-447f-91b3-c0c0d4940955",
   "metadata": {},
   "outputs": [],
   "source": [
    "#Создадим признак по типу трафика: органический и неорганический\n",
    "organic_medium_list = ['organic', 'referral', '(none)']"
   ]
  },
  {
   "cell_type": "code",
   "execution_count": 122,
   "id": "cb630b2b-3d36-4b16-93f2-63196502dae8",
   "metadata": {},
   "outputs": [],
   "source": [
    "df_fe['utm_medium_type'] = df_fe.apply(lambda x: 'organic' if x['utm_medium'] in organic_medium_list else 'other', axis=1)"
   ]
  },
  {
   "cell_type": "code",
   "execution_count": 123,
   "id": "9f335978-627b-40e3-9d00-9662e6b4223e",
   "metadata": {},
   "outputs": [
    {
     "data": {
      "text/plain": [
       "array(['other', 'organic'], dtype=object)"
      ]
     },
     "execution_count": 123,
     "metadata": {},
     "output_type": "execute_result"
    }
   ],
   "source": [
    "df_fe.utm_medium_type.unique()"
   ]
  },
  {
   "cell_type": "code",
   "execution_count": 124,
   "id": "f498d2de-8b26-4d0e-81d6-6936073f446c",
   "metadata": {},
   "outputs": [
    {
     "data": {
      "text/plain": [
       "['session_id',\n",
       " 'client_id',\n",
       " 'visit_number',\n",
       " 'utm_source',\n",
       " 'utm_medium',\n",
       " 'utm_campaign',\n",
       " 'utm_adcontent',\n",
       " 'device_category',\n",
       " 'device_os',\n",
       " 'device_brand',\n",
       " 'device_screen_resolution',\n",
       " 'device_browser',\n",
       " 'geo_country',\n",
       " 'geo_city',\n",
       " 'target',\n",
       " 'visit_date_time',\n",
       " 'utm_source_type',\n",
       " 'utm_medium_type']"
      ]
     },
     "execution_count": 124,
     "metadata": {},
     "output_type": "execute_result"
    }
   ],
   "source": [
    "df_fe.columns.tolist()"
   ]
  },
  {
   "cell_type": "markdown",
   "id": "51c2773f-55bd-4c73-b4e6-7ec180abda3c",
   "metadata": {},
   "source": [
    "#### Перерасчет значений в столбце utm_medium"
   ]
  },
  {
   "cell_type": "code",
   "execution_count": 125,
   "id": "d299b9e9-033a-4fa1-a481-8918c65043ed",
   "metadata": {},
   "outputs": [
    {
     "data": {
      "text/plain": [
       "56"
      ]
     },
     "execution_count": 125,
     "metadata": {},
     "output_type": "execute_result"
    }
   ],
   "source": [
    "df_fe.utm_medium.nunique()"
   ]
  },
  {
   "cell_type": "markdown",
   "id": "13914000-1cb4-4e3d-a070-7b832f86f905",
   "metadata": {},
   "source": [
    "В столбце utm_source имеется 56 уникальных значений. Перерасчитывать не считаю необходимым"
   ]
  },
  {
   "cell_type": "markdown",
   "id": "1cf071a1-48dd-4608-a9b2-f17f7bc65965",
   "metadata": {},
   "source": [
    "### Работа со столбцом utm_campaign"
   ]
  },
  {
   "cell_type": "markdown",
   "id": "d552357b-c38e-4083-b9b0-d4137367deed",
   "metadata": {},
   "source": [
    "#### Создание новых признаков из столбца utm_campaign"
   ]
  },
  {
   "cell_type": "markdown",
   "id": "986c1439-e65f-43bc-bc0b-10fc9276d747",
   "metadata": {},
   "source": [
    "У нас нет дополнительной информации по столбцу utm_campaign, поэтому создание новых признаков невозможно"
   ]
  },
  {
   "cell_type": "markdown",
   "id": "d9e3bcf4-c7bc-452a-8c61-7b63d39194b7",
   "metadata": {},
   "source": [
    "#### Перерасчет значений в столбце utm_campaign"
   ]
  },
  {
   "cell_type": "code",
   "execution_count": 126,
   "id": "f71a6b03-5d2a-484a-9ed6-8ebc691de099",
   "metadata": {},
   "outputs": [
    {
     "data": {
      "text/plain": [
       "413"
      ]
     },
     "execution_count": 126,
     "metadata": {},
     "output_type": "execute_result"
    }
   ],
   "source": [
    "df_fe.utm_campaign.nunique()"
   ]
  },
  {
   "cell_type": "markdown",
   "id": "5e97d2d2-41e9-4399-a0c3-dd92d8929734",
   "metadata": {},
   "source": [
    "В столбце utm_campaign имеется 416 уникальных значения. Я бы хотел уменьшить их количество во избежании высокой нагрузки на компьютер при моделировании"
   ]
  },
  {
   "cell_type": "code",
   "execution_count": 127,
   "id": "bdb52915-7590-4c1b-9714-afe912288bce",
   "metadata": {},
   "outputs": [
    {
     "data": {
      "text/plain": [
       "utm_campaign\n",
       "LTuZkdKfxRGVceoWkVyg    24.92\n",
       "LEoPHuyFvzoNfnzGgfcd    17.42\n",
       "FTjNLDyTrXaWYgZymFkV    13.30\n",
       "other                   11.81\n",
       "gecBYcKZCPMcVYdSSzKP     7.21\n",
       "TmThBvoCcwkCZZUWACYq     1.43\n",
       "XHNUiSKKGTEpSAlaVMFQ     1.32\n",
       "okTXSMadDkjvntEHzIjp     1.32\n",
       "SgIUDYUKnyWHVowUOqid     1.23\n",
       "sbJRYgVfvcnqKJNDDYIr     1.09\n",
       "LwJZxKuWmvOhPsaCeRjG     0.95\n",
       "RoDitORHdzGfGhNCyEMy     0.84\n",
       "bxOTvPtyGSdUrbwoXCPO     0.83\n",
       "zxoiLxhuSIFrCeTLQVWZ     0.67\n",
       "bJJuEXRheRIxXEaYIXqM     0.66\n",
       "YCKgTzTDywjcWyQudGch     0.65\n",
       "nSReTmyFtbSjlPrTKoaX     0.62\n",
       "QEejXfOCtOMFLZqIPApp     0.55\n",
       "vRLTQQKAsFQMxbcHGPhu     0.51\n",
       "jvsVVQVKRfBIqBDBuCkq     0.43\n",
       "Name: proportion, dtype: float64"
      ]
     },
     "execution_count": 127,
     "metadata": {},
     "output_type": "execute_result"
    }
   ],
   "source": [
    "#Рассмотрю распределение уникальных значений в столбце utm_campaign в процентах\n",
    "utm_campaign_prop = df_fe.utm_campaign.value_counts(normalize=True).apply(lambda x: 100 * float(f\"{x: 0.4f}\"))\n",
    "utm_campaign_prop.head(20)"
   ]
  },
  {
   "cell_type": "code",
   "execution_count": 128,
   "id": "c9554df3-11f3-45eb-bdb0-537df25c1843",
   "metadata": {},
   "outputs": [
    {
     "data": {
      "text/plain": [
       "97.37"
      ]
     },
     "execution_count": 128,
     "metadata": {},
     "output_type": "execute_result"
    }
   ],
   "source": [
    "utm_campaign_prop[utm_campaign_prop > 0.05].sum()"
   ]
  },
  {
   "cell_type": "code",
   "execution_count": 129,
   "id": "f5e98451-cad1-4a4b-bbcd-3fabeca02144",
   "metadata": {},
   "outputs": [
    {
     "data": {
      "text/plain": [
       "76"
      ]
     },
     "execution_count": 129,
     "metadata": {},
     "output_type": "execute_result"
    }
   ],
   "source": [
    "utm_campaign_prop[utm_campaign_prop > 0.05].count()"
   ]
  },
  {
   "cell_type": "markdown",
   "id": "a184bc70-2407-41eb-9d99-74fd68ae0df9",
   "metadata": {},
   "source": [
    "Таким образом, имеется значения utm_campaign, каждый из которых встречается более 0.1% и в сумме занимают 95.69% от общего количества объектов. Во избежании повышенной нагрузки на компьютер при моделировании считаю допустимым присвоить значение other всем значениям, встречающимся реже 0.1%"
   ]
  },
  {
   "cell_type": "code",
   "execution_count": 130,
   "id": "07443ced-402c-4bb1-9ea0-e5a70383013f",
   "metadata": {},
   "outputs": [
    {
     "data": {
      "text/plain": [
       "76"
      ]
     },
     "execution_count": 130,
     "metadata": {},
     "output_type": "execute_result"
    }
   ],
   "source": [
    "utm_campaign_prop_list = utm_campaign_prop[utm_campaign_prop > 0.05].keys().tolist()\n",
    "len(utm_campaign_prop_list)"
   ]
  },
  {
   "cell_type": "code",
   "execution_count": 131,
   "id": "c5203a70-06f4-4150-9d7a-8cc48cf223e7",
   "metadata": {},
   "outputs": [],
   "source": [
    "df_fe['utm_campaign'] = df_fe['utm_campaign'].apply(lambda x: x if x in utm_campaign_prop_list else 'other')"
   ]
  },
  {
   "cell_type": "code",
   "execution_count": 132,
   "id": "bf7ac489-8775-4d2e-bca2-c15b0b9e78df",
   "metadata": {},
   "outputs": [
    {
     "data": {
      "text/plain": [
       "76"
      ]
     },
     "execution_count": 132,
     "metadata": {},
     "output_type": "execute_result"
    }
   ],
   "source": [
    "df_fe.utm_campaign.nunique()"
   ]
  },
  {
   "cell_type": "markdown",
   "id": "15c2a75e-30d5-49ed-88c5-79ff3d530ca5",
   "metadata": {},
   "source": [
    "Теперь имеем 53 уникальных значения вместо 413"
   ]
  },
  {
   "cell_type": "markdown",
   "id": "0821e765-09b8-4a88-84bc-c8aecd0f371e",
   "metadata": {},
   "source": [
    "### Работа со столбцом utm_adcontent"
   ]
  },
  {
   "cell_type": "markdown",
   "id": "74c9ed90-d3bc-4e0e-81a6-522c4fd18759",
   "metadata": {
    "jp-MarkdownHeadingCollapsed": true
   },
   "source": [
    "#### Создание новых признаков из столбца utm_adcontent"
   ]
  },
  {
   "cell_type": "markdown",
   "id": "f53c08fb-5313-4521-9390-f32f44864a97",
   "metadata": {},
   "source": [
    "У нас нет дополнительной информации по столбцу utm_adcontent, поэтому создание новых признаков невозможно"
   ]
  },
  {
   "cell_type": "markdown",
   "id": "70020c59-9610-4819-95de-27df3aee47c8",
   "metadata": {},
   "source": [
    "#### Перерасчет значений в столбце utm_adcontent"
   ]
  },
  {
   "cell_type": "code",
   "execution_count": 133,
   "id": "4a58a326-7fa4-4c43-bdb1-7ffcca38f8e6",
   "metadata": {},
   "outputs": [
    {
     "data": {
      "text/plain": [
       "286"
      ]
     },
     "execution_count": 133,
     "metadata": {},
     "output_type": "execute_result"
    }
   ],
   "source": [
    "df_fe.utm_adcontent.nunique()"
   ]
  },
  {
   "cell_type": "markdown",
   "id": "37cab1e3-2ba0-45dd-aa1f-426277daf9a0",
   "metadata": {},
   "source": [
    "В столбце utm_adcontent имеется 286 уникальных значения. Я бы хотел уменьшить их количество во избежании высокой нагрузки на компьютер при моделировании"
   ]
  },
  {
   "cell_type": "code",
   "execution_count": 134,
   "id": "f9f6fe2c-c47b-4827-a071-dccac6042e69",
   "metadata": {},
   "outputs": [
    {
     "data": {
      "text/plain": [
       "utm_adcontent\n",
       "JNHcPlZPxEMWDnRiyoBf    72.16\n",
       "vCIpmpaGBnIQhyYNkXqp     9.73\n",
       "xhoenQgDQsgfEPYNPwKO     6.08\n",
       "PkybGvWbaqORmxjNunqZ     3.24\n",
       "LLfCasrxQzJIyuldcuWy     1.30\n",
       "TuyPWsGQruPMpKvRxeBF     0.98\n",
       "UxrnyMlRBSOhOjytXnMG     0.73\n",
       "dUuXlWzvmhDSyclWRhNP     0.55\n",
       "yYdBRbPmBMUZHXwqGxNx     0.52\n",
       "WYLajZgbUhGimwBKDZUH     0.46\n",
       "SOkCdPxfUcZUzzOdgGES     0.39\n",
       "AdeErYgVTbRcAWtHrMHq     0.34\n",
       "nNqUcgFgcqQbTVSvgaHr     0.33\n",
       "aYAcKhelKzYpXrRYknSP     0.27\n",
       "XSkXBCPfnJjvxbfeewtd     0.24\n",
       "XKsYZiUFcdkUXQpoLKyS     0.22\n",
       "FkiRXDLOWtzVfvhEkhNo     0.15\n",
       "xnyHaukLtAvgViiZSyBC     0.14\n",
       "SAVVWaMghGnnvPOqMOIt     0.13\n",
       "guyNoEvzgofQvvwExGOq     0.12\n",
       "Name: proportion, dtype: float64"
      ]
     },
     "execution_count": 134,
     "metadata": {},
     "output_type": "execute_result"
    }
   ],
   "source": [
    "#Рассмотрю распределение уникальных значений в столбце utm_adcontent в процентах\n",
    "utm_adcontent_prop = df_fe.utm_adcontent.value_counts(normalize=True).apply(lambda x: 100 * float(f\"{x: 0.4f}\"))\n",
    "utm_adcontent_prop.head(20)"
   ]
  },
  {
   "cell_type": "code",
   "execution_count": 135,
   "id": "0c84fcdd-8b66-488e-a3a3-967ab9a48dbf",
   "metadata": {},
   "outputs": [
    {
     "data": {
      "text/plain": [
       "98.72"
      ]
     },
     "execution_count": 135,
     "metadata": {},
     "output_type": "execute_result"
    }
   ],
   "source": [
    "utm_adcontent_prop[utm_adcontent_prop > 0.05].sum()"
   ]
  },
  {
   "cell_type": "code",
   "execution_count": 136,
   "id": "f4949efa-b118-4fac-bd27-74511caeb41a",
   "metadata": {},
   "outputs": [
    {
     "data": {
      "text/plain": [
       "28"
      ]
     },
     "execution_count": 136,
     "metadata": {},
     "output_type": "execute_result"
    }
   ],
   "source": [
    "utm_adcontent_prop[utm_adcontent_prop > 0.05].count()"
   ]
  },
  {
   "cell_type": "markdown",
   "id": "8beb86dc-cdbf-474d-94e6-dd921e708a96",
   "metadata": {},
   "source": [
    "Таким образом, имеется 21 значение utm_adcontent, каждый из которых встречается более 0.1% и в сумме занимают 98.19% от общего количества объектов. Во избежании повышенной нагрузки на компьютер при моделировании считаю допустимым присвоить значение other всем значениям, встречающимся реже 0.1%"
   ]
  },
  {
   "cell_type": "code",
   "execution_count": 137,
   "id": "ef9534f5-66d7-4891-be5c-036028841036",
   "metadata": {},
   "outputs": [
    {
     "data": {
      "text/plain": [
       "28"
      ]
     },
     "execution_count": 137,
     "metadata": {},
     "output_type": "execute_result"
    }
   ],
   "source": [
    "utm_adcontent_prop_list = utm_adcontent_prop[utm_adcontent_prop > 0.05].keys().tolist()\n",
    "len(utm_adcontent_prop_list)"
   ]
  },
  {
   "cell_type": "code",
   "execution_count": 138,
   "id": "dd3d2c5e-2c69-48e4-a666-d09b1f7c3165",
   "metadata": {},
   "outputs": [],
   "source": [
    "df_fe['utm_adcontent'] = df_fe['utm_adcontent'].apply(lambda x: x if x in utm_adcontent_prop_list else 'other')"
   ]
  },
  {
   "cell_type": "code",
   "execution_count": 139,
   "id": "352d312a-7f18-456b-9345-db503a0f77a6",
   "metadata": {},
   "outputs": [
    {
     "data": {
      "text/plain": [
       "29"
      ]
     },
     "execution_count": 139,
     "metadata": {},
     "output_type": "execute_result"
    }
   ],
   "source": [
    "df_fe.utm_adcontent.nunique()"
   ]
  },
  {
   "cell_type": "markdown",
   "id": "1fa08e8a-6dad-4f0d-94a5-ab06506ac5f8",
   "metadata": {},
   "source": [
    "Теперь имеем 22 уникальных значения вместо 286"
   ]
  },
  {
   "cell_type": "markdown",
   "id": "8a4a7762-3df7-4e2d-8228-3eee1eaa6a0d",
   "metadata": {},
   "source": [
    "### Работа со столбцом device_category"
   ]
  },
  {
   "cell_type": "code",
   "execution_count": 140,
   "id": "18393577-fc2a-43a3-94be-302a703da294",
   "metadata": {},
   "outputs": [
    {
     "data": {
      "text/plain": [
       "3"
      ]
     },
     "execution_count": 140,
     "metadata": {},
     "output_type": "execute_result"
    }
   ],
   "source": [
    "df_fe.device_category.nunique()"
   ]
  },
  {
   "cell_type": "markdown",
   "id": "11f8745d-2b2d-485f-9600-0e99593adc8d",
   "metadata": {},
   "source": [
    "Дополнительно работать с данным столбцом не требуется"
   ]
  },
  {
   "cell_type": "markdown",
   "id": "f382eb6d-a49c-445d-9f42-8ae48a5fdb91",
   "metadata": {},
   "source": [
    "### Работа со столбцом device_os"
   ]
  },
  {
   "cell_type": "code",
   "execution_count": 141,
   "id": "3e879543-300a-4d91-83e9-3daedf460323",
   "metadata": {},
   "outputs": [
    {
     "data": {
      "text/plain": [
       "14"
      ]
     },
     "execution_count": 141,
     "metadata": {},
     "output_type": "execute_result"
    }
   ],
   "source": [
    "df_fe.device_os.nunique()"
   ]
  },
  {
   "cell_type": "markdown",
   "id": "10299413-ca7d-466d-ac80-448fca355418",
   "metadata": {},
   "source": [
    "Дополнительно работать с данным столбцом не требуется"
   ]
  },
  {
   "cell_type": "markdown",
   "id": "00805754-de22-456c-b7e7-c4df638eaf82",
   "metadata": {},
   "source": [
    "### Работа со столбцом device_brand"
   ]
  },
  {
   "cell_type": "code",
   "execution_count": 142,
   "id": "e9c39894-b44c-40bb-b483-44fde5ecc9ed",
   "metadata": {},
   "outputs": [
    {
     "data": {
      "text/plain": [
       "206"
      ]
     },
     "execution_count": 142,
     "metadata": {},
     "output_type": "execute_result"
    }
   ],
   "source": [
    "df_fe.device_brand.nunique()"
   ]
  },
  {
   "cell_type": "raw",
   "id": "ef89c90e-49a0-47c7-bbe7-96519671a902",
   "metadata": {},
   "source": [
    "В столбце device_brand имеется 206 уникальных значения. Я бы хотел уменьшить их количество во избежании высокой нагрузки на компьютер при моделировании"
   ]
  },
  {
   "cell_type": "code",
   "execution_count": 143,
   "id": "166ecf02-dcb7-4e5e-819c-25af1b3a9a05",
   "metadata": {},
   "outputs": [
    {
     "data": {
      "text/plain": [
       "device_brand\n",
       "Apple        30.96\n",
       "other        18.41\n",
       "Samsung      17.86\n",
       "Xiaomi       15.50\n",
       "Huawei        9.99\n",
       "Realme        1.02\n",
       "(not set)     0.94\n",
       "OPPO          0.73\n",
       "Vivo          0.63\n",
       "OnePlus       0.54\n",
       "Asus          0.43\n",
       "Nokia         0.39\n",
       "Sony          0.35\n",
       "ZTE           0.34\n",
       "Google        0.28\n",
       "Meizu         0.20\n",
       "Lenovo        0.17\n",
       "Blackview     0.15\n",
       "Tecno         0.14\n",
       "LG            0.13\n",
       "Name: proportion, dtype: float64"
      ]
     },
     "execution_count": 143,
     "metadata": {},
     "output_type": "execute_result"
    }
   ],
   "source": [
    "#Рассмотрю распределение уникальных значений в столбце device_brand в процентах\n",
    "device_brand_prop = df_fe.device_brand.value_counts(normalize=True).apply(lambda x: 100 * float(f\"{x: 0.4f}\"))\n",
    "device_brand_prop.head(20)"
   ]
  },
  {
   "cell_type": "code",
   "execution_count": 144,
   "id": "cc8d1980-c75c-466f-b1b6-5179471f9784",
   "metadata": {},
   "outputs": [
    {
     "data": {
      "text/plain": [
       "99.42999999999999"
      ]
     },
     "execution_count": 144,
     "metadata": {},
     "output_type": "execute_result"
    }
   ],
   "source": [
    "device_brand_prop[device_brand_prop > 0.05].sum()"
   ]
  },
  {
   "cell_type": "code",
   "execution_count": 145,
   "id": "f16e8519-a671-4309-825b-c6acdac4e2b0",
   "metadata": {},
   "outputs": [
    {
     "data": {
      "text/plain": [
       "23"
      ]
     },
     "execution_count": 145,
     "metadata": {},
     "output_type": "execute_result"
    }
   ],
   "source": [
    "device_brand_prop[device_brand_prop > 0.05].count()"
   ]
  },
  {
   "cell_type": "markdown",
   "id": "ba22a28b-a733-4aa6-a726-148833dfc872",
   "metadata": {},
   "source": [
    "Таким образом, имеется 21 значение device_brand, каждый из которых встречается более 0.1% и в сумме занимают 99.29% от общего количества объектов. Во избежании повышенной нагрузки на компьютер при моделировании считаю допустимым присвоить значение other всем значениям, встречающимся реже 0.1%"
   ]
  },
  {
   "cell_type": "code",
   "execution_count": 146,
   "id": "9d07fb2a-a455-4c18-a96d-6aeb3fc92602",
   "metadata": {},
   "outputs": [
    {
     "data": {
      "text/plain": [
       "21"
      ]
     },
     "execution_count": 146,
     "metadata": {},
     "output_type": "execute_result"
    }
   ],
   "source": [
    "device_brand_prop_list = device_brand_prop[device_brand_prop > 0.1].keys().tolist()\n",
    "len(device_brand_prop_list)"
   ]
  },
  {
   "cell_type": "code",
   "execution_count": 147,
   "id": "890ecaf5-58e6-4845-9273-90748de4d310",
   "metadata": {},
   "outputs": [],
   "source": [
    "df_fe['device_brand'] = df_fe['device_brand'].apply(lambda x: x if x in device_brand_prop_list else 'other')"
   ]
  },
  {
   "cell_type": "code",
   "execution_count": 148,
   "id": "63cab762-f6be-4a51-b78a-3545371bcb5b",
   "metadata": {},
   "outputs": [
    {
     "data": {
      "text/plain": [
       "21"
      ]
     },
     "execution_count": 148,
     "metadata": {},
     "output_type": "execute_result"
    }
   ],
   "source": [
    "df_fe.device_brand.nunique()"
   ]
  },
  {
   "cell_type": "markdown",
   "id": "bdfa128a-cb59-4e8a-96ba-d878fbc90625",
   "metadata": {},
   "source": [
    "Теперь имеем 21 уникальное значение вместо 206"
   ]
  },
  {
   "cell_type": "markdown",
   "id": "5c1c84e5-28ac-43b7-8219-7a1add94a785",
   "metadata": {},
   "source": [
    "### Работа со столбцом device_screen_resolution"
   ]
  },
  {
   "cell_type": "markdown",
   "id": "25bb3f59-ea32-41b9-b702-2cf08508f95b",
   "metadata": {},
   "source": [
    "Рассчитаю новый признак - площадь экрана, и заменю им столбец device_screen_resolution"
   ]
  },
  {
   "cell_type": "code",
   "execution_count": 149,
   "id": "30ce382a-e140-4de5-9e3b-d1a70c30d5a1",
   "metadata": {},
   "outputs": [
    {
     "data": {
      "text/plain": [
       "device_screen_resolution\n",
       "414x896      169090\n",
       "1920x1080    125768\n",
       "375x812      117944\n",
       "393x851      115454\n",
       "375x667       93341\n",
       "              ...  \n",
       "2262x1553         1\n",
       "1097x617          1\n",
       "421x847           1\n",
       "1791x1007         1\n",
       "464x1123          1\n",
       "Name: count, Length: 5039, dtype: int64"
      ]
     },
     "execution_count": 149,
     "metadata": {},
     "output_type": "execute_result"
    }
   ],
   "source": [
    "df_fe.device_screen_resolution.value_counts()"
   ]
  },
  {
   "cell_type": "code",
   "execution_count": 150,
   "id": "53b0d476-9c17-4edc-8dbd-6ae35ec09704",
   "metadata": {},
   "outputs": [
    {
     "data": {
      "text/plain": [
       "8"
      ]
     },
     "execution_count": 150,
     "metadata": {},
     "output_type": "execute_result"
    }
   ],
   "source": [
    "len(df_fe[df_fe['device_screen_resolution'] == '(not set)'])"
   ]
  },
  {
   "cell_type": "markdown",
   "id": "40d07376-23b0-4409-901e-455ea5096438",
   "metadata": {},
   "source": [
    "Объектам, для которых не определены размеры экрана, присвою самое популярное значение. Считаю это допустимым, так как таких объектов всего 8."
   ]
  },
  {
   "cell_type": "code",
   "execution_count": 151,
   "id": "881912be-b14f-4c82-96ab-f97a8a50d324",
   "metadata": {},
   "outputs": [],
   "source": [
    "df_fe['device_screen_resolution'] = df_fe['device_screen_resolution'].apply(lambda x: x if x != '(not set)' else '414x896')"
   ]
  },
  {
   "cell_type": "code",
   "execution_count": 152,
   "id": "33e29ca7-ac8b-4639-96e3-125edc961b74",
   "metadata": {},
   "outputs": [
    {
     "data": {
      "text/plain": [
       "0"
      ]
     },
     "execution_count": 152,
     "metadata": {},
     "output_type": "execute_result"
    }
   ],
   "source": [
    "len(df_fe[df_fe['device_screen_resolution'] == '(not set)'])"
   ]
  },
  {
   "cell_type": "code",
   "execution_count": 153,
   "id": "044390c8-092c-4ef5-b622-152412ba6143",
   "metadata": {},
   "outputs": [
    {
     "data": {
      "text/plain": [
       "0            360x720\n",
       "1            385x854\n",
       "2            360x720\n",
       "3            393x786\n",
       "4            393x786\n",
       "             ...    \n",
       "1860037    1920x1080\n",
       "1860038      390x844\n",
       "1860039      375x667\n",
       "1860040      393x851\n",
       "1860041     1366x768\n",
       "Name: device_screen_resolution, Length: 1860042, dtype: object"
      ]
     },
     "execution_count": 153,
     "metadata": {},
     "output_type": "execute_result"
    }
   ],
   "source": [
    "df_fe['device_screen_resolution']"
   ]
  },
  {
   "cell_type": "markdown",
   "id": "536da09f-6a4e-4758-8d90-a94968910a2e",
   "metadata": {},
   "source": [
    "Создадим 2 признака, описывающие длину и ширину экрана"
   ]
  },
  {
   "cell_type": "code",
   "execution_count": 154,
   "id": "d2aad27a-3421-422b-97ec-3e63827a9d30",
   "metadata": {},
   "outputs": [],
   "source": [
    "df_fe['device_screen_a'] = df_fe['device_screen_resolution'].apply(lambda x: x.lower().split('x')).apply(lambda x: int(x[0]))\n",
    "df_fe['device_screen_b'] = df_fe['device_screen_resolution'].apply(lambda x: x.lower().split('x')).apply(lambda x: int(x[1]))"
   ]
  },
  {
   "cell_type": "markdown",
   "id": "7071f9db-cb33-48c6-a5f8-935d59281cdb",
   "metadata": {},
   "source": [
    "Проверим значения длины и высоты экрана на аномальные значения"
   ]
  },
  {
   "cell_type": "markdown",
   "id": "5463b661-2022-461a-a535-4f768b0db619",
   "metadata": {},
   "source": [
    "Так как размеры экрана могут сильно отличаться для разных типов устройств, имеет смысл проверить для каждой группы."
   ]
  },
  {
   "cell_type": "markdown",
   "id": "5949eeda-6a5c-4e2c-922b-efbfe836a1d7",
   "metadata": {},
   "source": [
    "#### Проверка на аномальные значения размеров экрана для мобильных устройств"
   ]
  },
  {
   "cell_type": "markdown",
   "id": "985656e2-f3cf-4d31-bad6-a04eccf53721",
   "metadata": {},
   "source": [
    "##### Исследование разрешения по высоте для мобильных устройств"
   ]
  },
  {
   "cell_type": "code",
   "execution_count": 155,
   "id": "b9a974f2-7b10-4041-9beb-6cf4377d9024",
   "metadata": {},
   "outputs": [
    {
     "data": {
      "image/png": "[encoded data removed]",
      "text/plain": [
       "<Figure size 640x480 with 1 Axes>"
      ]
     },
     "metadata": {},
     "output_type": "display_data"
    }
   ],
   "source": [
    "plt.plot(df_fe[df_fe['device_category'] == 'mobile'].device_screen_a);"
   ]
  },
  {
   "cell_type": "code",
   "execution_count": 156,
   "id": "5231165e-81a0-4eff-b793-863089ecea24",
   "metadata": {},
   "outputs": [
    {
     "name": "stdout",
     "output_type": "stream",
     "text": [
      "Минимальное разрешение по высоте для мобильных устройств: 0\n",
      "Минимальное разрешение по высоте для мобильных устройств: 2560\n"
     ]
    }
   ],
   "source": [
    "a_mobile_min = df_fe[df_fe[\"device_category\"] == 'mobile'].device_screen_a.min()\n",
    "a_mobile_max = df_fe[df_fe[\"device_category\"] == 'mobile'].device_screen_a.max()\n",
    "\n",
    "print(f'Минимальное разрешение по высоте для мобильных устройств: {a_mobile_min}')\n",
    "print(f'Минимальное разрешение по высоте для мобильных устройств: {a_mobile_max}')"
   ]
  },
  {
   "cell_type": "markdown",
   "id": "8a18789b-651a-4e9f-b40d-95ae69edb124",
   "metadata": {},
   "source": [
    "Что касается максимального значения разрешения по высоте, это значение возможно для мобильный устройств. А вот минимальное значение требует коррекции. Присвоим объектам с нулевым значением граничное минимальное с учетом распределения."
   ]
  },
  {
   "cell_type": "code",
   "execution_count": 157,
   "id": "09be241f-8c12-4096-aa17-4b963f3c19e1",
   "metadata": {},
   "outputs": [
    {
     "data": {
      "text/html": [
       "<div>\n",
       "<style scoped>\n",
       "    .dataframe tbody tr th:only-of-type {\n",
       "        vertical-align: middle;\n",
       "    }\n",
       "\n",
       "    .dataframe tbody tr th {\n",
       "        vertical-align: top;\n",
       "    }\n",
       "\n",
       "    .dataframe thead th {\n",
       "        text-align: right;\n",
       "    }\n",
       "</style>\n",
       "<table border=\"1\" class=\"dataframe\">\n",
       "  <thead>\n",
       "    <tr style=\"text-align: right;\">\n",
       "      <th></th>\n",
       "      <th>session_id</th>\n",
       "      <th>client_id</th>\n",
       "      <th>visit_number</th>\n",
       "      <th>utm_source</th>\n",
       "      <th>utm_medium</th>\n",
       "      <th>utm_campaign</th>\n",
       "      <th>utm_adcontent</th>\n",
       "      <th>device_category</th>\n",
       "      <th>device_os</th>\n",
       "      <th>device_brand</th>\n",
       "      <th>device_screen_resolution</th>\n",
       "      <th>device_browser</th>\n",
       "      <th>geo_country</th>\n",
       "      <th>geo_city</th>\n",
       "      <th>target</th>\n",
       "      <th>visit_date_time</th>\n",
       "      <th>utm_source_type</th>\n",
       "      <th>utm_medium_type</th>\n",
       "      <th>device_screen_a</th>\n",
       "      <th>device_screen_b</th>\n",
       "    </tr>\n",
       "  </thead>\n",
       "  <tbody>\n",
       "    <tr>\n",
       "      <th>116630</th>\n",
       "      <td>1275445726215482012.1633495707.1633495707</td>\n",
       "      <td>296962849.1633495708</td>\n",
       "      <td>1</td>\n",
       "      <td>BHcvLfOaCWvWTykYqHVe</td>\n",
       "      <td>cpc</td>\n",
       "      <td>other</td>\n",
       "      <td>JNHcPlZPxEMWDnRiyoBf</td>\n",
       "      <td>mobile</td>\n",
       "      <td>Android</td>\n",
       "      <td>Huawei</td>\n",
       "      <td>0x0</td>\n",
       "      <td>YaBrowser</td>\n",
       "      <td>Russia</td>\n",
       "      <td>Vladivostok</td>\n",
       "      <td>0.0</td>\n",
       "      <td>2021-10-06 07:00:00+00:00</td>\n",
       "      <td>other</td>\n",
       "      <td>other</td>\n",
       "      <td>0</td>\n",
       "      <td>0</td>\n",
       "    </tr>\n",
       "    <tr>\n",
       "      <th>466768</th>\n",
       "      <td>2840248306670648388.1627536509.1627536509</td>\n",
       "      <td>661296841.1627536452</td>\n",
       "      <td>1</td>\n",
       "      <td>geDcueAOghDzHkGMmdOq</td>\n",
       "      <td>cpm</td>\n",
       "      <td>FTjNLDyTrXaWYgZymFkV</td>\n",
       "      <td>WYLajZgbUhGimwBKDZUH</td>\n",
       "      <td>mobile</td>\n",
       "      <td>Android</td>\n",
       "      <td>Samsung</td>\n",
       "      <td>0x0</td>\n",
       "      <td>YaBrowser</td>\n",
       "      <td>Russia</td>\n",
       "      <td>Moscow</td>\n",
       "      <td>0.0</td>\n",
       "      <td>2021-07-29 08:00:00+00:00</td>\n",
       "      <td>other</td>\n",
       "      <td>other</td>\n",
       "      <td>0</td>\n",
       "      <td>0</td>\n",
       "    </tr>\n",
       "    <tr>\n",
       "      <th>1553066</th>\n",
       "      <td>7684970892572382028.1627280225.1627280225</td>\n",
       "      <td>1789296719.1627280204</td>\n",
       "      <td>1</td>\n",
       "      <td>geDcueAOghDzHkGMmdOq</td>\n",
       "      <td>cpm</td>\n",
       "      <td>FTjNLDyTrXaWYgZymFkV</td>\n",
       "      <td>WYLajZgbUhGimwBKDZUH</td>\n",
       "      <td>mobile</td>\n",
       "      <td>Android</td>\n",
       "      <td>Samsung</td>\n",
       "      <td>0x0</td>\n",
       "      <td>Chrome</td>\n",
       "      <td>Russia</td>\n",
       "      <td>Saint Petersburg</td>\n",
       "      <td>0.0</td>\n",
       "      <td>2021-07-26 09:00:00+00:00</td>\n",
       "      <td>other</td>\n",
       "      <td>other</td>\n",
       "      <td>0</td>\n",
       "      <td>0</td>\n",
       "    </tr>\n",
       "  </tbody>\n",
       "</table>\n",
       "</div>"
      ],
      "text/plain": [
       "                                        session_id              client_id  \\\n",
       "116630   1275445726215482012.1633495707.1633495707   296962849.1633495708   \n",
       "466768   2840248306670648388.1627536509.1627536509   661296841.1627536452   \n",
       "1553066  7684970892572382028.1627280225.1627280225  1789296719.1627280204   \n",
       "\n",
       "         visit_number            utm_source utm_medium          utm_campaign  \\\n",
       "116630              1  BHcvLfOaCWvWTykYqHVe        cpc                 other   \n",
       "466768              1  geDcueAOghDzHkGMmdOq        cpm  FTjNLDyTrXaWYgZymFkV   \n",
       "1553066             1  geDcueAOghDzHkGMmdOq        cpm  FTjNLDyTrXaWYgZymFkV   \n",
       "\n",
       "                utm_adcontent device_category device_os device_brand  \\\n",
       "116630   JNHcPlZPxEMWDnRiyoBf          mobile   Android       Huawei   \n",
       "466768   WYLajZgbUhGimwBKDZUH          mobile   Android      Samsung   \n",
       "1553066  WYLajZgbUhGimwBKDZUH          mobile   Android      Samsung   \n",
       "\n",
       "        device_screen_resolution device_browser geo_country          geo_city  \\\n",
       "116630                       0x0      YaBrowser      Russia       Vladivostok   \n",
       "466768                       0x0      YaBrowser      Russia            Moscow   \n",
       "1553066                      0x0         Chrome      Russia  Saint Petersburg   \n",
       "\n",
       "         target           visit_date_time utm_source_type utm_medium_type  \\\n",
       "116630      0.0 2021-10-06 07:00:00+00:00           other           other   \n",
       "466768      0.0 2021-07-29 08:00:00+00:00           other           other   \n",
       "1553066     0.0 2021-07-26 09:00:00+00:00           other           other   \n",
       "\n",
       "         device_screen_a  device_screen_b  \n",
       "116630                 0                0  \n",
       "466768                 0                0  \n",
       "1553066                0                0  "
      ]
     },
     "execution_count": 157,
     "metadata": {},
     "output_type": "execute_result"
    }
   ],
   "source": [
    "df_fe[(df_fe[\"device_category\"] == 'mobile') & (df_fe['device_screen_a'] == 0)]"
   ]
  },
  {
   "cell_type": "code",
   "execution_count": 158,
   "id": "13cb645a-6ae0-415a-8aab-44d1ac7e54d1",
   "metadata": {},
   "outputs": [
    {
     "data": {
      "text/plain": [
       "0    360\n",
       "Name: device_screen_a, dtype: int64"
      ]
     },
     "execution_count": 158,
     "metadata": {},
     "output_type": "execute_result"
    }
   ],
   "source": [
    "df_fe[df_fe[\"device_category\"] == 'mobile'].device_screen_a.mode()"
   ]
  },
  {
   "cell_type": "markdown",
   "id": "0749062c-f49f-4f29-a2be-a1d43cd00bb5",
   "metadata": {},
   "source": [
    "Так как мы имеем дело не с аномальным значением, а с явным браком, заполним нулевые значения самым часто встречающимся значением"
   ]
  },
  {
   "cell_type": "code",
   "execution_count": 159,
   "id": "d4e5c67a-8c61-4d61-bed6-6e7f822f0cc1",
   "metadata": {},
   "outputs": [],
   "source": [
    "df_fe['device_screen_a'] = df_fe.apply(lambda x: 360 if ((x.device_category == 'mobile') and (x.device_screen_a == 0)) else x.device_screen_a, axis=1)"
   ]
  },
  {
   "cell_type": "code",
   "execution_count": 160,
   "id": "e6ce8c49-9a9f-4fda-a910-0c13f81ba5c8",
   "metadata": {},
   "outputs": [
    {
     "data": {
      "image/png": "[encoded data removed]",
      "text/plain": [
       "<Figure size 640x480 with 1 Axes>"
      ]
     },
     "metadata": {},
     "output_type": "display_data"
    }
   ],
   "source": [
    "plt.plot(df_fe[df_fe['device_category'] == 'mobile'].device_screen_a);"
   ]
  },
  {
   "cell_type": "markdown",
   "id": "5e5fe7dc-9313-445d-bb97-988582b015e0",
   "metadata": {},
   "source": [
    "Теперь нулевых значений нет"
   ]
  },
  {
   "cell_type": "markdown",
   "id": "67607036-7a06-4596-b0c5-bfe7189d25c7",
   "metadata": {},
   "source": [
    "##### Исследование разрешения по ширине для мобильных устройств"
   ]
  },
  {
   "cell_type": "code",
   "execution_count": 161,
   "id": "c10a6fe5-5826-4cc3-8446-36bf97418ae5",
   "metadata": {},
   "outputs": [
    {
     "data": {
      "image/png": "[encoded data removed]",
      "text/plain": [
       "<Figure size 640x480 with 1 Axes>"
      ]
     },
     "metadata": {},
     "output_type": "display_data"
    }
   ],
   "source": [
    "plt.plot(df_fe[df_fe['device_category'] == 'mobile'].device_screen_b);"
   ]
  },
  {
   "cell_type": "code",
   "execution_count": 162,
   "id": "33240d0c-fd63-4b84-8cfc-0841f6935c5a",
   "metadata": {},
   "outputs": [
    {
     "name": "stdout",
     "output_type": "stream",
     "text": [
      "Минимальное разрешение по высоте для мобильных устройств: 0\n",
      "Минимальное разрешение по высоте для мобильных устройств: 3662\n"
     ]
    }
   ],
   "source": [
    "b_mobile_min = df_fe[df_fe[\"device_category\"] == 'mobile'].device_screen_b.min()\n",
    "b_mobile_max = df_fe[df_fe[\"device_category\"] == 'mobile'].device_screen_b.max()\n",
    "\n",
    "print(f'Минимальное разрешение по высоте для мобильных устройств: {b_mobile_min}')\n",
    "print(f'Минимальное разрешение по высоте для мобильных устройств: {b_mobile_max}')"
   ]
  },
  {
   "cell_type": "code",
   "execution_count": 163,
   "id": "13a170cd-b40e-4428-9604-c6b777768b7d",
   "metadata": {},
   "outputs": [
    {
     "data": {
      "text/html": [
       "<div>\n",
       "<style scoped>\n",
       "    .dataframe tbody tr th:only-of-type {\n",
       "        vertical-align: middle;\n",
       "    }\n",
       "\n",
       "    .dataframe tbody tr th {\n",
       "        vertical-align: top;\n",
       "    }\n",
       "\n",
       "    .dataframe thead th {\n",
       "        text-align: right;\n",
       "    }\n",
       "</style>\n",
       "<table border=\"1\" class=\"dataframe\">\n",
       "  <thead>\n",
       "    <tr style=\"text-align: right;\">\n",
       "      <th></th>\n",
       "      <th>session_id</th>\n",
       "      <th>client_id</th>\n",
       "      <th>visit_number</th>\n",
       "      <th>utm_source</th>\n",
       "      <th>utm_medium</th>\n",
       "      <th>utm_campaign</th>\n",
       "      <th>utm_adcontent</th>\n",
       "      <th>device_category</th>\n",
       "      <th>device_os</th>\n",
       "      <th>device_brand</th>\n",
       "      <th>device_screen_resolution</th>\n",
       "      <th>device_browser</th>\n",
       "      <th>geo_country</th>\n",
       "      <th>geo_city</th>\n",
       "      <th>target</th>\n",
       "      <th>visit_date_time</th>\n",
       "      <th>utm_source_type</th>\n",
       "      <th>utm_medium_type</th>\n",
       "      <th>device_screen_a</th>\n",
       "      <th>device_screen_b</th>\n",
       "    </tr>\n",
       "  </thead>\n",
       "  <tbody>\n",
       "    <tr>\n",
       "      <th>424784</th>\n",
       "      <td>2653657829080757964.1640691408.1640691408</td>\n",
       "      <td>617852860.1640691404</td>\n",
       "      <td>1</td>\n",
       "      <td>nmfptFmSirEqNzAzqbXA</td>\n",
       "      <td>cpc</td>\n",
       "      <td>FTjNLDyTrXaWYgZymFkV</td>\n",
       "      <td>xnyHaukLtAvgViiZSyBC</td>\n",
       "      <td>mobile</td>\n",
       "      <td>Android</td>\n",
       "      <td>Samsung</td>\n",
       "      <td>1648x3662</td>\n",
       "      <td>Chrome</td>\n",
       "      <td>Russia</td>\n",
       "      <td>Moscow</td>\n",
       "      <td>0.0</td>\n",
       "      <td>2021-12-28 14:36:48+00:00</td>\n",
       "      <td>other</td>\n",
       "      <td>other</td>\n",
       "      <td>1648</td>\n",
       "      <td>3662</td>\n",
       "    </tr>\n",
       "  </tbody>\n",
       "</table>\n",
       "</div>"
      ],
      "text/plain": [
       "                                       session_id             client_id  \\\n",
       "424784  2653657829080757964.1640691408.1640691408  617852860.1640691404   \n",
       "\n",
       "        visit_number            utm_source utm_medium          utm_campaign  \\\n",
       "424784             1  nmfptFmSirEqNzAzqbXA        cpc  FTjNLDyTrXaWYgZymFkV   \n",
       "\n",
       "               utm_adcontent device_category device_os device_brand  \\\n",
       "424784  xnyHaukLtAvgViiZSyBC          mobile   Android      Samsung   \n",
       "\n",
       "       device_screen_resolution device_browser geo_country geo_city  target  \\\n",
       "424784                1648x3662         Chrome      Russia   Moscow     0.0   \n",
       "\n",
       "                 visit_date_time utm_source_type utm_medium_type  \\\n",
       "424784 2021-12-28 14:36:48+00:00           other           other   \n",
       "\n",
       "        device_screen_a  device_screen_b  \n",
       "424784             1648             3662  "
      ]
     },
     "execution_count": 163,
     "metadata": {},
     "output_type": "execute_result"
    }
   ],
   "source": [
    "df_fe[(df_fe[\"device_category\"] == 'mobile') & (df_fe['device_screen_b'] == 3662)]"
   ]
  },
  {
   "cell_type": "markdown",
   "id": "9ee88c0f-8bb5-484a-a2f9-e9852e240bab",
   "metadata": {},
   "source": [
    "Что касается максимального значения, оно выглядит вполне логично, так как и высота этого устройства также велика. Разбираемся с объектами, у которых значение по высоте равно 0."
   ]
  },
  {
   "cell_type": "code",
   "execution_count": 164,
   "id": "a7c11361-abb8-456d-9e4a-23dbdf563c8b",
   "metadata": {},
   "outputs": [
    {
     "data": {
      "text/html": [
       "<div>\n",
       "<style scoped>\n",
       "    .dataframe tbody tr th:only-of-type {\n",
       "        vertical-align: middle;\n",
       "    }\n",
       "\n",
       "    .dataframe tbody tr th {\n",
       "        vertical-align: top;\n",
       "    }\n",
       "\n",
       "    .dataframe thead th {\n",
       "        text-align: right;\n",
       "    }\n",
       "</style>\n",
       "<table border=\"1\" class=\"dataframe\">\n",
       "  <thead>\n",
       "    <tr style=\"text-align: right;\">\n",
       "      <th></th>\n",
       "      <th>session_id</th>\n",
       "      <th>client_id</th>\n",
       "      <th>visit_number</th>\n",
       "      <th>utm_source</th>\n",
       "      <th>utm_medium</th>\n",
       "      <th>utm_campaign</th>\n",
       "      <th>utm_adcontent</th>\n",
       "      <th>device_category</th>\n",
       "      <th>device_os</th>\n",
       "      <th>device_brand</th>\n",
       "      <th>device_screen_resolution</th>\n",
       "      <th>device_browser</th>\n",
       "      <th>geo_country</th>\n",
       "      <th>geo_city</th>\n",
       "      <th>target</th>\n",
       "      <th>visit_date_time</th>\n",
       "      <th>utm_source_type</th>\n",
       "      <th>utm_medium_type</th>\n",
       "      <th>device_screen_a</th>\n",
       "      <th>device_screen_b</th>\n",
       "    </tr>\n",
       "  </thead>\n",
       "  <tbody>\n",
       "    <tr>\n",
       "      <th>116630</th>\n",
       "      <td>1275445726215482012.1633495707.1633495707</td>\n",
       "      <td>296962849.1633495708</td>\n",
       "      <td>1</td>\n",
       "      <td>BHcvLfOaCWvWTykYqHVe</td>\n",
       "      <td>cpc</td>\n",
       "      <td>other</td>\n",
       "      <td>JNHcPlZPxEMWDnRiyoBf</td>\n",
       "      <td>mobile</td>\n",
       "      <td>Android</td>\n",
       "      <td>Huawei</td>\n",
       "      <td>0x0</td>\n",
       "      <td>YaBrowser</td>\n",
       "      <td>Russia</td>\n",
       "      <td>Vladivostok</td>\n",
       "      <td>0.0</td>\n",
       "      <td>2021-10-06 07:00:00+00:00</td>\n",
       "      <td>other</td>\n",
       "      <td>other</td>\n",
       "      <td>360</td>\n",
       "      <td>0</td>\n",
       "    </tr>\n",
       "    <tr>\n",
       "      <th>466768</th>\n",
       "      <td>2840248306670648388.1627536509.1627536509</td>\n",
       "      <td>661296841.1627536452</td>\n",
       "      <td>1</td>\n",
       "      <td>geDcueAOghDzHkGMmdOq</td>\n",
       "      <td>cpm</td>\n",
       "      <td>FTjNLDyTrXaWYgZymFkV</td>\n",
       "      <td>WYLajZgbUhGimwBKDZUH</td>\n",
       "      <td>mobile</td>\n",
       "      <td>Android</td>\n",
       "      <td>Samsung</td>\n",
       "      <td>0x0</td>\n",
       "      <td>YaBrowser</td>\n",
       "      <td>Russia</td>\n",
       "      <td>Moscow</td>\n",
       "      <td>0.0</td>\n",
       "      <td>2021-07-29 08:00:00+00:00</td>\n",
       "      <td>other</td>\n",
       "      <td>other</td>\n",
       "      <td>360</td>\n",
       "      <td>0</td>\n",
       "    </tr>\n",
       "    <tr>\n",
       "      <th>1553066</th>\n",
       "      <td>7684970892572382028.1627280225.1627280225</td>\n",
       "      <td>1789296719.1627280204</td>\n",
       "      <td>1</td>\n",
       "      <td>geDcueAOghDzHkGMmdOq</td>\n",
       "      <td>cpm</td>\n",
       "      <td>FTjNLDyTrXaWYgZymFkV</td>\n",
       "      <td>WYLajZgbUhGimwBKDZUH</td>\n",
       "      <td>mobile</td>\n",
       "      <td>Android</td>\n",
       "      <td>Samsung</td>\n",
       "      <td>0x0</td>\n",
       "      <td>Chrome</td>\n",
       "      <td>Russia</td>\n",
       "      <td>Saint Petersburg</td>\n",
       "      <td>0.0</td>\n",
       "      <td>2021-07-26 09:00:00+00:00</td>\n",
       "      <td>other</td>\n",
       "      <td>other</td>\n",
       "      <td>360</td>\n",
       "      <td>0</td>\n",
       "    </tr>\n",
       "  </tbody>\n",
       "</table>\n",
       "</div>"
      ],
      "text/plain": [
       "                                        session_id              client_id  \\\n",
       "116630   1275445726215482012.1633495707.1633495707   296962849.1633495708   \n",
       "466768   2840248306670648388.1627536509.1627536509   661296841.1627536452   \n",
       "1553066  7684970892572382028.1627280225.1627280225  1789296719.1627280204   \n",
       "\n",
       "         visit_number            utm_source utm_medium          utm_campaign  \\\n",
       "116630              1  BHcvLfOaCWvWTykYqHVe        cpc                 other   \n",
       "466768              1  geDcueAOghDzHkGMmdOq        cpm  FTjNLDyTrXaWYgZymFkV   \n",
       "1553066             1  geDcueAOghDzHkGMmdOq        cpm  FTjNLDyTrXaWYgZymFkV   \n",
       "\n",
       "                utm_adcontent device_category device_os device_brand  \\\n",
       "116630   JNHcPlZPxEMWDnRiyoBf          mobile   Android       Huawei   \n",
       "466768   WYLajZgbUhGimwBKDZUH          mobile   Android      Samsung   \n",
       "1553066  WYLajZgbUhGimwBKDZUH          mobile   Android      Samsung   \n",
       "\n",
       "        device_screen_resolution device_browser geo_country          geo_city  \\\n",
       "116630                       0x0      YaBrowser      Russia       Vladivostok   \n",
       "466768                       0x0      YaBrowser      Russia            Moscow   \n",
       "1553066                      0x0         Chrome      Russia  Saint Petersburg   \n",
       "\n",
       "         target           visit_date_time utm_source_type utm_medium_type  \\\n",
       "116630      0.0 2021-10-06 07:00:00+00:00           other           other   \n",
       "466768      0.0 2021-07-29 08:00:00+00:00           other           other   \n",
       "1553066     0.0 2021-07-26 09:00:00+00:00           other           other   \n",
       "\n",
       "         device_screen_a  device_screen_b  \n",
       "116630               360                0  \n",
       "466768               360                0  \n",
       "1553066              360                0  "
      ]
     },
     "execution_count": 164,
     "metadata": {},
     "output_type": "execute_result"
    }
   ],
   "source": [
    "df_fe[(df_fe[\"device_category\"] == 'mobile') & (df_fe['device_screen_b'] == 0)]"
   ]
  },
  {
   "cell_type": "markdown",
   "id": "f9abe5fc-6732-4e3b-99f9-f6267b30a7bf",
   "metadata": {},
   "source": [
    "Это те же самые объекты, для которых и высота экрана была нулевой. Значит имеем дело с тем же браком, заменяем нули самым часто встречающимся значением"
   ]
  },
  {
   "cell_type": "code",
   "execution_count": 165,
   "id": "b97efd59-b52e-405d-ad09-1490da1d1cd2",
   "metadata": {},
   "outputs": [
    {
     "data": {
      "text/plain": [
       "0    896\n",
       "Name: device_screen_b, dtype: int64"
      ]
     },
     "execution_count": 165,
     "metadata": {},
     "output_type": "execute_result"
    }
   ],
   "source": [
    "df_fe[df_fe[\"device_category\"] == 'mobile'].device_screen_b.mode()"
   ]
  },
  {
   "cell_type": "code",
   "execution_count": 166,
   "id": "4fb3af7e-abe9-450a-b49f-5338d4de8411",
   "metadata": {},
   "outputs": [],
   "source": [
    "df_fe['device_screen_b'] = df_fe.apply(lambda x: 896 if ((x.device_category == 'mobile') and (x.device_screen_b == 0)) else x.device_screen_b, axis=1)"
   ]
  },
  {
   "cell_type": "code",
   "execution_count": 167,
   "id": "903a4bc3-1c0c-4295-a41c-fb0aeb4bea9a",
   "metadata": {},
   "outputs": [
    {
     "data": {
      "image/png": "[encoded data removed]",
      "text/plain": [
       "<Figure size 640x480 with 1 Axes>"
      ]
     },
     "metadata": {},
     "output_type": "display_data"
    }
   ],
   "source": [
    "plt.plot(df_fe[df_fe['device_category'] == 'mobile'].device_screen_b);"
   ]
  },
  {
   "cell_type": "markdown",
   "id": "3653029d-74c9-479b-9bc8-3a3d06a31bd9",
   "metadata": {},
   "source": [
    "Теперь нулевых значений нет"
   ]
  },
  {
   "cell_type": "markdown",
   "id": "7af22c0f-944b-4be7-be8d-ef851f94e08d",
   "metadata": {},
   "source": [
    "#### Проверка на аномальные значения размеров экрана для планшетов"
   ]
  },
  {
   "cell_type": "markdown",
   "id": "f509901f-ac71-4d2e-8290-c9ca48552ccc",
   "metadata": {},
   "source": [
    "##### Исследование разрешения по высоте для планшетов"
   ]
  },
  {
   "cell_type": "code",
   "execution_count": 168,
   "id": "df3de101-0bed-485d-b70b-fa4acd1a1de8",
   "metadata": {},
   "outputs": [
    {
     "data": {
      "image/png": "[encoded data removed]",
      "text/plain": [
       "<Figure size 640x480 with 1 Axes>"
      ]
     },
     "metadata": {},
     "output_type": "display_data"
    }
   ],
   "source": [
    "plt.plot(df_fe[df_fe['device_category'] == 'tablet'].device_screen_a);"
   ]
  },
  {
   "cell_type": "markdown",
   "id": "005c559b-6296-4c9e-933f-e27b37954006",
   "metadata": {},
   "source": [
    "Судя по графику, есть одно аномально высокое значение."
   ]
  },
  {
   "cell_type": "code",
   "execution_count": 169,
   "id": "98de3909-06e1-43f6-b524-2bee22d4f39d",
   "metadata": {},
   "outputs": [
    {
     "name": "stdout",
     "output_type": "stream",
     "text": [
      "Минимальное разрешение по высоте для планшетов: 320\n",
      "Минимальное разрешение по высоте для планшетов: 3440\n"
     ]
    }
   ],
   "source": [
    "a_tablet_min = df_fe[df_fe[\"device_category\"] == 'tablet'].device_screen_a.min()\n",
    "a_tablet_max = df_fe[df_fe[\"device_category\"] == 'tablet'].device_screen_a.max()\n",
    "\n",
    "print(f'Минимальное разрешение по высоте для планшетов: {a_tablet_min}')\n",
    "print(f'Минимальное разрешение по высоте для планшетов: {a_tablet_max}')"
   ]
  },
  {
   "cell_type": "code",
   "execution_count": 170,
   "id": "318224d9-2210-4300-9bc9-69b076601231",
   "metadata": {},
   "outputs": [
    {
     "data": {
      "text/html": [
       "<div>\n",
       "<style scoped>\n",
       "    .dataframe tbody tr th:only-of-type {\n",
       "        vertical-align: middle;\n",
       "    }\n",
       "\n",
       "    .dataframe tbody tr th {\n",
       "        vertical-align: top;\n",
       "    }\n",
       "\n",
       "    .dataframe thead th {\n",
       "        text-align: right;\n",
       "    }\n",
       "</style>\n",
       "<table border=\"1\" class=\"dataframe\">\n",
       "  <thead>\n",
       "    <tr style=\"text-align: right;\">\n",
       "      <th></th>\n",
       "      <th>session_id</th>\n",
       "      <th>client_id</th>\n",
       "      <th>visit_number</th>\n",
       "      <th>utm_source</th>\n",
       "      <th>utm_medium</th>\n",
       "      <th>utm_campaign</th>\n",
       "      <th>utm_adcontent</th>\n",
       "      <th>device_category</th>\n",
       "      <th>device_os</th>\n",
       "      <th>device_brand</th>\n",
       "      <th>device_screen_resolution</th>\n",
       "      <th>device_browser</th>\n",
       "      <th>geo_country</th>\n",
       "      <th>geo_city</th>\n",
       "      <th>target</th>\n",
       "      <th>visit_date_time</th>\n",
       "      <th>utm_source_type</th>\n",
       "      <th>utm_medium_type</th>\n",
       "      <th>device_screen_a</th>\n",
       "      <th>device_screen_b</th>\n",
       "    </tr>\n",
       "  </thead>\n",
       "  <tbody>\n",
       "    <tr>\n",
       "      <th>1749992</th>\n",
       "      <td>8564456783202813596.1627195037.1627195037</td>\n",
       "      <td>1994067985.1627195036</td>\n",
       "      <td>1</td>\n",
       "      <td>geDcueAOghDzHkGMmdOq</td>\n",
       "      <td>cpm</td>\n",
       "      <td>FTjNLDyTrXaWYgZymFkV</td>\n",
       "      <td>WYLajZgbUhGimwBKDZUH</td>\n",
       "      <td>tablet</td>\n",
       "      <td>Android</td>\n",
       "      <td>Samsung</td>\n",
       "      <td>3440x1440</td>\n",
       "      <td>YaBrowser</td>\n",
       "      <td>Russia</td>\n",
       "      <td>Saint Petersburg</td>\n",
       "      <td>0.0</td>\n",
       "      <td>2021-07-25 09:00:00+00:00</td>\n",
       "      <td>other</td>\n",
       "      <td>other</td>\n",
       "      <td>3440</td>\n",
       "      <td>1440</td>\n",
       "    </tr>\n",
       "  </tbody>\n",
       "</table>\n",
       "</div>"
      ],
      "text/plain": [
       "                                        session_id              client_id  \\\n",
       "1749992  8564456783202813596.1627195037.1627195037  1994067985.1627195036   \n",
       "\n",
       "         visit_number            utm_source utm_medium          utm_campaign  \\\n",
       "1749992             1  geDcueAOghDzHkGMmdOq        cpm  FTjNLDyTrXaWYgZymFkV   \n",
       "\n",
       "                utm_adcontent device_category device_os device_brand  \\\n",
       "1749992  WYLajZgbUhGimwBKDZUH          tablet   Android      Samsung   \n",
       "\n",
       "        device_screen_resolution device_browser geo_country          geo_city  \\\n",
       "1749992                3440x1440      YaBrowser      Russia  Saint Petersburg   \n",
       "\n",
       "         target           visit_date_time utm_source_type utm_medium_type  \\\n",
       "1749992     0.0 2021-07-25 09:00:00+00:00           other           other   \n",
       "\n",
       "         device_screen_a  device_screen_b  \n",
       "1749992             3440             1440  "
      ]
     },
     "execution_count": 170,
     "metadata": {},
     "output_type": "execute_result"
    }
   ],
   "source": [
    "df_fe[(df_fe[\"device_category\"] == 'tablet') & (df_fe['device_screen_a'] == 3440)]"
   ]
  },
  {
   "cell_type": "markdown",
   "id": "ac80e2c6-b47c-4dae-ba70-d1e655588600",
   "metadata": {},
   "source": [
    "Само по себе значение 3440 вполне возможное для планшетов. Но обычно ширина больше высоты. Здесь наоборот. Видимо, ширина и высота поменяны местами. Так как на значении площади это не повлияет, оставим это значение."
   ]
  },
  {
   "cell_type": "markdown",
   "id": "654040cb-5817-4cd3-99ec-5bfb48e8e92f",
   "metadata": {},
   "source": [
    "##### Исследование разрешения по ширине для планшетов"
   ]
  },
  {
   "cell_type": "code",
   "execution_count": 171,
   "id": "c5d5bdce-4887-48cd-b9b6-e4fdb84739a7",
   "metadata": {},
   "outputs": [
    {
     "data": {
      "image/png": "[encoded data removed]",
      "text/plain": [
       "<Figure size 640x480 with 1 Axes>"
      ]
     },
     "metadata": {},
     "output_type": "display_data"
    }
   ],
   "source": [
    "plt.plot(df_fe[df_fe['device_category'] == 'tablet'].device_screen_b);"
   ]
  },
  {
   "cell_type": "code",
   "execution_count": 172,
   "id": "fda3b5e6-22c9-497f-893d-3192dbf3a4ac",
   "metadata": {},
   "outputs": [
    {
     "name": "stdout",
     "output_type": "stream",
     "text": [
      "Минимальное разрешение по ширине для планшетов: 320\n",
      "Минимальное разрешение по ширине для планшетов: 2048\n"
     ]
    }
   ],
   "source": [
    "b_tablet_min = df_fe[df_fe[\"device_category\"] == 'tablet'].device_screen_b.min()\n",
    "b_tablet_max = df_fe[df_fe[\"device_category\"] == 'tablet'].device_screen_b.max()\n",
    "\n",
    "print(f'Минимальное разрешение по ширине для планшетов: {b_tablet_min}')\n",
    "print(f'Минимальное разрешение по ширине для планшетов: {b_tablet_max}')"
   ]
  },
  {
   "cell_type": "markdown",
   "id": "eda23ce3-c8f7-49d0-afe9-a62b3c16b5e1",
   "metadata": {},
   "source": [
    "Значения вполне реальные. Оставляем."
   ]
  },
  {
   "cell_type": "markdown",
   "id": "7433f913-399e-4ac9-bbc6-e1be51bfaf5d",
   "metadata": {},
   "source": [
    "#### Проверка на аномальные значения размеров экрана для компьютеров"
   ]
  },
  {
   "cell_type": "markdown",
   "id": "74dc4a1e-f4eb-4f4e-b353-3e7d1be32b05",
   "metadata": {},
   "source": [
    "##### Исследование разрешения по высоте для компьютеров"
   ]
  },
  {
   "cell_type": "code",
   "execution_count": 173,
   "id": "b6295666-5231-4f9f-be4b-069a16998df0",
   "metadata": {},
   "outputs": [
    {
     "data": {
      "image/png": "[encoded data removed]",
      "text/plain": [
       "<Figure size 640x480 with 1 Axes>"
      ]
     },
     "metadata": {},
     "output_type": "display_data"
    }
   ],
   "source": [
    "plt.plot(df_fe[df_fe['device_category'] == 'desktop'].device_screen_a);"
   ]
  },
  {
   "cell_type": "code",
   "execution_count": 174,
   "id": "00ba7b3f-a8ae-4996-9666-efb505aa2838",
   "metadata": {},
   "outputs": [
    {
     "name": "stdout",
     "output_type": "stream",
     "text": [
      "Минимальное разрешение по высоте для планшетов: 0\n",
      "Минимальное разрешение по высоте для планшетов: 5924\n"
     ]
    }
   ],
   "source": [
    "a_desktop_min = df_fe[df_fe[\"device_category\"] == 'desktop'].device_screen_a.min()\n",
    "a_desktop_max = df_fe[df_fe[\"device_category\"] == 'desktop'].device_screen_a.max()\n",
    "\n",
    "print(f'Минимальное разрешение по высоте для планшетов: {a_desktop_min}')\n",
    "print(f'Минимальное разрешение по высоте для планшетов: {a_desktop_max}')"
   ]
  },
  {
   "cell_type": "markdown",
   "id": "3460b86b-f5f8-4d72-8fcc-8caf91e3b1fc",
   "metadata": {},
   "source": [
    "Максимальные значения выглядят вполне реально. Нулевые значения заменяем самым часто встречающимся"
   ]
  },
  {
   "cell_type": "code",
   "execution_count": 175,
   "id": "af1620a1-01e6-4ba9-94f3-8aa72f14b65c",
   "metadata": {},
   "outputs": [
    {
     "data": {
      "text/html": [
       "<div>\n",
       "<style scoped>\n",
       "    .dataframe tbody tr th:only-of-type {\n",
       "        vertical-align: middle;\n",
       "    }\n",
       "\n",
       "    .dataframe tbody tr th {\n",
       "        vertical-align: top;\n",
       "    }\n",
       "\n",
       "    .dataframe thead th {\n",
       "        text-align: right;\n",
       "    }\n",
       "</style>\n",
       "<table border=\"1\" class=\"dataframe\">\n",
       "  <thead>\n",
       "    <tr style=\"text-align: right;\">\n",
       "      <th></th>\n",
       "      <th>session_id</th>\n",
       "      <th>client_id</th>\n",
       "      <th>visit_number</th>\n",
       "      <th>utm_source</th>\n",
       "      <th>utm_medium</th>\n",
       "      <th>utm_campaign</th>\n",
       "      <th>utm_adcontent</th>\n",
       "      <th>device_category</th>\n",
       "      <th>device_os</th>\n",
       "      <th>device_brand</th>\n",
       "      <th>device_screen_resolution</th>\n",
       "      <th>device_browser</th>\n",
       "      <th>geo_country</th>\n",
       "      <th>geo_city</th>\n",
       "      <th>target</th>\n",
       "      <th>visit_date_time</th>\n",
       "      <th>utm_source_type</th>\n",
       "      <th>utm_medium_type</th>\n",
       "      <th>device_screen_a</th>\n",
       "      <th>device_screen_b</th>\n",
       "    </tr>\n",
       "  </thead>\n",
       "  <tbody>\n",
       "    <tr>\n",
       "      <th>44288</th>\n",
       "      <td>950433344634896286.1638285216.1638285216</td>\n",
       "      <td>221290007.1638285214</td>\n",
       "      <td>1</td>\n",
       "      <td>kjsLglQLzykiRbcDiGcD</td>\n",
       "      <td>cpc</td>\n",
       "      <td>LwJZxKuWmvOhPsaCeRjG</td>\n",
       "      <td>JNHcPlZPxEMWDnRiyoBf</td>\n",
       "      <td>desktop</td>\n",
       "      <td>Windows</td>\n",
       "      <td>other</td>\n",
       "      <td>0x0</td>\n",
       "      <td>Chrome</td>\n",
       "      <td>Russia</td>\n",
       "      <td>Moscow</td>\n",
       "      <td>0.0</td>\n",
       "      <td>2021-11-30 18:13:36+00:00</td>\n",
       "      <td>other</td>\n",
       "      <td>other</td>\n",
       "      <td>0</td>\n",
       "      <td>0</td>\n",
       "    </tr>\n",
       "    <tr>\n",
       "      <th>63108</th>\n",
       "      <td>1034855208904127115.1622241934.1622241934</td>\n",
       "      <td>240946004.1622241931</td>\n",
       "      <td>1</td>\n",
       "      <td>kjsLglQLzykiRbcDiGcD</td>\n",
       "      <td>cpc</td>\n",
       "      <td>other</td>\n",
       "      <td>aYAcKhelKzYpXrRYknSP</td>\n",
       "      <td>desktop</td>\n",
       "      <td>other</td>\n",
       "      <td>other</td>\n",
       "      <td>0x0</td>\n",
       "      <td>Edge</td>\n",
       "      <td>Russia</td>\n",
       "      <td>Saint Petersburg</td>\n",
       "      <td>0.0</td>\n",
       "      <td>2021-05-29 01:00:00+00:00</td>\n",
       "      <td>other</td>\n",
       "      <td>other</td>\n",
       "      <td>0</td>\n",
       "      <td>0</td>\n",
       "    </tr>\n",
       "    <tr>\n",
       "      <th>150895</th>\n",
       "      <td>1429325999168992177.1622324145.1622324145</td>\n",
       "      <td>332790892.1622324145</td>\n",
       "      <td>1</td>\n",
       "      <td>kjsLglQLzykiRbcDiGcD</td>\n",
       "      <td>cpc</td>\n",
       "      <td>other</td>\n",
       "      <td>aYAcKhelKzYpXrRYknSP</td>\n",
       "      <td>desktop</td>\n",
       "      <td>other</td>\n",
       "      <td>other</td>\n",
       "      <td>0x0</td>\n",
       "      <td>Chrome</td>\n",
       "      <td>Russia</td>\n",
       "      <td>Moscow</td>\n",
       "      <td>0.0</td>\n",
       "      <td>2021-05-30 00:00:00+00:00</td>\n",
       "      <td>other</td>\n",
       "      <td>other</td>\n",
       "      <td>0</td>\n",
       "      <td>0</td>\n",
       "    </tr>\n",
       "    <tr>\n",
       "      <th>268575</th>\n",
       "      <td>1959491500856234812.1626264380.1626264380</td>\n",
       "      <td>456229667.1626264380</td>\n",
       "      <td>1</td>\n",
       "      <td>fDLlAcSmythWSCVMvqvL</td>\n",
       "      <td>(none)</td>\n",
       "      <td>LTuZkdKfxRGVceoWkVyg</td>\n",
       "      <td>JNHcPlZPxEMWDnRiyoBf</td>\n",
       "      <td>desktop</td>\n",
       "      <td>other</td>\n",
       "      <td>other</td>\n",
       "      <td>0x0</td>\n",
       "      <td>Chrome</td>\n",
       "      <td>Russia</td>\n",
       "      <td>Saint Petersburg</td>\n",
       "      <td>0.0</td>\n",
       "      <td>2021-07-14 15:00:00+00:00</td>\n",
       "      <td>other</td>\n",
       "      <td>organic</td>\n",
       "      <td>0</td>\n",
       "      <td>0</td>\n",
       "    </tr>\n",
       "    <tr>\n",
       "      <th>808806</th>\n",
       "      <td>4369400154622279642.1640775642.1640775642</td>\n",
       "      <td>1017330250.1640775642</td>\n",
       "      <td>1</td>\n",
       "      <td>vFcAhRxLfOWKhvxjELkx</td>\n",
       "      <td>organic</td>\n",
       "      <td>okTXSMadDkjvntEHzIjp</td>\n",
       "      <td>LLfCasrxQzJIyuldcuWy</td>\n",
       "      <td>desktop</td>\n",
       "      <td>Linux</td>\n",
       "      <td>other</td>\n",
       "      <td>0x0</td>\n",
       "      <td>Chrome</td>\n",
       "      <td>Russia</td>\n",
       "      <td>Saint Petersburg</td>\n",
       "      <td>0.0</td>\n",
       "      <td>2021-12-29 14:00:42+00:00</td>\n",
       "      <td>other</td>\n",
       "      <td>organic</td>\n",
       "      <td>0</td>\n",
       "      <td>0</td>\n",
       "    </tr>\n",
       "    <tr>\n",
       "      <th>985350</th>\n",
       "      <td>5153955401013310840.1637528954.1637528954</td>\n",
       "      <td>1199998753.1637528952</td>\n",
       "      <td>1</td>\n",
       "      <td>kjsLglQLzykiRbcDiGcD</td>\n",
       "      <td>cpc</td>\n",
       "      <td>bJJuEXRheRIxXEaYIXqM</td>\n",
       "      <td>JNHcPlZPxEMWDnRiyoBf</td>\n",
       "      <td>desktop</td>\n",
       "      <td>Windows</td>\n",
       "      <td>other</td>\n",
       "      <td>0x0</td>\n",
       "      <td>Chrome</td>\n",
       "      <td>Russia</td>\n",
       "      <td>Moscow</td>\n",
       "      <td>0.0</td>\n",
       "      <td>2021-11-22 00:09:14+00:00</td>\n",
       "      <td>other</td>\n",
       "      <td>other</td>\n",
       "      <td>0</td>\n",
       "      <td>0</td>\n",
       "    </tr>\n",
       "    <tr>\n",
       "      <th>1598805</th>\n",
       "      <td>7890126052774737523.1622242931.1622242931</td>\n",
       "      <td>1837063127.1622242931</td>\n",
       "      <td>1</td>\n",
       "      <td>kjsLglQLzykiRbcDiGcD</td>\n",
       "      <td>cpc</td>\n",
       "      <td>other</td>\n",
       "      <td>aYAcKhelKzYpXrRYknSP</td>\n",
       "      <td>desktop</td>\n",
       "      <td>other</td>\n",
       "      <td>other</td>\n",
       "      <td>0x0</td>\n",
       "      <td>Firefox</td>\n",
       "      <td>Russia</td>\n",
       "      <td>Kommunar</td>\n",
       "      <td>0.0</td>\n",
       "      <td>2021-05-29 02:00:00+00:00</td>\n",
       "      <td>other</td>\n",
       "      <td>other</td>\n",
       "      <td>0</td>\n",
       "      <td>0</td>\n",
       "    </tr>\n",
       "    <tr>\n",
       "      <th>1692860</th>\n",
       "      <td>8311377506033299631.1632202927.1632202933</td>\n",
       "      <td>1935143374.1632202927</td>\n",
       "      <td>1</td>\n",
       "      <td>bByPQxmDaMXgpHeypKSM</td>\n",
       "      <td>referral</td>\n",
       "      <td>hkvDVxqLOzGjGaoNiNzN</td>\n",
       "      <td>sYzBROYhjSDbFZCpzGyf</td>\n",
       "      <td>desktop</td>\n",
       "      <td>other</td>\n",
       "      <td>other</td>\n",
       "      <td>0x0</td>\n",
       "      <td>Chrome</td>\n",
       "      <td>Russia</td>\n",
       "      <td>Saint Petersburg</td>\n",
       "      <td>0.0</td>\n",
       "      <td>2021-09-21 08:00:00+00:00</td>\n",
       "      <td>other</td>\n",
       "      <td>organic</td>\n",
       "      <td>0</td>\n",
       "      <td>0</td>\n",
       "    </tr>\n",
       "  </tbody>\n",
       "</table>\n",
       "</div>"
      ],
      "text/plain": [
       "                                        session_id              client_id  \\\n",
       "44288     950433344634896286.1638285216.1638285216   221290007.1638285214   \n",
       "63108    1034855208904127115.1622241934.1622241934   240946004.1622241931   \n",
       "150895   1429325999168992177.1622324145.1622324145   332790892.1622324145   \n",
       "268575   1959491500856234812.1626264380.1626264380   456229667.1626264380   \n",
       "808806   4369400154622279642.1640775642.1640775642  1017330250.1640775642   \n",
       "985350   5153955401013310840.1637528954.1637528954  1199998753.1637528952   \n",
       "1598805  7890126052774737523.1622242931.1622242931  1837063127.1622242931   \n",
       "1692860  8311377506033299631.1632202927.1632202933  1935143374.1632202927   \n",
       "\n",
       "         visit_number            utm_source utm_medium          utm_campaign  \\\n",
       "44288               1  kjsLglQLzykiRbcDiGcD        cpc  LwJZxKuWmvOhPsaCeRjG   \n",
       "63108               1  kjsLglQLzykiRbcDiGcD        cpc                 other   \n",
       "150895              1  kjsLglQLzykiRbcDiGcD        cpc                 other   \n",
       "268575              1  fDLlAcSmythWSCVMvqvL     (none)  LTuZkdKfxRGVceoWkVyg   \n",
       "808806              1  vFcAhRxLfOWKhvxjELkx    organic  okTXSMadDkjvntEHzIjp   \n",
       "985350              1  kjsLglQLzykiRbcDiGcD        cpc  bJJuEXRheRIxXEaYIXqM   \n",
       "1598805             1  kjsLglQLzykiRbcDiGcD        cpc                 other   \n",
       "1692860             1  bByPQxmDaMXgpHeypKSM   referral  hkvDVxqLOzGjGaoNiNzN   \n",
       "\n",
       "                utm_adcontent device_category device_os device_brand  \\\n",
       "44288    JNHcPlZPxEMWDnRiyoBf         desktop   Windows        other   \n",
       "63108    aYAcKhelKzYpXrRYknSP         desktop     other        other   \n",
       "150895   aYAcKhelKzYpXrRYknSP         desktop     other        other   \n",
       "268575   JNHcPlZPxEMWDnRiyoBf         desktop     other        other   \n",
       "808806   LLfCasrxQzJIyuldcuWy         desktop     Linux        other   \n",
       "985350   JNHcPlZPxEMWDnRiyoBf         desktop   Windows        other   \n",
       "1598805  aYAcKhelKzYpXrRYknSP         desktop     other        other   \n",
       "1692860  sYzBROYhjSDbFZCpzGyf         desktop     other        other   \n",
       "\n",
       "        device_screen_resolution device_browser geo_country          geo_city  \\\n",
       "44288                        0x0         Chrome      Russia            Moscow   \n",
       "63108                        0x0           Edge      Russia  Saint Petersburg   \n",
       "150895                       0x0         Chrome      Russia            Moscow   \n",
       "268575                       0x0         Chrome      Russia  Saint Petersburg   \n",
       "808806                       0x0         Chrome      Russia  Saint Petersburg   \n",
       "985350                       0x0         Chrome      Russia            Moscow   \n",
       "1598805                      0x0        Firefox      Russia          Kommunar   \n",
       "1692860                      0x0         Chrome      Russia  Saint Petersburg   \n",
       "\n",
       "         target           visit_date_time utm_source_type utm_medium_type  \\\n",
       "44288       0.0 2021-11-30 18:13:36+00:00           other           other   \n",
       "63108       0.0 2021-05-29 01:00:00+00:00           other           other   \n",
       "150895      0.0 2021-05-30 00:00:00+00:00           other           other   \n",
       "268575      0.0 2021-07-14 15:00:00+00:00           other         organic   \n",
       "808806      0.0 2021-12-29 14:00:42+00:00           other         organic   \n",
       "985350      0.0 2021-11-22 00:09:14+00:00           other           other   \n",
       "1598805     0.0 2021-05-29 02:00:00+00:00           other           other   \n",
       "1692860     0.0 2021-09-21 08:00:00+00:00           other         organic   \n",
       "\n",
       "         device_screen_a  device_screen_b  \n",
       "44288                  0                0  \n",
       "63108                  0                0  \n",
       "150895                 0                0  \n",
       "268575                 0                0  \n",
       "808806                 0                0  \n",
       "985350                 0                0  \n",
       "1598805                0                0  \n",
       "1692860                0                0  "
      ]
     },
     "execution_count": 175,
     "metadata": {},
     "output_type": "execute_result"
    }
   ],
   "source": [
    "df_fe[(df_fe[\"device_category\"] == 'desktop') & (df_fe['device_screen_a'] == 0)]"
   ]
  },
  {
   "cell_type": "code",
   "execution_count": 176,
   "id": "804fb51a-ea38-4166-b199-fb6018415962",
   "metadata": {},
   "outputs": [
    {
     "data": {
      "text/plain": [
       "0    1920\n",
       "Name: device_screen_a, dtype: int64"
      ]
     },
     "execution_count": 176,
     "metadata": {},
     "output_type": "execute_result"
    }
   ],
   "source": [
    "df_fe[df_fe[\"device_category\"] == 'desktop'].device_screen_a.mode()"
   ]
  },
  {
   "cell_type": "code",
   "execution_count": 177,
   "id": "4bf75cb6-4e21-43ae-9e01-e710b8e21435",
   "metadata": {},
   "outputs": [],
   "source": [
    "df_fe['device_screen_a'] = df_fe.apply(lambda x: 1920 if ((x.device_category == 'desktop') and (x.device_screen_a == 0)) else x.device_screen_a, axis=1)"
   ]
  },
  {
   "cell_type": "code",
   "execution_count": 178,
   "id": "4a5c90ce-26f4-4950-8dc0-f32e480cdbd0",
   "metadata": {},
   "outputs": [
    {
     "data": {
      "image/png": "[encoded data removed]",
      "text/plain": [
       "<Figure size 640x480 with 1 Axes>"
      ]
     },
     "metadata": {},
     "output_type": "display_data"
    }
   ],
   "source": [
    "plt.plot(df_fe[df_fe['device_category'] == 'desktop'].device_screen_a);"
   ]
  },
  {
   "cell_type": "markdown",
   "id": "bceb0337-5d72-4f1e-997a-bd3bfc0f9d55",
   "metadata": {},
   "source": [
    "Теперь нулей нет"
   ]
  },
  {
   "cell_type": "markdown",
   "id": "058fb76c-4ce3-4656-a2d3-b15db182bfe2",
   "metadata": {},
   "source": [
    "##### Исследование разрешения по ширине для компьютеров"
   ]
  },
  {
   "cell_type": "code",
   "execution_count": 179,
   "id": "70bd7a84-b8cd-4321-b7a3-d8aca9765cda",
   "metadata": {},
   "outputs": [
    {
     "data": {
      "image/png": "[encoded data removed]",
      "text/plain": [
       "<Figure size 640x480 with 1 Axes>"
      ]
     },
     "metadata": {},
     "output_type": "display_data"
    }
   ],
   "source": [
    "plt.plot(df_fe[df_fe['device_category'] == 'desktop'].device_screen_b);"
   ]
  },
  {
   "cell_type": "markdown",
   "id": "8dafb1a4-f361-475b-a11c-44fa46823bbb",
   "metadata": {},
   "source": [
    "Есть сразу несколько довольно ощутимых выбросов"
   ]
  },
  {
   "cell_type": "code",
   "execution_count": 180,
   "id": "fe0f62b3-9f1d-476e-9ea3-a5ce7333b6c4",
   "metadata": {},
   "outputs": [
    {
     "name": "stdout",
     "output_type": "stream",
     "text": [
      "Минимальное разрешение по ширине для компьютеров: 0\n",
      "Минимальное разрешение по ширине для компьютеров: 20000\n"
     ]
    }
   ],
   "source": [
    "b_desktop_min = df_fe[df_fe[\"device_category\"] == 'desktop'].device_screen_b.min()\n",
    "b_desktop_max = df_fe[df_fe[\"device_category\"] == 'desktop'].device_screen_b.max()\n",
    "\n",
    "print(f'Минимальное разрешение по ширине для компьютеров: {b_desktop_min}')\n",
    "print(f'Минимальное разрешение по ширине для компьютеров: {b_desktop_max}')"
   ]
  },
  {
   "cell_type": "markdown",
   "id": "2bd678bc-c37f-4b32-8fad-5ee0e887692f",
   "metadata": {},
   "source": [
    "Сначала разбираемся с нулевыми значениями. Заменим самым часто встречающимся значением"
   ]
  },
  {
   "cell_type": "code",
   "execution_count": 181,
   "id": "52635eb1-681d-4ee0-9f6d-a9f47f608713",
   "metadata": {},
   "outputs": [
    {
     "data": {
      "text/plain": [
       "0    1080\n",
       "Name: device_screen_b, dtype: int64"
      ]
     },
     "execution_count": 181,
     "metadata": {},
     "output_type": "execute_result"
    }
   ],
   "source": [
    "df_fe[df_fe[\"device_category\"] == 'desktop'].device_screen_b.mode()"
   ]
  },
  {
   "cell_type": "code",
   "execution_count": 182,
   "id": "3148e458-df96-477d-bbd3-6fba5fef37c9",
   "metadata": {},
   "outputs": [],
   "source": [
    "df_fe['device_screen_b'] = df_fe.apply(lambda x: 1080 if ((x.device_category == 'desktop') and (x.device_screen_b == 0)) else x.device_screen_b, axis=1)"
   ]
  },
  {
   "cell_type": "markdown",
   "id": "388aa8e4-eeac-4d36-8eab-828748fb6c06",
   "metadata": {},
   "source": [
    "Далее разбираемся с аномально высокими значениями"
   ]
  },
  {
   "cell_type": "code",
   "execution_count": 183,
   "id": "ea8d4223-8931-41bb-81f9-0ab196a80eee",
   "metadata": {},
   "outputs": [
    {
     "data": {
      "text/html": [
       "<div>\n",
       "<style scoped>\n",
       "    .dataframe tbody tr th:only-of-type {\n",
       "        vertical-align: middle;\n",
       "    }\n",
       "\n",
       "    .dataframe tbody tr th {\n",
       "        vertical-align: top;\n",
       "    }\n",
       "\n",
       "    .dataframe thead th {\n",
       "        text-align: right;\n",
       "    }\n",
       "</style>\n",
       "<table border=\"1\" class=\"dataframe\">\n",
       "  <thead>\n",
       "    <tr style=\"text-align: right;\">\n",
       "      <th></th>\n",
       "      <th>session_id</th>\n",
       "      <th>client_id</th>\n",
       "      <th>visit_number</th>\n",
       "      <th>utm_source</th>\n",
       "      <th>utm_medium</th>\n",
       "      <th>utm_campaign</th>\n",
       "      <th>utm_adcontent</th>\n",
       "      <th>device_category</th>\n",
       "      <th>device_os</th>\n",
       "      <th>device_brand</th>\n",
       "      <th>device_screen_resolution</th>\n",
       "      <th>device_browser</th>\n",
       "      <th>geo_country</th>\n",
       "      <th>geo_city</th>\n",
       "      <th>target</th>\n",
       "      <th>visit_date_time</th>\n",
       "      <th>utm_source_type</th>\n",
       "      <th>utm_medium_type</th>\n",
       "      <th>device_screen_a</th>\n",
       "      <th>device_screen_b</th>\n",
       "    </tr>\n",
       "  </thead>\n",
       "  <tbody>\n",
       "    <tr>\n",
       "      <th>7690</th>\n",
       "      <td>9089787985673454509.1638794162.1638794162</td>\n",
       "      <td>2116381187.1638794157</td>\n",
       "      <td>1</td>\n",
       "      <td>fDLlAcSmythWSCVMvqvL</td>\n",
       "      <td>(none)</td>\n",
       "      <td>LTuZkdKfxRGVceoWkVyg</td>\n",
       "      <td>JNHcPlZPxEMWDnRiyoBf</td>\n",
       "      <td>desktop</td>\n",
       "      <td>(not set)</td>\n",
       "      <td>other</td>\n",
       "      <td>1600x20000</td>\n",
       "      <td>Chrome</td>\n",
       "      <td>(not set)</td>\n",
       "      <td>(not set)</td>\n",
       "      <td>0.0</td>\n",
       "      <td>2021-12-06 15:36:02+00:00</td>\n",
       "      <td>other</td>\n",
       "      <td>organic</td>\n",
       "      <td>1600</td>\n",
       "      <td>20000</td>\n",
       "    </tr>\n",
       "    <tr>\n",
       "      <th>16893</th>\n",
       "      <td>9130259934944875721.1633604811.1633604811</td>\n",
       "      <td>2125804297.1633604809</td>\n",
       "      <td>1</td>\n",
       "      <td>fDLlAcSmythWSCVMvqvL</td>\n",
       "      <td>(none)</td>\n",
       "      <td>LTuZkdKfxRGVceoWkVyg</td>\n",
       "      <td>JNHcPlZPxEMWDnRiyoBf</td>\n",
       "      <td>desktop</td>\n",
       "      <td>other</td>\n",
       "      <td>other</td>\n",
       "      <td>1600x20000</td>\n",
       "      <td>Chrome</td>\n",
       "      <td>(not set)</td>\n",
       "      <td>(not set)</td>\n",
       "      <td>0.0</td>\n",
       "      <td>2021-10-07 14:00:00+00:00</td>\n",
       "      <td>other</td>\n",
       "      <td>organic</td>\n",
       "      <td>1600</td>\n",
       "      <td>20000</td>\n",
       "    </tr>\n",
       "    <tr>\n",
       "      <th>54385</th>\n",
       "      <td>994460654948701315.1632752773.1632752773</td>\n",
       "      <td>231540914.1632752771</td>\n",
       "      <td>1</td>\n",
       "      <td>fDLlAcSmythWSCVMvqvL</td>\n",
       "      <td>(none)</td>\n",
       "      <td>LTuZkdKfxRGVceoWkVyg</td>\n",
       "      <td>JNHcPlZPxEMWDnRiyoBf</td>\n",
       "      <td>desktop</td>\n",
       "      <td>other</td>\n",
       "      <td>other</td>\n",
       "      <td>1600x20000</td>\n",
       "      <td>Chrome</td>\n",
       "      <td>(not set)</td>\n",
       "      <td>(not set)</td>\n",
       "      <td>0.0</td>\n",
       "      <td>2021-09-27 17:00:00+00:00</td>\n",
       "      <td>other</td>\n",
       "      <td>organic</td>\n",
       "      <td>1600</td>\n",
       "      <td>20000</td>\n",
       "    </tr>\n",
       "    <tr>\n",
       "      <th>112711</th>\n",
       "      <td>1257484293244700670.1635502080.1635502080</td>\n",
       "      <td>292780877.1635502078</td>\n",
       "      <td>1</td>\n",
       "      <td>fDLlAcSmythWSCVMvqvL</td>\n",
       "      <td>(none)</td>\n",
       "      <td>LTuZkdKfxRGVceoWkVyg</td>\n",
       "      <td>JNHcPlZPxEMWDnRiyoBf</td>\n",
       "      <td>desktop</td>\n",
       "      <td>(not set)</td>\n",
       "      <td>other</td>\n",
       "      <td>1600x20000</td>\n",
       "      <td>Chrome</td>\n",
       "      <td>(not set)</td>\n",
       "      <td>(not set)</td>\n",
       "      <td>0.0</td>\n",
       "      <td>2021-10-29 13:08:00+00:00</td>\n",
       "      <td>other</td>\n",
       "      <td>organic</td>\n",
       "      <td>1600</td>\n",
       "      <td>20000</td>\n",
       "    </tr>\n",
       "    <tr>\n",
       "      <th>119839</th>\n",
       "      <td>1290093398651180319.1638798624.1638798624</td>\n",
       "      <td>300373276.1638798623</td>\n",
       "      <td>1</td>\n",
       "      <td>fDLlAcSmythWSCVMvqvL</td>\n",
       "      <td>(none)</td>\n",
       "      <td>LTuZkdKfxRGVceoWkVyg</td>\n",
       "      <td>JNHcPlZPxEMWDnRiyoBf</td>\n",
       "      <td>desktop</td>\n",
       "      <td>(not set)</td>\n",
       "      <td>other</td>\n",
       "      <td>1600x20000</td>\n",
       "      <td>Chrome</td>\n",
       "      <td>(not set)</td>\n",
       "      <td>(not set)</td>\n",
       "      <td>0.0</td>\n",
       "      <td>2021-12-06 16:50:24+00:00</td>\n",
       "      <td>other</td>\n",
       "      <td>organic</td>\n",
       "      <td>1600</td>\n",
       "      <td>20000</td>\n",
       "    </tr>\n",
       "    <tr>\n",
       "      <th>142053</th>\n",
       "      <td>1390059170487545779.1638870966.1638870966</td>\n",
       "      <td>323648371.1638870963</td>\n",
       "      <td>1</td>\n",
       "      <td>fDLlAcSmythWSCVMvqvL</td>\n",
       "      <td>(none)</td>\n",
       "      <td>LTuZkdKfxRGVceoWkVyg</td>\n",
       "      <td>JNHcPlZPxEMWDnRiyoBf</td>\n",
       "      <td>desktop</td>\n",
       "      <td>(not set)</td>\n",
       "      <td>other</td>\n",
       "      <td>1600x20000</td>\n",
       "      <td>Chrome</td>\n",
       "      <td>(not set)</td>\n",
       "      <td>(not set)</td>\n",
       "      <td>0.0</td>\n",
       "      <td>2021-12-07 12:56:06+00:00</td>\n",
       "      <td>other</td>\n",
       "      <td>organic</td>\n",
       "      <td>1600</td>\n",
       "      <td>20000</td>\n",
       "    </tr>\n",
       "    <tr>\n",
       "      <th>403862</th>\n",
       "      <td>2562427329234712068.1640609290.1640609290</td>\n",
       "      <td>596611604.1640609284</td>\n",
       "      <td>1</td>\n",
       "      <td>fDLlAcSmythWSCVMvqvL</td>\n",
       "      <td>(none)</td>\n",
       "      <td>LTuZkdKfxRGVceoWkVyg</td>\n",
       "      <td>JNHcPlZPxEMWDnRiyoBf</td>\n",
       "      <td>desktop</td>\n",
       "      <td>(not set)</td>\n",
       "      <td>other</td>\n",
       "      <td>1600x20000</td>\n",
       "      <td>Chrome</td>\n",
       "      <td>(not set)</td>\n",
       "      <td>(not set)</td>\n",
       "      <td>0.0</td>\n",
       "      <td>2021-12-27 15:48:10+00:00</td>\n",
       "      <td>other</td>\n",
       "      <td>organic</td>\n",
       "      <td>1600</td>\n",
       "      <td>20000</td>\n",
       "    </tr>\n",
       "    <tr>\n",
       "      <th>455328</th>\n",
       "      <td>2787606391470042918.1630416680.1630416680</td>\n",
       "      <td>649040190.1630416678</td>\n",
       "      <td>1</td>\n",
       "      <td>fDLlAcSmythWSCVMvqvL</td>\n",
       "      <td>(none)</td>\n",
       "      <td>LTuZkdKfxRGVceoWkVyg</td>\n",
       "      <td>JNHcPlZPxEMWDnRiyoBf</td>\n",
       "      <td>desktop</td>\n",
       "      <td>other</td>\n",
       "      <td>other</td>\n",
       "      <td>1600x20000</td>\n",
       "      <td>Chrome</td>\n",
       "      <td>(not set)</td>\n",
       "      <td>(not set)</td>\n",
       "      <td>0.0</td>\n",
       "      <td>2021-08-31 16:00:00+00:00</td>\n",
       "      <td>other</td>\n",
       "      <td>organic</td>\n",
       "      <td>1600</td>\n",
       "      <td>20000</td>\n",
       "    </tr>\n",
       "    <tr>\n",
       "      <th>495461</th>\n",
       "      <td>2970102339313184882.1632743540.1632743540</td>\n",
       "      <td>691530839.1632743538</td>\n",
       "      <td>1</td>\n",
       "      <td>fDLlAcSmythWSCVMvqvL</td>\n",
       "      <td>(none)</td>\n",
       "      <td>LTuZkdKfxRGVceoWkVyg</td>\n",
       "      <td>JNHcPlZPxEMWDnRiyoBf</td>\n",
       "      <td>desktop</td>\n",
       "      <td>other</td>\n",
       "      <td>other</td>\n",
       "      <td>1600x20000</td>\n",
       "      <td>Chrome</td>\n",
       "      <td>(not set)</td>\n",
       "      <td>(not set)</td>\n",
       "      <td>0.0</td>\n",
       "      <td>2021-09-27 14:00:00+00:00</td>\n",
       "      <td>other</td>\n",
       "      <td>organic</td>\n",
       "      <td>1600</td>\n",
       "      <td>20000</td>\n",
       "    </tr>\n",
       "    <tr>\n",
       "      <th>567387</th>\n",
       "      <td>3289030955557742871.1632135449.1632135449</td>\n",
       "      <td>765787194.1632135447</td>\n",
       "      <td>1</td>\n",
       "      <td>fDLlAcSmythWSCVMvqvL</td>\n",
       "      <td>(none)</td>\n",
       "      <td>LTuZkdKfxRGVceoWkVyg</td>\n",
       "      <td>JNHcPlZPxEMWDnRiyoBf</td>\n",
       "      <td>desktop</td>\n",
       "      <td>other</td>\n",
       "      <td>other</td>\n",
       "      <td>1600x20000</td>\n",
       "      <td>Chrome</td>\n",
       "      <td>(not set)</td>\n",
       "      <td>(not set)</td>\n",
       "      <td>0.0</td>\n",
       "      <td>2021-09-20 13:00:00+00:00</td>\n",
       "      <td>other</td>\n",
       "      <td>organic</td>\n",
       "      <td>1600</td>\n",
       "      <td>20000</td>\n",
       "    </tr>\n",
       "    <tr>\n",
       "      <th>617756</th>\n",
       "      <td>3515124686921800289.1630411363.1630411363</td>\n",
       "      <td>818428743.1630411361</td>\n",
       "      <td>1</td>\n",
       "      <td>fDLlAcSmythWSCVMvqvL</td>\n",
       "      <td>(none)</td>\n",
       "      <td>LTuZkdKfxRGVceoWkVyg</td>\n",
       "      <td>JNHcPlZPxEMWDnRiyoBf</td>\n",
       "      <td>desktop</td>\n",
       "      <td>other</td>\n",
       "      <td>other</td>\n",
       "      <td>1600x20000</td>\n",
       "      <td>Chrome</td>\n",
       "      <td>(not set)</td>\n",
       "      <td>(not set)</td>\n",
       "      <td>0.0</td>\n",
       "      <td>2021-08-31 15:00:00+00:00</td>\n",
       "      <td>other</td>\n",
       "      <td>organic</td>\n",
       "      <td>1600</td>\n",
       "      <td>20000</td>\n",
       "    </tr>\n",
       "    <tr>\n",
       "      <th>621943</th>\n",
       "      <td>3534327408398249957.1635856359.1635856359</td>\n",
       "      <td>822899725.1635856357</td>\n",
       "      <td>1</td>\n",
       "      <td>fDLlAcSmythWSCVMvqvL</td>\n",
       "      <td>(none)</td>\n",
       "      <td>LTuZkdKfxRGVceoWkVyg</td>\n",
       "      <td>JNHcPlZPxEMWDnRiyoBf</td>\n",
       "      <td>desktop</td>\n",
       "      <td>(not set)</td>\n",
       "      <td>other</td>\n",
       "      <td>1600x20000</td>\n",
       "      <td>Chrome</td>\n",
       "      <td>(not set)</td>\n",
       "      <td>(not set)</td>\n",
       "      <td>0.0</td>\n",
       "      <td>2021-11-02 15:32:39+00:00</td>\n",
       "      <td>other</td>\n",
       "      <td>organic</td>\n",
       "      <td>1600</td>\n",
       "      <td>20000</td>\n",
       "    </tr>\n",
       "    <tr>\n",
       "      <th>729079</th>\n",
       "      <td>4017226515820340117.1639998368.1639998368</td>\n",
       "      <td>935333435.1639998357</td>\n",
       "      <td>1</td>\n",
       "      <td>fDLlAcSmythWSCVMvqvL</td>\n",
       "      <td>(none)</td>\n",
       "      <td>LTuZkdKfxRGVceoWkVyg</td>\n",
       "      <td>JNHcPlZPxEMWDnRiyoBf</td>\n",
       "      <td>desktop</td>\n",
       "      <td>(not set)</td>\n",
       "      <td>other</td>\n",
       "      <td>1600x20000</td>\n",
       "      <td>Chrome</td>\n",
       "      <td>(not set)</td>\n",
       "      <td>(not set)</td>\n",
       "      <td>0.0</td>\n",
       "      <td>2021-12-20 14:06:08+00:00</td>\n",
       "      <td>other</td>\n",
       "      <td>organic</td>\n",
       "      <td>1600</td>\n",
       "      <td>20000</td>\n",
       "    </tr>\n",
       "    <tr>\n",
       "      <th>813504</th>\n",
       "      <td>4389773538142133441.1633623236.1633623236</td>\n",
       "      <td>1022073798.1633623233</td>\n",
       "      <td>1</td>\n",
       "      <td>fDLlAcSmythWSCVMvqvL</td>\n",
       "      <td>(none)</td>\n",
       "      <td>LTuZkdKfxRGVceoWkVyg</td>\n",
       "      <td>JNHcPlZPxEMWDnRiyoBf</td>\n",
       "      <td>desktop</td>\n",
       "      <td>other</td>\n",
       "      <td>other</td>\n",
       "      <td>1600x20000</td>\n",
       "      <td>Chrome</td>\n",
       "      <td>(not set)</td>\n",
       "      <td>(not set)</td>\n",
       "      <td>0.0</td>\n",
       "      <td>2021-10-07 19:00:00+00:00</td>\n",
       "      <td>other</td>\n",
       "      <td>organic</td>\n",
       "      <td>1600</td>\n",
       "      <td>20000</td>\n",
       "    </tr>\n",
       "    <tr>\n",
       "      <th>821120</th>\n",
       "      <td>4423707671013709149.1626428767.1626428767</td>\n",
       "      <td>1029974704.1626428765</td>\n",
       "      <td>1</td>\n",
       "      <td>fDLlAcSmythWSCVMvqvL</td>\n",
       "      <td>(none)</td>\n",
       "      <td>LTuZkdKfxRGVceoWkVyg</td>\n",
       "      <td>JNHcPlZPxEMWDnRiyoBf</td>\n",
       "      <td>desktop</td>\n",
       "      <td>other</td>\n",
       "      <td>other</td>\n",
       "      <td>1600x20000</td>\n",
       "      <td>Chrome</td>\n",
       "      <td>(not set)</td>\n",
       "      <td>(not set)</td>\n",
       "      <td>0.0</td>\n",
       "      <td>2021-07-16 12:00:00+00:00</td>\n",
       "      <td>other</td>\n",
       "      <td>organic</td>\n",
       "      <td>1600</td>\n",
       "      <td>20000</td>\n",
       "    </tr>\n",
       "    <tr>\n",
       "      <th>828649</th>\n",
       "      <td>4458195665693024510.1624350977.1624350977</td>\n",
       "      <td>1038004566.1624350974</td>\n",
       "      <td>1</td>\n",
       "      <td>fDLlAcSmythWSCVMvqvL</td>\n",
       "      <td>(none)</td>\n",
       "      <td>LTuZkdKfxRGVceoWkVyg</td>\n",
       "      <td>JNHcPlZPxEMWDnRiyoBf</td>\n",
       "      <td>desktop</td>\n",
       "      <td>other</td>\n",
       "      <td>other</td>\n",
       "      <td>1600x20000</td>\n",
       "      <td>Chrome</td>\n",
       "      <td>(not set)</td>\n",
       "      <td>(not set)</td>\n",
       "      <td>0.0</td>\n",
       "      <td>2021-06-22 11:00:00+00:00</td>\n",
       "      <td>other</td>\n",
       "      <td>organic</td>\n",
       "      <td>1600</td>\n",
       "      <td>20000</td>\n",
       "    </tr>\n",
       "    <tr>\n",
       "      <th>939162</th>\n",
       "      <td>4949884333493987617.1630415138.1630415138</td>\n",
       "      <td>1152484755.1630415137</td>\n",
       "      <td>1</td>\n",
       "      <td>fDLlAcSmythWSCVMvqvL</td>\n",
       "      <td>(none)</td>\n",
       "      <td>LTuZkdKfxRGVceoWkVyg</td>\n",
       "      <td>JNHcPlZPxEMWDnRiyoBf</td>\n",
       "      <td>desktop</td>\n",
       "      <td>other</td>\n",
       "      <td>other</td>\n",
       "      <td>1600x20000</td>\n",
       "      <td>Chrome</td>\n",
       "      <td>(not set)</td>\n",
       "      <td>(not set)</td>\n",
       "      <td>0.0</td>\n",
       "      <td>2021-08-31 16:00:00+00:00</td>\n",
       "      <td>other</td>\n",
       "      <td>organic</td>\n",
       "      <td>1600</td>\n",
       "      <td>20000</td>\n",
       "    </tr>\n",
       "    <tr>\n",
       "      <th>994016</th>\n",
       "      <td>5193010114153629666.1629702116.1629702116</td>\n",
       "      <td>1209091887.1629702114</td>\n",
       "      <td>1</td>\n",
       "      <td>fDLlAcSmythWSCVMvqvL</td>\n",
       "      <td>(none)</td>\n",
       "      <td>LTuZkdKfxRGVceoWkVyg</td>\n",
       "      <td>JNHcPlZPxEMWDnRiyoBf</td>\n",
       "      <td>desktop</td>\n",
       "      <td>other</td>\n",
       "      <td>other</td>\n",
       "      <td>1600x20000</td>\n",
       "      <td>Chrome</td>\n",
       "      <td>(not set)</td>\n",
       "      <td>(not set)</td>\n",
       "      <td>0.0</td>\n",
       "      <td>2021-08-23 10:00:00+00:00</td>\n",
       "      <td>other</td>\n",
       "      <td>organic</td>\n",
       "      <td>1600</td>\n",
       "      <td>20000</td>\n",
       "    </tr>\n",
       "    <tr>\n",
       "      <th>1106423</th>\n",
       "      <td>5693772196711935798.1627565880.1627565880</td>\n",
       "      <td>1325684645.1627565878</td>\n",
       "      <td>1</td>\n",
       "      <td>fDLlAcSmythWSCVMvqvL</td>\n",
       "      <td>(none)</td>\n",
       "      <td>LTuZkdKfxRGVceoWkVyg</td>\n",
       "      <td>JNHcPlZPxEMWDnRiyoBf</td>\n",
       "      <td>desktop</td>\n",
       "      <td>other</td>\n",
       "      <td>other</td>\n",
       "      <td>1600x20000</td>\n",
       "      <td>Chrome</td>\n",
       "      <td>(not set)</td>\n",
       "      <td>(not set)</td>\n",
       "      <td>0.0</td>\n",
       "      <td>2021-07-29 16:00:00+00:00</td>\n",
       "      <td>other</td>\n",
       "      <td>organic</td>\n",
       "      <td>1600</td>\n",
       "      <td>20000</td>\n",
       "    </tr>\n",
       "    <tr>\n",
       "      <th>1242625</th>\n",
       "      <td>6305990170963345458.1633681460.1633681460</td>\n",
       "      <td>1468227750.1633681458</td>\n",
       "      <td>1</td>\n",
       "      <td>fDLlAcSmythWSCVMvqvL</td>\n",
       "      <td>(none)</td>\n",
       "      <td>LTuZkdKfxRGVceoWkVyg</td>\n",
       "      <td>JNHcPlZPxEMWDnRiyoBf</td>\n",
       "      <td>desktop</td>\n",
       "      <td>other</td>\n",
       "      <td>other</td>\n",
       "      <td>1600x20000</td>\n",
       "      <td>Chrome</td>\n",
       "      <td>(not set)</td>\n",
       "      <td>(not set)</td>\n",
       "      <td>0.0</td>\n",
       "      <td>2021-10-08 11:00:00+00:00</td>\n",
       "      <td>other</td>\n",
       "      <td>organic</td>\n",
       "      <td>1600</td>\n",
       "      <td>20000</td>\n",
       "    </tr>\n",
       "    <tr>\n",
       "      <th>1277798</th>\n",
       "      <td>6460075601627493148.1630319391.1630319391</td>\n",
       "      <td>1504103560.1630319388</td>\n",
       "      <td>1</td>\n",
       "      <td>fDLlAcSmythWSCVMvqvL</td>\n",
       "      <td>(none)</td>\n",
       "      <td>LTuZkdKfxRGVceoWkVyg</td>\n",
       "      <td>JNHcPlZPxEMWDnRiyoBf</td>\n",
       "      <td>desktop</td>\n",
       "      <td>other</td>\n",
       "      <td>other</td>\n",
       "      <td>1600x20000</td>\n",
       "      <td>Chrome</td>\n",
       "      <td>(not set)</td>\n",
       "      <td>(not set)</td>\n",
       "      <td>0.0</td>\n",
       "      <td>2021-08-30 13:00:00+00:00</td>\n",
       "      <td>other</td>\n",
       "      <td>organic</td>\n",
       "      <td>1600</td>\n",
       "      <td>20000</td>\n",
       "    </tr>\n",
       "    <tr>\n",
       "      <th>1364808</th>\n",
       "      <td>6846915626587240939.1640872434.1640872434</td>\n",
       "      <td>1594171772.1640872427</td>\n",
       "      <td>1</td>\n",
       "      <td>fDLlAcSmythWSCVMvqvL</td>\n",
       "      <td>(none)</td>\n",
       "      <td>LTuZkdKfxRGVceoWkVyg</td>\n",
       "      <td>JNHcPlZPxEMWDnRiyoBf</td>\n",
       "      <td>desktop</td>\n",
       "      <td>(not set)</td>\n",
       "      <td>other</td>\n",
       "      <td>1600x20000</td>\n",
       "      <td>Chrome</td>\n",
       "      <td>(not set)</td>\n",
       "      <td>(not set)</td>\n",
       "      <td>0.0</td>\n",
       "      <td>2021-12-30 16:53:54+00:00</td>\n",
       "      <td>other</td>\n",
       "      <td>organic</td>\n",
       "      <td>1600</td>\n",
       "      <td>20000</td>\n",
       "    </tr>\n",
       "    <tr>\n",
       "      <th>1380557</th>\n",
       "      <td>6917922920732158768.1640360759.1640360759</td>\n",
       "      <td>1610704446.1640360752</td>\n",
       "      <td>1</td>\n",
       "      <td>fDLlAcSmythWSCVMvqvL</td>\n",
       "      <td>(none)</td>\n",
       "      <td>LTuZkdKfxRGVceoWkVyg</td>\n",
       "      <td>JNHcPlZPxEMWDnRiyoBf</td>\n",
       "      <td>desktop</td>\n",
       "      <td>(not set)</td>\n",
       "      <td>other</td>\n",
       "      <td>1600x20000</td>\n",
       "      <td>Chrome</td>\n",
       "      <td>(not set)</td>\n",
       "      <td>(not set)</td>\n",
       "      <td>0.0</td>\n",
       "      <td>2021-12-24 18:45:59+00:00</td>\n",
       "      <td>other</td>\n",
       "      <td>organic</td>\n",
       "      <td>1600</td>\n",
       "      <td>20000</td>\n",
       "    </tr>\n",
       "    <tr>\n",
       "      <th>1448102</th>\n",
       "      <td>722059801677431420.1636991614.1636991614</td>\n",
       "      <td>168117648.1636991612</td>\n",
       "      <td>1</td>\n",
       "      <td>fDLlAcSmythWSCVMvqvL</td>\n",
       "      <td>(none)</td>\n",
       "      <td>LTuZkdKfxRGVceoWkVyg</td>\n",
       "      <td>JNHcPlZPxEMWDnRiyoBf</td>\n",
       "      <td>desktop</td>\n",
       "      <td>(not set)</td>\n",
       "      <td>other</td>\n",
       "      <td>1600x20000</td>\n",
       "      <td>Chrome</td>\n",
       "      <td>(not set)</td>\n",
       "      <td>(not set)</td>\n",
       "      <td>0.0</td>\n",
       "      <td>2021-11-15 18:53:34+00:00</td>\n",
       "      <td>other</td>\n",
       "      <td>organic</td>\n",
       "      <td>1600</td>\n",
       "      <td>20000</td>\n",
       "    </tr>\n",
       "    <tr>\n",
       "      <th>1705677</th>\n",
       "      <td>8368997576094131337.1630676107.1630676107</td>\n",
       "      <td>1948559092.1630676105</td>\n",
       "      <td>1</td>\n",
       "      <td>fDLlAcSmythWSCVMvqvL</td>\n",
       "      <td>(none)</td>\n",
       "      <td>LTuZkdKfxRGVceoWkVyg</td>\n",
       "      <td>JNHcPlZPxEMWDnRiyoBf</td>\n",
       "      <td>desktop</td>\n",
       "      <td>other</td>\n",
       "      <td>other</td>\n",
       "      <td>1600x20000</td>\n",
       "      <td>Chrome</td>\n",
       "      <td>(not set)</td>\n",
       "      <td>(not set)</td>\n",
       "      <td>0.0</td>\n",
       "      <td>2021-09-03 16:00:00+00:00</td>\n",
       "      <td>other</td>\n",
       "      <td>organic</td>\n",
       "      <td>1600</td>\n",
       "      <td>20000</td>\n",
       "    </tr>\n",
       "    <tr>\n",
       "      <th>1730600</th>\n",
       "      <td>8480237396571514441.1637934668.1637934668</td>\n",
       "      <td>1974459131.1637934665</td>\n",
       "      <td>1</td>\n",
       "      <td>fDLlAcSmythWSCVMvqvL</td>\n",
       "      <td>(none)</td>\n",
       "      <td>LTuZkdKfxRGVceoWkVyg</td>\n",
       "      <td>JNHcPlZPxEMWDnRiyoBf</td>\n",
       "      <td>desktop</td>\n",
       "      <td>(not set)</td>\n",
       "      <td>other</td>\n",
       "      <td>1600x20000</td>\n",
       "      <td>Chrome</td>\n",
       "      <td>(not set)</td>\n",
       "      <td>(not set)</td>\n",
       "      <td>0.0</td>\n",
       "      <td>2021-11-26 16:51:08+00:00</td>\n",
       "      <td>other</td>\n",
       "      <td>organic</td>\n",
       "      <td>1600</td>\n",
       "      <td>20000</td>\n",
       "    </tr>\n",
       "    <tr>\n",
       "      <th>1772350</th>\n",
       "      <td>8664120245184809285.1635961160.1635961160</td>\n",
       "      <td>2017272693.1635961157</td>\n",
       "      <td>1</td>\n",
       "      <td>fDLlAcSmythWSCVMvqvL</td>\n",
       "      <td>(none)</td>\n",
       "      <td>LTuZkdKfxRGVceoWkVyg</td>\n",
       "      <td>JNHcPlZPxEMWDnRiyoBf</td>\n",
       "      <td>desktop</td>\n",
       "      <td>(not set)</td>\n",
       "      <td>other</td>\n",
       "      <td>1600x20000</td>\n",
       "      <td>Chrome</td>\n",
       "      <td>(not set)</td>\n",
       "      <td>(not set)</td>\n",
       "      <td>0.0</td>\n",
       "      <td>2021-11-03 20:39:20+00:00</td>\n",
       "      <td>other</td>\n",
       "      <td>organic</td>\n",
       "      <td>1600</td>\n",
       "      <td>20000</td>\n",
       "    </tr>\n",
       "    <tr>\n",
       "      <th>1836833</th>\n",
       "      <td>8952294176877949991.1637594154.1637594154</td>\n",
       "      <td>2084368415.1637594151</td>\n",
       "      <td>1</td>\n",
       "      <td>fDLlAcSmythWSCVMvqvL</td>\n",
       "      <td>(none)</td>\n",
       "      <td>LTuZkdKfxRGVceoWkVyg</td>\n",
       "      <td>JNHcPlZPxEMWDnRiyoBf</td>\n",
       "      <td>desktop</td>\n",
       "      <td>(not set)</td>\n",
       "      <td>other</td>\n",
       "      <td>1600x20000</td>\n",
       "      <td>Chrome</td>\n",
       "      <td>(not set)</td>\n",
       "      <td>(not set)</td>\n",
       "      <td>0.0</td>\n",
       "      <td>2021-11-22 18:15:54+00:00</td>\n",
       "      <td>other</td>\n",
       "      <td>organic</td>\n",
       "      <td>1600</td>\n",
       "      <td>20000</td>\n",
       "    </tr>\n",
       "    <tr>\n",
       "      <th>1851584</th>\n",
       "      <td>9017123302295091701.1630681589.1630681589</td>\n",
       "      <td>2099462622.1630681589</td>\n",
       "      <td>1</td>\n",
       "      <td>fDLlAcSmythWSCVMvqvL</td>\n",
       "      <td>(none)</td>\n",
       "      <td>LTuZkdKfxRGVceoWkVyg</td>\n",
       "      <td>JNHcPlZPxEMWDnRiyoBf</td>\n",
       "      <td>desktop</td>\n",
       "      <td>other</td>\n",
       "      <td>other</td>\n",
       "      <td>1600x20000</td>\n",
       "      <td>Chrome</td>\n",
       "      <td>(not set)</td>\n",
       "      <td>(not set)</td>\n",
       "      <td>0.0</td>\n",
       "      <td>2021-09-03 18:00:00+00:00</td>\n",
       "      <td>other</td>\n",
       "      <td>organic</td>\n",
       "      <td>1600</td>\n",
       "      <td>20000</td>\n",
       "    </tr>\n",
       "  </tbody>\n",
       "</table>\n",
       "</div>"
      ],
      "text/plain": [
       "                                        session_id              client_id  \\\n",
       "7690     9089787985673454509.1638794162.1638794162  2116381187.1638794157   \n",
       "16893    9130259934944875721.1633604811.1633604811  2125804297.1633604809   \n",
       "54385     994460654948701315.1632752773.1632752773   231540914.1632752771   \n",
       "112711   1257484293244700670.1635502080.1635502080   292780877.1635502078   \n",
       "119839   1290093398651180319.1638798624.1638798624   300373276.1638798623   \n",
       "142053   1390059170487545779.1638870966.1638870966   323648371.1638870963   \n",
       "403862   2562427329234712068.1640609290.1640609290   596611604.1640609284   \n",
       "455328   2787606391470042918.1630416680.1630416680   649040190.1630416678   \n",
       "495461   2970102339313184882.1632743540.1632743540   691530839.1632743538   \n",
       "567387   3289030955557742871.1632135449.1632135449   765787194.1632135447   \n",
       "617756   3515124686921800289.1630411363.1630411363   818428743.1630411361   \n",
       "621943   3534327408398249957.1635856359.1635856359   822899725.1635856357   \n",
       "729079   4017226515820340117.1639998368.1639998368   935333435.1639998357   \n",
       "813504   4389773538142133441.1633623236.1633623236  1022073798.1633623233   \n",
       "821120   4423707671013709149.1626428767.1626428767  1029974704.1626428765   \n",
       "828649   4458195665693024510.1624350977.1624350977  1038004566.1624350974   \n",
       "939162   4949884333493987617.1630415138.1630415138  1152484755.1630415137   \n",
       "994016   5193010114153629666.1629702116.1629702116  1209091887.1629702114   \n",
       "1106423  5693772196711935798.1627565880.1627565880  1325684645.1627565878   \n",
       "1242625  6305990170963345458.1633681460.1633681460  1468227750.1633681458   \n",
       "1277798  6460075601627493148.1630319391.1630319391  1504103560.1630319388   \n",
       "1364808  6846915626587240939.1640872434.1640872434  1594171772.1640872427   \n",
       "1380557  6917922920732158768.1640360759.1640360759  1610704446.1640360752   \n",
       "1448102   722059801677431420.1636991614.1636991614   168117648.1636991612   \n",
       "1705677  8368997576094131337.1630676107.1630676107  1948559092.1630676105   \n",
       "1730600  8480237396571514441.1637934668.1637934668  1974459131.1637934665   \n",
       "1772350  8664120245184809285.1635961160.1635961160  2017272693.1635961157   \n",
       "1836833  8952294176877949991.1637594154.1637594154  2084368415.1637594151   \n",
       "1851584  9017123302295091701.1630681589.1630681589  2099462622.1630681589   \n",
       "\n",
       "         visit_number            utm_source utm_medium          utm_campaign  \\\n",
       "7690                1  fDLlAcSmythWSCVMvqvL     (none)  LTuZkdKfxRGVceoWkVyg   \n",
       "16893               1  fDLlAcSmythWSCVMvqvL     (none)  LTuZkdKfxRGVceoWkVyg   \n",
       "54385               1  fDLlAcSmythWSCVMvqvL     (none)  LTuZkdKfxRGVceoWkVyg   \n",
       "112711              1  fDLlAcSmythWSCVMvqvL     (none)  LTuZkdKfxRGVceoWkVyg   \n",
       "119839              1  fDLlAcSmythWSCVMvqvL     (none)  LTuZkdKfxRGVceoWkVyg   \n",
       "142053              1  fDLlAcSmythWSCVMvqvL     (none)  LTuZkdKfxRGVceoWkVyg   \n",
       "403862              1  fDLlAcSmythWSCVMvqvL     (none)  LTuZkdKfxRGVceoWkVyg   \n",
       "455328              1  fDLlAcSmythWSCVMvqvL     (none)  LTuZkdKfxRGVceoWkVyg   \n",
       "495461              1  fDLlAcSmythWSCVMvqvL     (none)  LTuZkdKfxRGVceoWkVyg   \n",
       "567387              1  fDLlAcSmythWSCVMvqvL     (none)  LTuZkdKfxRGVceoWkVyg   \n",
       "617756              1  fDLlAcSmythWSCVMvqvL     (none)  LTuZkdKfxRGVceoWkVyg   \n",
       "621943              1  fDLlAcSmythWSCVMvqvL     (none)  LTuZkdKfxRGVceoWkVyg   \n",
       "729079              1  fDLlAcSmythWSCVMvqvL     (none)  LTuZkdKfxRGVceoWkVyg   \n",
       "813504              1  fDLlAcSmythWSCVMvqvL     (none)  LTuZkdKfxRGVceoWkVyg   \n",
       "821120              1  fDLlAcSmythWSCVMvqvL     (none)  LTuZkdKfxRGVceoWkVyg   \n",
       "828649              1  fDLlAcSmythWSCVMvqvL     (none)  LTuZkdKfxRGVceoWkVyg   \n",
       "939162              1  fDLlAcSmythWSCVMvqvL     (none)  LTuZkdKfxRGVceoWkVyg   \n",
       "994016              1  fDLlAcSmythWSCVMvqvL     (none)  LTuZkdKfxRGVceoWkVyg   \n",
       "1106423             1  fDLlAcSmythWSCVMvqvL     (none)  LTuZkdKfxRGVceoWkVyg   \n",
       "1242625             1  fDLlAcSmythWSCVMvqvL     (none)  LTuZkdKfxRGVceoWkVyg   \n",
       "1277798             1  fDLlAcSmythWSCVMvqvL     (none)  LTuZkdKfxRGVceoWkVyg   \n",
       "1364808             1  fDLlAcSmythWSCVMvqvL     (none)  LTuZkdKfxRGVceoWkVyg   \n",
       "1380557             1  fDLlAcSmythWSCVMvqvL     (none)  LTuZkdKfxRGVceoWkVyg   \n",
       "1448102             1  fDLlAcSmythWSCVMvqvL     (none)  LTuZkdKfxRGVceoWkVyg   \n",
       "1705677             1  fDLlAcSmythWSCVMvqvL     (none)  LTuZkdKfxRGVceoWkVyg   \n",
       "1730600             1  fDLlAcSmythWSCVMvqvL     (none)  LTuZkdKfxRGVceoWkVyg   \n",
       "1772350             1  fDLlAcSmythWSCVMvqvL     (none)  LTuZkdKfxRGVceoWkVyg   \n",
       "1836833             1  fDLlAcSmythWSCVMvqvL     (none)  LTuZkdKfxRGVceoWkVyg   \n",
       "1851584             1  fDLlAcSmythWSCVMvqvL     (none)  LTuZkdKfxRGVceoWkVyg   \n",
       "\n",
       "                utm_adcontent device_category  device_os device_brand  \\\n",
       "7690     JNHcPlZPxEMWDnRiyoBf         desktop  (not set)        other   \n",
       "16893    JNHcPlZPxEMWDnRiyoBf         desktop      other        other   \n",
       "54385    JNHcPlZPxEMWDnRiyoBf         desktop      other        other   \n",
       "112711   JNHcPlZPxEMWDnRiyoBf         desktop  (not set)        other   \n",
       "119839   JNHcPlZPxEMWDnRiyoBf         desktop  (not set)        other   \n",
       "142053   JNHcPlZPxEMWDnRiyoBf         desktop  (not set)        other   \n",
       "403862   JNHcPlZPxEMWDnRiyoBf         desktop  (not set)        other   \n",
       "455328   JNHcPlZPxEMWDnRiyoBf         desktop      other        other   \n",
       "495461   JNHcPlZPxEMWDnRiyoBf         desktop      other        other   \n",
       "567387   JNHcPlZPxEMWDnRiyoBf         desktop      other        other   \n",
       "617756   JNHcPlZPxEMWDnRiyoBf         desktop      other        other   \n",
       "621943   JNHcPlZPxEMWDnRiyoBf         desktop  (not set)        other   \n",
       "729079   JNHcPlZPxEMWDnRiyoBf         desktop  (not set)        other   \n",
       "813504   JNHcPlZPxEMWDnRiyoBf         desktop      other        other   \n",
       "821120   JNHcPlZPxEMWDnRiyoBf         desktop      other        other   \n",
       "828649   JNHcPlZPxEMWDnRiyoBf         desktop      other        other   \n",
       "939162   JNHcPlZPxEMWDnRiyoBf         desktop      other        other   \n",
       "994016   JNHcPlZPxEMWDnRiyoBf         desktop      other        other   \n",
       "1106423  JNHcPlZPxEMWDnRiyoBf         desktop      other        other   \n",
       "1242625  JNHcPlZPxEMWDnRiyoBf         desktop      other        other   \n",
       "1277798  JNHcPlZPxEMWDnRiyoBf         desktop      other        other   \n",
       "1364808  JNHcPlZPxEMWDnRiyoBf         desktop  (not set)        other   \n",
       "1380557  JNHcPlZPxEMWDnRiyoBf         desktop  (not set)        other   \n",
       "1448102  JNHcPlZPxEMWDnRiyoBf         desktop  (not set)        other   \n",
       "1705677  JNHcPlZPxEMWDnRiyoBf         desktop      other        other   \n",
       "1730600  JNHcPlZPxEMWDnRiyoBf         desktop  (not set)        other   \n",
       "1772350  JNHcPlZPxEMWDnRiyoBf         desktop  (not set)        other   \n",
       "1836833  JNHcPlZPxEMWDnRiyoBf         desktop  (not set)        other   \n",
       "1851584  JNHcPlZPxEMWDnRiyoBf         desktop      other        other   \n",
       "\n",
       "        device_screen_resolution device_browser geo_country   geo_city  \\\n",
       "7690                  1600x20000         Chrome   (not set)  (not set)   \n",
       "16893                 1600x20000         Chrome   (not set)  (not set)   \n",
       "54385                 1600x20000         Chrome   (not set)  (not set)   \n",
       "112711                1600x20000         Chrome   (not set)  (not set)   \n",
       "119839                1600x20000         Chrome   (not set)  (not set)   \n",
       "142053                1600x20000         Chrome   (not set)  (not set)   \n",
       "403862                1600x20000         Chrome   (not set)  (not set)   \n",
       "455328                1600x20000         Chrome   (not set)  (not set)   \n",
       "495461                1600x20000         Chrome   (not set)  (not set)   \n",
       "567387                1600x20000         Chrome   (not set)  (not set)   \n",
       "617756                1600x20000         Chrome   (not set)  (not set)   \n",
       "621943                1600x20000         Chrome   (not set)  (not set)   \n",
       "729079                1600x20000         Chrome   (not set)  (not set)   \n",
       "813504                1600x20000         Chrome   (not set)  (not set)   \n",
       "821120                1600x20000         Chrome   (not set)  (not set)   \n",
       "828649                1600x20000         Chrome   (not set)  (not set)   \n",
       "939162                1600x20000         Chrome   (not set)  (not set)   \n",
       "994016                1600x20000         Chrome   (not set)  (not set)   \n",
       "1106423               1600x20000         Chrome   (not set)  (not set)   \n",
       "1242625               1600x20000         Chrome   (not set)  (not set)   \n",
       "1277798               1600x20000         Chrome   (not set)  (not set)   \n",
       "1364808               1600x20000         Chrome   (not set)  (not set)   \n",
       "1380557               1600x20000         Chrome   (not set)  (not set)   \n",
       "1448102               1600x20000         Chrome   (not set)  (not set)   \n",
       "1705677               1600x20000         Chrome   (not set)  (not set)   \n",
       "1730600               1600x20000         Chrome   (not set)  (not set)   \n",
       "1772350               1600x20000         Chrome   (not set)  (not set)   \n",
       "1836833               1600x20000         Chrome   (not set)  (not set)   \n",
       "1851584               1600x20000         Chrome   (not set)  (not set)   \n",
       "\n",
       "         target           visit_date_time utm_source_type utm_medium_type  \\\n",
       "7690        0.0 2021-12-06 15:36:02+00:00           other         organic   \n",
       "16893       0.0 2021-10-07 14:00:00+00:00           other         organic   \n",
       "54385       0.0 2021-09-27 17:00:00+00:00           other         organic   \n",
       "112711      0.0 2021-10-29 13:08:00+00:00           other         organic   \n",
       "119839      0.0 2021-12-06 16:50:24+00:00           other         organic   \n",
       "142053      0.0 2021-12-07 12:56:06+00:00           other         organic   \n",
       "403862      0.0 2021-12-27 15:48:10+00:00           other         organic   \n",
       "455328      0.0 2021-08-31 16:00:00+00:00           other         organic   \n",
       "495461      0.0 2021-09-27 14:00:00+00:00           other         organic   \n",
       "567387      0.0 2021-09-20 13:00:00+00:00           other         organic   \n",
       "617756      0.0 2021-08-31 15:00:00+00:00           other         organic   \n",
       "621943      0.0 2021-11-02 15:32:39+00:00           other         organic   \n",
       "729079      0.0 2021-12-20 14:06:08+00:00           other         organic   \n",
       "813504      0.0 2021-10-07 19:00:00+00:00           other         organic   \n",
       "821120      0.0 2021-07-16 12:00:00+00:00           other         organic   \n",
       "828649      0.0 2021-06-22 11:00:00+00:00           other         organic   \n",
       "939162      0.0 2021-08-31 16:00:00+00:00           other         organic   \n",
       "994016      0.0 2021-08-23 10:00:00+00:00           other         organic   \n",
       "1106423     0.0 2021-07-29 16:00:00+00:00           other         organic   \n",
       "1242625     0.0 2021-10-08 11:00:00+00:00           other         organic   \n",
       "1277798     0.0 2021-08-30 13:00:00+00:00           other         organic   \n",
       "1364808     0.0 2021-12-30 16:53:54+00:00           other         organic   \n",
       "1380557     0.0 2021-12-24 18:45:59+00:00           other         organic   \n",
       "1448102     0.0 2021-11-15 18:53:34+00:00           other         organic   \n",
       "1705677     0.0 2021-09-03 16:00:00+00:00           other         organic   \n",
       "1730600     0.0 2021-11-26 16:51:08+00:00           other         organic   \n",
       "1772350     0.0 2021-11-03 20:39:20+00:00           other         organic   \n",
       "1836833     0.0 2021-11-22 18:15:54+00:00           other         organic   \n",
       "1851584     0.0 2021-09-03 18:00:00+00:00           other         organic   \n",
       "\n",
       "         device_screen_a  device_screen_b  \n",
       "7690                1600            20000  \n",
       "16893               1600            20000  \n",
       "54385               1600            20000  \n",
       "112711              1600            20000  \n",
       "119839              1600            20000  \n",
       "142053              1600            20000  \n",
       "403862              1600            20000  \n",
       "455328              1600            20000  \n",
       "495461              1600            20000  \n",
       "567387              1600            20000  \n",
       "617756              1600            20000  \n",
       "621943              1600            20000  \n",
       "729079              1600            20000  \n",
       "813504              1600            20000  \n",
       "821120              1600            20000  \n",
       "828649              1600            20000  \n",
       "939162              1600            20000  \n",
       "994016              1600            20000  \n",
       "1106423             1600            20000  \n",
       "1242625             1600            20000  \n",
       "1277798             1600            20000  \n",
       "1364808             1600            20000  \n",
       "1380557             1600            20000  \n",
       "1448102             1600            20000  \n",
       "1705677             1600            20000  \n",
       "1730600             1600            20000  \n",
       "1772350             1600            20000  \n",
       "1836833             1600            20000  \n",
       "1851584             1600            20000  "
      ]
     },
     "execution_count": 183,
     "metadata": {},
     "output_type": "execute_result"
    }
   ],
   "source": [
    "df_fe[(df_fe[\"device_category\"] == 'desktop') & (df_fe['device_screen_b'] == 20000)]"
   ]
  },
  {
   "cell_type": "markdown",
   "id": "118efd13-4b2c-485f-a290-bae1470e4b37",
   "metadata": {},
   "source": [
    "Насколько известно, экранов с разрешением 20000 не существует, особенно учитывая, что высота у этих объектов достаточно стандартная. Считаю, что здесь опечатка. Предлагаю заменить значения 20000 на 2000."
   ]
  },
  {
   "cell_type": "code",
   "execution_count": 184,
   "id": "16cf04d4-6dbe-436a-b9c3-6ed2810420d9",
   "metadata": {},
   "outputs": [],
   "source": [
    "df_fe['device_screen_b'] = df_fe.apply(lambda x: 2000 if ((x.device_category == 'desktop') and (x.device_screen_b == 20000)) else x.device_screen_b, axis=1)"
   ]
  },
  {
   "cell_type": "code",
   "execution_count": 185,
   "id": "ecea9099-c6c6-4309-b707-657042b75fd0",
   "metadata": {},
   "outputs": [
    {
     "data": {
      "image/png": "[encoded data removed]",
      "text/plain": [
       "<Figure size 640x480 with 1 Axes>"
      ]
     },
     "metadata": {},
     "output_type": "display_data"
    }
   ],
   "source": [
    "plt.plot(df_fe[df_fe['device_category'] == 'desktop'].device_screen_b);"
   ]
  },
  {
   "cell_type": "markdown",
   "id": "99ad884b-f187-4f31-b290-24fc8e364f58",
   "metadata": {},
   "source": [
    "Значений 0 и 20000 теперь нет. Выступают большие значения около 5000, но такие экраны бывают и считаю, что эти значения трогать не стоит"
   ]
  },
  {
   "cell_type": "markdown",
   "id": "18e75dba-5891-483e-8661-1267fa3d5e66",
   "metadata": {},
   "source": [
    "#### Создание признака площади экрана"
   ]
  },
  {
   "cell_type": "code",
   "execution_count": 186,
   "id": "91216919-525c-4714-ae6c-4a049002301c",
   "metadata": {},
   "outputs": [
    {
     "data": {
      "text/plain": [
       "Index(['session_id', 'client_id', 'visit_number', 'utm_source', 'utm_medium',\n",
       "       'utm_campaign', 'utm_adcontent', 'device_category', 'device_os',\n",
       "       'device_brand', 'device_screen_resolution', 'device_browser',\n",
       "       'geo_country', 'geo_city', 'target', 'visit_date_time',\n",
       "       'utm_source_type', 'utm_medium_type', 'device_screen_a',\n",
       "       'device_screen_b'],\n",
       "      dtype='object')"
      ]
     },
     "execution_count": 186,
     "metadata": {},
     "output_type": "execute_result"
    }
   ],
   "source": [
    "df_fe.columns"
   ]
  },
  {
   "cell_type": "code",
   "execution_count": 187,
   "id": "29d430fb-298b-4ce0-93be-42a873c79196",
   "metadata": {},
   "outputs": [],
   "source": [
    "df_fe['device_screen_area'] = df_fe.device_screen_a * df_fe.device_screen_b"
   ]
  },
  {
   "cell_type": "code",
   "execution_count": 188,
   "id": "cddb6ed3-2cd6-402e-9dbc-7ecd27c8cad4",
   "metadata": {},
   "outputs": [
    {
     "data": {
      "text/plain": [
       "0           259200\n",
       "1           328790\n",
       "2           259200\n",
       "3           308898\n",
       "4           308898\n",
       "            ...   \n",
       "1860037    2073600\n",
       "1860038     329160\n",
       "1860039     250125\n",
       "1860040     334443\n",
       "1860041    1049088\n",
       "Name: device_screen_area, Length: 1860042, dtype: int64"
      ]
     },
     "execution_count": 188,
     "metadata": {},
     "output_type": "execute_result"
    }
   ],
   "source": [
    "df_fe.device_screen_area.astype('int64')"
   ]
  },
  {
   "cell_type": "code",
   "execution_count": 189,
   "id": "fa32829e-2d27-4e72-9a9c-db3f7ba7b259",
   "metadata": {},
   "outputs": [
    {
     "data": {
      "image/png": "[encoded data removed]",
      "text/plain": [
       "<Figure size 640x480 with 1 Axes>"
      ]
     },
     "metadata": {},
     "output_type": "display_data"
    }
   ],
   "source": [
    "plt.plot(df_fe.device_screen_area);"
   ]
  },
  {
   "cell_type": "markdown",
   "id": "a858385f-33d0-4569-ae7f-ce108844d669",
   "metadata": {},
   "source": [
    "Проверим значения-выбросы"
   ]
  },
  {
   "cell_type": "code",
   "execution_count": 190,
   "id": "c86070b8-e592-4986-a536-a2bb2c691cde",
   "metadata": {},
   "outputs": [
    {
     "name": "stdout",
     "output_type": "stream",
     "text": [
      "Максимальное разрешение по высоте: 5924\n",
      "Максимальное разрешение по ширине: 5120\n",
      "Максимальное разрешение по площади: 20971520\n",
      "Минимальное разрешение по площади: 57600\n"
     ]
    }
   ],
   "source": [
    "a_max = df_fe.device_screen_a.max()\n",
    "b_max = df_fe.device_screen_b.max()\n",
    "s_max = df_fe.device_screen_area.max()\n",
    "s_min = df_fe.device_screen_area.min()\n",
    "\n",
    "print(f'Максимальное разрешение по высоте: {a_max}')\n",
    "print(f'Максимальное разрешение по ширине: {b_max}')\n",
    "print(f'Максимальное разрешение по площади: {s_max}')\n",
    "print(f'Минимальное разрешение по площади: {s_min}')"
   ]
  },
  {
   "cell_type": "code",
   "execution_count": 191,
   "id": "9d87cd9b-9f73-4b31-9635-c95c78324d7a",
   "metadata": {},
   "outputs": [
    {
     "data": {
      "text/html": [
       "<div>\n",
       "<style scoped>\n",
       "    .dataframe tbody tr th:only-of-type {\n",
       "        vertical-align: middle;\n",
       "    }\n",
       "\n",
       "    .dataframe tbody tr th {\n",
       "        vertical-align: top;\n",
       "    }\n",
       "\n",
       "    .dataframe thead th {\n",
       "        text-align: right;\n",
       "    }\n",
       "</style>\n",
       "<table border=\"1\" class=\"dataframe\">\n",
       "  <thead>\n",
       "    <tr style=\"text-align: right;\">\n",
       "      <th></th>\n",
       "      <th>session_id</th>\n",
       "      <th>client_id</th>\n",
       "      <th>visit_number</th>\n",
       "      <th>utm_source</th>\n",
       "      <th>utm_medium</th>\n",
       "      <th>utm_campaign</th>\n",
       "      <th>utm_adcontent</th>\n",
       "      <th>device_category</th>\n",
       "      <th>device_os</th>\n",
       "      <th>device_brand</th>\n",
       "      <th>...</th>\n",
       "      <th>device_browser</th>\n",
       "      <th>geo_country</th>\n",
       "      <th>geo_city</th>\n",
       "      <th>target</th>\n",
       "      <th>visit_date_time</th>\n",
       "      <th>utm_source_type</th>\n",
       "      <th>utm_medium_type</th>\n",
       "      <th>device_screen_a</th>\n",
       "      <th>device_screen_b</th>\n",
       "      <th>device_screen_area</th>\n",
       "    </tr>\n",
       "  </thead>\n",
       "  <tbody>\n",
       "    <tr>\n",
       "      <th>86743</th>\n",
       "      <td>114102327610934141.1632338812.1632338812</td>\n",
       "      <td>26566518.1632338813</td>\n",
       "      <td>1</td>\n",
       "      <td>RmEBuqrriAfAVsLQQmhk</td>\n",
       "      <td>cpc</td>\n",
       "      <td>bgTYkDHjOsJzMUtoGhiQ</td>\n",
       "      <td>JNHcPlZPxEMWDnRiyoBf</td>\n",
       "      <td>desktop</td>\n",
       "      <td>Linux</td>\n",
       "      <td>other</td>\n",
       "      <td>...</td>\n",
       "      <td>Chrome</td>\n",
       "      <td>Russia</td>\n",
       "      <td>Mytishchi</td>\n",
       "      <td>0.0</td>\n",
       "      <td>2021-09-22 22:26:52+00:00</td>\n",
       "      <td>other</td>\n",
       "      <td>other</td>\n",
       "      <td>4096</td>\n",
       "      <td>5120</td>\n",
       "      <td>20971520</td>\n",
       "    </tr>\n",
       "    <tr>\n",
       "      <th>464941</th>\n",
       "      <td>2832120441845142990.1632458190.1632458190</td>\n",
       "      <td>659404425.1632458190</td>\n",
       "      <td>1</td>\n",
       "      <td>RmEBuqrriAfAVsLQQmhk</td>\n",
       "      <td>cpc</td>\n",
       "      <td>aLJBnHfwxXTnAjVTpHFh</td>\n",
       "      <td>JNHcPlZPxEMWDnRiyoBf</td>\n",
       "      <td>desktop</td>\n",
       "      <td>other</td>\n",
       "      <td>other</td>\n",
       "      <td>...</td>\n",
       "      <td>Chrome</td>\n",
       "      <td>Russia</td>\n",
       "      <td>Mytishchi</td>\n",
       "      <td>0.0</td>\n",
       "      <td>2021-09-24 07:00:00+00:00</td>\n",
       "      <td>other</td>\n",
       "      <td>other</td>\n",
       "      <td>4096</td>\n",
       "      <td>5120</td>\n",
       "      <td>20971520</td>\n",
       "    </tr>\n",
       "    <tr>\n",
       "      <th>541289</th>\n",
       "      <td>3173272460128737143.1635833718.1635833718</td>\n",
       "      <td>738835069.1635833719</td>\n",
       "      <td>1</td>\n",
       "      <td>kjsLglQLzykiRbcDiGcD</td>\n",
       "      <td>cpc</td>\n",
       "      <td>UKNBOHebRIIsQRsjNKay</td>\n",
       "      <td>other</td>\n",
       "      <td>desktop</td>\n",
       "      <td>Linux</td>\n",
       "      <td>other</td>\n",
       "      <td>...</td>\n",
       "      <td>Chrome</td>\n",
       "      <td>Russia</td>\n",
       "      <td>Moscow</td>\n",
       "      <td>0.0</td>\n",
       "      <td>2021-11-02 09:15:18+00:00</td>\n",
       "      <td>other</td>\n",
       "      <td>other</td>\n",
       "      <td>4096</td>\n",
       "      <td>5120</td>\n",
       "      <td>20971520</td>\n",
       "    </tr>\n",
       "    <tr>\n",
       "      <th>763835</th>\n",
       "      <td>4171094483689653956.1625933510.1625933510</td>\n",
       "      <td>971158613.1625933508</td>\n",
       "      <td>1</td>\n",
       "      <td>geDcueAOghDzHkGMmdOq</td>\n",
       "      <td>cpm</td>\n",
       "      <td>FTjNLDyTrXaWYgZymFkV</td>\n",
       "      <td>WYLajZgbUhGimwBKDZUH</td>\n",
       "      <td>desktop</td>\n",
       "      <td>other</td>\n",
       "      <td>other</td>\n",
       "      <td>...</td>\n",
       "      <td>Chrome</td>\n",
       "      <td>Russia</td>\n",
       "      <td>Mytishchi</td>\n",
       "      <td>0.0</td>\n",
       "      <td>2021-07-10 19:00:00+00:00</td>\n",
       "      <td>other</td>\n",
       "      <td>other</td>\n",
       "      <td>4096</td>\n",
       "      <td>5120</td>\n",
       "      <td>20971520</td>\n",
       "    </tr>\n",
       "    <tr>\n",
       "      <th>785562</th>\n",
       "      <td>426686809008534397.1632400253.1632400253</td>\n",
       "      <td>99345764.1632400253</td>\n",
       "      <td>1</td>\n",
       "      <td>RmEBuqrriAfAVsLQQmhk</td>\n",
       "      <td>cpc</td>\n",
       "      <td>bgTYkDHjOsJzMUtoGhiQ</td>\n",
       "      <td>JNHcPlZPxEMWDnRiyoBf</td>\n",
       "      <td>desktop</td>\n",
       "      <td>other</td>\n",
       "      <td>other</td>\n",
       "      <td>...</td>\n",
       "      <td>Chrome</td>\n",
       "      <td>Russia</td>\n",
       "      <td>Mytishchi</td>\n",
       "      <td>0.0</td>\n",
       "      <td>2021-09-23 15:00:00+00:00</td>\n",
       "      <td>other</td>\n",
       "      <td>other</td>\n",
       "      <td>4096</td>\n",
       "      <td>5120</td>\n",
       "      <td>20971520</td>\n",
       "    </tr>\n",
       "    <tr>\n",
       "      <th>997830</th>\n",
       "      <td>5210028548404479196.1632306395.1632306395</td>\n",
       "      <td>1213054300.1632306396</td>\n",
       "      <td>1</td>\n",
       "      <td>RmEBuqrriAfAVsLQQmhk</td>\n",
       "      <td>cpc</td>\n",
       "      <td>iYBYglGljMDRQyqHRiPH</td>\n",
       "      <td>JNHcPlZPxEMWDnRiyoBf</td>\n",
       "      <td>desktop</td>\n",
       "      <td>Linux</td>\n",
       "      <td>other</td>\n",
       "      <td>...</td>\n",
       "      <td>Chrome</td>\n",
       "      <td>Russia</td>\n",
       "      <td>Mytishchi</td>\n",
       "      <td>0.0</td>\n",
       "      <td>2021-09-22 13:26:35+00:00</td>\n",
       "      <td>other</td>\n",
       "      <td>other</td>\n",
       "      <td>4096</td>\n",
       "      <td>5120</td>\n",
       "      <td>20971520</td>\n",
       "    </tr>\n",
       "    <tr>\n",
       "      <th>1238901</th>\n",
       "      <td>6289138179581433858.1632393217.1632393217</td>\n",
       "      <td>1464304090.1632393218</td>\n",
       "      <td>1</td>\n",
       "      <td>RmEBuqrriAfAVsLQQmhk</td>\n",
       "      <td>cpc</td>\n",
       "      <td>iYBYglGljMDRQyqHRiPH</td>\n",
       "      <td>JNHcPlZPxEMWDnRiyoBf</td>\n",
       "      <td>desktop</td>\n",
       "      <td>Linux</td>\n",
       "      <td>other</td>\n",
       "      <td>...</td>\n",
       "      <td>Chrome</td>\n",
       "      <td>Russia</td>\n",
       "      <td>Mytishchi</td>\n",
       "      <td>0.0</td>\n",
       "      <td>2021-09-23 13:33:37+00:00</td>\n",
       "      <td>other</td>\n",
       "      <td>other</td>\n",
       "      <td>4096</td>\n",
       "      <td>5120</td>\n",
       "      <td>20971520</td>\n",
       "    </tr>\n",
       "    <tr>\n",
       "      <th>1333640</th>\n",
       "      <td>6704821602867820863.1632450878.1632450878</td>\n",
       "      <td>1561087929.1632450879</td>\n",
       "      <td>1</td>\n",
       "      <td>RmEBuqrriAfAVsLQQmhk</td>\n",
       "      <td>cpc</td>\n",
       "      <td>aLJBnHfwxXTnAjVTpHFh</td>\n",
       "      <td>JNHcPlZPxEMWDnRiyoBf</td>\n",
       "      <td>desktop</td>\n",
       "      <td>other</td>\n",
       "      <td>other</td>\n",
       "      <td>...</td>\n",
       "      <td>Chrome</td>\n",
       "      <td>Russia</td>\n",
       "      <td>Mytishchi</td>\n",
       "      <td>0.0</td>\n",
       "      <td>2021-09-24 05:00:00+00:00</td>\n",
       "      <td>other</td>\n",
       "      <td>other</td>\n",
       "      <td>4096</td>\n",
       "      <td>5120</td>\n",
       "      <td>20971520</td>\n",
       "    </tr>\n",
       "    <tr>\n",
       "      <th>1450101</th>\n",
       "      <td>7229958333511027993.1640811802.1640811802</td>\n",
       "      <td>1683355852.1640811801</td>\n",
       "      <td>1</td>\n",
       "      <td>fgymSoTvjKPEgaIJqsiH</td>\n",
       "      <td>cpm</td>\n",
       "      <td>FTjNLDyTrXaWYgZymFkV</td>\n",
       "      <td>yYdBRbPmBMUZHXwqGxNx</td>\n",
       "      <td>desktop</td>\n",
       "      <td>Linux</td>\n",
       "      <td>other</td>\n",
       "      <td>...</td>\n",
       "      <td>Chrome</td>\n",
       "      <td>Russia</td>\n",
       "      <td>Moscow</td>\n",
       "      <td>0.0</td>\n",
       "      <td>2021-12-30 00:03:22+00:00</td>\n",
       "      <td>other</td>\n",
       "      <td>other</td>\n",
       "      <td>4096</td>\n",
       "      <td>5120</td>\n",
       "      <td>20971520</td>\n",
       "    </tr>\n",
       "    <tr>\n",
       "      <th>1610855</th>\n",
       "      <td>7943637552835608533.1631076308.1631076308</td>\n",
       "      <td>1849522244.1631076309</td>\n",
       "      <td>1</td>\n",
       "      <td>kjsLglQLzykiRbcDiGcD</td>\n",
       "      <td>cpc</td>\n",
       "      <td>other</td>\n",
       "      <td>other</td>\n",
       "      <td>desktop</td>\n",
       "      <td>other</td>\n",
       "      <td>other</td>\n",
       "      <td>...</td>\n",
       "      <td>Chrome</td>\n",
       "      <td>Russia</td>\n",
       "      <td>Mytishchi</td>\n",
       "      <td>0.0</td>\n",
       "      <td>2021-09-08 07:00:00+00:00</td>\n",
       "      <td>other</td>\n",
       "      <td>other</td>\n",
       "      <td>4096</td>\n",
       "      <td>5120</td>\n",
       "      <td>20971520</td>\n",
       "    </tr>\n",
       "  </tbody>\n",
       "</table>\n",
       "<p>10 rows × 21 columns</p>\n",
       "</div>"
      ],
      "text/plain": [
       "                                        session_id              client_id  \\\n",
       "86743     114102327610934141.1632338812.1632338812    26566518.1632338813   \n",
       "464941   2832120441845142990.1632458190.1632458190   659404425.1632458190   \n",
       "541289   3173272460128737143.1635833718.1635833718   738835069.1635833719   \n",
       "763835   4171094483689653956.1625933510.1625933510   971158613.1625933508   \n",
       "785562    426686809008534397.1632400253.1632400253    99345764.1632400253   \n",
       "997830   5210028548404479196.1632306395.1632306395  1213054300.1632306396   \n",
       "1238901  6289138179581433858.1632393217.1632393217  1464304090.1632393218   \n",
       "1333640  6704821602867820863.1632450878.1632450878  1561087929.1632450879   \n",
       "1450101  7229958333511027993.1640811802.1640811802  1683355852.1640811801   \n",
       "1610855  7943637552835608533.1631076308.1631076308  1849522244.1631076309   \n",
       "\n",
       "         visit_number            utm_source utm_medium          utm_campaign  \\\n",
       "86743               1  RmEBuqrriAfAVsLQQmhk        cpc  bgTYkDHjOsJzMUtoGhiQ   \n",
       "464941              1  RmEBuqrriAfAVsLQQmhk        cpc  aLJBnHfwxXTnAjVTpHFh   \n",
       "541289              1  kjsLglQLzykiRbcDiGcD        cpc  UKNBOHebRIIsQRsjNKay   \n",
       "763835              1  geDcueAOghDzHkGMmdOq        cpm  FTjNLDyTrXaWYgZymFkV   \n",
       "785562              1  RmEBuqrriAfAVsLQQmhk        cpc  bgTYkDHjOsJzMUtoGhiQ   \n",
       "997830              1  RmEBuqrriAfAVsLQQmhk        cpc  iYBYglGljMDRQyqHRiPH   \n",
       "1238901             1  RmEBuqrriAfAVsLQQmhk        cpc  iYBYglGljMDRQyqHRiPH   \n",
       "1333640             1  RmEBuqrriAfAVsLQQmhk        cpc  aLJBnHfwxXTnAjVTpHFh   \n",
       "1450101             1  fgymSoTvjKPEgaIJqsiH        cpm  FTjNLDyTrXaWYgZymFkV   \n",
       "1610855             1  kjsLglQLzykiRbcDiGcD        cpc                 other   \n",
       "\n",
       "                utm_adcontent device_category device_os device_brand  ...  \\\n",
       "86743    JNHcPlZPxEMWDnRiyoBf         desktop     Linux        other  ...   \n",
       "464941   JNHcPlZPxEMWDnRiyoBf         desktop     other        other  ...   \n",
       "541289                  other         desktop     Linux        other  ...   \n",
       "763835   WYLajZgbUhGimwBKDZUH         desktop     other        other  ...   \n",
       "785562   JNHcPlZPxEMWDnRiyoBf         desktop     other        other  ...   \n",
       "997830   JNHcPlZPxEMWDnRiyoBf         desktop     Linux        other  ...   \n",
       "1238901  JNHcPlZPxEMWDnRiyoBf         desktop     Linux        other  ...   \n",
       "1333640  JNHcPlZPxEMWDnRiyoBf         desktop     other        other  ...   \n",
       "1450101  yYdBRbPmBMUZHXwqGxNx         desktop     Linux        other  ...   \n",
       "1610855                 other         desktop     other        other  ...   \n",
       "\n",
       "        device_browser geo_country   geo_city target  \\\n",
       "86743           Chrome      Russia  Mytishchi    0.0   \n",
       "464941          Chrome      Russia  Mytishchi    0.0   \n",
       "541289          Chrome      Russia     Moscow    0.0   \n",
       "763835          Chrome      Russia  Mytishchi    0.0   \n",
       "785562          Chrome      Russia  Mytishchi    0.0   \n",
       "997830          Chrome      Russia  Mytishchi    0.0   \n",
       "1238901         Chrome      Russia  Mytishchi    0.0   \n",
       "1333640         Chrome      Russia  Mytishchi    0.0   \n",
       "1450101         Chrome      Russia     Moscow    0.0   \n",
       "1610855         Chrome      Russia  Mytishchi    0.0   \n",
       "\n",
       "                  visit_date_time utm_source_type utm_medium_type  \\\n",
       "86743   2021-09-22 22:26:52+00:00           other           other   \n",
       "464941  2021-09-24 07:00:00+00:00           other           other   \n",
       "541289  2021-11-02 09:15:18+00:00           other           other   \n",
       "763835  2021-07-10 19:00:00+00:00           other           other   \n",
       "785562  2021-09-23 15:00:00+00:00           other           other   \n",
       "997830  2021-09-22 13:26:35+00:00           other           other   \n",
       "1238901 2021-09-23 13:33:37+00:00           other           other   \n",
       "1333640 2021-09-24 05:00:00+00:00           other           other   \n",
       "1450101 2021-12-30 00:03:22+00:00           other           other   \n",
       "1610855 2021-09-08 07:00:00+00:00           other           other   \n",
       "\n",
       "        device_screen_a  device_screen_b  device_screen_area  \n",
       "86743              4096             5120            20971520  \n",
       "464941             4096             5120            20971520  \n",
       "541289             4096             5120            20971520  \n",
       "763835             4096             5120            20971520  \n",
       "785562             4096             5120            20971520  \n",
       "997830             4096             5120            20971520  \n",
       "1238901            4096             5120            20971520  \n",
       "1333640            4096             5120            20971520  \n",
       "1450101            4096             5120            20971520  \n",
       "1610855            4096             5120            20971520  \n",
       "\n",
       "[10 rows x 21 columns]"
      ]
     },
     "execution_count": 191,
     "metadata": {},
     "output_type": "execute_result"
    }
   ],
   "source": [
    "df_fe[df_fe['device_screen_area'] == 20971520]"
   ]
  },
  {
   "cell_type": "markdown",
   "id": "ecf899c8-327a-49dc-b45d-ab7bba2eaf45",
   "metadata": {},
   "source": [
    "Действительно, такие значения площади могли быть получены при заданных значения ширины и высоты экрана. Оставляем данные значения"
   ]
  },
  {
   "cell_type": "markdown",
   "id": "c944d2d9-df39-402e-aaed-a1026d867668",
   "metadata": {
    "jp-MarkdownHeadingCollapsed": true
   },
   "source": [
    "### Работа со столбцом device_browser"
   ]
  },
  {
   "cell_type": "code",
   "execution_count": 192,
   "id": "f7cb3fd7-2a3d-4610-8cf2-4676922e0cb4",
   "metadata": {},
   "outputs": [
    {
     "data": {
      "text/plain": [
       "57"
      ]
     },
     "execution_count": 192,
     "metadata": {},
     "output_type": "execute_result"
    }
   ],
   "source": [
    "df_fe.device_browser.nunique()"
   ]
  },
  {
   "cell_type": "markdown",
   "id": "9df3e39b-5bd2-47ab-9c58-edb89fb05396",
   "metadata": {},
   "source": [
    "Дополнительно работать с данным столбцом не требуется"
   ]
  },
  {
   "cell_type": "markdown",
   "id": "22528a63-f49d-4f83-9ca1-0507cba0d275",
   "metadata": {},
   "source": [
    "### Работа со столбцом geo_country"
   ]
  },
  {
   "cell_type": "code",
   "execution_count": 193,
   "id": "bb4227b1-2727-444f-998e-f7e5bee8d4be",
   "metadata": {},
   "outputs": [
    {
     "data": {
      "text/plain": [
       "166"
      ]
     },
     "execution_count": 193,
     "metadata": {},
     "output_type": "execute_result"
    }
   ],
   "source": [
    "df_fe.geo_country.nunique()"
   ]
  },
  {
   "cell_type": "code",
   "execution_count": 194,
   "id": "68a8a780-30c3-4ef2-8c96-4b7ca28a318b",
   "metadata": {},
   "outputs": [
    {
     "data": {
      "text/plain": [
       "geo_country\n",
       "Russia            96.80\n",
       "United States      0.63\n",
       "Ukraine            0.48\n",
       "Ireland            0.22\n",
       "Belarus            0.20\n",
       "Sweden             0.14\n",
       "Kazakhstan         0.12\n",
       "Germany            0.12\n",
       "Turkey             0.10\n",
       "Netherlands        0.08\n",
       "Uzbekistan         0.08\n",
       "United Kingdom     0.08\n",
       "(not set)          0.06\n",
       "Kyrgyzstan         0.05\n",
       "Georgia            0.05\n",
       "France             0.04\n",
       "Cyprus             0.04\n",
       "Armenia            0.04\n",
       "Finland            0.03\n",
       "Spain              0.03\n",
       "Name: proportion, dtype: float64"
      ]
     },
     "execution_count": 194,
     "metadata": {},
     "output_type": "execute_result"
    }
   ],
   "source": [
    "#Рассмотрю распределение уникальных значений в столбце geo_country в процентах\n",
    "geo_country_prop = df_fe.geo_country.value_counts(normalize=True).apply(lambda x: 100 * float(f\"{x: 0.4f}\"))\n",
    "geo_country_prop.head(20)"
   ]
  },
  {
   "cell_type": "code",
   "execution_count": 195,
   "id": "ffcf3f39-1efa-457f-8edf-8bf42a452f54",
   "metadata": {},
   "outputs": [
    {
     "data": {
      "text/plain": [
       "99.10999999999999"
      ]
     },
     "execution_count": 195,
     "metadata": {},
     "output_type": "execute_result"
    }
   ],
   "source": [
    "geo_country_prop[geo_country_prop > 0.05].sum()"
   ]
  },
  {
   "cell_type": "code",
   "execution_count": 196,
   "id": "427a34e8-dbad-47e7-958a-8800a3326399",
   "metadata": {},
   "outputs": [
    {
     "data": {
      "text/plain": [
       "13"
      ]
     },
     "execution_count": 196,
     "metadata": {},
     "output_type": "execute_result"
    }
   ],
   "source": [
    "geo_country_prop[geo_country_prop > 0.05].count()"
   ]
  },
  {
   "cell_type": "markdown",
   "id": "cfc1c49a-5ef9-4d00-93c4-4ba0c95424a3",
   "metadata": {},
   "source": [
    "То есть 8 стран, представленных чаще 0.05%, в сумме занимают 99.11% всех данных. Считаю допустимым эти значения оставить, остальным присвоить значение other."
   ]
  },
  {
   "cell_type": "code",
   "execution_count": 197,
   "id": "67076454-f047-48e4-8d6d-efea3690128d",
   "metadata": {},
   "outputs": [
    {
     "data": {
      "text/plain": [
       "13"
      ]
     },
     "execution_count": 197,
     "metadata": {},
     "output_type": "execute_result"
    }
   ],
   "source": [
    "geo_country_prop_list = geo_country_prop[geo_country_prop > 0.05].keys().tolist()\n",
    "len(geo_country_prop_list)"
   ]
  },
  {
   "cell_type": "code",
   "execution_count": 198,
   "id": "86cc4833-cf53-4684-8193-dbf6b6e9f336",
   "metadata": {},
   "outputs": [],
   "source": [
    "df_fe['geo_country'] = df_fe['geo_country'].apply(lambda x: x if x in geo_country_prop_list else 'other')"
   ]
  },
  {
   "cell_type": "code",
   "execution_count": 199,
   "id": "a94a65ee-c19c-4001-bcce-9c089abfb18e",
   "metadata": {},
   "outputs": [
    {
     "data": {
      "text/plain": [
       "14"
      ]
     },
     "execution_count": 199,
     "metadata": {},
     "output_type": "execute_result"
    }
   ],
   "source": [
    "df_fe.geo_country.nunique()"
   ]
  },
  {
   "cell_type": "markdown",
   "id": "3e33d988-08c1-407c-97c5-5860ae8324c6",
   "metadata": {},
   "source": [
    "### Работа со столбцом geo_city"
   ]
  },
  {
   "cell_type": "code",
   "execution_count": 200,
   "id": "8fbb4734-288c-4987-b326-fccda5a47fff",
   "metadata": {},
   "outputs": [
    {
     "data": {
      "text/plain": [
       "2548"
      ]
     },
     "execution_count": 200,
     "metadata": {},
     "output_type": "execute_result"
    }
   ],
   "source": [
    "df_fe.geo_city.nunique()"
   ]
  },
  {
   "cell_type": "code",
   "execution_count": 201,
   "id": "4954829d-7730-41b8-a1cb-332a5ded0f27",
   "metadata": {},
   "outputs": [
    {
     "data": {
      "text/plain": [
       "geo_city\n",
       "Moscow              43.30\n",
       "Saint Petersburg    15.96\n",
       "(not set)            4.20\n",
       "Yekaterinburg        1.92\n",
       "Krasnodar            1.73\n",
       "Kazan                1.59\n",
       "Samara               1.34\n",
       "Nizhny Novgorod      1.19\n",
       "Ufa                  1.17\n",
       "Novosibirsk          1.16\n",
       "Krasnoyarsk          0.88\n",
       "Chelyabinsk          0.86\n",
       "Tula                 0.85\n",
       "Voronezh             0.75\n",
       "Rostov-on-Don        0.75\n",
       "Irkutsk              0.73\n",
       "Grozny               0.69\n",
       "Balashikha           0.68\n",
       "Vladivostok          0.66\n",
       "Yaroslavl            0.53\n",
       "Name: proportion, dtype: float64"
      ]
     },
     "execution_count": 201,
     "metadata": {},
     "output_type": "execute_result"
    }
   ],
   "source": [
    "#Рассмотрю распределение уникальных значений в столбце geo_city в процентах\n",
    "geo_city_prop = df_fe.geo_city.value_counts(normalize=True).apply(lambda x: 100 * float(f\"{x: 0.4f}\"))\n",
    "geo_city_prop.head(20)"
   ]
  },
  {
   "cell_type": "code",
   "execution_count": 202,
   "id": "9d5ef694-b0cd-4e6f-b7ae-ad0af2f8d0c4",
   "metadata": {},
   "outputs": [
    {
     "data": {
      "text/plain": [
       "95.23"
      ]
     },
     "execution_count": 202,
     "metadata": {},
     "output_type": "execute_result"
    }
   ],
   "source": [
    "geo_city_prop[geo_city_prop > 0.05].sum()"
   ]
  },
  {
   "cell_type": "code",
   "execution_count": 203,
   "id": "f8174652-2546-4762-bbd6-85eabb87c439",
   "metadata": {},
   "outputs": [
    {
     "data": {
      "text/plain": [
       "126"
      ]
     },
     "execution_count": 203,
     "metadata": {},
     "output_type": "execute_result"
    }
   ],
   "source": [
    "geo_city_prop[geo_city_prop > 0.05].count()"
   ]
  },
  {
   "cell_type": "markdown",
   "id": "e5ed5679-f533-4aeb-ab51-30136566f952",
   "metadata": {},
   "source": [
    "То есть 126 городов, представленных чаще 0.05%, в сумме занимают 95.23% всех данных. Считаю допустимым эти значения оставить, остальным присвоить значение other во избежание увеличения нагрузки на компьютер при моделировании."
   ]
  },
  {
   "cell_type": "code",
   "execution_count": 204,
   "id": "8bb14664-7278-41c1-aed5-ac38e947c26a",
   "metadata": {},
   "outputs": [
    {
     "data": {
      "text/plain": [
       "126"
      ]
     },
     "execution_count": 204,
     "metadata": {},
     "output_type": "execute_result"
    }
   ],
   "source": [
    "geo_city_prop_list = geo_city_prop[geo_city_prop > 0.05].keys().tolist()\n",
    "len(geo_city_prop_list)"
   ]
  },
  {
   "cell_type": "code",
   "execution_count": 205,
   "id": "8edee5ed-5d61-4143-bb6d-db5fd1b538ea",
   "metadata": {},
   "outputs": [],
   "source": [
    "df_fe['geo_city'] = df_fe['geo_city'].apply(lambda x: x if x in geo_city_prop_list else 'other')"
   ]
  },
  {
   "cell_type": "code",
   "execution_count": 206,
   "id": "757eeeaa-a8f8-48df-844c-f9fa314f20e9",
   "metadata": {},
   "outputs": [
    {
     "data": {
      "text/plain": [
       "127"
      ]
     },
     "execution_count": 206,
     "metadata": {},
     "output_type": "execute_result"
    }
   ],
   "source": [
    "df_fe.geo_city.nunique()"
   ]
  },
  {
   "cell_type": "markdown",
   "id": "39f6d940-d275-4055-8ea9-ead15258ab47",
   "metadata": {},
   "source": [
    "Таким образом уменьшили уникальные значения городов с 2548 до 127"
   ]
  },
  {
   "cell_type": "markdown",
   "id": "a6fd11a1-fd38-43de-bd4a-f41ca728995d",
   "metadata": {},
   "source": [
    "### Работа со столбцом visit_date_time"
   ]
  },
  {
   "cell_type": "code",
   "execution_count": 207,
   "id": "41e0966a-281a-49d6-98a8-c50f9e41571d",
   "metadata": {},
   "outputs": [
    {
     "data": {
      "text/plain": [
       "datetime64[ns, UTC]"
      ]
     },
     "execution_count": 207,
     "metadata": {},
     "output_type": "execute_result"
    }
   ],
   "source": [
    "df_fe.visit_date_time.dtype"
   ]
  },
  {
   "cell_type": "markdown",
   "id": "5354c517-529e-4cd6-a981-67051372dfcc",
   "metadata": {},
   "source": [
    "Есть предположение, что в различные месяцы потребность в аренде автомобиля может меняться. Также вероятность сделать целевое действие может быть различной в зависимости от дня недели. В выходные она может быть выше. Если говорить об одном дне, то вероятность совершить ЦД в вечернее время выше, чем в ночное или утреннее. Поэтому имеет смысл создать новые признаки, отвечающие за месяц, день недели и время суток, когда человек заходит на сайт"
   ]
  },
  {
   "cell_type": "code",
   "execution_count": 210,
   "id": "44797613-1739-4b20-952e-d1c2794d348a",
   "metadata": {},
   "outputs": [],
   "source": [
    "df_fe['month'] = df_fe.visit_date_time.apply(lambda x: int(x.month))\n",
    "df_fe['dayofweek'] = df_fe.visit_date_time.apply(lambda x: int(x.dayofweek))\n",
    "df_fe['timeofday'] = df_fe.visit_date_time.apply(lambda x: int(x.hour))"
   ]
  },
  {
   "cell_type": "code",
   "execution_count": 213,
   "id": "8ae9c392-a767-4ab6-a7e1-959b2795cde7",
   "metadata": {},
   "outputs": [
    {
     "data": {
      "text/plain": [
       "0          14\n",
       "1           8\n",
       "2           2\n",
       "3           5\n",
       "4           5\n",
       "           ..\n",
       "1860037    10\n",
       "1860038     8\n",
       "1860039    15\n",
       "1860040    15\n",
       "1860041    19\n",
       "Name: timeofday, Length: 1860042, dtype: int64"
      ]
     },
     "execution_count": 213,
     "metadata": {},
     "output_type": "execute_result"
    }
   ],
   "source": [
    "df_fe.timeofday"
   ]
  },
  {
   "cell_type": "code",
   "execution_count": 214,
   "id": "f9f1723c-e292-470b-b24c-ac57ff1174c8",
   "metadata": {},
   "outputs": [],
   "source": [
    "df_fe.timeofday = df_fe.timeofday.apply(lambda x: 'night' if x in range(0, 6)\n",
    "                      else 'morning' if x in range(6, 12)\n",
    "                      else 'day' if x in range(12, 18) \n",
    "                      else 'evening')"
   ]
  },
  {
   "cell_type": "code",
   "execution_count": 215,
   "id": "7e13b4d5-6bc2-4d44-9f88-84f2ef3928c4",
   "metadata": {},
   "outputs": [
    {
     "data": {
      "text/plain": [
       "timeofday\n",
       "day        626216\n",
       "evening    576344\n",
       "morning    457324\n",
       "night      200158\n",
       "Name: count, dtype: int64"
      ]
     },
     "execution_count": 215,
     "metadata": {},
     "output_type": "execute_result"
    }
   ],
   "source": [
    "df_fe.timeofday.value_counts()"
   ]
  },
  {
   "cell_type": "markdown",
   "id": "94cc3c8c-d64a-4613-b332-8905de2f6f92",
   "metadata": {},
   "source": [
    "### Категоризация новых признаков с помощью OneHotRecorder"
   ]
  },
  {
   "cell_type": "code",
   "execution_count": 216,
   "id": "83aa03ad-9fce-4983-8226-7f0f8e1f0313",
   "metadata": {},
   "outputs": [],
   "source": [
    "df_for_gen = df_fe.copy()"
   ]
  },
  {
   "cell_type": "code",
   "execution_count": 217,
   "id": "913da82a-1140-4ed8-8727-c02295caebdf",
   "metadata": {},
   "outputs": [
    {
     "data": {
      "text/plain": [
       "['session_id',\n",
       " 'client_id',\n",
       " 'visit_number',\n",
       " 'utm_source',\n",
       " 'utm_medium',\n",
       " 'utm_campaign',\n",
       " 'utm_adcontent',\n",
       " 'device_category',\n",
       " 'device_os',\n",
       " 'device_brand',\n",
       " 'device_screen_resolution',\n",
       " 'device_browser',\n",
       " 'geo_country',\n",
       " 'geo_city',\n",
       " 'target',\n",
       " 'visit_date_time',\n",
       " 'utm_source_type',\n",
       " 'utm_medium_type',\n",
       " 'device_screen_a',\n",
       " 'device_screen_b',\n",
       " 'device_screen_area',\n",
       " 'month',\n",
       " 'dayofweek',\n",
       " 'timeofday']"
      ]
     },
     "execution_count": 217,
     "metadata": {},
     "output_type": "execute_result"
    }
   ],
   "source": [
    "df_for_gen.columns.tolist()"
   ]
  },
  {
   "cell_type": "code",
   "execution_count": 218,
   "id": "3c6dfeb9-d6e5-4fae-894f-3f59bb4c9c45",
   "metadata": {},
   "outputs": [],
   "source": [
    "df_for_gen.to_csv('data/df_for_gen.csv', index = False)"
   ]
  },
  {
   "cell_type": "code",
   "execution_count": 219,
   "id": "1ce2c2a9-89e0-436e-92c4-3462900d2700",
   "metadata": {},
   "outputs": [],
   "source": [
    "df_for_gen = pd.read_csv('data/df_for_gen.csv', low_memory=False)"
   ]
  },
  {
   "cell_type": "code",
   "execution_count": 220,
   "id": "15de0966-a5a4-4cc0-a620-9d44f07c7295",
   "metadata": {},
   "outputs": [
    {
     "name": "stdout",
     "output_type": "stream",
     "text": [
      "Количество уникальных значений для каждой категории:\n",
      "utm_source : 39\n",
      "utm_medium : 56\n",
      "utm_campaign : 76\n",
      "utm_adcontent : 29\n",
      "device_category : 3\n",
      "device_os : 14\n",
      "device_brand : 21\n",
      "device_browser : 57\n",
      "geo_country : 14\n",
      "geo_city : 127\n",
      "utm_source_type : 2\n",
      "utm_medium_type : 2\n",
      "timeofday : 4\n"
     ]
    }
   ],
   "source": [
    "categories = ['utm_source', 'utm_medium', 'utm_campaign', 'utm_adcontent', 'device_category', 'device_os', 'device_brand', \n",
    "             'device_browser','geo_country', 'geo_city', 'utm_source_type', 'utm_medium_type', 'timeofday']\n",
    "print('Количество уникальных значений для каждой категории:')\n",
    "df_for_gen[categories] = df_for_gen[categories].astype('category')\n",
    "for category in categories: \n",
    "    print(category, ':', df_for_gen[category].nunique())"
   ]
  },
  {
   "cell_type": "code",
   "execution_count": 221,
   "id": "b9ee7ff5-5273-46eb-a85d-b451de5aa395",
   "metadata": {},
   "outputs": [
    {
     "data": {
      "text/html": [
       "<div>\n",
       "<style scoped>\n",
       "    .dataframe tbody tr th:only-of-type {\n",
       "        vertical-align: middle;\n",
       "    }\n",
       "\n",
       "    .dataframe tbody tr th {\n",
       "        vertical-align: top;\n",
       "    }\n",
       "\n",
       "    .dataframe thead th {\n",
       "        text-align: right;\n",
       "    }\n",
       "</style>\n",
       "<table border=\"1\" class=\"dataframe\">\n",
       "  <thead>\n",
       "    <tr style=\"text-align: right;\">\n",
       "      <th></th>\n",
       "      <th>utm_source</th>\n",
       "      <th>utm_medium</th>\n",
       "      <th>utm_campaign</th>\n",
       "      <th>utm_adcontent</th>\n",
       "      <th>device_category</th>\n",
       "      <th>device_os</th>\n",
       "      <th>device_brand</th>\n",
       "      <th>device_browser</th>\n",
       "      <th>geo_country</th>\n",
       "      <th>geo_city</th>\n",
       "      <th>utm_source_type</th>\n",
       "      <th>utm_medium_type</th>\n",
       "      <th>timeofday</th>\n",
       "    </tr>\n",
       "  </thead>\n",
       "  <tbody>\n",
       "    <tr>\n",
       "      <th>0</th>\n",
       "      <td>ZpYIoDJMcFzVoPFsHGJL</td>\n",
       "      <td>banner</td>\n",
       "      <td>LEoPHuyFvzoNfnzGgfcd</td>\n",
       "      <td>vCIpmpaGBnIQhyYNkXqp</td>\n",
       "      <td>mobile</td>\n",
       "      <td>Android</td>\n",
       "      <td>Huawei</td>\n",
       "      <td>Chrome</td>\n",
       "      <td>Russia</td>\n",
       "      <td>other</td>\n",
       "      <td>other</td>\n",
       "      <td>other</td>\n",
       "      <td>day</td>\n",
       "    </tr>\n",
       "    <tr>\n",
       "      <th>1</th>\n",
       "      <td>MvfHsxITijuriZxsqZqt</td>\n",
       "      <td>cpm</td>\n",
       "      <td>FTjNLDyTrXaWYgZymFkV</td>\n",
       "      <td>xhoenQgDQsgfEPYNPwKO</td>\n",
       "      <td>mobile</td>\n",
       "      <td>Android</td>\n",
       "      <td>Samsung</td>\n",
       "      <td>Samsung Internet</td>\n",
       "      <td>Russia</td>\n",
       "      <td>Moscow</td>\n",
       "      <td>social_net</td>\n",
       "      <td>other</td>\n",
       "      <td>morning</td>\n",
       "    </tr>\n",
       "    <tr>\n",
       "      <th>2</th>\n",
       "      <td>ZpYIoDJMcFzVoPFsHGJL</td>\n",
       "      <td>banner</td>\n",
       "      <td>LEoPHuyFvzoNfnzGgfcd</td>\n",
       "      <td>vCIpmpaGBnIQhyYNkXqp</td>\n",
       "      <td>mobile</td>\n",
       "      <td>Android</td>\n",
       "      <td>Huawei</td>\n",
       "      <td>Chrome</td>\n",
       "      <td>Russia</td>\n",
       "      <td>Krasnoyarsk</td>\n",
       "      <td>other</td>\n",
       "      <td>other</td>\n",
       "      <td>night</td>\n",
       "    </tr>\n",
       "    <tr>\n",
       "      <th>3</th>\n",
       "      <td>kjsLglQLzykiRbcDiGcD</td>\n",
       "      <td>cpc</td>\n",
       "      <td>other</td>\n",
       "      <td>other</td>\n",
       "      <td>mobile</td>\n",
       "      <td>Android</td>\n",
       "      <td>Xiaomi</td>\n",
       "      <td>Chrome</td>\n",
       "      <td>Russia</td>\n",
       "      <td>Moscow</td>\n",
       "      <td>other</td>\n",
       "      <td>other</td>\n",
       "      <td>night</td>\n",
       "    </tr>\n",
       "    <tr>\n",
       "      <th>4</th>\n",
       "      <td>kjsLglQLzykiRbcDiGcD</td>\n",
       "      <td>cpc</td>\n",
       "      <td>other</td>\n",
       "      <td>JNHcPlZPxEMWDnRiyoBf</td>\n",
       "      <td>mobile</td>\n",
       "      <td>Android</td>\n",
       "      <td>Xiaomi</td>\n",
       "      <td>Chrome</td>\n",
       "      <td>Russia</td>\n",
       "      <td>Moscow</td>\n",
       "      <td>other</td>\n",
       "      <td>other</td>\n",
       "      <td>night</td>\n",
       "    </tr>\n",
       "    <tr>\n",
       "      <th>...</th>\n",
       "      <td>...</td>\n",
       "      <td>...</td>\n",
       "      <td>...</td>\n",
       "      <td>...</td>\n",
       "      <td>...</td>\n",
       "      <td>...</td>\n",
       "      <td>...</td>\n",
       "      <td>...</td>\n",
       "      <td>...</td>\n",
       "      <td>...</td>\n",
       "      <td>...</td>\n",
       "      <td>...</td>\n",
       "      <td>...</td>\n",
       "    </tr>\n",
       "    <tr>\n",
       "      <th>1860037</th>\n",
       "      <td>BHcvLfOaCWvWTykYqHVe</td>\n",
       "      <td>cpc</td>\n",
       "      <td>other</td>\n",
       "      <td>JNHcPlZPxEMWDnRiyoBf</td>\n",
       "      <td>desktop</td>\n",
       "      <td>Windows</td>\n",
       "      <td>other</td>\n",
       "      <td>Chrome</td>\n",
       "      <td>Russia</td>\n",
       "      <td>Moscow</td>\n",
       "      <td>other</td>\n",
       "      <td>other</td>\n",
       "      <td>morning</td>\n",
       "    </tr>\n",
       "    <tr>\n",
       "      <th>1860038</th>\n",
       "      <td>fDLlAcSmythWSCVMvqvL</td>\n",
       "      <td>(none)</td>\n",
       "      <td>LTuZkdKfxRGVceoWkVyg</td>\n",
       "      <td>JNHcPlZPxEMWDnRiyoBf</td>\n",
       "      <td>mobile</td>\n",
       "      <td>iOS</td>\n",
       "      <td>Apple</td>\n",
       "      <td>Safari</td>\n",
       "      <td>Russia</td>\n",
       "      <td>Stavropol</td>\n",
       "      <td>other</td>\n",
       "      <td>organic</td>\n",
       "      <td>morning</td>\n",
       "    </tr>\n",
       "    <tr>\n",
       "      <th>1860039</th>\n",
       "      <td>fDLlAcSmythWSCVMvqvL</td>\n",
       "      <td>(none)</td>\n",
       "      <td>LTuZkdKfxRGVceoWkVyg</td>\n",
       "      <td>JNHcPlZPxEMWDnRiyoBf</td>\n",
       "      <td>mobile</td>\n",
       "      <td>iOS</td>\n",
       "      <td>Apple</td>\n",
       "      <td>Safari</td>\n",
       "      <td>Russia</td>\n",
       "      <td>Moscow</td>\n",
       "      <td>other</td>\n",
       "      <td>organic</td>\n",
       "      <td>day</td>\n",
       "    </tr>\n",
       "    <tr>\n",
       "      <th>1860040</th>\n",
       "      <td>ZpYIoDJMcFzVoPFsHGJL</td>\n",
       "      <td>banner</td>\n",
       "      <td>LEoPHuyFvzoNfnzGgfcd</td>\n",
       "      <td>JNHcPlZPxEMWDnRiyoBf</td>\n",
       "      <td>mobile</td>\n",
       "      <td>Android</td>\n",
       "      <td>Xiaomi</td>\n",
       "      <td>Chrome</td>\n",
       "      <td>Russia</td>\n",
       "      <td>Chelyabinsk</td>\n",
       "      <td>other</td>\n",
       "      <td>other</td>\n",
       "      <td>day</td>\n",
       "    </tr>\n",
       "    <tr>\n",
       "      <th>1860041</th>\n",
       "      <td>fgymSoTvjKPEgaIJqsiH</td>\n",
       "      <td>cpm</td>\n",
       "      <td>FTjNLDyTrXaWYgZymFkV</td>\n",
       "      <td>yYdBRbPmBMUZHXwqGxNx</td>\n",
       "      <td>desktop</td>\n",
       "      <td>Linux</td>\n",
       "      <td>other</td>\n",
       "      <td>Chrome</td>\n",
       "      <td>Russia</td>\n",
       "      <td>Moscow</td>\n",
       "      <td>other</td>\n",
       "      <td>other</td>\n",
       "      <td>evening</td>\n",
       "    </tr>\n",
       "  </tbody>\n",
       "</table>\n",
       "<p>1860042 rows × 13 columns</p>\n",
       "</div>"
      ],
      "text/plain": [
       "                   utm_source utm_medium          utm_campaign  \\\n",
       "0        ZpYIoDJMcFzVoPFsHGJL     banner  LEoPHuyFvzoNfnzGgfcd   \n",
       "1        MvfHsxITijuriZxsqZqt        cpm  FTjNLDyTrXaWYgZymFkV   \n",
       "2        ZpYIoDJMcFzVoPFsHGJL     banner  LEoPHuyFvzoNfnzGgfcd   \n",
       "3        kjsLglQLzykiRbcDiGcD        cpc                 other   \n",
       "4        kjsLglQLzykiRbcDiGcD        cpc                 other   \n",
       "...                       ...        ...                   ...   \n",
       "1860037  BHcvLfOaCWvWTykYqHVe        cpc                 other   \n",
       "1860038  fDLlAcSmythWSCVMvqvL     (none)  LTuZkdKfxRGVceoWkVyg   \n",
       "1860039  fDLlAcSmythWSCVMvqvL     (none)  LTuZkdKfxRGVceoWkVyg   \n",
       "1860040  ZpYIoDJMcFzVoPFsHGJL     banner  LEoPHuyFvzoNfnzGgfcd   \n",
       "1860041  fgymSoTvjKPEgaIJqsiH        cpm  FTjNLDyTrXaWYgZymFkV   \n",
       "\n",
       "                utm_adcontent device_category device_os device_brand  \\\n",
       "0        vCIpmpaGBnIQhyYNkXqp          mobile   Android       Huawei   \n",
       "1        xhoenQgDQsgfEPYNPwKO          mobile   Android      Samsung   \n",
       "2        vCIpmpaGBnIQhyYNkXqp          mobile   Android       Huawei   \n",
       "3                       other          mobile   Android       Xiaomi   \n",
       "4        JNHcPlZPxEMWDnRiyoBf          mobile   Android       Xiaomi   \n",
       "...                       ...             ...       ...          ...   \n",
       "1860037  JNHcPlZPxEMWDnRiyoBf         desktop   Windows        other   \n",
       "1860038  JNHcPlZPxEMWDnRiyoBf          mobile       iOS        Apple   \n",
       "1860039  JNHcPlZPxEMWDnRiyoBf          mobile       iOS        Apple   \n",
       "1860040  JNHcPlZPxEMWDnRiyoBf          mobile   Android       Xiaomi   \n",
       "1860041  yYdBRbPmBMUZHXwqGxNx         desktop     Linux        other   \n",
       "\n",
       "           device_browser geo_country     geo_city utm_source_type  \\\n",
       "0                  Chrome      Russia        other           other   \n",
       "1        Samsung Internet      Russia       Moscow      social_net   \n",
       "2                  Chrome      Russia  Krasnoyarsk           other   \n",
       "3                  Chrome      Russia       Moscow           other   \n",
       "4                  Chrome      Russia       Moscow           other   \n",
       "...                   ...         ...          ...             ...   \n",
       "1860037            Chrome      Russia       Moscow           other   \n",
       "1860038            Safari      Russia    Stavropol           other   \n",
       "1860039            Safari      Russia       Moscow           other   \n",
       "1860040            Chrome      Russia  Chelyabinsk           other   \n",
       "1860041            Chrome      Russia       Moscow           other   \n",
       "\n",
       "        utm_medium_type timeofday  \n",
       "0                 other       day  \n",
       "1                 other   morning  \n",
       "2                 other     night  \n",
       "3                 other     night  \n",
       "4                 other     night  \n",
       "...                 ...       ...  \n",
       "1860037           other   morning  \n",
       "1860038         organic   morning  \n",
       "1860039         organic       day  \n",
       "1860040           other       day  \n",
       "1860041           other   evening  \n",
       "\n",
       "[1860042 rows x 13 columns]"
      ]
     },
     "execution_count": 221,
     "metadata": {},
     "output_type": "execute_result"
    }
   ],
   "source": [
    "data_for_ohe = df_for_gen[['utm_source', 'utm_medium', 'utm_campaign', 'utm_adcontent', 'device_category', \n",
    "                              'device_os', 'device_brand', 'device_browser','geo_country', 'geo_city', \n",
    "                              'utm_source_type', 'utm_medium_type', 'timeofday']]\n",
    "data_for_ohe"
   ]
  },
  {
   "cell_type": "code",
   "execution_count": 222,
   "id": "5b122462-791e-412c-b97b-dfd3de86596d",
   "metadata": {},
   "outputs": [],
   "source": [
    "ohe = OneHotEncoder(sparse_output=False)"
   ]
  },
  {
   "cell_type": "code",
   "execution_count": 223,
   "id": "03865534-ca98-4365-aabd-128462dcbf0f",
   "metadata": {},
   "outputs": [
    {
     "data": {
      "text/html": [
       "<style>#sk-container-id-1 {\n",
       "  /* Definition of color scheme common for light and dark mode */\n",
       "  --sklearn-color-text: black;\n",
       "  --sklearn-color-line: gray;\n",
       "  /* Definition of color scheme for unfitted estimators */\n",
       "  --sklearn-color-unfitted-level-0: #fff5e6;\n",
       "  --sklearn-color-unfitted-level-1: #f6e4d2;\n",
       "  --sklearn-color-unfitted-level-2: #ffe0b3;\n",
       "  --sklearn-color-unfitted-level-3: chocolate;\n",
       "  /* Definition of color scheme for fitted estimators */\n",
       "  --sklearn-color-fitted-level-0: #f0f8ff;\n",
       "  --sklearn-color-fitted-level-1: #d4ebff;\n",
       "  --sklearn-color-fitted-level-2: #b3dbfd;\n",
       "  --sklearn-color-fitted-level-3: cornflowerblue;\n",
       "\n",
       "  /* Specific color for light theme */\n",
       "  --sklearn-color-text-on-default-background: var(--sg-text-color, var(--theme-code-foreground, var(--jp-content-font-color1, black)));\n",
       "  --sklearn-color-background: var(--sg-background-color, var(--theme-background, var(--jp-layout-color0, white)));\n",
       "  --sklearn-color-border-box: var(--sg-text-color, var(--theme-code-foreground, var(--jp-content-font-color1, black)));\n",
       "  --sklearn-color-icon: #696969;\n",
       "\n",
       "  @media (prefers-color-scheme: dark) {\n",
       "    /* Redefinition of color scheme for dark theme */\n",
       "    --sklearn-color-text-on-default-background: var(--sg-text-color, var(--theme-code-foreground, var(--jp-content-font-color1, white)));\n",
       "    --sklearn-color-background: var(--sg-background-color, var(--theme-background, var(--jp-layout-color0, #111)));\n",
       "    --sklearn-color-border-box: var(--sg-text-color, var(--theme-code-foreground, var(--jp-content-font-color1, white)));\n",
       "    --sklearn-color-icon: #878787;\n",
       "  }\n",
       "}\n",
       "\n",
       "#sk-container-id-1 {\n",
       "  color: var(--sklearn-color-text);\n",
       "}\n",
       "\n",
       "#sk-container-id-1 pre {\n",
       "  padding: 0;\n",
       "}\n",
       "\n",
       "#sk-container-id-1 input.sk-hidden--visually {\n",
       "  border: 0;\n",
       "  clip: rect(1px 1px 1px 1px);\n",
       "  clip: rect(1px, 1px, 1px, 1px);\n",
       "  height: 1px;\n",
       "  margin: -1px;\n",
       "  overflow: hidden;\n",
       "  padding: 0;\n",
       "  position: absolute;\n",
       "  width: 1px;\n",
       "}\n",
       "\n",
       "#sk-container-id-1 div.sk-dashed-wrapped {\n",
       "  border: 1px dashed var(--sklearn-color-line);\n",
       "  margin: 0 0.4em 0.5em 0.4em;\n",
       "  box-sizing: border-box;\n",
       "  padding-bottom: 0.4em;\n",
       "  background-color: var(--sklearn-color-background);\n",
       "}\n",
       "\n",
       "#sk-container-id-1 div.sk-container {\n",
       "  /* jupyter's `normalize.less` sets `[hidden] { display: none; }`\n",
       "     but bootstrap.min.css set `[hidden] { display: none !important; }`\n",
       "     so we also need the `!important` here to be able to override the\n",
       "     default hidden behavior on the sphinx rendered scikit-learn.org.\n",
       "     See: https://github.com/scikit-learn/scikit-learn/issues/21755 */\n",
       "  display: inline-block !important;\n",
       "  position: relative;\n",
       "}\n",
       "\n",
       "#sk-container-id-1 div.sk-text-repr-fallback {\n",
       "  display: none;\n",
       "}\n",
       "\n",
       "div.sk-parallel-item,\n",
       "div.sk-serial,\n",
       "div.sk-item {\n",
       "  /* draw centered vertical line to link estimators */\n",
       "  background-image: linear-gradient(var(--sklearn-color-text-on-default-background), var(--sklearn-color-text-on-default-background));\n",
       "  background-size: 2px 100%;\n",
       "  background-repeat: no-repeat;\n",
       "  background-position: center center;\n",
       "}\n",
       "\n",
       "/* Parallel-specific style estimator block */\n",
       "\n",
       "#sk-container-id-1 div.sk-parallel-item::after {\n",
       "  content: \"\";\n",
       "  width: 100%;\n",
       "  border-bottom: 2px solid var(--sklearn-color-text-on-default-background);\n",
       "  flex-grow: 1;\n",
       "}\n",
       "\n",
       "#sk-container-id-1 div.sk-parallel {\n",
       "  display: flex;\n",
       "  align-items: stretch;\n",
       "  justify-content: center;\n",
       "  background-color: var(--sklearn-color-background);\n",
       "  position: relative;\n",
       "}\n",
       "\n",
       "#sk-container-id-1 div.sk-parallel-item {\n",
       "  display: flex;\n",
       "  flex-direction: column;\n",
       "}\n",
       "\n",
       "#sk-container-id-1 div.sk-parallel-item:first-child::after {\n",
       "  align-self: flex-end;\n",
       "  width: 50%;\n",
       "}\n",
       "\n",
       "#sk-container-id-1 div.sk-parallel-item:last-child::after {\n",
       "  align-self: flex-start;\n",
       "  width: 50%;\n",
       "}\n",
       "\n",
       "#sk-container-id-1 div.sk-parallel-item:only-child::after {\n",
       "  width: 0;\n",
       "}\n",
       "\n",
       "/* Serial-specific style estimator block */\n",
       "\n",
       "#sk-container-id-1 div.sk-serial {\n",
       "  display: flex;\n",
       "  flex-direction: column;\n",
       "  align-items: center;\n",
       "  background-color: var(--sklearn-color-background);\n",
       "  padding-right: 1em;\n",
       "  padding-left: 1em;\n",
       "}\n",
       "\n",
       "\n",
       "/* Toggleable style: style used for estimator/Pipeline/ColumnTransformer box that is\n",
       "clickable and can be expanded/collapsed.\n",
       "- Pipeline and ColumnTransformer use this feature and define the default style\n",
       "- Estimators will overwrite some part of the style using the `sk-estimator` class\n",
       "*/\n",
       "\n",
       "/* Pipeline and ColumnTransformer style (default) */\n",
       "\n",
       "#sk-container-id-1 div.sk-toggleable {\n",
       "  /* Default theme specific background. It is overwritten whether we have a\n",
       "  specific estimator or a Pipeline/ColumnTransformer */\n",
       "  background-color: var(--sklearn-color-background);\n",
       "}\n",
       "\n",
       "/* Toggleable label */\n",
       "#sk-container-id-1 label.sk-toggleable__label {\n",
       "  cursor: pointer;\n",
       "  display: block;\n",
       "  width: 100%;\n",
       "  margin-bottom: 0;\n",
       "  padding: 0.5em;\n",
       "  box-sizing: border-box;\n",
       "  text-align: center;\n",
       "}\n",
       "\n",
       "#sk-container-id-1 label.sk-toggleable__label-arrow:before {\n",
       "  /* Arrow on the left of the label */\n",
       "  content: \"▸\";\n",
       "  float: left;\n",
       "  margin-right: 0.25em;\n",
       "  color: var(--sklearn-color-icon);\n",
       "}\n",
       "\n",
       "#sk-container-id-1 label.sk-toggleable__label-arrow:hover:before {\n",
       "  color: var(--sklearn-color-text);\n",
       "}\n",
       "\n",
       "/* Toggleable content - dropdown */\n",
       "\n",
       "#sk-container-id-1 div.sk-toggleable__content {\n",
       "  max-height: 0;\n",
       "  max-width: 0;\n",
       "  overflow: hidden;\n",
       "  text-align: left;\n",
       "  /* unfitted */\n",
       "  background-color: var(--sklearn-color-unfitted-level-0);\n",
       "}\n",
       "\n",
       "#sk-container-id-1 div.sk-toggleable__content.fitted {\n",
       "  /* fitted */\n",
       "  background-color: var(--sklearn-color-fitted-level-0);\n",
       "}\n",
       "\n",
       "#sk-container-id-1 div.sk-toggleable__content pre {\n",
       "  margin: 0.2em;\n",
       "  border-radius: 0.25em;\n",
       "  color: var(--sklearn-color-text);\n",
       "  /* unfitted */\n",
       "  background-color: var(--sklearn-color-unfitted-level-0);\n",
       "}\n",
       "\n",
       "#sk-container-id-1 div.sk-toggleable__content.fitted pre {\n",
       "  /* unfitted */\n",
       "  background-color: var(--sklearn-color-fitted-level-0);\n",
       "}\n",
       "\n",
       "#sk-container-id-1 input.sk-toggleable__control:checked~div.sk-toggleable__content {\n",
       "  /* Expand drop-down */\n",
       "  max-height: 200px;\n",
       "  max-width: 100%;\n",
       "  overflow: auto;\n",
       "}\n",
       "\n",
       "#sk-container-id-1 input.sk-toggleable__control:checked~label.sk-toggleable__label-arrow:before {\n",
       "  content: \"▾\";\n",
       "}\n",
       "\n",
       "/* Pipeline/ColumnTransformer-specific style */\n",
       "\n",
       "#sk-container-id-1 div.sk-label input.sk-toggleable__control:checked~label.sk-toggleable__label {\n",
       "  color: var(--sklearn-color-text);\n",
       "  background-color: var(--sklearn-color-unfitted-level-2);\n",
       "}\n",
       "\n",
       "#sk-container-id-1 div.sk-label.fitted input.sk-toggleable__control:checked~label.sk-toggleable__label {\n",
       "  background-color: var(--sklearn-color-fitted-level-2);\n",
       "}\n",
       "\n",
       "/* Estimator-specific style */\n",
       "\n",
       "/* Colorize estimator box */\n",
       "#sk-container-id-1 div.sk-estimator input.sk-toggleable__control:checked~label.sk-toggleable__label {\n",
       "  /* unfitted */\n",
       "  background-color: var(--sklearn-color-unfitted-level-2);\n",
       "}\n",
       "\n",
       "#sk-container-id-1 div.sk-estimator.fitted input.sk-toggleable__control:checked~label.sk-toggleable__label {\n",
       "  /* fitted */\n",
       "  background-color: var(--sklearn-color-fitted-level-2);\n",
       "}\n",
       "\n",
       "#sk-container-id-1 div.sk-label label.sk-toggleable__label,\n",
       "#sk-container-id-1 div.sk-label label {\n",
       "  /* The background is the default theme color */\n",
       "  color: var(--sklearn-color-text-on-default-background);\n",
       "}\n",
       "\n",
       "/* On hover, darken the color of the background */\n",
       "#sk-container-id-1 div.sk-label:hover label.sk-toggleable__label {\n",
       "  color: var(--sklearn-color-text);\n",
       "  background-color: var(--sklearn-color-unfitted-level-2);\n",
       "}\n",
       "\n",
       "/* Label box, darken color on hover, fitted */\n",
       "#sk-container-id-1 div.sk-label.fitted:hover label.sk-toggleable__label.fitted {\n",
       "  color: var(--sklearn-color-text);\n",
       "  background-color: var(--sklearn-color-fitted-level-2);\n",
       "}\n",
       "\n",
       "/* Estimator label */\n",
       "\n",
       "#sk-container-id-1 div.sk-label label {\n",
       "  font-family: monospace;\n",
       "  font-weight: bold;\n",
       "  display: inline-block;\n",
       "  line-height: 1.2em;\n",
       "}\n",
       "\n",
       "#sk-container-id-1 div.sk-label-container {\n",
       "  text-align: center;\n",
       "}\n",
       "\n",
       "/* Estimator-specific */\n",
       "#sk-container-id-1 div.sk-estimator {\n",
       "  font-family: monospace;\n",
       "  border: 1px dotted var(--sklearn-color-border-box);\n",
       "  border-radius: 0.25em;\n",
       "  box-sizing: border-box;\n",
       "  margin-bottom: 0.5em;\n",
       "  /* unfitted */\n",
       "  background-color: var(--sklearn-color-unfitted-level-0);\n",
       "}\n",
       "\n",
       "#sk-container-id-1 div.sk-estimator.fitted {\n",
       "  /* fitted */\n",
       "  background-color: var(--sklearn-color-fitted-level-0);\n",
       "}\n",
       "\n",
       "/* on hover */\n",
       "#sk-container-id-1 div.sk-estimator:hover {\n",
       "  /* unfitted */\n",
       "  background-color: var(--sklearn-color-unfitted-level-2);\n",
       "}\n",
       "\n",
       "#sk-container-id-1 div.sk-estimator.fitted:hover {\n",
       "  /* fitted */\n",
       "  background-color: var(--sklearn-color-fitted-level-2);\n",
       "}\n",
       "\n",
       "/* Specification for estimator info (e.g. \"i\" and \"?\") */\n",
       "\n",
       "/* Common style for \"i\" and \"?\" */\n",
       "\n",
       ".sk-estimator-doc-link,\n",
       "a:link.sk-estimator-doc-link,\n",
       "a:visited.sk-estimator-doc-link {\n",
       "  float: right;\n",
       "  font-size: smaller;\n",
       "  line-height: 1em;\n",
       "  font-family: monospace;\n",
       "  background-color: var(--sklearn-color-background);\n",
       "  border-radius: 1em;\n",
       "  height: 1em;\n",
       "  width: 1em;\n",
       "  text-decoration: none !important;\n",
       "  margin-left: 1ex;\n",
       "  /* unfitted */\n",
       "  border: var(--sklearn-color-unfitted-level-1) 1pt solid;\n",
       "  color: var(--sklearn-color-unfitted-level-1);\n",
       "}\n",
       "\n",
       ".sk-estimator-doc-link.fitted,\n",
       "a:link.sk-estimator-doc-link.fitted,\n",
       "a:visited.sk-estimator-doc-link.fitted {\n",
       "  /* fitted */\n",
       "  border: var(--sklearn-color-fitted-level-1) 1pt solid;\n",
       "  color: var(--sklearn-color-fitted-level-1);\n",
       "}\n",
       "\n",
       "/* On hover */\n",
       "div.sk-estimator:hover .sk-estimator-doc-link:hover,\n",
       ".sk-estimator-doc-link:hover,\n",
       "div.sk-label-container:hover .sk-estimator-doc-link:hover,\n",
       ".sk-estimator-doc-link:hover {\n",
       "  /* unfitted */\n",
       "  background-color: var(--sklearn-color-unfitted-level-3);\n",
       "  color: var(--sklearn-color-background);\n",
       "  text-decoration: none;\n",
       "}\n",
       "\n",
       "div.sk-estimator.fitted:hover .sk-estimator-doc-link.fitted:hover,\n",
       ".sk-estimator-doc-link.fitted:hover,\n",
       "div.sk-label-container:hover .sk-estimator-doc-link.fitted:hover,\n",
       ".sk-estimator-doc-link.fitted:hover {\n",
       "  /* fitted */\n",
       "  background-color: var(--sklearn-color-fitted-level-3);\n",
       "  color: var(--sklearn-color-background);\n",
       "  text-decoration: none;\n",
       "}\n",
       "\n",
       "/* Span, style for the box shown on hovering the info icon */\n",
       ".sk-estimator-doc-link span {\n",
       "  display: none;\n",
       "  z-index: 9999;\n",
       "  position: relative;\n",
       "  font-weight: normal;\n",
       "  right: .2ex;\n",
       "  padding: .5ex;\n",
       "  margin: .5ex;\n",
       "  width: min-content;\n",
       "  min-width: 20ex;\n",
       "  max-width: 50ex;\n",
       "  color: var(--sklearn-color-text);\n",
       "  box-shadow: 2pt 2pt 4pt #999;\n",
       "  /* unfitted */\n",
       "  background: var(--sklearn-color-unfitted-level-0);\n",
       "  border: .5pt solid var(--sklearn-color-unfitted-level-3);\n",
       "}\n",
       "\n",
       ".sk-estimator-doc-link.fitted span {\n",
       "  /* fitted */\n",
       "  background: var(--sklearn-color-fitted-level-0);\n",
       "  border: var(--sklearn-color-fitted-level-3);\n",
       "}\n",
       "\n",
       ".sk-estimator-doc-link:hover span {\n",
       "  display: block;\n",
       "}\n",
       "\n",
       "/* \"?\"-specific style due to the `<a>` HTML tag */\n",
       "\n",
       "#sk-container-id-1 a.estimator_doc_link {\n",
       "  float: right;\n",
       "  font-size: 1rem;\n",
       "  line-height: 1em;\n",
       "  font-family: monospace;\n",
       "  background-color: var(--sklearn-color-background);\n",
       "  border-radius: 1rem;\n",
       "  height: 1rem;\n",
       "  width: 1rem;\n",
       "  text-decoration: none;\n",
       "  /* unfitted */\n",
       "  color: var(--sklearn-color-unfitted-level-1);\n",
       "  border: var(--sklearn-color-unfitted-level-1) 1pt solid;\n",
       "}\n",
       "\n",
       "#sk-container-id-1 a.estimator_doc_link.fitted {\n",
       "  /* fitted */\n",
       "  border: var(--sklearn-color-fitted-level-1) 1pt solid;\n",
       "  color: var(--sklearn-color-fitted-level-1);\n",
       "}\n",
       "\n",
       "/* On hover */\n",
       "#sk-container-id-1 a.estimator_doc_link:hover {\n",
       "  /* unfitted */\n",
       "  background-color: var(--sklearn-color-unfitted-level-3);\n",
       "  color: var(--sklearn-color-background);\n",
       "  text-decoration: none;\n",
       "}\n",
       "\n",
       "#sk-container-id-1 a.estimator_doc_link.fitted:hover {\n",
       "  /* fitted */\n",
       "  background-color: var(--sklearn-color-fitted-level-3);\n",
       "}\n",
       "</style><div id=\"sk-container-id-1\" class=\"sk-top-container\"><div class=\"sk-text-repr-fallback\"><pre>OneHotEncoder(sparse_output=False)</pre><b>In a Jupyter environment, please rerun this cell to show the HTML representation or trust the notebook. <br />On GitHub, the HTML representation is unable to render, please try loading this page with nbviewer.org.</b></div><div class=\"sk-container\" hidden><div class=\"sk-item\"><div class=\"sk-estimator fitted sk-toggleable\"><input class=\"sk-toggleable__control sk-hidden--visually\" id=\"sk-estimator-id-1\" type=\"checkbox\" checked><label for=\"sk-estimator-id-1\" class=\"sk-toggleable__label fitted sk-toggleable__label-arrow fitted\">&nbsp;&nbsp;OneHotEncoder<a class=\"sk-estimator-doc-link fitted\" rel=\"noreferrer\" target=\"_blank\" href=\"https://scikit-learn.org/1.4/modules/generated/sklearn.preprocessing.OneHotEncoder.html\">?<span>Documentation for OneHotEncoder</span></a><span class=\"sk-estimator-doc-link fitted\">i<span>Fitted</span></span></label><div class=\"sk-toggleable__content fitted\"><pre>OneHotEncoder(sparse_output=False)</pre></div> </div></div></div></div>"
      ],
      "text/plain": [
       "OneHotEncoder(sparse_output=False)"
      ]
     },
     "execution_count": 223,
     "metadata": {},
     "output_type": "execute_result"
    }
   ],
   "source": [
    "ohe.fit(data_for_ohe)"
   ]
  },
  {
   "cell_type": "code",
   "execution_count": 224,
   "id": "8bfd9b9f-4a02-4ee5-8220-3b1c651a985e",
   "metadata": {},
   "outputs": [
    {
     "name": "stdout",
     "output_type": "stream",
     "text": [
      "[[0. 0. 0. ... 0. 0. 0.]\n",
      " [0. 0. 0. ... 0. 1. 0.]\n",
      " [0. 0. 0. ... 0. 0. 1.]\n",
      " ...\n",
      " [0. 0. 0. ... 0. 0. 0.]\n",
      " [0. 0. 0. ... 0. 0. 0.]\n",
      " [0. 0. 0. ... 1. 0. 0.]]\n",
      "(1860042, 444)\n"
     ]
    }
   ],
   "source": [
    "ohe_data = ohe.transform(data_for_ohe)\n",
    "print(ohe_data)\n",
    "print(ohe_data.shape)"
   ]
  },
  {
   "cell_type": "code",
   "execution_count": 225,
   "id": "901ffe46-8cc2-4887-baec-51cf60a5affd",
   "metadata": {},
   "outputs": [],
   "source": [
    "ohe_columns = ohe.get_feature_names_out()"
   ]
  },
  {
   "cell_type": "code",
   "execution_count": 226,
   "id": "89e7e61d-3e5f-4ef4-8fa5-d7f3ebdb8196",
   "metadata": {},
   "outputs": [],
   "source": [
    "df_ohe = pd.DataFrame(ohe_data, columns=ohe_columns)"
   ]
  },
  {
   "cell_type": "code",
   "execution_count": 227,
   "id": "0a986b7f-5a04-4b58-96ba-564ccc7b40b8",
   "metadata": {},
   "outputs": [],
   "source": [
    "df_for_gen_new = pd.concat([df_for_gen, df_ohe], axis=1)"
   ]
  },
  {
   "cell_type": "code",
   "execution_count": 228,
   "id": "80908e3a-7ac5-4032-82db-3802410b072c",
   "metadata": {},
   "outputs": [
    {
     "data": {
      "text/html": [
       "<div>\n",
       "<style scoped>\n",
       "    .dataframe tbody tr th:only-of-type {\n",
       "        vertical-align: middle;\n",
       "    }\n",
       "\n",
       "    .dataframe tbody tr th {\n",
       "        vertical-align: top;\n",
       "    }\n",
       "\n",
       "    .dataframe thead th {\n",
       "        text-align: right;\n",
       "    }\n",
       "</style>\n",
       "<table border=\"1\" class=\"dataframe\">\n",
       "  <thead>\n",
       "    <tr style=\"text-align: right;\">\n",
       "      <th></th>\n",
       "      <th>session_id</th>\n",
       "      <th>client_id</th>\n",
       "      <th>visit_number</th>\n",
       "      <th>utm_source</th>\n",
       "      <th>utm_medium</th>\n",
       "      <th>utm_campaign</th>\n",
       "      <th>utm_adcontent</th>\n",
       "      <th>device_category</th>\n",
       "      <th>device_os</th>\n",
       "      <th>device_brand</th>\n",
       "      <th>...</th>\n",
       "      <th>geo_city_Zhukovskiy</th>\n",
       "      <th>geo_city_other</th>\n",
       "      <th>utm_source_type_other</th>\n",
       "      <th>utm_source_type_social_net</th>\n",
       "      <th>utm_medium_type_organic</th>\n",
       "      <th>utm_medium_type_other</th>\n",
       "      <th>timeofday_day</th>\n",
       "      <th>timeofday_evening</th>\n",
       "      <th>timeofday_morning</th>\n",
       "      <th>timeofday_night</th>\n",
       "    </tr>\n",
       "  </thead>\n",
       "  <tbody>\n",
       "    <tr>\n",
       "      <th>0</th>\n",
       "      <td>9055434745589932991.1637753792.1637753792</td>\n",
       "      <td>2108382700.1637753791</td>\n",
       "      <td>1</td>\n",
       "      <td>ZpYIoDJMcFzVoPFsHGJL</td>\n",
       "      <td>banner</td>\n",
       "      <td>LEoPHuyFvzoNfnzGgfcd</td>\n",
       "      <td>vCIpmpaGBnIQhyYNkXqp</td>\n",
       "      <td>mobile</td>\n",
       "      <td>Android</td>\n",
       "      <td>Huawei</td>\n",
       "      <td>...</td>\n",
       "      <td>0.0</td>\n",
       "      <td>1.0</td>\n",
       "      <td>1.0</td>\n",
       "      <td>0.0</td>\n",
       "      <td>0.0</td>\n",
       "      <td>1.0</td>\n",
       "      <td>1.0</td>\n",
       "      <td>0.0</td>\n",
       "      <td>0.0</td>\n",
       "      <td>0.0</td>\n",
       "    </tr>\n",
       "    <tr>\n",
       "      <th>1</th>\n",
       "      <td>905544597018549464.1636867290.1636867290</td>\n",
       "      <td>210838531.1636867288</td>\n",
       "      <td>1</td>\n",
       "      <td>MvfHsxITijuriZxsqZqt</td>\n",
       "      <td>cpm</td>\n",
       "      <td>FTjNLDyTrXaWYgZymFkV</td>\n",
       "      <td>xhoenQgDQsgfEPYNPwKO</td>\n",
       "      <td>mobile</td>\n",
       "      <td>Android</td>\n",
       "      <td>Samsung</td>\n",
       "      <td>...</td>\n",
       "      <td>0.0</td>\n",
       "      <td>0.0</td>\n",
       "      <td>0.0</td>\n",
       "      <td>1.0</td>\n",
       "      <td>0.0</td>\n",
       "      <td>1.0</td>\n",
       "      <td>0.0</td>\n",
       "      <td>0.0</td>\n",
       "      <td>1.0</td>\n",
       "      <td>0.0</td>\n",
       "    </tr>\n",
       "    <tr>\n",
       "      <th>2</th>\n",
       "      <td>9055446045651783499.1640648526.1640648526</td>\n",
       "      <td>2108385331.1640648523</td>\n",
       "      <td>1</td>\n",
       "      <td>ZpYIoDJMcFzVoPFsHGJL</td>\n",
       "      <td>banner</td>\n",
       "      <td>LEoPHuyFvzoNfnzGgfcd</td>\n",
       "      <td>vCIpmpaGBnIQhyYNkXqp</td>\n",
       "      <td>mobile</td>\n",
       "      <td>Android</td>\n",
       "      <td>Huawei</td>\n",
       "      <td>...</td>\n",
       "      <td>0.0</td>\n",
       "      <td>0.0</td>\n",
       "      <td>1.0</td>\n",
       "      <td>0.0</td>\n",
       "      <td>0.0</td>\n",
       "      <td>1.0</td>\n",
       "      <td>0.0</td>\n",
       "      <td>0.0</td>\n",
       "      <td>0.0</td>\n",
       "      <td>1.0</td>\n",
       "    </tr>\n",
       "    <tr>\n",
       "      <th>3</th>\n",
       "      <td>9055447046360770272.1622255328.1622255328</td>\n",
       "      <td>2108385564.1622255328</td>\n",
       "      <td>1</td>\n",
       "      <td>kjsLglQLzykiRbcDiGcD</td>\n",
       "      <td>cpc</td>\n",
       "      <td>other</td>\n",
       "      <td>other</td>\n",
       "      <td>mobile</td>\n",
       "      <td>Android</td>\n",
       "      <td>Xiaomi</td>\n",
       "      <td>...</td>\n",
       "      <td>0.0</td>\n",
       "      <td>0.0</td>\n",
       "      <td>1.0</td>\n",
       "      <td>0.0</td>\n",
       "      <td>0.0</td>\n",
       "      <td>1.0</td>\n",
       "      <td>0.0</td>\n",
       "      <td>0.0</td>\n",
       "      <td>0.0</td>\n",
       "      <td>1.0</td>\n",
       "    </tr>\n",
       "    <tr>\n",
       "      <th>4</th>\n",
       "      <td>9055447046360770272.1622255345.1622255345</td>\n",
       "      <td>2108385564.1622255328</td>\n",
       "      <td>2</td>\n",
       "      <td>kjsLglQLzykiRbcDiGcD</td>\n",
       "      <td>cpc</td>\n",
       "      <td>other</td>\n",
       "      <td>JNHcPlZPxEMWDnRiyoBf</td>\n",
       "      <td>mobile</td>\n",
       "      <td>Android</td>\n",
       "      <td>Xiaomi</td>\n",
       "      <td>...</td>\n",
       "      <td>0.0</td>\n",
       "      <td>0.0</td>\n",
       "      <td>1.0</td>\n",
       "      <td>0.0</td>\n",
       "      <td>0.0</td>\n",
       "      <td>1.0</td>\n",
       "      <td>0.0</td>\n",
       "      <td>0.0</td>\n",
       "      <td>0.0</td>\n",
       "      <td>1.0</td>\n",
       "    </tr>\n",
       "  </tbody>\n",
       "</table>\n",
       "<p>5 rows × 468 columns</p>\n",
       "</div>"
      ],
      "text/plain": [
       "                                  session_id              client_id  \\\n",
       "0  9055434745589932991.1637753792.1637753792  2108382700.1637753791   \n",
       "1   905544597018549464.1636867290.1636867290   210838531.1636867288   \n",
       "2  9055446045651783499.1640648526.1640648526  2108385331.1640648523   \n",
       "3  9055447046360770272.1622255328.1622255328  2108385564.1622255328   \n",
       "4  9055447046360770272.1622255345.1622255345  2108385564.1622255328   \n",
       "\n",
       "   visit_number            utm_source utm_medium          utm_campaign  \\\n",
       "0             1  ZpYIoDJMcFzVoPFsHGJL     banner  LEoPHuyFvzoNfnzGgfcd   \n",
       "1             1  MvfHsxITijuriZxsqZqt        cpm  FTjNLDyTrXaWYgZymFkV   \n",
       "2             1  ZpYIoDJMcFzVoPFsHGJL     banner  LEoPHuyFvzoNfnzGgfcd   \n",
       "3             1  kjsLglQLzykiRbcDiGcD        cpc                 other   \n",
       "4             2  kjsLglQLzykiRbcDiGcD        cpc                 other   \n",
       "\n",
       "          utm_adcontent device_category device_os device_brand  ...  \\\n",
       "0  vCIpmpaGBnIQhyYNkXqp          mobile   Android       Huawei  ...   \n",
       "1  xhoenQgDQsgfEPYNPwKO          mobile   Android      Samsung  ...   \n",
       "2  vCIpmpaGBnIQhyYNkXqp          mobile   Android       Huawei  ...   \n",
       "3                 other          mobile   Android       Xiaomi  ...   \n",
       "4  JNHcPlZPxEMWDnRiyoBf          mobile   Android       Xiaomi  ...   \n",
       "\n",
       "  geo_city_Zhukovskiy geo_city_other utm_source_type_other  \\\n",
       "0                 0.0            1.0                   1.0   \n",
       "1                 0.0            0.0                   0.0   \n",
       "2                 0.0            0.0                   1.0   \n",
       "3                 0.0            0.0                   1.0   \n",
       "4                 0.0            0.0                   1.0   \n",
       "\n",
       "  utm_source_type_social_net  utm_medium_type_organic utm_medium_type_other  \\\n",
       "0                        0.0                      0.0                   1.0   \n",
       "1                        1.0                      0.0                   1.0   \n",
       "2                        0.0                      0.0                   1.0   \n",
       "3                        0.0                      0.0                   1.0   \n",
       "4                        0.0                      0.0                   1.0   \n",
       "\n",
       "  timeofday_day timeofday_evening  timeofday_morning  timeofday_night  \n",
       "0           1.0               0.0                0.0              0.0  \n",
       "1           0.0               0.0                1.0              0.0  \n",
       "2           0.0               0.0                0.0              1.0  \n",
       "3           0.0               0.0                0.0              1.0  \n",
       "4           0.0               0.0                0.0              1.0  \n",
       "\n",
       "[5 rows x 468 columns]"
      ]
     },
     "execution_count": 228,
     "metadata": {},
     "output_type": "execute_result"
    }
   ],
   "source": [
    "df_for_gen_new.head()"
   ]
  },
  {
   "cell_type": "markdown",
   "id": "9e799dd9-fe84-402c-81ce-180328bf66bd",
   "metadata": {},
   "source": [
    "Категориальные признаки закодированы"
   ]
  },
  {
   "cell_type": "markdown",
   "id": "a4e44ab4-f45c-4594-95eb-531a39dd445c",
   "metadata": {},
   "source": [
    "### Категоризация новых признаков с помощью StandartScaler"
   ]
  },
  {
   "cell_type": "code",
   "execution_count": 229,
   "id": "1aa76921-3fb2-4365-a891-39aaf2bd8243",
   "metadata": {},
   "outputs": [
    {
     "data": {
      "text/html": [
       "<div>\n",
       "<style scoped>\n",
       "    .dataframe tbody tr th:only-of-type {\n",
       "        vertical-align: middle;\n",
       "    }\n",
       "\n",
       "    .dataframe tbody tr th {\n",
       "        vertical-align: top;\n",
       "    }\n",
       "\n",
       "    .dataframe thead th {\n",
       "        text-align: right;\n",
       "    }\n",
       "</style>\n",
       "<table border=\"1\" class=\"dataframe\">\n",
       "  <thead>\n",
       "    <tr style=\"text-align: right;\">\n",
       "      <th></th>\n",
       "      <th>session_id</th>\n",
       "      <th>client_id</th>\n",
       "      <th>visit_number</th>\n",
       "      <th>utm_source</th>\n",
       "      <th>utm_medium</th>\n",
       "      <th>utm_campaign</th>\n",
       "      <th>utm_adcontent</th>\n",
       "      <th>device_category</th>\n",
       "      <th>device_os</th>\n",
       "      <th>device_brand</th>\n",
       "      <th>...</th>\n",
       "      <th>utm_medium_type_organic</th>\n",
       "      <th>utm_medium_type_other</th>\n",
       "      <th>timeofday_day</th>\n",
       "      <th>timeofday_evening</th>\n",
       "      <th>timeofday_morning</th>\n",
       "      <th>timeofday_night</th>\n",
       "      <th>visit_number_std</th>\n",
       "      <th>device_screen_area_std</th>\n",
       "      <th>month_std</th>\n",
       "      <th>dayofweek_std</th>\n",
       "    </tr>\n",
       "  </thead>\n",
       "  <tbody>\n",
       "    <tr>\n",
       "      <th>0</th>\n",
       "      <td>9055434745589932991.1637753792.1637753792</td>\n",
       "      <td>2108382700.1637753791</td>\n",
       "      <td>1</td>\n",
       "      <td>ZpYIoDJMcFzVoPFsHGJL</td>\n",
       "      <td>banner</td>\n",
       "      <td>LEoPHuyFvzoNfnzGgfcd</td>\n",
       "      <td>vCIpmpaGBnIQhyYNkXqp</td>\n",
       "      <td>mobile</td>\n",
       "      <td>Android</td>\n",
       "      <td>Huawei</td>\n",
       "      <td>...</td>\n",
       "      <td>0.0</td>\n",
       "      <td>1.0</td>\n",
       "      <td>1.0</td>\n",
       "      <td>0.0</td>\n",
       "      <td>0.0</td>\n",
       "      <td>0.0</td>\n",
       "      <td>-0.553399</td>\n",
       "      <td>-0.498629</td>\n",
       "      <td>0.760687</td>\n",
       "      <td>-0.403088</td>\n",
       "    </tr>\n",
       "    <tr>\n",
       "      <th>1</th>\n",
       "      <td>905544597018549464.1636867290.1636867290</td>\n",
       "      <td>210838531.1636867288</td>\n",
       "      <td>1</td>\n",
       "      <td>MvfHsxITijuriZxsqZqt</td>\n",
       "      <td>cpm</td>\n",
       "      <td>FTjNLDyTrXaWYgZymFkV</td>\n",
       "      <td>xhoenQgDQsgfEPYNPwKO</td>\n",
       "      <td>mobile</td>\n",
       "      <td>Android</td>\n",
       "      <td>Samsung</td>\n",
       "      <td>...</td>\n",
       "      <td>0.0</td>\n",
       "      <td>1.0</td>\n",
       "      <td>0.0</td>\n",
       "      <td>0.0</td>\n",
       "      <td>1.0</td>\n",
       "      <td>0.0</td>\n",
       "      <td>-0.553399</td>\n",
       "      <td>-0.399837</td>\n",
       "      <td>0.760687</td>\n",
       "      <td>1.613486</td>\n",
       "    </tr>\n",
       "    <tr>\n",
       "      <th>2</th>\n",
       "      <td>9055446045651783499.1640648526.1640648526</td>\n",
       "      <td>2108385331.1640648523</td>\n",
       "      <td>1</td>\n",
       "      <td>ZpYIoDJMcFzVoPFsHGJL</td>\n",
       "      <td>banner</td>\n",
       "      <td>LEoPHuyFvzoNfnzGgfcd</td>\n",
       "      <td>vCIpmpaGBnIQhyYNkXqp</td>\n",
       "      <td>mobile</td>\n",
       "      <td>Android</td>\n",
       "      <td>Huawei</td>\n",
       "      <td>...</td>\n",
       "      <td>0.0</td>\n",
       "      <td>1.0</td>\n",
       "      <td>0.0</td>\n",
       "      <td>0.0</td>\n",
       "      <td>0.0</td>\n",
       "      <td>1.0</td>\n",
       "      <td>-0.553399</td>\n",
       "      <td>-0.498629</td>\n",
       "      <td>1.215280</td>\n",
       "      <td>-0.907232</td>\n",
       "    </tr>\n",
       "    <tr>\n",
       "      <th>3</th>\n",
       "      <td>9055447046360770272.1622255328.1622255328</td>\n",
       "      <td>2108385564.1622255328</td>\n",
       "      <td>1</td>\n",
       "      <td>kjsLglQLzykiRbcDiGcD</td>\n",
       "      <td>cpc</td>\n",
       "      <td>other</td>\n",
       "      <td>other</td>\n",
       "      <td>mobile</td>\n",
       "      <td>Android</td>\n",
       "      <td>Xiaomi</td>\n",
       "      <td>...</td>\n",
       "      <td>0.0</td>\n",
       "      <td>1.0</td>\n",
       "      <td>0.0</td>\n",
       "      <td>0.0</td>\n",
       "      <td>0.0</td>\n",
       "      <td>1.0</td>\n",
       "      <td>-0.553399</td>\n",
       "      <td>-0.428077</td>\n",
       "      <td>-1.966869</td>\n",
       "      <td>1.109343</td>\n",
       "    </tr>\n",
       "    <tr>\n",
       "      <th>4</th>\n",
       "      <td>9055447046360770272.1622255345.1622255345</td>\n",
       "      <td>2108385564.1622255328</td>\n",
       "      <td>2</td>\n",
       "      <td>kjsLglQLzykiRbcDiGcD</td>\n",
       "      <td>cpc</td>\n",
       "      <td>other</td>\n",
       "      <td>JNHcPlZPxEMWDnRiyoBf</td>\n",
       "      <td>mobile</td>\n",
       "      <td>Android</td>\n",
       "      <td>Xiaomi</td>\n",
       "      <td>...</td>\n",
       "      <td>0.0</td>\n",
       "      <td>1.0</td>\n",
       "      <td>0.0</td>\n",
       "      <td>0.0</td>\n",
       "      <td>0.0</td>\n",
       "      <td>1.0</td>\n",
       "      <td>0.853329</td>\n",
       "      <td>-0.428077</td>\n",
       "      <td>-1.966869</td>\n",
       "      <td>1.109343</td>\n",
       "    </tr>\n",
       "  </tbody>\n",
       "</table>\n",
       "<p>5 rows × 472 columns</p>\n",
       "</div>"
      ],
      "text/plain": [
       "                                  session_id              client_id  \\\n",
       "0  9055434745589932991.1637753792.1637753792  2108382700.1637753791   \n",
       "1   905544597018549464.1636867290.1636867290   210838531.1636867288   \n",
       "2  9055446045651783499.1640648526.1640648526  2108385331.1640648523   \n",
       "3  9055447046360770272.1622255328.1622255328  2108385564.1622255328   \n",
       "4  9055447046360770272.1622255345.1622255345  2108385564.1622255328   \n",
       "\n",
       "   visit_number            utm_source utm_medium          utm_campaign  \\\n",
       "0             1  ZpYIoDJMcFzVoPFsHGJL     banner  LEoPHuyFvzoNfnzGgfcd   \n",
       "1             1  MvfHsxITijuriZxsqZqt        cpm  FTjNLDyTrXaWYgZymFkV   \n",
       "2             1  ZpYIoDJMcFzVoPFsHGJL     banner  LEoPHuyFvzoNfnzGgfcd   \n",
       "3             1  kjsLglQLzykiRbcDiGcD        cpc                 other   \n",
       "4             2  kjsLglQLzykiRbcDiGcD        cpc                 other   \n",
       "\n",
       "          utm_adcontent device_category device_os device_brand  ...  \\\n",
       "0  vCIpmpaGBnIQhyYNkXqp          mobile   Android       Huawei  ...   \n",
       "1  xhoenQgDQsgfEPYNPwKO          mobile   Android      Samsung  ...   \n",
       "2  vCIpmpaGBnIQhyYNkXqp          mobile   Android       Huawei  ...   \n",
       "3                 other          mobile   Android       Xiaomi  ...   \n",
       "4  JNHcPlZPxEMWDnRiyoBf          mobile   Android       Xiaomi  ...   \n",
       "\n",
       "  utm_medium_type_organic utm_medium_type_other timeofday_day  \\\n",
       "0                     0.0                   1.0           1.0   \n",
       "1                     0.0                   1.0           0.0   \n",
       "2                     0.0                   1.0           0.0   \n",
       "3                     0.0                   1.0           0.0   \n",
       "4                     0.0                   1.0           0.0   \n",
       "\n",
       "  timeofday_evening  timeofday_morning timeofday_night visit_number_std  \\\n",
       "0               0.0                0.0             0.0        -0.553399   \n",
       "1               0.0                1.0             0.0        -0.553399   \n",
       "2               0.0                0.0             1.0        -0.553399   \n",
       "3               0.0                0.0             1.0        -0.553399   \n",
       "4               0.0                0.0             1.0         0.853329   \n",
       "\n",
       "  device_screen_area_std  month_std  dayofweek_std  \n",
       "0              -0.498629   0.760687      -0.403088  \n",
       "1              -0.399837   0.760687       1.613486  \n",
       "2              -0.498629   1.215280      -0.907232  \n",
       "3              -0.428077  -1.966869       1.109343  \n",
       "4              -0.428077  -1.966869       1.109343  \n",
       "\n",
       "[5 rows x 472 columns]"
      ]
     },
     "execution_count": 229,
     "metadata": {},
     "output_type": "execute_result"
    }
   ],
   "source": [
    "std_scaler = StandardScaler()\n",
    "data_for_std_scaler = df_for_gen_new[['visit_number', 'device_screen_area', 'month', 'dayofweek']]\n",
    "std_scaler.fit(data_for_std_scaler)\n",
    "std_scaled = std_scaler.transform(data_for_std_scaler)\n",
    "std_list = []\n",
    "for column in data_for_std_scaler.columns:\n",
    "    std_list.append(column + '_std')\n",
    "df_for_gen_new[std_list] = std_scaled\n",
    "df_for_gen_new.head()"
   ]
  },
  {
   "cell_type": "code",
   "execution_count": 6,
   "id": "43c7bfee-12c6-4512-98c0-3230c657a314",
   "metadata": {},
   "outputs": [],
   "source": [
    "columns_to_drop = ['session_id', 'client_id', 'utm_source', 'utm_medium', 'utm_campaign', 'utm_adcontent', \n",
    "                   'device_category', 'device_os', 'device_brand', 'device_browser','geo_country', 'geo_city', \n",
    "                   'utm_source_type', 'utm_medium_type', 'timeofday', 'visit_number', 'device_screen_area', 'month', \n",
    "                   'dayofweek', 'device_screen_resolution', 'visit_date_time', 'device_screen_a', 'device_screen_b']"
   ]
  },
  {
   "cell_type": "code",
   "execution_count": 5,
   "id": "df6b08dc-f883-4fd5-8445-c42d7dd9976d",
   "metadata": {},
   "outputs": [
    {
     "ename": "NameError",
     "evalue": "name 'df_for_gen_new' is not defined",
     "output_type": "error",
     "traceback": [
      "\u001b[1;31m---------------------------------------------------------------------------\u001b[0m",
      "\u001b[1;31mNameError\u001b[0m                                 Traceback (most recent call last)",
      "Cell \u001b[1;32mIn[5], line 1\u001b[0m\n\u001b[1;32m----> 1\u001b[0m df_for_gen_new\u001b[38;5;241m.\u001b[39mto_csv(\u001b[38;5;124m'\u001b[39m\u001b[38;5;124mdata/df_for_gen_new.csv\u001b[39m\u001b[38;5;124m'\u001b[39m, index \u001b[38;5;241m=\u001b[39m \u001b[38;5;28;01mFalse\u001b[39;00m)\n",
      "\u001b[1;31mNameError\u001b[0m: name 'df_for_gen_new' is not defined"
     ]
    }
   ],
   "source": [
    "df_for_gen_new.to_csv('data/df_for_gen_new.csv', index = False)"
   ]
  },
  {
   "cell_type": "code",
   "execution_count": 4,
   "id": "65f9e244-7021-4ed9-92f9-4b3ece719781",
   "metadata": {},
   "outputs": [],
   "source": [
    "mylist = []\n",
    "\n",
    "for chunk in  pd.read_csv('data/df_for_gen_new.csv', chunksize=20000, low_memory=False):\n",
    "    mylist.append(chunk)\n",
    "df_prepared = pd.concat(mylist, axis= 0)\n",
    "del mylist"
   ]
  },
  {
   "cell_type": "code",
   "execution_count": 7,
   "id": "7f90b30e-86ef-4138-ae07-3be7cff91a9f",
   "metadata": {},
   "outputs": [],
   "source": [
    "df_prepared.drop((columns_to_drop), axis = 1, inplace = True)"
   ]
  },
  {
   "cell_type": "code",
   "execution_count": 8,
   "id": "6b9b6771-1e1a-4b77-99b2-794b96ffc439",
   "metadata": {},
   "outputs": [],
   "source": [
    "df_prepared.to_csv('data/df_prepared.csv', index = False)"
   ]
  },
  {
   "cell_type": "code",
   "execution_count": null,
   "id": "5e139a25-a416-41e5-834a-bd5bbf1bf194",
   "metadata": {},
   "outputs": [],
   "source": []
  }
 ],
 "metadata": {
  "kernelspec": {
   "display_name": "Python 3 (ipykernel)",
   "language": "python",
   "name": "python3"
  },
  "language_info": {
   "codemirror_mode": {
    "name": "ipython",
    "version": 3
   },
   "file_extension": ".py",
   "mimetype": "text/x-python",
   "name": "python",
   "nbconvert_exporter": "python",
   "pygments_lexer": "ipython3",
   "version": "3.11.7"
  }
 },
 "nbformat": 4,
 "nbformat_minor": 5
}
